{
 "cells": [
  {
   "cell_type": "markdown",
   "metadata": {},
   "source": [
    "# Исследование надёжности заёмщиков\n",
    "\n",
    "Заказчик — кредитный отдел банка. Необходимо определить, влияет ли семейное положение и количество детей клиента на факт погашения кредита в срок. Входные данные от банка — статистика о платёжеспособности клиентов.\n",
    "\n",
    "Результаты исследования будут учтены при построении модели **кредитного скоринга** — специальной системы, которая оценивает способность потенциального заёмщика вернуть кредит банку."
   ]
  },
  {
   "cell_type": "markdown",
   "metadata": {},
   "source": [
    "Исследование проводится на основе данных файла data.csv, в котором находится информация о клиентах банка по следующим пунктам:"
   ]
  },
  {
   "cell_type": "markdown",
   "metadata": {},
   "source": [
    "- `children` — количество детей в семье\n",
    "- `days_employed` — общий трудовой стаж в днях\n",
    "- `dob_years` — возраст клиента в годах\n",
    "- `education` — уровень образования клиента\n",
    "- `education_id` — идентификатор уровня образования\n",
    "- `family_status` — семейное положение\n",
    "- `family_status_id` — идентификатор семейного положения\n",
    "- `gender` — пол клиента\n",
    "- `income_type` — тип занятости\n",
    "- `debt` — имел ли задолженность по возврату кредитов\n",
    "- `total_income` — ежемесячный доход\n",
    "- `purpose` — цель получения кредита"
   ]
  },
  {
   "cell_type": "markdown",
   "metadata": {},
   "source": [
    "**Содержание проекта**:\n",
    "\n",
    "1. [Знакомство с данными и изучение общей информации](#open)\n",
    "2. [Предобработка данных](#pre)\n",
    "    * [Обработка пропущенных значений](#pre_1)\n",
    "    * [Замена типа данных](#pre_2)\n",
    "    * [Обработка дубликатов](#pre_3)\n",
    "    * [Лемматизация](#pre_4)\n",
    "    * [Категоризация данных](#pre_5)\n",
    "    \n",
    "    \n",
    "3. [Ответы на вопросы](#answer)\n",
    "4. [Общий вывод](#conc)\n",
    "5. [Чек-лист](#check)\n",
    "    \n",
    "    "
   ]
  },
  {
   "cell_type": "markdown",
   "metadata": {},
   "source": [
    "<a id=\"open\"></a>\n",
    "##  Знакомство с данными и изучение общей информации"
   ]
  },
  {
   "cell_type": "code",
   "execution_count": 1,
   "metadata": {
    "scrolled": true
   },
   "outputs": [
    {
     "data": {
      "text/html": [
       "<div>\n",
       "<style scoped>\n",
       "    .dataframe tbody tr th:only-of-type {\n",
       "        vertical-align: middle;\n",
       "    }\n",
       "\n",
       "    .dataframe tbody tr th {\n",
       "        vertical-align: top;\n",
       "    }\n",
       "\n",
       "    .dataframe thead th {\n",
       "        text-align: right;\n",
       "    }\n",
       "</style>\n",
       "<table border=\"1\" class=\"dataframe\">\n",
       "  <thead>\n",
       "    <tr style=\"text-align: right;\">\n",
       "      <th></th>\n",
       "      <th>children</th>\n",
       "      <th>days_employed</th>\n",
       "      <th>dob_years</th>\n",
       "      <th>education</th>\n",
       "      <th>education_id</th>\n",
       "      <th>family_status</th>\n",
       "      <th>family_status_id</th>\n",
       "      <th>gender</th>\n",
       "      <th>income_type</th>\n",
       "      <th>debt</th>\n",
       "      <th>total_income</th>\n",
       "      <th>purpose</th>\n",
       "    </tr>\n",
       "  </thead>\n",
       "  <tbody>\n",
       "    <tr>\n",
       "      <th>0</th>\n",
       "      <td>1</td>\n",
       "      <td>-8437.673028</td>\n",
       "      <td>42</td>\n",
       "      <td>высшее</td>\n",
       "      <td>0</td>\n",
       "      <td>женат / замужем</td>\n",
       "      <td>0</td>\n",
       "      <td>F</td>\n",
       "      <td>сотрудник</td>\n",
       "      <td>0</td>\n",
       "      <td>253875.639453</td>\n",
       "      <td>покупка жилья</td>\n",
       "    </tr>\n",
       "    <tr>\n",
       "      <th>1</th>\n",
       "      <td>1</td>\n",
       "      <td>-4024.803754</td>\n",
       "      <td>36</td>\n",
       "      <td>среднее</td>\n",
       "      <td>1</td>\n",
       "      <td>женат / замужем</td>\n",
       "      <td>0</td>\n",
       "      <td>F</td>\n",
       "      <td>сотрудник</td>\n",
       "      <td>0</td>\n",
       "      <td>112080.014102</td>\n",
       "      <td>приобретение автомобиля</td>\n",
       "    </tr>\n",
       "    <tr>\n",
       "      <th>2</th>\n",
       "      <td>0</td>\n",
       "      <td>-5623.422610</td>\n",
       "      <td>33</td>\n",
       "      <td>Среднее</td>\n",
       "      <td>1</td>\n",
       "      <td>женат / замужем</td>\n",
       "      <td>0</td>\n",
       "      <td>M</td>\n",
       "      <td>сотрудник</td>\n",
       "      <td>0</td>\n",
       "      <td>145885.952297</td>\n",
       "      <td>покупка жилья</td>\n",
       "    </tr>\n",
       "    <tr>\n",
       "      <th>3</th>\n",
       "      <td>3</td>\n",
       "      <td>-4124.747207</td>\n",
       "      <td>32</td>\n",
       "      <td>среднее</td>\n",
       "      <td>1</td>\n",
       "      <td>женат / замужем</td>\n",
       "      <td>0</td>\n",
       "      <td>M</td>\n",
       "      <td>сотрудник</td>\n",
       "      <td>0</td>\n",
       "      <td>267628.550329</td>\n",
       "      <td>дополнительное образование</td>\n",
       "    </tr>\n",
       "    <tr>\n",
       "      <th>4</th>\n",
       "      <td>0</td>\n",
       "      <td>340266.072047</td>\n",
       "      <td>53</td>\n",
       "      <td>среднее</td>\n",
       "      <td>1</td>\n",
       "      <td>гражданский брак</td>\n",
       "      <td>1</td>\n",
       "      <td>F</td>\n",
       "      <td>пенсионер</td>\n",
       "      <td>0</td>\n",
       "      <td>158616.077870</td>\n",
       "      <td>сыграть свадьбу</td>\n",
       "    </tr>\n",
       "    <tr>\n",
       "      <th>5</th>\n",
       "      <td>0</td>\n",
       "      <td>-926.185831</td>\n",
       "      <td>27</td>\n",
       "      <td>высшее</td>\n",
       "      <td>0</td>\n",
       "      <td>гражданский брак</td>\n",
       "      <td>1</td>\n",
       "      <td>M</td>\n",
       "      <td>компаньон</td>\n",
       "      <td>0</td>\n",
       "      <td>255763.565419</td>\n",
       "      <td>покупка жилья</td>\n",
       "    </tr>\n",
       "    <tr>\n",
       "      <th>6</th>\n",
       "      <td>0</td>\n",
       "      <td>-2879.202052</td>\n",
       "      <td>43</td>\n",
       "      <td>высшее</td>\n",
       "      <td>0</td>\n",
       "      <td>женат / замужем</td>\n",
       "      <td>0</td>\n",
       "      <td>F</td>\n",
       "      <td>компаньон</td>\n",
       "      <td>0</td>\n",
       "      <td>240525.971920</td>\n",
       "      <td>операции с жильем</td>\n",
       "    </tr>\n",
       "    <tr>\n",
       "      <th>7</th>\n",
       "      <td>0</td>\n",
       "      <td>-152.779569</td>\n",
       "      <td>50</td>\n",
       "      <td>СРЕДНЕЕ</td>\n",
       "      <td>1</td>\n",
       "      <td>женат / замужем</td>\n",
       "      <td>0</td>\n",
       "      <td>M</td>\n",
       "      <td>сотрудник</td>\n",
       "      <td>0</td>\n",
       "      <td>135823.934197</td>\n",
       "      <td>образование</td>\n",
       "    </tr>\n",
       "    <tr>\n",
       "      <th>8</th>\n",
       "      <td>2</td>\n",
       "      <td>-6929.865299</td>\n",
       "      <td>35</td>\n",
       "      <td>ВЫСШЕЕ</td>\n",
       "      <td>0</td>\n",
       "      <td>гражданский брак</td>\n",
       "      <td>1</td>\n",
       "      <td>F</td>\n",
       "      <td>сотрудник</td>\n",
       "      <td>0</td>\n",
       "      <td>95856.832424</td>\n",
       "      <td>на проведение свадьбы</td>\n",
       "    </tr>\n",
       "    <tr>\n",
       "      <th>9</th>\n",
       "      <td>0</td>\n",
       "      <td>-2188.756445</td>\n",
       "      <td>41</td>\n",
       "      <td>среднее</td>\n",
       "      <td>1</td>\n",
       "      <td>женат / замужем</td>\n",
       "      <td>0</td>\n",
       "      <td>M</td>\n",
       "      <td>сотрудник</td>\n",
       "      <td>0</td>\n",
       "      <td>144425.938277</td>\n",
       "      <td>покупка жилья для семьи</td>\n",
       "    </tr>\n",
       "    <tr>\n",
       "      <th>10</th>\n",
       "      <td>2</td>\n",
       "      <td>-4171.483647</td>\n",
       "      <td>36</td>\n",
       "      <td>высшее</td>\n",
       "      <td>0</td>\n",
       "      <td>женат / замужем</td>\n",
       "      <td>0</td>\n",
       "      <td>M</td>\n",
       "      <td>компаньон</td>\n",
       "      <td>0</td>\n",
       "      <td>113943.491460</td>\n",
       "      <td>покупка недвижимости</td>\n",
       "    </tr>\n",
       "    <tr>\n",
       "      <th>11</th>\n",
       "      <td>0</td>\n",
       "      <td>-792.701887</td>\n",
       "      <td>40</td>\n",
       "      <td>среднее</td>\n",
       "      <td>1</td>\n",
       "      <td>женат / замужем</td>\n",
       "      <td>0</td>\n",
       "      <td>F</td>\n",
       "      <td>сотрудник</td>\n",
       "      <td>0</td>\n",
       "      <td>77069.234271</td>\n",
       "      <td>покупка коммерческой недвижимости</td>\n",
       "    </tr>\n",
       "    <tr>\n",
       "      <th>12</th>\n",
       "      <td>0</td>\n",
       "      <td>NaN</td>\n",
       "      <td>65</td>\n",
       "      <td>среднее</td>\n",
       "      <td>1</td>\n",
       "      <td>гражданский брак</td>\n",
       "      <td>1</td>\n",
       "      <td>M</td>\n",
       "      <td>пенсионер</td>\n",
       "      <td>0</td>\n",
       "      <td>NaN</td>\n",
       "      <td>сыграть свадьбу</td>\n",
       "    </tr>\n",
       "    <tr>\n",
       "      <th>13</th>\n",
       "      <td>0</td>\n",
       "      <td>-1846.641941</td>\n",
       "      <td>54</td>\n",
       "      <td>неоконченное высшее</td>\n",
       "      <td>2</td>\n",
       "      <td>женат / замужем</td>\n",
       "      <td>0</td>\n",
       "      <td>F</td>\n",
       "      <td>сотрудник</td>\n",
       "      <td>0</td>\n",
       "      <td>130458.228857</td>\n",
       "      <td>приобретение автомобиля</td>\n",
       "    </tr>\n",
       "    <tr>\n",
       "      <th>14</th>\n",
       "      <td>0</td>\n",
       "      <td>-1844.956182</td>\n",
       "      <td>56</td>\n",
       "      <td>высшее</td>\n",
       "      <td>0</td>\n",
       "      <td>гражданский брак</td>\n",
       "      <td>1</td>\n",
       "      <td>F</td>\n",
       "      <td>компаньон</td>\n",
       "      <td>1</td>\n",
       "      <td>165127.911772</td>\n",
       "      <td>покупка жилой недвижимости</td>\n",
       "    </tr>\n",
       "  </tbody>\n",
       "</table>\n",
       "</div>"
      ],
      "text/plain": [
       "    children  days_employed  dob_years            education  education_id  \\\n",
       "0          1   -8437.673028         42               высшее             0   \n",
       "1          1   -4024.803754         36              среднее             1   \n",
       "2          0   -5623.422610         33              Среднее             1   \n",
       "3          3   -4124.747207         32              среднее             1   \n",
       "4          0  340266.072047         53              среднее             1   \n",
       "5          0    -926.185831         27               высшее             0   \n",
       "6          0   -2879.202052         43               высшее             0   \n",
       "7          0    -152.779569         50              СРЕДНЕЕ             1   \n",
       "8          2   -6929.865299         35               ВЫСШЕЕ             0   \n",
       "9          0   -2188.756445         41              среднее             1   \n",
       "10         2   -4171.483647         36               высшее             0   \n",
       "11         0    -792.701887         40              среднее             1   \n",
       "12         0            NaN         65              среднее             1   \n",
       "13         0   -1846.641941         54  неоконченное высшее             2   \n",
       "14         0   -1844.956182         56               высшее             0   \n",
       "\n",
       "       family_status  family_status_id gender income_type  debt  \\\n",
       "0    женат / замужем                 0      F   сотрудник     0   \n",
       "1    женат / замужем                 0      F   сотрудник     0   \n",
       "2    женат / замужем                 0      M   сотрудник     0   \n",
       "3    женат / замужем                 0      M   сотрудник     0   \n",
       "4   гражданский брак                 1      F   пенсионер     0   \n",
       "5   гражданский брак                 1      M   компаньон     0   \n",
       "6    женат / замужем                 0      F   компаньон     0   \n",
       "7    женат / замужем                 0      M   сотрудник     0   \n",
       "8   гражданский брак                 1      F   сотрудник     0   \n",
       "9    женат / замужем                 0      M   сотрудник     0   \n",
       "10   женат / замужем                 0      M   компаньон     0   \n",
       "11   женат / замужем                 0      F   сотрудник     0   \n",
       "12  гражданский брак                 1      M   пенсионер     0   \n",
       "13   женат / замужем                 0      F   сотрудник     0   \n",
       "14  гражданский брак                 1      F   компаньон     1   \n",
       "\n",
       "     total_income                            purpose  \n",
       "0   253875.639453                      покупка жилья  \n",
       "1   112080.014102            приобретение автомобиля  \n",
       "2   145885.952297                      покупка жилья  \n",
       "3   267628.550329         дополнительное образование  \n",
       "4   158616.077870                    сыграть свадьбу  \n",
       "5   255763.565419                      покупка жилья  \n",
       "6   240525.971920                  операции с жильем  \n",
       "7   135823.934197                        образование  \n",
       "8    95856.832424              на проведение свадьбы  \n",
       "9   144425.938277            покупка жилья для семьи  \n",
       "10  113943.491460               покупка недвижимости  \n",
       "11   77069.234271  покупка коммерческой недвижимости  \n",
       "12            NaN                    сыграть свадьбу  \n",
       "13  130458.228857            приобретение автомобиля  \n",
       "14  165127.911772         покупка жилой недвижимости  "
      ]
     },
     "metadata": {},
     "output_type": "display_data"
    }
   ],
   "source": [
    "# Импортирование библиотеки pandas.\n",
    "import pandas as pd\n",
    "\n",
    "# Импортирование библиотеки pyplot.\n",
    "from matplotlib import pyplot as plt\n",
    "\n",
    "# Импортирование библиотеки Mystem.\n",
    "from pymystem3 import Mystem\n",
    "m = Mystem()\n",
    "\n",
    "# Прочтение файла .csv и сохранение данных в датафрейм df.\n",
    "df = pd.read_csv('/Users/yanako/MyDrive/COURSES/YANDEX_ANALITICS/02_Предобработка_данных/проект/data.csv')\n",
    "\n",
    "# Вывод на экран первых 15-ти строк датафрейма.\n",
    "display(df.head(15))"
   ]
  },
  {
   "cell_type": "code",
   "execution_count": 2,
   "metadata": {},
   "outputs": [
    {
     "name": "stdout",
     "output_type": "stream",
     "text": [
      "<class 'pandas.core.frame.DataFrame'>\n",
      "RangeIndex: 21525 entries, 0 to 21524\n",
      "Data columns (total 12 columns):\n",
      " #   Column            Non-Null Count  Dtype  \n",
      "---  ------            --------------  -----  \n",
      " 0   children          21525 non-null  int64  \n",
      " 1   days_employed     19351 non-null  float64\n",
      " 2   dob_years         21525 non-null  int64  \n",
      " 3   education         21525 non-null  object \n",
      " 4   education_id      21525 non-null  int64  \n",
      " 5   family_status     21525 non-null  object \n",
      " 6   family_status_id  21525 non-null  int64  \n",
      " 7   gender            21525 non-null  object \n",
      " 8   income_type       21525 non-null  object \n",
      " 9   debt              21525 non-null  int64  \n",
      " 10  total_income      19351 non-null  float64\n",
      " 11  purpose           21525 non-null  object \n",
      "dtypes: float64(2), int64(5), object(5)\n",
      "memory usage: 2.0+ MB\n"
     ]
    }
   ],
   "source": [
    "# Изучение общей информации о данных.\n",
    "df.info() "
   ]
  },
  {
   "cell_type": "markdown",
   "metadata": {},
   "source": [
    "**Вывод**"
   ]
  },
  {
   "cell_type": "markdown",
   "metadata": {},
   "source": [
    "Каждая строка таблицы описывает одного клиента, указывая его пол, возраст, семейное положение, количество детей, стаж работы, уровень и тип дохода, уровень образования, а также цель кредита и наличие или отсутствие задолжностей по возврату кредита. Отдельные столбцы введены для индикаторов семейного положения и уровня образования.\n",
    "\n",
    "В таблице более 20 тысяч строк и 12 столбцов. В столбцах `days_employed` и `total_income` одинаковое количество пропусков - около 10% от общего числа значений столбцов, в обоих столбцах тип данных - float. Возможно, некоторые клиенты не указали уровень дохода и стаж работы или произошла ошибка на каком-то из последующих этапов сбора данных. Значения в `days_employed` выглядят подозрительно - большинство значений отрицательные, а положительные значения на порядки выше отрицательных."
   ]
  },
  {
   "cell_type": "markdown",
   "metadata": {},
   "source": [
    "<a id=\"pre\"></a>\n",
    "## Предобработка данных"
   ]
  },
  {
   "cell_type": "markdown",
   "metadata": {},
   "source": [
    "<a id=\"pre\"></a>\n",
    "### Обработка пропущенных значений"
   ]
  },
  {
   "cell_type": "code",
   "execution_count": 3,
   "metadata": {},
   "outputs": [
    {
     "data": {
      "text/plain": [
       "children               0\n",
       "days_employed       2174\n",
       "dob_years              0\n",
       "education              0\n",
       "education_id           0\n",
       "family_status          0\n",
       "family_status_id       0\n",
       "gender                 0\n",
       "income_type            0\n",
       "debt                   0\n",
       "total_income        2174\n",
       "purpose                0\n",
       "dtype: int64"
      ]
     },
     "execution_count": 3,
     "metadata": {},
     "output_type": "execute_result"
    }
   ],
   "source": [
    "# Подсчет пропущенных значений в данных.\n",
    "df.isna().sum()"
   ]
  },
  {
   "cell_type": "markdown",
   "metadata": {},
   "source": [
    "Можно предположить, что пропущенные значения в столбцах `days_employed` и `total_income` находятся в одних и тех же строках. Проверим это предположение:"
   ]
  },
  {
   "cell_type": "code",
   "execution_count": 4,
   "metadata": {},
   "outputs": [
    {
     "data": {
      "text/plain": [
       "True"
      ]
     },
     "execution_count": 4,
     "metadata": {},
     "output_type": "execute_result"
    }
   ],
   "source": [
    "# Создание списка индексов записей по параметру.\n",
    "t_i = df[df['total_income'].isna() == True].index.tolist()\n",
    "d_e = df[df['days_employed'].isna() == True].index.tolist()\n",
    "\n",
    "# Проверка соответствия одного списка другому.\n",
    "t_i == d_e"
   ]
  },
  {
   "cell_type": "markdown",
   "metadata": {},
   "source": [
    "Действительно, в датафрейме нет ни одной строки, в которой пропуск в одном столбце не сопровождается пропуском в другом. \n",
    "\n",
    "Оба столбца с пропусками хранят в себе количественные переменные типа float. Прежде чем решить как именно поступать с пропусками в этих столбцах, посмотрим на распределение данных в обоих столбцах. \n",
    "\n",
    "Так как мне важно оценить данные перед началом обработки, я напишу функцию, которая будет показывать среднее, медианное, минимальное и максимальное значение в заданном столбце, а также выводить на экран график распределения данных."
   ]
  },
  {
   "cell_type": "code",
   "execution_count": 5,
   "metadata": {},
   "outputs": [],
   "source": [
    "def col_check_distrib(column, hist_bins=100, hist_div_factor=1, categories=\"cat\", values=\"val\"):\n",
    "    '''\n",
    "    Функция проверяет распределение данных в заданном столбце датафрейма и\n",
    "    выводит на экран название столбца, его минимальное, среднее, медианное и максимальное значения.\n",
    "    А также показывает график распределения данных.\n",
    "    \n",
    "    '''\n",
    "    print(\"column : \" + column + \"\\n\" +\n",
    "          \"min = \" + str(df[column].min()) + \"\\n\" +\n",
    "          \"mean = \" + str(df[column].mean()) + \"\\n\" +\n",
    "          \"median = \" + str(df[column].median()) + \"\\n\" +\n",
    "          \"max = \" + str(df[column].max())\n",
    "    )\n",
    "    plt.hist((df[column]/hist_div_factor), bins = hist_bins)\n",
    "    \n",
    "    plt.title(f'Распределение данных в столбце {column}')\n",
    "    plt.xlabel(f'{categories}')\n",
    "    plt.ylabel(f'{values}')\n",
    "    plt.show()"
   ]
  },
  {
   "cell_type": "markdown",
   "metadata": {},
   "source": [
    "Для начала оценим данные в столбце `days_employed`, для наглядности выведем на экран рабочий стаж в годах (разделим количество дней в столбце на 365):"
   ]
  },
  {
   "cell_type": "code",
   "execution_count": 6,
   "metadata": {},
   "outputs": [
    {
     "name": "stdout",
     "output_type": "stream",
     "text": [
      "column : days_employed\n",
      "min = -18388.949900568383\n",
      "mean = 63046.49766147338\n",
      "median = -1203.369528770489\n",
      "max = 401755.40047533\n"
     ]
    },
    {
     "data": {
      "image/png": "[encoded data removed]",
      "text/plain": [
       "<Figure size 432x288 with 1 Axes>"
      ]
     },
     "metadata": {
      "needs_background": "light"
     },
     "output_type": "display_data"
    }
   ],
   "source": [
    "# Применение функции col_check_distrib для столбца days_employed.\n",
    "col_check_distrib(\n",
    "    column='days_employed', \n",
    "    hist_bins=100, \n",
    "    hist_div_factor=365, \n",
    "    categories=\"Стаж работы, лет\", \n",
    "    values=\"Клиенты\")"
   ]
  },
  {
   "cell_type": "markdown",
   "metadata": {},
   "source": [
    "Мы видим, что данные из столбца со стажем работы распределены неадекватно: часть значений отрицательная, другая часть находится в районе тысячи лет. Медианное значение отрицательное и очень сильно отличается от среднего значения. Очевидно, что такими данным пользоваться нельзя, и сделать обоснованное предположение о качественном преобразовании таких данных почти невозможно. В данном случае нужно обратиться к заказчику за уточнением. \n",
    "\n",
    "Для текущего исследования рабочий стаж не имеет значения, поэтому столбец со стажем работы можно было бы оставить без изменений, но, так как далее я буду приводить данные из вещественных к целочисленным значениям, то сейчас я заполню значения NaN нулями (помня о том, что пользоваться этими данными для расчетов я не буду):"
   ]
  },
  {
   "cell_type": "code",
   "execution_count": 7,
   "metadata": {},
   "outputs": [
    {
     "data": {
      "text/plain": [
       "0"
      ]
     },
     "execution_count": 7,
     "metadata": {},
     "output_type": "execute_result"
    }
   ],
   "source": [
    "# Замена значений NaN на 0.\n",
    "df['days_employed'] = df['days_employed'].fillna(0)\n",
    "\n",
    "# Проверка результата: подсчет значений NaN.\n",
    "df['days_employed'].isna().sum()"
   ]
  },
  {
   "cell_type": "markdown",
   "metadata": {},
   "source": [
    "Все пропуски в столбце со стажем работы заполнены.\n",
    "\n",
    "Оценим ситуацию со значениями в столбце с ежемесячным доходом 'total_income':"
   ]
  },
  {
   "cell_type": "code",
   "execution_count": 8,
   "metadata": {},
   "outputs": [
    {
     "name": "stdout",
     "output_type": "stream",
     "text": [
      "column : total_income\n",
      "min = 20667.26379327158\n",
      "mean = 167422.30220817294\n",
      "median = 145017.93753253992\n",
      "max = 2265604.028722744\n"
     ]
    },
    {
     "data": {
      "image/png": "[encoded data removed]",
      "text/plain": [
       "<Figure size 432x288 with 1 Axes>"
      ]
     },
     "metadata": {
      "needs_background": "light"
     },
     "output_type": "display_data"
    }
   ],
   "source": [
    "# Применение функции col_check_distrib для столбца days_employed.\n",
    "col_check_distrib(\n",
    "    column='total_income', \n",
    "    hist_bins=100, \n",
    "    hist_div_factor=1, \n",
    "    categories=\"Зарплата, руб\", \n",
    "    values=\"Клиенты\")"
   ]
  },
  {
   "cell_type": "markdown",
   "metadata": {},
   "source": [
    "Здесь данные распределены более правдоподобно, но мы видим, что максимальная зарплата на порядок выше большинства значений, что может говорить об ошибке и сказываться на расчетах. Мы также видим существенную разницу между средним и медианным значением - больше 20000 р.\n",
    "\n",
    "Есть вероятность, что выбивающиееся из общего паттерна значения - результат ошибки ввода данных. Посмотрим, сколько всего значений в столбце 'total_income' превышает отметку в 500000 р."
   ]
  },
  {
   "cell_type": "code",
   "execution_count": 9,
   "metadata": {},
   "outputs": [
    {
     "data": {
      "text/plain": [
       "222"
      ]
     },
     "execution_count": 9,
     "metadata": {},
     "output_type": "execute_result"
    }
   ],
   "source": [
    "# Подсчет количества выдающихся значений в столбце total_income.\n",
    "df[df['total_income'] > 500000]['total_income'].count() "
   ]
  },
  {
   "cell_type": "markdown",
   "metadata": {},
   "source": [
    "Таких значений 222, что составляет около 1% от общего количества строк. Мы можем сказать, что независимо от того, как мы решим поступить с выдающимися данными, на общие выводы данного исследования они не должны оказать серьезного влияния. (Хотя при группировке по уровню зарплаты вполне могут иметь вес)."
   ]
  },
  {
   "cell_type": "markdown",
   "metadata": {},
   "source": [
    "Для того, чтобы понять, случайны ли пропуски в столбце с доходом или же прослеживается какая-то закономерность, посмотрим, как они соотносятся с данными в других столбцах: возможно, есть зависимость между типом дохода (или полом, образованием и тд.) и пропусками. Для проверки этого предположения выведем первые строки с пропусками на экран:"
   ]
  },
  {
   "cell_type": "code",
   "execution_count": 10,
   "metadata": {
    "scrolled": true
   },
   "outputs": [
    {
     "data": {
      "text/html": [
       "<div>\n",
       "<style scoped>\n",
       "    .dataframe tbody tr th:only-of-type {\n",
       "        vertical-align: middle;\n",
       "    }\n",
       "\n",
       "    .dataframe tbody tr th {\n",
       "        vertical-align: top;\n",
       "    }\n",
       "\n",
       "    .dataframe thead th {\n",
       "        text-align: right;\n",
       "    }\n",
       "</style>\n",
       "<table border=\"1\" class=\"dataframe\">\n",
       "  <thead>\n",
       "    <tr style=\"text-align: right;\">\n",
       "      <th></th>\n",
       "      <th>children</th>\n",
       "      <th>days_employed</th>\n",
       "      <th>dob_years</th>\n",
       "      <th>education</th>\n",
       "      <th>education_id</th>\n",
       "      <th>family_status</th>\n",
       "      <th>family_status_id</th>\n",
       "      <th>gender</th>\n",
       "      <th>income_type</th>\n",
       "      <th>debt</th>\n",
       "      <th>total_income</th>\n",
       "      <th>purpose</th>\n",
       "    </tr>\n",
       "  </thead>\n",
       "  <tbody>\n",
       "    <tr>\n",
       "      <th>12</th>\n",
       "      <td>0</td>\n",
       "      <td>0.0</td>\n",
       "      <td>65</td>\n",
       "      <td>среднее</td>\n",
       "      <td>1</td>\n",
       "      <td>гражданский брак</td>\n",
       "      <td>1</td>\n",
       "      <td>M</td>\n",
       "      <td>пенсионер</td>\n",
       "      <td>0</td>\n",
       "      <td>NaN</td>\n",
       "      <td>сыграть свадьбу</td>\n",
       "    </tr>\n",
       "    <tr>\n",
       "      <th>26</th>\n",
       "      <td>0</td>\n",
       "      <td>0.0</td>\n",
       "      <td>41</td>\n",
       "      <td>среднее</td>\n",
       "      <td>1</td>\n",
       "      <td>женат / замужем</td>\n",
       "      <td>0</td>\n",
       "      <td>M</td>\n",
       "      <td>госслужащий</td>\n",
       "      <td>0</td>\n",
       "      <td>NaN</td>\n",
       "      <td>образование</td>\n",
       "    </tr>\n",
       "    <tr>\n",
       "      <th>29</th>\n",
       "      <td>0</td>\n",
       "      <td>0.0</td>\n",
       "      <td>63</td>\n",
       "      <td>среднее</td>\n",
       "      <td>1</td>\n",
       "      <td>Не женат / не замужем</td>\n",
       "      <td>4</td>\n",
       "      <td>F</td>\n",
       "      <td>пенсионер</td>\n",
       "      <td>0</td>\n",
       "      <td>NaN</td>\n",
       "      <td>строительство жилой недвижимости</td>\n",
       "    </tr>\n",
       "    <tr>\n",
       "      <th>41</th>\n",
       "      <td>0</td>\n",
       "      <td>0.0</td>\n",
       "      <td>50</td>\n",
       "      <td>среднее</td>\n",
       "      <td>1</td>\n",
       "      <td>женат / замужем</td>\n",
       "      <td>0</td>\n",
       "      <td>F</td>\n",
       "      <td>госслужащий</td>\n",
       "      <td>0</td>\n",
       "      <td>NaN</td>\n",
       "      <td>сделка с подержанным автомобилем</td>\n",
       "    </tr>\n",
       "    <tr>\n",
       "      <th>55</th>\n",
       "      <td>0</td>\n",
       "      <td>0.0</td>\n",
       "      <td>54</td>\n",
       "      <td>среднее</td>\n",
       "      <td>1</td>\n",
       "      <td>гражданский брак</td>\n",
       "      <td>1</td>\n",
       "      <td>F</td>\n",
       "      <td>пенсионер</td>\n",
       "      <td>1</td>\n",
       "      <td>NaN</td>\n",
       "      <td>сыграть свадьбу</td>\n",
       "    </tr>\n",
       "    <tr>\n",
       "      <th>65</th>\n",
       "      <td>0</td>\n",
       "      <td>0.0</td>\n",
       "      <td>21</td>\n",
       "      <td>среднее</td>\n",
       "      <td>1</td>\n",
       "      <td>Не женат / не замужем</td>\n",
       "      <td>4</td>\n",
       "      <td>M</td>\n",
       "      <td>компаньон</td>\n",
       "      <td>0</td>\n",
       "      <td>NaN</td>\n",
       "      <td>операции с коммерческой недвижимостью</td>\n",
       "    </tr>\n",
       "    <tr>\n",
       "      <th>67</th>\n",
       "      <td>0</td>\n",
       "      <td>0.0</td>\n",
       "      <td>52</td>\n",
       "      <td>высшее</td>\n",
       "      <td>0</td>\n",
       "      <td>женат / замужем</td>\n",
       "      <td>0</td>\n",
       "      <td>F</td>\n",
       "      <td>пенсионер</td>\n",
       "      <td>0</td>\n",
       "      <td>NaN</td>\n",
       "      <td>покупка жилья для семьи</td>\n",
       "    </tr>\n",
       "    <tr>\n",
       "      <th>72</th>\n",
       "      <td>1</td>\n",
       "      <td>0.0</td>\n",
       "      <td>32</td>\n",
       "      <td>высшее</td>\n",
       "      <td>0</td>\n",
       "      <td>женат / замужем</td>\n",
       "      <td>0</td>\n",
       "      <td>M</td>\n",
       "      <td>госслужащий</td>\n",
       "      <td>0</td>\n",
       "      <td>NaN</td>\n",
       "      <td>операции с коммерческой недвижимостью</td>\n",
       "    </tr>\n",
       "    <tr>\n",
       "      <th>82</th>\n",
       "      <td>2</td>\n",
       "      <td>0.0</td>\n",
       "      <td>50</td>\n",
       "      <td>высшее</td>\n",
       "      <td>0</td>\n",
       "      <td>женат / замужем</td>\n",
       "      <td>0</td>\n",
       "      <td>F</td>\n",
       "      <td>сотрудник</td>\n",
       "      <td>0</td>\n",
       "      <td>NaN</td>\n",
       "      <td>жилье</td>\n",
       "    </tr>\n",
       "    <tr>\n",
       "      <th>83</th>\n",
       "      <td>0</td>\n",
       "      <td>0.0</td>\n",
       "      <td>52</td>\n",
       "      <td>среднее</td>\n",
       "      <td>1</td>\n",
       "      <td>женат / замужем</td>\n",
       "      <td>0</td>\n",
       "      <td>M</td>\n",
       "      <td>сотрудник</td>\n",
       "      <td>0</td>\n",
       "      <td>NaN</td>\n",
       "      <td>жилье</td>\n",
       "    </tr>\n",
       "    <tr>\n",
       "      <th>90</th>\n",
       "      <td>2</td>\n",
       "      <td>0.0</td>\n",
       "      <td>35</td>\n",
       "      <td>высшее</td>\n",
       "      <td>0</td>\n",
       "      <td>женат / замужем</td>\n",
       "      <td>0</td>\n",
       "      <td>F</td>\n",
       "      <td>сотрудник</td>\n",
       "      <td>0</td>\n",
       "      <td>NaN</td>\n",
       "      <td>операции с жильем</td>\n",
       "    </tr>\n",
       "    <tr>\n",
       "      <th>94</th>\n",
       "      <td>1</td>\n",
       "      <td>0.0</td>\n",
       "      <td>34</td>\n",
       "      <td>высшее</td>\n",
       "      <td>0</td>\n",
       "      <td>гражданский брак</td>\n",
       "      <td>1</td>\n",
       "      <td>F</td>\n",
       "      <td>компаньон</td>\n",
       "      <td>0</td>\n",
       "      <td>NaN</td>\n",
       "      <td>на проведение свадьбы</td>\n",
       "    </tr>\n",
       "    <tr>\n",
       "      <th>96</th>\n",
       "      <td>0</td>\n",
       "      <td>0.0</td>\n",
       "      <td>44</td>\n",
       "      <td>СРЕДНЕЕ</td>\n",
       "      <td>1</td>\n",
       "      <td>женат / замужем</td>\n",
       "      <td>0</td>\n",
       "      <td>F</td>\n",
       "      <td>сотрудник</td>\n",
       "      <td>0</td>\n",
       "      <td>NaN</td>\n",
       "      <td>покупка жилой недвижимости</td>\n",
       "    </tr>\n",
       "    <tr>\n",
       "      <th>97</th>\n",
       "      <td>0</td>\n",
       "      <td>0.0</td>\n",
       "      <td>47</td>\n",
       "      <td>высшее</td>\n",
       "      <td>0</td>\n",
       "      <td>женат / замужем</td>\n",
       "      <td>0</td>\n",
       "      <td>F</td>\n",
       "      <td>сотрудник</td>\n",
       "      <td>0</td>\n",
       "      <td>NaN</td>\n",
       "      <td>профильное образование</td>\n",
       "    </tr>\n",
       "    <tr>\n",
       "      <th>120</th>\n",
       "      <td>0</td>\n",
       "      <td>0.0</td>\n",
       "      <td>46</td>\n",
       "      <td>среднее</td>\n",
       "      <td>1</td>\n",
       "      <td>женат / замужем</td>\n",
       "      <td>0</td>\n",
       "      <td>F</td>\n",
       "      <td>сотрудник</td>\n",
       "      <td>0</td>\n",
       "      <td>NaN</td>\n",
       "      <td>высшее образование</td>\n",
       "    </tr>\n",
       "    <tr>\n",
       "      <th>121</th>\n",
       "      <td>0</td>\n",
       "      <td>0.0</td>\n",
       "      <td>29</td>\n",
       "      <td>высшее</td>\n",
       "      <td>0</td>\n",
       "      <td>женат / замужем</td>\n",
       "      <td>0</td>\n",
       "      <td>F</td>\n",
       "      <td>компаньон</td>\n",
       "      <td>0</td>\n",
       "      <td>NaN</td>\n",
       "      <td>автомобиль</td>\n",
       "    </tr>\n",
       "    <tr>\n",
       "      <th>135</th>\n",
       "      <td>0</td>\n",
       "      <td>0.0</td>\n",
       "      <td>27</td>\n",
       "      <td>среднее</td>\n",
       "      <td>1</td>\n",
       "      <td>женат / замужем</td>\n",
       "      <td>0</td>\n",
       "      <td>M</td>\n",
       "      <td>компаньон</td>\n",
       "      <td>0</td>\n",
       "      <td>NaN</td>\n",
       "      <td>жилье</td>\n",
       "    </tr>\n",
       "    <tr>\n",
       "      <th>141</th>\n",
       "      <td>0</td>\n",
       "      <td>0.0</td>\n",
       "      <td>39</td>\n",
       "      <td>среднее</td>\n",
       "      <td>1</td>\n",
       "      <td>гражданский брак</td>\n",
       "      <td>1</td>\n",
       "      <td>M</td>\n",
       "      <td>сотрудник</td>\n",
       "      <td>0</td>\n",
       "      <td>NaN</td>\n",
       "      <td>свадьба</td>\n",
       "    </tr>\n",
       "    <tr>\n",
       "      <th>145</th>\n",
       "      <td>0</td>\n",
       "      <td>0.0</td>\n",
       "      <td>62</td>\n",
       "      <td>среднее</td>\n",
       "      <td>1</td>\n",
       "      <td>женат / замужем</td>\n",
       "      <td>0</td>\n",
       "      <td>M</td>\n",
       "      <td>пенсионер</td>\n",
       "      <td>0</td>\n",
       "      <td>NaN</td>\n",
       "      <td>строительство недвижимости</td>\n",
       "    </tr>\n",
       "    <tr>\n",
       "      <th>174</th>\n",
       "      <td>0</td>\n",
       "      <td>0.0</td>\n",
       "      <td>55</td>\n",
       "      <td>высшее</td>\n",
       "      <td>0</td>\n",
       "      <td>вдовец / вдова</td>\n",
       "      <td>2</td>\n",
       "      <td>F</td>\n",
       "      <td>компаньон</td>\n",
       "      <td>0</td>\n",
       "      <td>NaN</td>\n",
       "      <td>свой автомобиль</td>\n",
       "    </tr>\n",
       "  </tbody>\n",
       "</table>\n",
       "</div>"
      ],
      "text/plain": [
       "     children  days_employed  dob_years education  education_id  \\\n",
       "12          0            0.0         65   среднее             1   \n",
       "26          0            0.0         41   среднее             1   \n",
       "29          0            0.0         63   среднее             1   \n",
       "41          0            0.0         50   среднее             1   \n",
       "55          0            0.0         54   среднее             1   \n",
       "65          0            0.0         21   среднее             1   \n",
       "67          0            0.0         52    высшее             0   \n",
       "72          1            0.0         32    высшее             0   \n",
       "82          2            0.0         50    высшее             0   \n",
       "83          0            0.0         52   среднее             1   \n",
       "90          2            0.0         35    высшее             0   \n",
       "94          1            0.0         34    высшее             0   \n",
       "96          0            0.0         44   СРЕДНЕЕ             1   \n",
       "97          0            0.0         47    высшее             0   \n",
       "120         0            0.0         46   среднее             1   \n",
       "121         0            0.0         29    высшее             0   \n",
       "135         0            0.0         27   среднее             1   \n",
       "141         0            0.0         39   среднее             1   \n",
       "145         0            0.0         62   среднее             1   \n",
       "174         0            0.0         55    высшее             0   \n",
       "\n",
       "             family_status  family_status_id gender  income_type  debt  \\\n",
       "12        гражданский брак                 1      M    пенсионер     0   \n",
       "26         женат / замужем                 0      M  госслужащий     0   \n",
       "29   Не женат / не замужем                 4      F    пенсионер     0   \n",
       "41         женат / замужем                 0      F  госслужащий     0   \n",
       "55        гражданский брак                 1      F    пенсионер     1   \n",
       "65   Не женат / не замужем                 4      M    компаньон     0   \n",
       "67         женат / замужем                 0      F    пенсионер     0   \n",
       "72         женат / замужем                 0      M  госслужащий     0   \n",
       "82         женат / замужем                 0      F    сотрудник     0   \n",
       "83         женат / замужем                 0      M    сотрудник     0   \n",
       "90         женат / замужем                 0      F    сотрудник     0   \n",
       "94        гражданский брак                 1      F    компаньон     0   \n",
       "96         женат / замужем                 0      F    сотрудник     0   \n",
       "97         женат / замужем                 0      F    сотрудник     0   \n",
       "120        женат / замужем                 0      F    сотрудник     0   \n",
       "121        женат / замужем                 0      F    компаньон     0   \n",
       "135        женат / замужем                 0      M    компаньон     0   \n",
       "141       гражданский брак                 1      M    сотрудник     0   \n",
       "145        женат / замужем                 0      M    пенсионер     0   \n",
       "174         вдовец / вдова                 2      F    компаньон     0   \n",
       "\n",
       "     total_income                                purpose  \n",
       "12            NaN                        сыграть свадьбу  \n",
       "26            NaN                            образование  \n",
       "29            NaN       строительство жилой недвижимости  \n",
       "41            NaN       сделка с подержанным автомобилем  \n",
       "55            NaN                        сыграть свадьбу  \n",
       "65            NaN  операции с коммерческой недвижимостью  \n",
       "67            NaN                покупка жилья для семьи  \n",
       "72            NaN  операции с коммерческой недвижимостью  \n",
       "82            NaN                                  жилье  \n",
       "83            NaN                                  жилье  \n",
       "90            NaN                      операции с жильем  \n",
       "94            NaN                  на проведение свадьбы  \n",
       "96            NaN             покупка жилой недвижимости  \n",
       "97            NaN                 профильное образование  \n",
       "120           NaN                     высшее образование  \n",
       "121           NaN                             автомобиль  \n",
       "135           NaN                                  жилье  \n",
       "141           NaN                                свадьба  \n",
       "145           NaN             строительство недвижимости  \n",
       "174           NaN                        свой автомобиль  "
      ]
     },
     "execution_count": 10,
     "metadata": {},
     "output_type": "execute_result"
    }
   ],
   "source": [
    "# Вывод на экран 20-ти первых строк с пропущенными значениямии.\n",
    "df[df['total_income'].isna()].head(20)"
   ]
  },
  {
   "cell_type": "markdown",
   "metadata": {},
   "source": [
    "Очевидных закономерностей между строками с пропусками и данными в других столбцах на первый взгляд не прослеживается. Мы видим, что клиенты с пропуском в графе дохода имеют разный уровень образования, возраст, пол и должность.\n",
    "\n",
    "В каждом столбце выведенной таблицы присутствуют самые разные значения, поэтому можно назвать пропуски в столбце  'total_income' случайными.\n",
    "\n",
    "Данные о доходе пропущены примерно в 10% данных, при этом строки с пропусками содержат важную для итогового вывода информацию - количество детей, семейное положение и наличие или отсутствие задолжности. "
   ]
  },
  {
   "cell_type": "markdown",
   "metadata": {},
   "source": [
    "Посмотрим на распределение данных по типу дохода, используя один из столбцов, в котором нет пропусков ('education'):"
   ]
  },
  {
   "cell_type": "code",
   "execution_count": 11,
   "metadata": {},
   "outputs": [
    {
     "data": {
      "text/plain": [
       "income_type\n",
       "безработный            2\n",
       "в декрете              1\n",
       "госслужащий         1459\n",
       "компаньон           5085\n",
       "пенсионер           3856\n",
       "предприниматель        2\n",
       "сотрудник          11119\n",
       "студент                1\n",
       "Name: education, dtype: int64"
      ]
     },
     "execution_count": 11,
     "metadata": {},
     "output_type": "execute_result"
    }
   ],
   "source": [
    "# Подсчет клиентов в каждой категории дохода.\n",
    "df.groupby('income_type')['education'].count()"
   ]
  },
  {
   "cell_type": "markdown",
   "metadata": {},
   "source": [
    "Мы видим непропорциональное разделение клиентов по группам. Только 4 из 8 групп представляют статистическую ценность."
   ]
  },
  {
   "cell_type": "code",
   "execution_count": 12,
   "metadata": {},
   "outputs": [
    {
     "data": {
      "text/plain": [
       "income_type\n",
       "безработный        131339.751676\n",
       "в декрете           53829.130729\n",
       "госслужащий        150447.935283\n",
       "компаньон          172357.950966\n",
       "пенсионер          118514.486412\n",
       "предприниматель    499163.144947\n",
       "сотрудник          142594.396847\n",
       "студент             98201.625314\n",
       "Name: total_income, dtype: float64"
      ]
     },
     "execution_count": 12,
     "metadata": {},
     "output_type": "execute_result"
    }
   ],
   "source": [
    "# Подсчет медианного значения для каждой категории дохода.\n",
    "income_types = df.groupby('income_type')['total_income'].median()\n",
    "# Вывод на экран медианных значений по группам дохода.\n",
    "income_types"
   ]
  },
  {
   "cell_type": "markdown",
   "metadata": {},
   "source": [
    "Заменим пропуски в столбце 'total_income' медианными значениями по типу дохода:"
   ]
  },
  {
   "cell_type": "code",
   "execution_count": 13,
   "metadata": {},
   "outputs": [
    {
     "name": "stdout",
     "output_type": "stream",
     "text": [
      "<class 'pandas.core.frame.DataFrame'>\n",
      "RangeIndex: 21525 entries, 0 to 21524\n",
      "Data columns (total 12 columns):\n",
      " #   Column            Non-Null Count  Dtype  \n",
      "---  ------            --------------  -----  \n",
      " 0   children          21525 non-null  int64  \n",
      " 1   days_employed     21525 non-null  float64\n",
      " 2   dob_years         21525 non-null  int64  \n",
      " 3   education         21525 non-null  object \n",
      " 4   education_id      21525 non-null  int64  \n",
      " 5   family_status     21525 non-null  object \n",
      " 6   family_status_id  21525 non-null  int64  \n",
      " 7   gender            21525 non-null  object \n",
      " 8   income_type       21525 non-null  object \n",
      " 9   debt              21525 non-null  int64  \n",
      " 10  total_income      21525 non-null  float64\n",
      " 11  purpose           21525 non-null  object \n",
      "dtypes: float64(2), int64(5), object(5)\n",
      "memory usage: 2.0+ MB\n"
     ]
    }
   ],
   "source": [
    "# Перебор медианных значений по группам дохода и заполнение пропусков в total_income.\n",
    "for inc_type in income_types.index:\n",
    "    df.loc[(df['income_type'] == inc_type) & \n",
    "           (df['total_income'].isna()), \n",
    "           'total_income'] = income_types[inc_type]\n",
    "    \n",
    "# Вывод информации о таблице.\n",
    "df.info()"
   ]
  },
  {
   "cell_type": "markdown",
   "metadata": {},
   "source": [
    "Теперь все значения в столбце 'total_income' имеют числовые значения."
   ]
  },
  {
   "cell_type": "markdown",
   "metadata": {},
   "source": [
    "Проверим распределение данных в других столбцах, которые нам понадобятся для расчетов. "
   ]
  },
  {
   "cell_type": "code",
   "execution_count": 14,
   "metadata": {},
   "outputs": [
    {
     "name": "stdout",
     "output_type": "stream",
     "text": [
      "column : children\n",
      "min = -1\n",
      "mean = 0.5389082462253194\n",
      "median = 0.0\n",
      "max = 20\n"
     ]
    },
    {
     "data": {
      "image/png": "[encoded data removed]",
      "text/plain": [
       "<Figure size 432x288 with 1 Axes>"
      ]
     },
     "metadata": {
      "needs_background": "light"
     },
     "output_type": "display_data"
    }
   ],
   "source": [
    "# Применение функции col_check_distrib для столбца children.\n",
    "col_check_distrib(\n",
    "    column='children', \n",
    "    hist_bins=21, \n",
    "    hist_div_factor=1, \n",
    "    categories=\"Количество детей у клиента\", \n",
    "    values=\"Количество клиентов\")"
   ]
  },
  {
   "cell_type": "markdown",
   "metadata": {},
   "source": [
    "Мы видим странные значения в данных: -1 и 20. Подсчитаем, сколько всего таких значений в данных: "
   ]
  },
  {
   "cell_type": "code",
   "execution_count": 15,
   "metadata": {},
   "outputs": [
    {
     "data": {
      "text/plain": [
       "children\n",
       "-1        47\n",
       " 0     14149\n",
       " 1      4818\n",
       " 2      2055\n",
       " 3       330\n",
       " 4        41\n",
       " 5         9\n",
       " 20       76\n",
       "Name: education, dtype: int64"
      ]
     },
     "execution_count": 15,
     "metadata": {},
     "output_type": "execute_result"
    }
   ],
   "source": [
    "# Подсчет значений, сгруппированных по количеству детей.\n",
    "df.groupby('children')['education'].count()"
   ]
  },
  {
   "cell_type": "markdown",
   "metadata": {},
   "source": [
    "Согласно нашим данным, у 76-ти клиентов банка по 20 детей. Это очень маловероятно, особенно учитывая тот факт, что ни у кого нет, например 15-ти или 9-ти детей (значения от 6 до 19 включительно не присутствуют в таблице). Таким образом, можно сделать вывод, что число 20 является следствием ошибки ввода и, скорее всего, детей у этих клиентов по двое.\n",
    "\n",
    "Значение '-1' могло появиться в таблице при отсутствии достоверной информации о количестве детей. Но также возможно, что это ошибка ввода и вместо '-1' имелось ввиду '1'. Таким образом есть два варианта обработки этих значений.\n",
    "\n",
    "Допустим, что это именно ошибка ввода, и, так как общее количество значений '-1'(47) составляет менее 1% от значений '1'(4809), на итоговые расчеты это не окажет значительного влияния. Заменим значения в столбце с количеством детей с '-1' на '1' и с '20' на '2':"
   ]
  },
  {
   "cell_type": "code",
   "execution_count": 16,
   "metadata": {},
   "outputs": [
    {
     "data": {
      "text/plain": [
       "children\n",
       "0    14149\n",
       "1     4865\n",
       "2     2131\n",
       "3      330\n",
       "4       41\n",
       "5        9\n",
       "Name: education, dtype: int64"
      ]
     },
     "execution_count": 16,
     "metadata": {},
     "output_type": "execute_result"
    }
   ],
   "source": [
    "# Замена значений в столбце children.\n",
    "df['children'] = df['children'].replace(-1, 1)\n",
    "df['children'] = df['children'].replace(20, 2)\n",
    "\n",
    "# Группировка и подсчет значений.\n",
    "df.groupby('children')['education'].count()"
   ]
  },
  {
   "cell_type": "markdown",
   "metadata": {},
   "source": [
    "Количество детей приведено в порядок.\n",
    "\n",
    "Проверим данные в столбце с задолжностями:"
   ]
  },
  {
   "cell_type": "code",
   "execution_count": 17,
   "metadata": {},
   "outputs": [
    {
     "data": {
      "text/plain": [
       "debt\n",
       "0    19784\n",
       "1     1741\n",
       "Name: education, dtype: int64"
      ]
     },
     "execution_count": 17,
     "metadata": {},
     "output_type": "execute_result"
    }
   ],
   "source": [
    "df.groupby('debt')['education'].count()"
   ]
  },
  {
   "cell_type": "markdown",
   "metadata": {},
   "source": [
    "Все значения распределены между 0 и 1, с данными можно работать."
   ]
  },
  {
   "cell_type": "markdown",
   "metadata": {},
   "source": [
    "**Вывод**"
   ]
  },
  {
   "cell_type": "markdown",
   "metadata": {},
   "source": [
    "В данных о стаже работы и ежемесячном доходе обнаружены и обработаны пропуски. Произведена замена некорректных значений в данных о количестве детей. Данные о стаже работы не пригодны для использования.\n",
    "\n",
    "Данные готовы к последующей предобработке."
   ]
  },
  {
   "cell_type": "markdown",
   "metadata": {},
   "source": [
    "<a id=\"pre_2\"></a>\n",
    "### Замена типа данных"
   ]
  },
  {
   "cell_type": "markdown",
   "metadata": {},
   "source": [
    "Для удобства последующих вычислений и аккуратности таблицы приведем данные к виду целых чисел. Для этого используем метод astype(). Используем конструкцию try/except для избежания остановки кода в случае ошибки. Начнем со столбца 'total_income':"
   ]
  },
  {
   "cell_type": "code",
   "execution_count": 18,
   "metadata": {
    "scrolled": true
   },
   "outputs": [
    {
     "data": {
      "text/html": [
       "<div>\n",
       "<style scoped>\n",
       "    .dataframe tbody tr th:only-of-type {\n",
       "        vertical-align: middle;\n",
       "    }\n",
       "\n",
       "    .dataframe tbody tr th {\n",
       "        vertical-align: top;\n",
       "    }\n",
       "\n",
       "    .dataframe thead th {\n",
       "        text-align: right;\n",
       "    }\n",
       "</style>\n",
       "<table border=\"1\" class=\"dataframe\">\n",
       "  <thead>\n",
       "    <tr style=\"text-align: right;\">\n",
       "      <th></th>\n",
       "      <th>children</th>\n",
       "      <th>days_employed</th>\n",
       "      <th>dob_years</th>\n",
       "      <th>education</th>\n",
       "      <th>education_id</th>\n",
       "      <th>family_status</th>\n",
       "      <th>family_status_id</th>\n",
       "      <th>gender</th>\n",
       "      <th>income_type</th>\n",
       "      <th>debt</th>\n",
       "      <th>total_income</th>\n",
       "      <th>purpose</th>\n",
       "    </tr>\n",
       "  </thead>\n",
       "  <tbody>\n",
       "    <tr>\n",
       "      <th>0</th>\n",
       "      <td>1</td>\n",
       "      <td>-8437.673028</td>\n",
       "      <td>42</td>\n",
       "      <td>высшее</td>\n",
       "      <td>0</td>\n",
       "      <td>женат / замужем</td>\n",
       "      <td>0</td>\n",
       "      <td>F</td>\n",
       "      <td>сотрудник</td>\n",
       "      <td>0</td>\n",
       "      <td>253875</td>\n",
       "      <td>покупка жилья</td>\n",
       "    </tr>\n",
       "    <tr>\n",
       "      <th>1</th>\n",
       "      <td>1</td>\n",
       "      <td>-4024.803754</td>\n",
       "      <td>36</td>\n",
       "      <td>среднее</td>\n",
       "      <td>1</td>\n",
       "      <td>женат / замужем</td>\n",
       "      <td>0</td>\n",
       "      <td>F</td>\n",
       "      <td>сотрудник</td>\n",
       "      <td>0</td>\n",
       "      <td>112080</td>\n",
       "      <td>приобретение автомобиля</td>\n",
       "    </tr>\n",
       "    <tr>\n",
       "      <th>2</th>\n",
       "      <td>0</td>\n",
       "      <td>-5623.422610</td>\n",
       "      <td>33</td>\n",
       "      <td>Среднее</td>\n",
       "      <td>1</td>\n",
       "      <td>женат / замужем</td>\n",
       "      <td>0</td>\n",
       "      <td>M</td>\n",
       "      <td>сотрудник</td>\n",
       "      <td>0</td>\n",
       "      <td>145885</td>\n",
       "      <td>покупка жилья</td>\n",
       "    </tr>\n",
       "    <tr>\n",
       "      <th>3</th>\n",
       "      <td>3</td>\n",
       "      <td>-4124.747207</td>\n",
       "      <td>32</td>\n",
       "      <td>среднее</td>\n",
       "      <td>1</td>\n",
       "      <td>женат / замужем</td>\n",
       "      <td>0</td>\n",
       "      <td>M</td>\n",
       "      <td>сотрудник</td>\n",
       "      <td>0</td>\n",
       "      <td>267628</td>\n",
       "      <td>дополнительное образование</td>\n",
       "    </tr>\n",
       "    <tr>\n",
       "      <th>4</th>\n",
       "      <td>0</td>\n",
       "      <td>340266.072047</td>\n",
       "      <td>53</td>\n",
       "      <td>среднее</td>\n",
       "      <td>1</td>\n",
       "      <td>гражданский брак</td>\n",
       "      <td>1</td>\n",
       "      <td>F</td>\n",
       "      <td>пенсионер</td>\n",
       "      <td>0</td>\n",
       "      <td>158616</td>\n",
       "      <td>сыграть свадьбу</td>\n",
       "    </tr>\n",
       "  </tbody>\n",
       "</table>\n",
       "</div>"
      ],
      "text/plain": [
       "   children  days_employed  dob_years education  education_id  \\\n",
       "0         1   -8437.673028         42    высшее             0   \n",
       "1         1   -4024.803754         36   среднее             1   \n",
       "2         0   -5623.422610         33   Среднее             1   \n",
       "3         3   -4124.747207         32   среднее             1   \n",
       "4         0  340266.072047         53   среднее             1   \n",
       "\n",
       "      family_status  family_status_id gender income_type  debt  total_income  \\\n",
       "0   женат / замужем                 0      F   сотрудник     0        253875   \n",
       "1   женат / замужем                 0      F   сотрудник     0        112080   \n",
       "2   женат / замужем                 0      M   сотрудник     0        145885   \n",
       "3   женат / замужем                 0      M   сотрудник     0        267628   \n",
       "4  гражданский брак                 1      F   пенсионер     0        158616   \n",
       "\n",
       "                      purpose  \n",
       "0               покупка жилья  \n",
       "1     приобретение автомобиля  \n",
       "2               покупка жилья  \n",
       "3  дополнительное образование  \n",
       "4             сыграть свадьбу  "
      ]
     },
     "execution_count": 18,
     "metadata": {},
     "output_type": "execute_result"
    }
   ],
   "source": [
    "# Перевод данных в столбце в целочисленный тип данных.\n",
    "try:\n",
    "    df['total_income'] = df['total_income'].astype('int')\n",
    "except:\n",
    "    print('Есть значения, которые не удалось преобразовать')\n",
    "\n",
    "# Проверка результата.\n",
    "df.head()"
   ]
  },
  {
   "cell_type": "markdown",
   "metadata": {},
   "source": [
    "Теперь обработаем столбец 'days_employed', в нем также присутствуют отрицательные значения, поэтому в дополнение к методу astype() мы используем метод abs():"
   ]
  },
  {
   "cell_type": "code",
   "execution_count": 19,
   "metadata": {},
   "outputs": [
    {
     "data": {
      "text/html": [
       "<div>\n",
       "<style scoped>\n",
       "    .dataframe tbody tr th:only-of-type {\n",
       "        vertical-align: middle;\n",
       "    }\n",
       "\n",
       "    .dataframe tbody tr th {\n",
       "        vertical-align: top;\n",
       "    }\n",
       "\n",
       "    .dataframe thead th {\n",
       "        text-align: right;\n",
       "    }\n",
       "</style>\n",
       "<table border=\"1\" class=\"dataframe\">\n",
       "  <thead>\n",
       "    <tr style=\"text-align: right;\">\n",
       "      <th></th>\n",
       "      <th>children</th>\n",
       "      <th>days_employed</th>\n",
       "      <th>dob_years</th>\n",
       "      <th>education</th>\n",
       "      <th>education_id</th>\n",
       "      <th>family_status</th>\n",
       "      <th>family_status_id</th>\n",
       "      <th>gender</th>\n",
       "      <th>income_type</th>\n",
       "      <th>debt</th>\n",
       "      <th>total_income</th>\n",
       "      <th>purpose</th>\n",
       "    </tr>\n",
       "  </thead>\n",
       "  <tbody>\n",
       "    <tr>\n",
       "      <th>0</th>\n",
       "      <td>1</td>\n",
       "      <td>8437</td>\n",
       "      <td>42</td>\n",
       "      <td>высшее</td>\n",
       "      <td>0</td>\n",
       "      <td>женат / замужем</td>\n",
       "      <td>0</td>\n",
       "      <td>F</td>\n",
       "      <td>сотрудник</td>\n",
       "      <td>0</td>\n",
       "      <td>253875</td>\n",
       "      <td>покупка жилья</td>\n",
       "    </tr>\n",
       "    <tr>\n",
       "      <th>1</th>\n",
       "      <td>1</td>\n",
       "      <td>4024</td>\n",
       "      <td>36</td>\n",
       "      <td>среднее</td>\n",
       "      <td>1</td>\n",
       "      <td>женат / замужем</td>\n",
       "      <td>0</td>\n",
       "      <td>F</td>\n",
       "      <td>сотрудник</td>\n",
       "      <td>0</td>\n",
       "      <td>112080</td>\n",
       "      <td>приобретение автомобиля</td>\n",
       "    </tr>\n",
       "    <tr>\n",
       "      <th>2</th>\n",
       "      <td>0</td>\n",
       "      <td>5623</td>\n",
       "      <td>33</td>\n",
       "      <td>Среднее</td>\n",
       "      <td>1</td>\n",
       "      <td>женат / замужем</td>\n",
       "      <td>0</td>\n",
       "      <td>M</td>\n",
       "      <td>сотрудник</td>\n",
       "      <td>0</td>\n",
       "      <td>145885</td>\n",
       "      <td>покупка жилья</td>\n",
       "    </tr>\n",
       "    <tr>\n",
       "      <th>3</th>\n",
       "      <td>3</td>\n",
       "      <td>4124</td>\n",
       "      <td>32</td>\n",
       "      <td>среднее</td>\n",
       "      <td>1</td>\n",
       "      <td>женат / замужем</td>\n",
       "      <td>0</td>\n",
       "      <td>M</td>\n",
       "      <td>сотрудник</td>\n",
       "      <td>0</td>\n",
       "      <td>267628</td>\n",
       "      <td>дополнительное образование</td>\n",
       "    </tr>\n",
       "    <tr>\n",
       "      <th>4</th>\n",
       "      <td>0</td>\n",
       "      <td>340266</td>\n",
       "      <td>53</td>\n",
       "      <td>среднее</td>\n",
       "      <td>1</td>\n",
       "      <td>гражданский брак</td>\n",
       "      <td>1</td>\n",
       "      <td>F</td>\n",
       "      <td>пенсионер</td>\n",
       "      <td>0</td>\n",
       "      <td>158616</td>\n",
       "      <td>сыграть свадьбу</td>\n",
       "    </tr>\n",
       "  </tbody>\n",
       "</table>\n",
       "</div>"
      ],
      "text/plain": [
       "   children  days_employed  dob_years education  education_id  \\\n",
       "0         1           8437         42    высшее             0   \n",
       "1         1           4024         36   среднее             1   \n",
       "2         0           5623         33   Среднее             1   \n",
       "3         3           4124         32   среднее             1   \n",
       "4         0         340266         53   среднее             1   \n",
       "\n",
       "      family_status  family_status_id gender income_type  debt  total_income  \\\n",
       "0   женат / замужем                 0      F   сотрудник     0        253875   \n",
       "1   женат / замужем                 0      F   сотрудник     0        112080   \n",
       "2   женат / замужем                 0      M   сотрудник     0        145885   \n",
       "3   женат / замужем                 0      M   сотрудник     0        267628   \n",
       "4  гражданский брак                 1      F   пенсионер     0        158616   \n",
       "\n",
       "                      purpose  \n",
       "0               покупка жилья  \n",
       "1     приобретение автомобиля  \n",
       "2               покупка жилья  \n",
       "3  дополнительное образование  \n",
       "4             сыграть свадьбу  "
      ]
     },
     "execution_count": 19,
     "metadata": {},
     "output_type": "execute_result"
    }
   ],
   "source": [
    "# Замена отрицательных значений на положительные и перевод в целочисленный тип.\n",
    "try:\n",
    "    df['days_employed'] = abs(df['days_employed']).astype('int')\n",
    "except:\n",
    "    print('Есть значения, которые не удалось преобразовать')\n",
    "\n",
    "# Проверка результата.\n",
    "df.head()"
   ]
  },
  {
   "cell_type": "markdown",
   "metadata": {},
   "source": [
    "**Вывод**"
   ]
  },
  {
   "cell_type": "markdown",
   "metadata": {},
   "source": [
    "Данные столбцах `days_employed` и `total_income` переведены к формату целых положительных чисел."
   ]
  },
  {
   "cell_type": "markdown",
   "metadata": {},
   "source": [
    "<a id=\"pre_3\"></a>\n",
    "### Обработка дубликатов"
   ]
  },
  {
   "cell_type": "markdown",
   "metadata": {},
   "source": [
    "Проверим, есть ли в таблице явные дубликаты:"
   ]
  },
  {
   "cell_type": "code",
   "execution_count": 20,
   "metadata": {},
   "outputs": [
    {
     "data": {
      "text/plain": [
       "54"
      ]
     },
     "execution_count": 20,
     "metadata": {},
     "output_type": "execute_result"
    }
   ],
   "source": [
    "# Подсчёт явных дубликатов.\n",
    "df.duplicated().sum()"
   ]
  },
  {
   "cell_type": "markdown",
   "metadata": {},
   "source": [
    "Таких дубликатов 54. Удалим явные дубликаты и перезапишем индексы:"
   ]
  },
  {
   "cell_type": "code",
   "execution_count": 21,
   "metadata": {},
   "outputs": [
    {
     "name": "stdout",
     "output_type": "stream",
     "text": [
      "<class 'pandas.core.frame.DataFrame'>\n",
      "RangeIndex: 21471 entries, 0 to 21470\n",
      "Data columns (total 12 columns):\n",
      " #   Column            Non-Null Count  Dtype \n",
      "---  ------            --------------  ----- \n",
      " 0   children          21471 non-null  int64 \n",
      " 1   days_employed     21471 non-null  int64 \n",
      " 2   dob_years         21471 non-null  int64 \n",
      " 3   education         21471 non-null  object\n",
      " 4   education_id      21471 non-null  int64 \n",
      " 5   family_status     21471 non-null  object\n",
      " 6   family_status_id  21471 non-null  int64 \n",
      " 7   gender            21471 non-null  object\n",
      " 8   income_type       21471 non-null  object\n",
      " 9   debt              21471 non-null  int64 \n",
      " 10  total_income      21471 non-null  int64 \n",
      " 11  purpose           21471 non-null  object\n",
      "dtypes: int64(7), object(5)\n",
      "memory usage: 2.0+ MB\n"
     ]
    }
   ],
   "source": [
    "# Удаление явных дубликатов (с удалением старых индексов и формированием новых).\n",
    "df = df.drop_duplicates().reset_index(drop=True)\n",
    "\n",
    "# Проверка.\n",
    "df.info()"
   ]
  },
  {
   "cell_type": "markdown",
   "metadata": {},
   "source": [
    "Явные дубликаты удалены - количество строк таблицы уменьшилось ровно на 54 от исходного количества."
   ]
  },
  {
   "cell_type": "markdown",
   "metadata": {},
   "source": [
    "Посмотрим на уникальные значения столбца об образовании и приведем их к единообразию."
   ]
  },
  {
   "cell_type": "code",
   "execution_count": 22,
   "metadata": {},
   "outputs": [
    {
     "data": {
      "text/plain": [
       "array(['высшее', 'среднее', 'Среднее', 'СРЕДНЕЕ', 'ВЫСШЕЕ',\n",
       "       'неоконченное высшее', 'начальное', 'Высшее',\n",
       "       'НЕОКОНЧЕННОЕ ВЫСШЕЕ', 'Неоконченное высшее', 'НАЧАЛЬНОЕ',\n",
       "       'Начальное', 'Ученая степень', 'УЧЕНАЯ СТЕПЕНЬ', 'ученая степень'],\n",
       "      dtype=object)"
      ]
     },
     "execution_count": 22,
     "metadata": {},
     "output_type": "execute_result"
    }
   ],
   "source": [
    "# Просмотр уникальных уровней образования.\n",
    "df['education'].unique()"
   ]
  },
  {
   "cell_type": "markdown",
   "metadata": {},
   "source": [
    "Мы видим, что здесь встречаются неявные дубликаты и, несмотря на то, что у нас есть столбец с индикатором образования, по которому можно проводить расчеты, лучше привести имеющиеся значения к единобразию."
   ]
  },
  {
   "cell_type": "code",
   "execution_count": 23,
   "metadata": {},
   "outputs": [
    {
     "data": {
      "text/plain": [
       "array(['высшее', 'среднее', 'неоконченное высшее', 'начальное',\n",
       "       'ученая степень'], dtype=object)"
      ]
     },
     "execution_count": 23,
     "metadata": {},
     "output_type": "execute_result"
    }
   ],
   "source": [
    "# Приведение данных к нижнему регистру.\n",
    "df['education'] = df['education'].str.lower()\n",
    "\n",
    "# Проверка: просмотр уникальных уровней образования.\n",
    "df['education'].unique()"
   ]
  },
  {
   "cell_type": "markdown",
   "metadata": {},
   "source": [
    "Посмотрим на уникальные значения столбца о поле клиентов:"
   ]
  },
  {
   "cell_type": "code",
   "execution_count": 24,
   "metadata": {},
   "outputs": [
    {
     "data": {
      "text/plain": [
       "array(['F', 'M', 'XNA'], dtype=object)"
      ]
     },
     "execution_count": 24,
     "metadata": {},
     "output_type": "execute_result"
    }
   ],
   "source": [
    "# Уникальные значения столбца gender.\n",
    "df['gender'].unique()"
   ]
  },
  {
   "cell_type": "markdown",
   "metadata": {},
   "source": [
    "Кроме стандартных значений 'F' и 'M', в таблице присутствует 'XNA'.\n",
    "Посмотрим сколько таких значений всего в таблице:"
   ]
  },
  {
   "cell_type": "code",
   "execution_count": 25,
   "metadata": {},
   "outputs": [
    {
     "data": {
      "text/plain": [
       "gender\n",
       "F      14189\n",
       "M       7281\n",
       "XNA        1\n",
       "Name: dob_years, dtype: int64"
      ]
     },
     "execution_count": 25,
     "metadata": {},
     "output_type": "execute_result"
    }
   ],
   "source": [
    "# Подсчет распределения значений столбца.\n",
    "df.groupby('gender')['dob_years'].count()"
   ]
  },
  {
   "cell_type": "markdown",
   "metadata": {},
   "source": [
    "Такое значение всего одно, посмотрим на всю строку, в которой оно появляется:"
   ]
  },
  {
   "cell_type": "code",
   "execution_count": 26,
   "metadata": {},
   "outputs": [
    {
     "data": {
      "text/html": [
       "<div>\n",
       "<style scoped>\n",
       "    .dataframe tbody tr th:only-of-type {\n",
       "        vertical-align: middle;\n",
       "    }\n",
       "\n",
       "    .dataframe tbody tr th {\n",
       "        vertical-align: top;\n",
       "    }\n",
       "\n",
       "    .dataframe thead th {\n",
       "        text-align: right;\n",
       "    }\n",
       "</style>\n",
       "<table border=\"1\" class=\"dataframe\">\n",
       "  <thead>\n",
       "    <tr style=\"text-align: right;\">\n",
       "      <th></th>\n",
       "      <th>children</th>\n",
       "      <th>days_employed</th>\n",
       "      <th>dob_years</th>\n",
       "      <th>education</th>\n",
       "      <th>education_id</th>\n",
       "      <th>family_status</th>\n",
       "      <th>family_status_id</th>\n",
       "      <th>gender</th>\n",
       "      <th>income_type</th>\n",
       "      <th>debt</th>\n",
       "      <th>total_income</th>\n",
       "      <th>purpose</th>\n",
       "    </tr>\n",
       "  </thead>\n",
       "  <tbody>\n",
       "    <tr>\n",
       "      <th>10690</th>\n",
       "      <td>0</td>\n",
       "      <td>2358</td>\n",
       "      <td>24</td>\n",
       "      <td>неоконченное высшее</td>\n",
       "      <td>2</td>\n",
       "      <td>гражданский брак</td>\n",
       "      <td>1</td>\n",
       "      <td>XNA</td>\n",
       "      <td>компаньон</td>\n",
       "      <td>0</td>\n",
       "      <td>203905</td>\n",
       "      <td>покупка недвижимости</td>\n",
       "    </tr>\n",
       "  </tbody>\n",
       "</table>\n",
       "</div>"
      ],
      "text/plain": [
       "       children  days_employed  dob_years            education  education_id  \\\n",
       "10690         0           2358         24  неоконченное высшее             2   \n",
       "\n",
       "          family_status  family_status_id gender income_type  debt  \\\n",
       "10690  гражданский брак                 1    XNA   компаньон     0   \n",
       "\n",
       "       total_income               purpose  \n",
       "10690        203905  покупка недвижимости  "
      ]
     },
     "execution_count": 26,
     "metadata": {},
     "output_type": "execute_result"
    }
   ],
   "source": [
    "# Вывод на экран строки с единственным значением.\n",
    "df[df['gender'] == 'XNA']"
   ]
  },
  {
   "cell_type": "markdown",
   "metadata": {},
   "source": [
    "Мне совсем не хочется лишать человека права не указывать свой пол при заполнении анкеты, но здесь мы работаем с данными, а не с конкретными людьми, поэтому для простоты расчетов, я припишу женский пол в пропущенную графу."
   ]
  },
  {
   "cell_type": "code",
   "execution_count": 27,
   "metadata": {},
   "outputs": [
    {
     "data": {
      "text/plain": [
       "array(['F', 'M'], dtype=object)"
      ]
     },
     "execution_count": 27,
     "metadata": {},
     "output_type": "execute_result"
    }
   ],
   "source": [
    "# Замена пропуска в столбце gender.\n",
    "df['gender'] = df['gender'].replace('XNA', 'F')\n",
    "\n",
    "# Проверка.\n",
    "df['gender'].unique()"
   ]
  },
  {
   "cell_type": "markdown",
   "metadata": {},
   "source": [
    "Заменим английские сокращения на русские для единообразия:"
   ]
  },
  {
   "cell_type": "code",
   "execution_count": 28,
   "metadata": {},
   "outputs": [
    {
     "data": {
      "text/html": [
       "<div>\n",
       "<style scoped>\n",
       "    .dataframe tbody tr th:only-of-type {\n",
       "        vertical-align: middle;\n",
       "    }\n",
       "\n",
       "    .dataframe tbody tr th {\n",
       "        vertical-align: top;\n",
       "    }\n",
       "\n",
       "    .dataframe thead th {\n",
       "        text-align: right;\n",
       "    }\n",
       "</style>\n",
       "<table border=\"1\" class=\"dataframe\">\n",
       "  <thead>\n",
       "    <tr style=\"text-align: right;\">\n",
       "      <th></th>\n",
       "      <th>children</th>\n",
       "      <th>days_employed</th>\n",
       "      <th>dob_years</th>\n",
       "      <th>education</th>\n",
       "      <th>education_id</th>\n",
       "      <th>family_status</th>\n",
       "      <th>family_status_id</th>\n",
       "      <th>gender</th>\n",
       "      <th>income_type</th>\n",
       "      <th>debt</th>\n",
       "      <th>total_income</th>\n",
       "      <th>purpose</th>\n",
       "    </tr>\n",
       "  </thead>\n",
       "  <tbody>\n",
       "    <tr>\n",
       "      <th>0</th>\n",
       "      <td>1</td>\n",
       "      <td>8437</td>\n",
       "      <td>42</td>\n",
       "      <td>высшее</td>\n",
       "      <td>0</td>\n",
       "      <td>женат / замужем</td>\n",
       "      <td>0</td>\n",
       "      <td>Ж</td>\n",
       "      <td>сотрудник</td>\n",
       "      <td>0</td>\n",
       "      <td>253875</td>\n",
       "      <td>покупка жилья</td>\n",
       "    </tr>\n",
       "    <tr>\n",
       "      <th>1</th>\n",
       "      <td>1</td>\n",
       "      <td>4024</td>\n",
       "      <td>36</td>\n",
       "      <td>среднее</td>\n",
       "      <td>1</td>\n",
       "      <td>женат / замужем</td>\n",
       "      <td>0</td>\n",
       "      <td>Ж</td>\n",
       "      <td>сотрудник</td>\n",
       "      <td>0</td>\n",
       "      <td>112080</td>\n",
       "      <td>приобретение автомобиля</td>\n",
       "    </tr>\n",
       "    <tr>\n",
       "      <th>2</th>\n",
       "      <td>0</td>\n",
       "      <td>5623</td>\n",
       "      <td>33</td>\n",
       "      <td>среднее</td>\n",
       "      <td>1</td>\n",
       "      <td>женат / замужем</td>\n",
       "      <td>0</td>\n",
       "      <td>М</td>\n",
       "      <td>сотрудник</td>\n",
       "      <td>0</td>\n",
       "      <td>145885</td>\n",
       "      <td>покупка жилья</td>\n",
       "    </tr>\n",
       "    <tr>\n",
       "      <th>3</th>\n",
       "      <td>3</td>\n",
       "      <td>4124</td>\n",
       "      <td>32</td>\n",
       "      <td>среднее</td>\n",
       "      <td>1</td>\n",
       "      <td>женат / замужем</td>\n",
       "      <td>0</td>\n",
       "      <td>М</td>\n",
       "      <td>сотрудник</td>\n",
       "      <td>0</td>\n",
       "      <td>267628</td>\n",
       "      <td>дополнительное образование</td>\n",
       "    </tr>\n",
       "    <tr>\n",
       "      <th>4</th>\n",
       "      <td>0</td>\n",
       "      <td>340266</td>\n",
       "      <td>53</td>\n",
       "      <td>среднее</td>\n",
       "      <td>1</td>\n",
       "      <td>гражданский брак</td>\n",
       "      <td>1</td>\n",
       "      <td>Ж</td>\n",
       "      <td>пенсионер</td>\n",
       "      <td>0</td>\n",
       "      <td>158616</td>\n",
       "      <td>сыграть свадьбу</td>\n",
       "    </tr>\n",
       "  </tbody>\n",
       "</table>\n",
       "</div>"
      ],
      "text/plain": [
       "   children  days_employed  dob_years education  education_id  \\\n",
       "0         1           8437         42    высшее             0   \n",
       "1         1           4024         36   среднее             1   \n",
       "2         0           5623         33   среднее             1   \n",
       "3         3           4124         32   среднее             1   \n",
       "4         0         340266         53   среднее             1   \n",
       "\n",
       "      family_status  family_status_id gender income_type  debt  total_income  \\\n",
       "0   женат / замужем                 0      Ж   сотрудник     0        253875   \n",
       "1   женат / замужем                 0      Ж   сотрудник     0        112080   \n",
       "2   женат / замужем                 0      М   сотрудник     0        145885   \n",
       "3   женат / замужем                 0      М   сотрудник     0        267628   \n",
       "4  гражданский брак                 1      Ж   пенсионер     0        158616   \n",
       "\n",
       "                      purpose  \n",
       "0               покупка жилья  \n",
       "1     приобретение автомобиля  \n",
       "2               покупка жилья  \n",
       "3  дополнительное образование  \n",
       "4             сыграть свадьбу  "
      ]
     },
     "execution_count": 28,
     "metadata": {},
     "output_type": "execute_result"
    }
   ],
   "source": [
    "# Поиск и замена значений в столбце gender.\n",
    "df['gender'] = df['gender'].replace('M', 'М')\n",
    "df['gender'] = df['gender'].replace('F', 'Ж')\n",
    "\n",
    "# Проверка.\n",
    "df.head()"
   ]
  },
  {
   "cell_type": "markdown",
   "metadata": {},
   "source": [
    "Также, приведем к единообразию столбец с семейным статусом:"
   ]
  },
  {
   "cell_type": "code",
   "execution_count": 29,
   "metadata": {},
   "outputs": [],
   "source": [
    "# Приведение к нижнему регистру столбца с семейным статусом.\n",
    "df['family_status'] = df['family_status'].str.lower()"
   ]
  },
  {
   "cell_type": "markdown",
   "metadata": {},
   "source": [
    "**Вывод**"
   ]
  },
  {
   "cell_type": "markdown",
   "metadata": {},
   "source": [
    "В данных обнаружены и удалены явные и неявные дубликаты. Данные приведены к единообразию."
   ]
  },
  {
   "cell_type": "markdown",
   "metadata": {},
   "source": [
    "<a id=\"pre_4\"></a>\n",
    "### Лемматизация"
   ]
  },
  {
   "cell_type": "markdown",
   "metadata": {},
   "source": [
    "В данных есть столбец с целями кредита, посмотрим на уникальные значения в нем:"
   ]
  },
  {
   "cell_type": "code",
   "execution_count": 30,
   "metadata": {},
   "outputs": [
    {
     "data": {
      "text/plain": [
       "array(['покупка жилья', 'приобретение автомобиля',\n",
       "       'дополнительное образование', 'сыграть свадьбу',\n",
       "       'операции с жильем', 'образование', 'на проведение свадьбы',\n",
       "       'покупка жилья для семьи', 'покупка недвижимости',\n",
       "       'покупка коммерческой недвижимости', 'покупка жилой недвижимости',\n",
       "       'строительство собственной недвижимости', 'недвижимость',\n",
       "       'строительство недвижимости', 'на покупку подержанного автомобиля',\n",
       "       'на покупку своего автомобиля',\n",
       "       'операции с коммерческой недвижимостью',\n",
       "       'строительство жилой недвижимости', 'жилье',\n",
       "       'операции со своей недвижимостью', 'автомобили',\n",
       "       'заняться образованием', 'сделка с подержанным автомобилем',\n",
       "       'получение образования', 'автомобиль', 'свадьба',\n",
       "       'получение дополнительного образования', 'покупка своего жилья',\n",
       "       'операции с недвижимостью', 'получение высшего образования',\n",
       "       'свой автомобиль', 'сделка с автомобилем',\n",
       "       'профильное образование', 'высшее образование',\n",
       "       'покупка жилья для сдачи', 'на покупку автомобиля', 'ремонт жилью',\n",
       "       'заняться высшим образованием'], dtype=object)"
      ]
     },
     "execution_count": 30,
     "metadata": {},
     "output_type": "execute_result"
    }
   ],
   "source": [
    "# Просмотр уникальных целей кредита.\n",
    "df_lem = df['purpose'].unique()\n",
    "df_lem"
   ]
  },
  {
   "cell_type": "markdown",
   "metadata": {},
   "source": [
    "Мы видим, что многие цели являются схожими по смыслу. Попробуем оптимизировать и категоризировать с помощью лемматизации. Создадим два списка, из которых позднее создадим датафрейм: один с уникальными строками целей кредита, второй с леммами для этих строк."
   ]
  },
  {
   "cell_type": "code",
   "execution_count": 31,
   "metadata": {},
   "outputs": [
    {
     "name": "stdout",
     "output_type": "stream",
     "text": [
      "38\n",
      "38\n"
     ]
    }
   ],
   "source": [
    "# Создаем пустой список для уникальных целей кредита.\n",
    "list_unique_purpose = []\n",
    "\n",
    "# Создаем пустой список для лемм уникальных целей кредита.\n",
    "list_unique_purpose_lem = []\n",
    "\n",
    "# Цикл проходит по значениям переменной, создавая один список из значений переменной \n",
    "# и второй из соответствующих им лемм.\n",
    "for item in df_lem:   \n",
    "    list_unique_purpose.append(item)\n",
    "    lemmas_unique_purpose = ' '.join(m.lemmatize(item))\n",
    "    list_unique_purpose_lem.append(lemmas_unique_purpose)\n",
    "\n",
    "# Проверка количества элементов каждого списка.\n",
    "print(len(list_unique_purpose))\n",
    "print(len(list_unique_purpose_lem))"
   ]
  },
  {
   "cell_type": "code",
   "execution_count": 32,
   "metadata": {},
   "outputs": [
    {
     "data": {
      "text/html": [
       "<div>\n",
       "<style scoped>\n",
       "    .dataframe tbody tr th:only-of-type {\n",
       "        vertical-align: middle;\n",
       "    }\n",
       "\n",
       "    .dataframe tbody tr th {\n",
       "        vertical-align: top;\n",
       "    }\n",
       "\n",
       "    .dataframe thead th {\n",
       "        text-align: right;\n",
       "    }\n",
       "</style>\n",
       "<table border=\"1\" class=\"dataframe\">\n",
       "  <thead>\n",
       "    <tr style=\"text-align: right;\">\n",
       "      <th></th>\n",
       "      <th>purpose</th>\n",
       "      <th>lemmas</th>\n",
       "    </tr>\n",
       "  </thead>\n",
       "  <tbody>\n",
       "    <tr>\n",
       "      <th>0</th>\n",
       "      <td>покупка жилья</td>\n",
       "      <td>покупка   жилье \\n</td>\n",
       "    </tr>\n",
       "    <tr>\n",
       "      <th>1</th>\n",
       "      <td>приобретение автомобиля</td>\n",
       "      <td>приобретение   автомобиль \\n</td>\n",
       "    </tr>\n",
       "    <tr>\n",
       "      <th>2</th>\n",
       "      <td>дополнительное образование</td>\n",
       "      <td>дополнительный   образование \\n</td>\n",
       "    </tr>\n",
       "    <tr>\n",
       "      <th>3</th>\n",
       "      <td>сыграть свадьбу</td>\n",
       "      <td>сыграть   свадьба \\n</td>\n",
       "    </tr>\n",
       "    <tr>\n",
       "      <th>4</th>\n",
       "      <td>операции с жильем</td>\n",
       "      <td>операция   с   жилье \\n</td>\n",
       "    </tr>\n",
       "    <tr>\n",
       "      <th>5</th>\n",
       "      <td>образование</td>\n",
       "      <td>образование \\n</td>\n",
       "    </tr>\n",
       "    <tr>\n",
       "      <th>6</th>\n",
       "      <td>на проведение свадьбы</td>\n",
       "      <td>на   проведение   свадьба \\n</td>\n",
       "    </tr>\n",
       "    <tr>\n",
       "      <th>7</th>\n",
       "      <td>покупка жилья для семьи</td>\n",
       "      <td>покупка   жилье   для   семья \\n</td>\n",
       "    </tr>\n",
       "    <tr>\n",
       "      <th>8</th>\n",
       "      <td>покупка недвижимости</td>\n",
       "      <td>покупка   недвижимость \\n</td>\n",
       "    </tr>\n",
       "    <tr>\n",
       "      <th>9</th>\n",
       "      <td>покупка коммерческой недвижимости</td>\n",
       "      <td>покупка   коммерческий   недвижимость \\n</td>\n",
       "    </tr>\n",
       "    <tr>\n",
       "      <th>10</th>\n",
       "      <td>покупка жилой недвижимости</td>\n",
       "      <td>покупка   жилой   недвижимость \\n</td>\n",
       "    </tr>\n",
       "    <tr>\n",
       "      <th>11</th>\n",
       "      <td>строительство собственной недвижимости</td>\n",
       "      <td>строительство   собственный   недвижимость \\n</td>\n",
       "    </tr>\n",
       "    <tr>\n",
       "      <th>12</th>\n",
       "      <td>недвижимость</td>\n",
       "      <td>недвижимость \\n</td>\n",
       "    </tr>\n",
       "    <tr>\n",
       "      <th>13</th>\n",
       "      <td>строительство недвижимости</td>\n",
       "      <td>строительство   недвижимость \\n</td>\n",
       "    </tr>\n",
       "    <tr>\n",
       "      <th>14</th>\n",
       "      <td>на покупку подержанного автомобиля</td>\n",
       "      <td>на   покупка   подержать   автомобиль \\n</td>\n",
       "    </tr>\n",
       "    <tr>\n",
       "      <th>15</th>\n",
       "      <td>на покупку своего автомобиля</td>\n",
       "      <td>на   покупка   свой   автомобиль \\n</td>\n",
       "    </tr>\n",
       "    <tr>\n",
       "      <th>16</th>\n",
       "      <td>операции с коммерческой недвижимостью</td>\n",
       "      <td>операция   с   коммерческий   недвижимость \\n</td>\n",
       "    </tr>\n",
       "    <tr>\n",
       "      <th>17</th>\n",
       "      <td>строительство жилой недвижимости</td>\n",
       "      <td>строительство   жилой   недвижимость \\n</td>\n",
       "    </tr>\n",
       "    <tr>\n",
       "      <th>18</th>\n",
       "      <td>жилье</td>\n",
       "      <td>жилье \\n</td>\n",
       "    </tr>\n",
       "    <tr>\n",
       "      <th>19</th>\n",
       "      <td>операции со своей недвижимостью</td>\n",
       "      <td>операция   со   свой   недвижимость \\n</td>\n",
       "    </tr>\n",
       "    <tr>\n",
       "      <th>20</th>\n",
       "      <td>автомобили</td>\n",
       "      <td>автомобиль \\n</td>\n",
       "    </tr>\n",
       "    <tr>\n",
       "      <th>21</th>\n",
       "      <td>заняться образованием</td>\n",
       "      <td>заниматься   образование \\n</td>\n",
       "    </tr>\n",
       "    <tr>\n",
       "      <th>22</th>\n",
       "      <td>сделка с подержанным автомобилем</td>\n",
       "      <td>сделка   с   подержанный   автомобиль \\n</td>\n",
       "    </tr>\n",
       "    <tr>\n",
       "      <th>23</th>\n",
       "      <td>получение образования</td>\n",
       "      <td>получение   образование \\n</td>\n",
       "    </tr>\n",
       "    <tr>\n",
       "      <th>24</th>\n",
       "      <td>автомобиль</td>\n",
       "      <td>автомобиль \\n</td>\n",
       "    </tr>\n",
       "    <tr>\n",
       "      <th>25</th>\n",
       "      <td>свадьба</td>\n",
       "      <td>свадьба \\n</td>\n",
       "    </tr>\n",
       "    <tr>\n",
       "      <th>26</th>\n",
       "      <td>получение дополнительного образования</td>\n",
       "      <td>получение   дополнительный   образование \\n</td>\n",
       "    </tr>\n",
       "    <tr>\n",
       "      <th>27</th>\n",
       "      <td>покупка своего жилья</td>\n",
       "      <td>покупка   свой   жилье \\n</td>\n",
       "    </tr>\n",
       "    <tr>\n",
       "      <th>28</th>\n",
       "      <td>операции с недвижимостью</td>\n",
       "      <td>операция   с   недвижимость \\n</td>\n",
       "    </tr>\n",
       "    <tr>\n",
       "      <th>29</th>\n",
       "      <td>получение высшего образования</td>\n",
       "      <td>получение   высокий   образование \\n</td>\n",
       "    </tr>\n",
       "    <tr>\n",
       "      <th>30</th>\n",
       "      <td>свой автомобиль</td>\n",
       "      <td>свой   автомобиль \\n</td>\n",
       "    </tr>\n",
       "    <tr>\n",
       "      <th>31</th>\n",
       "      <td>сделка с автомобилем</td>\n",
       "      <td>сделка   с   автомобиль \\n</td>\n",
       "    </tr>\n",
       "    <tr>\n",
       "      <th>32</th>\n",
       "      <td>профильное образование</td>\n",
       "      <td>профильный   образование \\n</td>\n",
       "    </tr>\n",
       "    <tr>\n",
       "      <th>33</th>\n",
       "      <td>высшее образование</td>\n",
       "      <td>высокий   образование \\n</td>\n",
       "    </tr>\n",
       "    <tr>\n",
       "      <th>34</th>\n",
       "      <td>покупка жилья для сдачи</td>\n",
       "      <td>покупка   жилье   для   сдача \\n</td>\n",
       "    </tr>\n",
       "    <tr>\n",
       "      <th>35</th>\n",
       "      <td>на покупку автомобиля</td>\n",
       "      <td>на   покупка   автомобиль \\n</td>\n",
       "    </tr>\n",
       "    <tr>\n",
       "      <th>36</th>\n",
       "      <td>ремонт жилью</td>\n",
       "      <td>ремонт   жилье \\n</td>\n",
       "    </tr>\n",
       "    <tr>\n",
       "      <th>37</th>\n",
       "      <td>заняться высшим образованием</td>\n",
       "      <td>заниматься   высокий   образование \\n</td>\n",
       "    </tr>\n",
       "  </tbody>\n",
       "</table>\n",
       "</div>"
      ],
      "text/plain": [
       "                                   purpose  \\\n",
       "0                            покупка жилья   \n",
       "1                  приобретение автомобиля   \n",
       "2               дополнительное образование   \n",
       "3                          сыграть свадьбу   \n",
       "4                        операции с жильем   \n",
       "5                              образование   \n",
       "6                    на проведение свадьбы   \n",
       "7                  покупка жилья для семьи   \n",
       "8                     покупка недвижимости   \n",
       "9        покупка коммерческой недвижимости   \n",
       "10              покупка жилой недвижимости   \n",
       "11  строительство собственной недвижимости   \n",
       "12                            недвижимость   \n",
       "13              строительство недвижимости   \n",
       "14      на покупку подержанного автомобиля   \n",
       "15            на покупку своего автомобиля   \n",
       "16   операции с коммерческой недвижимостью   \n",
       "17        строительство жилой недвижимости   \n",
       "18                                   жилье   \n",
       "19         операции со своей недвижимостью   \n",
       "20                              автомобили   \n",
       "21                   заняться образованием   \n",
       "22        сделка с подержанным автомобилем   \n",
       "23                   получение образования   \n",
       "24                              автомобиль   \n",
       "25                                 свадьба   \n",
       "26   получение дополнительного образования   \n",
       "27                    покупка своего жилья   \n",
       "28                операции с недвижимостью   \n",
       "29           получение высшего образования   \n",
       "30                         свой автомобиль   \n",
       "31                    сделка с автомобилем   \n",
       "32                  профильное образование   \n",
       "33                      высшее образование   \n",
       "34                 покупка жилья для сдачи   \n",
       "35                   на покупку автомобиля   \n",
       "36                            ремонт жилью   \n",
       "37            заняться высшим образованием   \n",
       "\n",
       "                                           lemmas  \n",
       "0                              покупка   жилье \\n  \n",
       "1                    приобретение   автомобиль \\n  \n",
       "2                 дополнительный   образование \\n  \n",
       "3                            сыграть   свадьба \\n  \n",
       "4                         операция   с   жилье \\n  \n",
       "5                                  образование \\n  \n",
       "6                    на   проведение   свадьба \\n  \n",
       "7                покупка   жилье   для   семья \\n  \n",
       "8                       покупка   недвижимость \\n  \n",
       "9        покупка   коммерческий   недвижимость \\n  \n",
       "10              покупка   жилой   недвижимость \\n  \n",
       "11  строительство   собственный   недвижимость \\n  \n",
       "12                                недвижимость \\n  \n",
       "13                строительство   недвижимость \\n  \n",
       "14       на   покупка   подержать   автомобиль \\n  \n",
       "15            на   покупка   свой   автомобиль \\n  \n",
       "16  операция   с   коммерческий   недвижимость \\n  \n",
       "17        строительство   жилой   недвижимость \\n  \n",
       "18                                       жилье \\n  \n",
       "19         операция   со   свой   недвижимость \\n  \n",
       "20                                  автомобиль \\n  \n",
       "21                    заниматься   образование \\n  \n",
       "22       сделка   с   подержанный   автомобиль \\n  \n",
       "23                     получение   образование \\n  \n",
       "24                                  автомобиль \\n  \n",
       "25                                     свадьба \\n  \n",
       "26    получение   дополнительный   образование \\n  \n",
       "27                      покупка   свой   жилье \\n  \n",
       "28                 операция   с   недвижимость \\n  \n",
       "29           получение   высокий   образование \\n  \n",
       "30                           свой   автомобиль \\n  \n",
       "31                     сделка   с   автомобиль \\n  \n",
       "32                    профильный   образование \\n  \n",
       "33                       высокий   образование \\n  \n",
       "34               покупка   жилье   для   сдача \\n  \n",
       "35                   на   покупка   автомобиль \\n  \n",
       "36                              ремонт   жилье \\n  \n",
       "37          заниматься   высокий   образование \\n  "
      ]
     },
     "execution_count": 32,
     "metadata": {},
     "output_type": "execute_result"
    }
   ],
   "source": [
    "# Создаем пустой датафрейм.\n",
    "df_lemmas_unique = pd.DataFrame()\n",
    "\n",
    "# Обозначаем столбцы датафрейма.\n",
    "df_lemmas_unique['purpose'] = list_unique_purpose\n",
    "df_lemmas_unique['lemmas'] = list_unique_purpose_lem\n",
    "\n",
    "# Просмотр уникальных целей кредита и их лемм.\n",
    "df_lemmas_unique"
   ]
  },
  {
   "cell_type": "markdown",
   "metadata": {},
   "source": [
    "**Вывод**"
   ]
  },
  {
   "cell_type": "markdown",
   "metadata": {},
   "source": [
    "Мы лемматизировали значения столбца с целями кредита и теперь готовы к категоризации данных."
   ]
  },
  {
   "cell_type": "markdown",
   "metadata": {},
   "source": [
    "<a id=\"pre_5\"></a>\n",
    "### Категоризация данных"
   ]
  },
  {
   "cell_type": "markdown",
   "metadata": {},
   "source": [
    "Создадим функцию для определения категории цели кредита:"
   ]
  },
  {
   "cell_type": "code",
   "execution_count": 33,
   "metadata": {},
   "outputs": [],
   "source": [
    "def purpose_group(words):\n",
    "    ''' Функция принимает в качестве аргумента строку и \n",
    "    возвращает категорию цели кредита в зависимости от состава строки, \n",
    "    используя следующие правила:\n",
    "    - 'автомобиль', если в леммах есть 'автомобиль';\n",
    "    - 'свадьба', если в леммах есть 'свадьба';\n",
    "    - 'образование', если в леммах есть 'образование';\n",
    "    - 'коммерческая недвижимость', если в леммах есть 'коммерческий';\n",
    "    - 'жилая недвижимость', если в леммах есть 'жилье' или 'недвижимость';\n",
    "    - 'другое' во всех других случаях.\n",
    "    '''    \n",
    "    if 'автомобиль' in words:\n",
    "        return 'автомобиль'\n",
    "    elif 'свадьба' in words:\n",
    "        return 'свадьба'\n",
    "    elif 'образование' in words:\n",
    "        return 'образование'\n",
    "    elif 'коммерческий' in words:\n",
    "        return 'коммерческая недвижимость'\n",
    "    elif ('жилье' in words) or ('недвижимость' in words):\n",
    "        return 'жилая недвижимость'\n",
    "    else:\n",
    "        return 'другое'"
   ]
  },
  {
   "cell_type": "markdown",
   "metadata": {},
   "source": [
    "Применим эту функцию для категоризации целей кредита и создадим новую колонку в датафрейме с полученным результатом."
   ]
  },
  {
   "cell_type": "code",
   "execution_count": 34,
   "metadata": {},
   "outputs": [
    {
     "data": {
      "text/html": [
       "<div>\n",
       "<style scoped>\n",
       "    .dataframe tbody tr th:only-of-type {\n",
       "        vertical-align: middle;\n",
       "    }\n",
       "\n",
       "    .dataframe tbody tr th {\n",
       "        vertical-align: top;\n",
       "    }\n",
       "\n",
       "    .dataframe thead th {\n",
       "        text-align: right;\n",
       "    }\n",
       "</style>\n",
       "<table border=\"1\" class=\"dataframe\">\n",
       "  <thead>\n",
       "    <tr style=\"text-align: right;\">\n",
       "      <th></th>\n",
       "      <th>purpose</th>\n",
       "      <th>lemmas</th>\n",
       "      <th>purpose_category</th>\n",
       "    </tr>\n",
       "  </thead>\n",
       "  <tbody>\n",
       "    <tr>\n",
       "      <th>0</th>\n",
       "      <td>покупка жилья</td>\n",
       "      <td>покупка   жилье \\n</td>\n",
       "      <td>жилая недвижимость</td>\n",
       "    </tr>\n",
       "    <tr>\n",
       "      <th>1</th>\n",
       "      <td>приобретение автомобиля</td>\n",
       "      <td>приобретение   автомобиль \\n</td>\n",
       "      <td>автомобиль</td>\n",
       "    </tr>\n",
       "    <tr>\n",
       "      <th>2</th>\n",
       "      <td>дополнительное образование</td>\n",
       "      <td>дополнительный   образование \\n</td>\n",
       "      <td>образование</td>\n",
       "    </tr>\n",
       "    <tr>\n",
       "      <th>3</th>\n",
       "      <td>сыграть свадьбу</td>\n",
       "      <td>сыграть   свадьба \\n</td>\n",
       "      <td>свадьба</td>\n",
       "    </tr>\n",
       "    <tr>\n",
       "      <th>4</th>\n",
       "      <td>операции с жильем</td>\n",
       "      <td>операция   с   жилье \\n</td>\n",
       "      <td>жилая недвижимость</td>\n",
       "    </tr>\n",
       "    <tr>\n",
       "      <th>5</th>\n",
       "      <td>образование</td>\n",
       "      <td>образование \\n</td>\n",
       "      <td>образование</td>\n",
       "    </tr>\n",
       "    <tr>\n",
       "      <th>6</th>\n",
       "      <td>на проведение свадьбы</td>\n",
       "      <td>на   проведение   свадьба \\n</td>\n",
       "      <td>свадьба</td>\n",
       "    </tr>\n",
       "    <tr>\n",
       "      <th>7</th>\n",
       "      <td>покупка жилья для семьи</td>\n",
       "      <td>покупка   жилье   для   семья \\n</td>\n",
       "      <td>жилая недвижимость</td>\n",
       "    </tr>\n",
       "    <tr>\n",
       "      <th>8</th>\n",
       "      <td>покупка недвижимости</td>\n",
       "      <td>покупка   недвижимость \\n</td>\n",
       "      <td>жилая недвижимость</td>\n",
       "    </tr>\n",
       "    <tr>\n",
       "      <th>9</th>\n",
       "      <td>покупка коммерческой недвижимости</td>\n",
       "      <td>покупка   коммерческий   недвижимость \\n</td>\n",
       "      <td>коммерческая недвижимость</td>\n",
       "    </tr>\n",
       "    <tr>\n",
       "      <th>10</th>\n",
       "      <td>покупка жилой недвижимости</td>\n",
       "      <td>покупка   жилой   недвижимость \\n</td>\n",
       "      <td>жилая недвижимость</td>\n",
       "    </tr>\n",
       "    <tr>\n",
       "      <th>11</th>\n",
       "      <td>строительство собственной недвижимости</td>\n",
       "      <td>строительство   собственный   недвижимость \\n</td>\n",
       "      <td>жилая недвижимость</td>\n",
       "    </tr>\n",
       "    <tr>\n",
       "      <th>12</th>\n",
       "      <td>недвижимость</td>\n",
       "      <td>недвижимость \\n</td>\n",
       "      <td>жилая недвижимость</td>\n",
       "    </tr>\n",
       "    <tr>\n",
       "      <th>13</th>\n",
       "      <td>строительство недвижимости</td>\n",
       "      <td>строительство   недвижимость \\n</td>\n",
       "      <td>жилая недвижимость</td>\n",
       "    </tr>\n",
       "    <tr>\n",
       "      <th>14</th>\n",
       "      <td>на покупку подержанного автомобиля</td>\n",
       "      <td>на   покупка   подержать   автомобиль \\n</td>\n",
       "      <td>автомобиль</td>\n",
       "    </tr>\n",
       "    <tr>\n",
       "      <th>15</th>\n",
       "      <td>на покупку своего автомобиля</td>\n",
       "      <td>на   покупка   свой   автомобиль \\n</td>\n",
       "      <td>автомобиль</td>\n",
       "    </tr>\n",
       "    <tr>\n",
       "      <th>16</th>\n",
       "      <td>операции с коммерческой недвижимостью</td>\n",
       "      <td>операция   с   коммерческий   недвижимость \\n</td>\n",
       "      <td>коммерческая недвижимость</td>\n",
       "    </tr>\n",
       "    <tr>\n",
       "      <th>17</th>\n",
       "      <td>строительство жилой недвижимости</td>\n",
       "      <td>строительство   жилой   недвижимость \\n</td>\n",
       "      <td>жилая недвижимость</td>\n",
       "    </tr>\n",
       "    <tr>\n",
       "      <th>18</th>\n",
       "      <td>жилье</td>\n",
       "      <td>жилье \\n</td>\n",
       "      <td>жилая недвижимость</td>\n",
       "    </tr>\n",
       "    <tr>\n",
       "      <th>19</th>\n",
       "      <td>операции со своей недвижимостью</td>\n",
       "      <td>операция   со   свой   недвижимость \\n</td>\n",
       "      <td>жилая недвижимость</td>\n",
       "    </tr>\n",
       "    <tr>\n",
       "      <th>20</th>\n",
       "      <td>автомобили</td>\n",
       "      <td>автомобиль \\n</td>\n",
       "      <td>автомобиль</td>\n",
       "    </tr>\n",
       "    <tr>\n",
       "      <th>21</th>\n",
       "      <td>заняться образованием</td>\n",
       "      <td>заниматься   образование \\n</td>\n",
       "      <td>образование</td>\n",
       "    </tr>\n",
       "    <tr>\n",
       "      <th>22</th>\n",
       "      <td>сделка с подержанным автомобилем</td>\n",
       "      <td>сделка   с   подержанный   автомобиль \\n</td>\n",
       "      <td>автомобиль</td>\n",
       "    </tr>\n",
       "    <tr>\n",
       "      <th>23</th>\n",
       "      <td>получение образования</td>\n",
       "      <td>получение   образование \\n</td>\n",
       "      <td>образование</td>\n",
       "    </tr>\n",
       "    <tr>\n",
       "      <th>24</th>\n",
       "      <td>автомобиль</td>\n",
       "      <td>автомобиль \\n</td>\n",
       "      <td>автомобиль</td>\n",
       "    </tr>\n",
       "    <tr>\n",
       "      <th>25</th>\n",
       "      <td>свадьба</td>\n",
       "      <td>свадьба \\n</td>\n",
       "      <td>свадьба</td>\n",
       "    </tr>\n",
       "    <tr>\n",
       "      <th>26</th>\n",
       "      <td>получение дополнительного образования</td>\n",
       "      <td>получение   дополнительный   образование \\n</td>\n",
       "      <td>образование</td>\n",
       "    </tr>\n",
       "    <tr>\n",
       "      <th>27</th>\n",
       "      <td>покупка своего жилья</td>\n",
       "      <td>покупка   свой   жилье \\n</td>\n",
       "      <td>жилая недвижимость</td>\n",
       "    </tr>\n",
       "    <tr>\n",
       "      <th>28</th>\n",
       "      <td>операции с недвижимостью</td>\n",
       "      <td>операция   с   недвижимость \\n</td>\n",
       "      <td>жилая недвижимость</td>\n",
       "    </tr>\n",
       "    <tr>\n",
       "      <th>29</th>\n",
       "      <td>получение высшего образования</td>\n",
       "      <td>получение   высокий   образование \\n</td>\n",
       "      <td>образование</td>\n",
       "    </tr>\n",
       "    <tr>\n",
       "      <th>30</th>\n",
       "      <td>свой автомобиль</td>\n",
       "      <td>свой   автомобиль \\n</td>\n",
       "      <td>автомобиль</td>\n",
       "    </tr>\n",
       "    <tr>\n",
       "      <th>31</th>\n",
       "      <td>сделка с автомобилем</td>\n",
       "      <td>сделка   с   автомобиль \\n</td>\n",
       "      <td>автомобиль</td>\n",
       "    </tr>\n",
       "    <tr>\n",
       "      <th>32</th>\n",
       "      <td>профильное образование</td>\n",
       "      <td>профильный   образование \\n</td>\n",
       "      <td>образование</td>\n",
       "    </tr>\n",
       "    <tr>\n",
       "      <th>33</th>\n",
       "      <td>высшее образование</td>\n",
       "      <td>высокий   образование \\n</td>\n",
       "      <td>образование</td>\n",
       "    </tr>\n",
       "    <tr>\n",
       "      <th>34</th>\n",
       "      <td>покупка жилья для сдачи</td>\n",
       "      <td>покупка   жилье   для   сдача \\n</td>\n",
       "      <td>жилая недвижимость</td>\n",
       "    </tr>\n",
       "    <tr>\n",
       "      <th>35</th>\n",
       "      <td>на покупку автомобиля</td>\n",
       "      <td>на   покупка   автомобиль \\n</td>\n",
       "      <td>автомобиль</td>\n",
       "    </tr>\n",
       "    <tr>\n",
       "      <th>36</th>\n",
       "      <td>ремонт жилью</td>\n",
       "      <td>ремонт   жилье \\n</td>\n",
       "      <td>жилая недвижимость</td>\n",
       "    </tr>\n",
       "    <tr>\n",
       "      <th>37</th>\n",
       "      <td>заняться высшим образованием</td>\n",
       "      <td>заниматься   высокий   образование \\n</td>\n",
       "      <td>образование</td>\n",
       "    </tr>\n",
       "  </tbody>\n",
       "</table>\n",
       "</div>"
      ],
      "text/plain": [
       "                                   purpose  \\\n",
       "0                            покупка жилья   \n",
       "1                  приобретение автомобиля   \n",
       "2               дополнительное образование   \n",
       "3                          сыграть свадьбу   \n",
       "4                        операции с жильем   \n",
       "5                              образование   \n",
       "6                    на проведение свадьбы   \n",
       "7                  покупка жилья для семьи   \n",
       "8                     покупка недвижимости   \n",
       "9        покупка коммерческой недвижимости   \n",
       "10              покупка жилой недвижимости   \n",
       "11  строительство собственной недвижимости   \n",
       "12                            недвижимость   \n",
       "13              строительство недвижимости   \n",
       "14      на покупку подержанного автомобиля   \n",
       "15            на покупку своего автомобиля   \n",
       "16   операции с коммерческой недвижимостью   \n",
       "17        строительство жилой недвижимости   \n",
       "18                                   жилье   \n",
       "19         операции со своей недвижимостью   \n",
       "20                              автомобили   \n",
       "21                   заняться образованием   \n",
       "22        сделка с подержанным автомобилем   \n",
       "23                   получение образования   \n",
       "24                              автомобиль   \n",
       "25                                 свадьба   \n",
       "26   получение дополнительного образования   \n",
       "27                    покупка своего жилья   \n",
       "28                операции с недвижимостью   \n",
       "29           получение высшего образования   \n",
       "30                         свой автомобиль   \n",
       "31                    сделка с автомобилем   \n",
       "32                  профильное образование   \n",
       "33                      высшее образование   \n",
       "34                 покупка жилья для сдачи   \n",
       "35                   на покупку автомобиля   \n",
       "36                            ремонт жилью   \n",
       "37            заняться высшим образованием   \n",
       "\n",
       "                                           lemmas           purpose_category  \n",
       "0                              покупка   жилье \\n         жилая недвижимость  \n",
       "1                    приобретение   автомобиль \\n                 автомобиль  \n",
       "2                 дополнительный   образование \\n                образование  \n",
       "3                            сыграть   свадьба \\n                    свадьба  \n",
       "4                         операция   с   жилье \\n         жилая недвижимость  \n",
       "5                                  образование \\n                образование  \n",
       "6                    на   проведение   свадьба \\n                    свадьба  \n",
       "7                покупка   жилье   для   семья \\n         жилая недвижимость  \n",
       "8                       покупка   недвижимость \\n         жилая недвижимость  \n",
       "9        покупка   коммерческий   недвижимость \\n  коммерческая недвижимость  \n",
       "10              покупка   жилой   недвижимость \\n         жилая недвижимость  \n",
       "11  строительство   собственный   недвижимость \\n         жилая недвижимость  \n",
       "12                                недвижимость \\n         жилая недвижимость  \n",
       "13                строительство   недвижимость \\n         жилая недвижимость  \n",
       "14       на   покупка   подержать   автомобиль \\n                 автомобиль  \n",
       "15            на   покупка   свой   автомобиль \\n                 автомобиль  \n",
       "16  операция   с   коммерческий   недвижимость \\n  коммерческая недвижимость  \n",
       "17        строительство   жилой   недвижимость \\n         жилая недвижимость  \n",
       "18                                       жилье \\n         жилая недвижимость  \n",
       "19         операция   со   свой   недвижимость \\n         жилая недвижимость  \n",
       "20                                  автомобиль \\n                 автомобиль  \n",
       "21                    заниматься   образование \\n                образование  \n",
       "22       сделка   с   подержанный   автомобиль \\n                 автомобиль  \n",
       "23                     получение   образование \\n                образование  \n",
       "24                                  автомобиль \\n                 автомобиль  \n",
       "25                                     свадьба \\n                    свадьба  \n",
       "26    получение   дополнительный   образование \\n                образование  \n",
       "27                      покупка   свой   жилье \\n         жилая недвижимость  \n",
       "28                 операция   с   недвижимость \\n         жилая недвижимость  \n",
       "29           получение   высокий   образование \\n                образование  \n",
       "30                           свой   автомобиль \\n                 автомобиль  \n",
       "31                     сделка   с   автомобиль \\n                 автомобиль  \n",
       "32                    профильный   образование \\n                образование  \n",
       "33                       высокий   образование \\n                образование  \n",
       "34               покупка   жилье   для   сдача \\n         жилая недвижимость  \n",
       "35                   на   покупка   автомобиль \\n                 автомобиль  \n",
       "36                              ремонт   жилье \\n         жилая недвижимость  \n",
       "37          заниматься   высокий   образование \\n                образование  "
      ]
     },
     "execution_count": 34,
     "metadata": {},
     "output_type": "execute_result"
    }
   ],
   "source": [
    "# Создание новой колонки путем применения функции к существующей колонке.\n",
    "df_lemmas_unique['purpose_category'] = df_lemmas_unique['lemmas'].apply(purpose_group)\n",
    "\n",
    "# Вывод на экран получившейся таблицы.\n",
    "df_lemmas_unique"
   ]
  },
  {
   "cell_type": "markdown",
   "metadata": {},
   "source": [
    "Мы разделили цели кредита на категории и теперь можно присоединить категории к основной таблице."
   ]
  },
  {
   "cell_type": "code",
   "execution_count": 35,
   "metadata": {},
   "outputs": [],
   "source": [
    "df_lemmas_unique = df_lemmas_unique.drop(columns='lemmas')"
   ]
  },
  {
   "cell_type": "markdown",
   "metadata": {},
   "source": [
    "Присоединим новую таблицу к исходной:"
   ]
  },
  {
   "cell_type": "code",
   "execution_count": 36,
   "metadata": {},
   "outputs": [
    {
     "data": {
      "text/html": [
       "<div>\n",
       "<style scoped>\n",
       "    .dataframe tbody tr th:only-of-type {\n",
       "        vertical-align: middle;\n",
       "    }\n",
       "\n",
       "    .dataframe tbody tr th {\n",
       "        vertical-align: top;\n",
       "    }\n",
       "\n",
       "    .dataframe thead th {\n",
       "        text-align: right;\n",
       "    }\n",
       "</style>\n",
       "<table border=\"1\" class=\"dataframe\">\n",
       "  <thead>\n",
       "    <tr style=\"text-align: right;\">\n",
       "      <th></th>\n",
       "      <th>children</th>\n",
       "      <th>days_employed</th>\n",
       "      <th>dob_years</th>\n",
       "      <th>education</th>\n",
       "      <th>education_id</th>\n",
       "      <th>family_status</th>\n",
       "      <th>family_status_id</th>\n",
       "      <th>gender</th>\n",
       "      <th>income_type</th>\n",
       "      <th>debt</th>\n",
       "      <th>total_income</th>\n",
       "      <th>purpose</th>\n",
       "      <th>purpose_category</th>\n",
       "    </tr>\n",
       "  </thead>\n",
       "  <tbody>\n",
       "    <tr>\n",
       "      <th>21461</th>\n",
       "      <td>1</td>\n",
       "      <td>467</td>\n",
       "      <td>28</td>\n",
       "      <td>среднее</td>\n",
       "      <td>1</td>\n",
       "      <td>женат / замужем</td>\n",
       "      <td>0</td>\n",
       "      <td>Ж</td>\n",
       "      <td>сотрудник</td>\n",
       "      <td>1</td>\n",
       "      <td>109486</td>\n",
       "      <td>заняться образованием</td>\n",
       "      <td>образование</td>\n",
       "    </tr>\n",
       "    <tr>\n",
       "      <th>21462</th>\n",
       "      <td>0</td>\n",
       "      <td>914</td>\n",
       "      <td>42</td>\n",
       "      <td>высшее</td>\n",
       "      <td>0</td>\n",
       "      <td>женат / замужем</td>\n",
       "      <td>0</td>\n",
       "      <td>Ж</td>\n",
       "      <td>компаньон</td>\n",
       "      <td>0</td>\n",
       "      <td>322807</td>\n",
       "      <td>покупка своего жилья</td>\n",
       "      <td>жилая недвижимость</td>\n",
       "    </tr>\n",
       "    <tr>\n",
       "      <th>21463</th>\n",
       "      <td>0</td>\n",
       "      <td>404</td>\n",
       "      <td>42</td>\n",
       "      <td>высшее</td>\n",
       "      <td>0</td>\n",
       "      <td>гражданский брак</td>\n",
       "      <td>1</td>\n",
       "      <td>Ж</td>\n",
       "      <td>компаньон</td>\n",
       "      <td>0</td>\n",
       "      <td>178059</td>\n",
       "      <td>на покупку своего автомобиля</td>\n",
       "      <td>автомобиль</td>\n",
       "    </tr>\n",
       "    <tr>\n",
       "      <th>21464</th>\n",
       "      <td>0</td>\n",
       "      <td>373995</td>\n",
       "      <td>59</td>\n",
       "      <td>среднее</td>\n",
       "      <td>1</td>\n",
       "      <td>женат / замужем</td>\n",
       "      <td>0</td>\n",
       "      <td>Ж</td>\n",
       "      <td>пенсионер</td>\n",
       "      <td>0</td>\n",
       "      <td>153864</td>\n",
       "      <td>сделка с автомобилем</td>\n",
       "      <td>автомобиль</td>\n",
       "    </tr>\n",
       "    <tr>\n",
       "      <th>21465</th>\n",
       "      <td>1</td>\n",
       "      <td>2351</td>\n",
       "      <td>37</td>\n",
       "      <td>ученая степень</td>\n",
       "      <td>4</td>\n",
       "      <td>в разводе</td>\n",
       "      <td>3</td>\n",
       "      <td>М</td>\n",
       "      <td>сотрудник</td>\n",
       "      <td>0</td>\n",
       "      <td>115949</td>\n",
       "      <td>покупка коммерческой недвижимости</td>\n",
       "      <td>коммерческая недвижимость</td>\n",
       "    </tr>\n",
       "    <tr>\n",
       "      <th>21466</th>\n",
       "      <td>1</td>\n",
       "      <td>4529</td>\n",
       "      <td>43</td>\n",
       "      <td>среднее</td>\n",
       "      <td>1</td>\n",
       "      <td>гражданский брак</td>\n",
       "      <td>1</td>\n",
       "      <td>Ж</td>\n",
       "      <td>компаньон</td>\n",
       "      <td>0</td>\n",
       "      <td>224791</td>\n",
       "      <td>операции с жильем</td>\n",
       "      <td>жилая недвижимость</td>\n",
       "    </tr>\n",
       "    <tr>\n",
       "      <th>21467</th>\n",
       "      <td>0</td>\n",
       "      <td>343937</td>\n",
       "      <td>67</td>\n",
       "      <td>среднее</td>\n",
       "      <td>1</td>\n",
       "      <td>женат / замужем</td>\n",
       "      <td>0</td>\n",
       "      <td>Ж</td>\n",
       "      <td>пенсионер</td>\n",
       "      <td>0</td>\n",
       "      <td>155999</td>\n",
       "      <td>сделка с автомобилем</td>\n",
       "      <td>автомобиль</td>\n",
       "    </tr>\n",
       "    <tr>\n",
       "      <th>21468</th>\n",
       "      <td>1</td>\n",
       "      <td>2113</td>\n",
       "      <td>38</td>\n",
       "      <td>среднее</td>\n",
       "      <td>1</td>\n",
       "      <td>гражданский брак</td>\n",
       "      <td>1</td>\n",
       "      <td>М</td>\n",
       "      <td>сотрудник</td>\n",
       "      <td>1</td>\n",
       "      <td>89672</td>\n",
       "      <td>недвижимость</td>\n",
       "      <td>жилая недвижимость</td>\n",
       "    </tr>\n",
       "    <tr>\n",
       "      <th>21469</th>\n",
       "      <td>3</td>\n",
       "      <td>3112</td>\n",
       "      <td>38</td>\n",
       "      <td>среднее</td>\n",
       "      <td>1</td>\n",
       "      <td>женат / замужем</td>\n",
       "      <td>0</td>\n",
       "      <td>М</td>\n",
       "      <td>сотрудник</td>\n",
       "      <td>1</td>\n",
       "      <td>244093</td>\n",
       "      <td>на покупку своего автомобиля</td>\n",
       "      <td>автомобиль</td>\n",
       "    </tr>\n",
       "    <tr>\n",
       "      <th>21470</th>\n",
       "      <td>2</td>\n",
       "      <td>1984</td>\n",
       "      <td>40</td>\n",
       "      <td>среднее</td>\n",
       "      <td>1</td>\n",
       "      <td>женат / замужем</td>\n",
       "      <td>0</td>\n",
       "      <td>Ж</td>\n",
       "      <td>сотрудник</td>\n",
       "      <td>0</td>\n",
       "      <td>82047</td>\n",
       "      <td>на покупку автомобиля</td>\n",
       "      <td>автомобиль</td>\n",
       "    </tr>\n",
       "  </tbody>\n",
       "</table>\n",
       "</div>"
      ],
      "text/plain": [
       "       children  days_employed  dob_years       education  education_id  \\\n",
       "21461         1            467         28         среднее             1   \n",
       "21462         0            914         42          высшее             0   \n",
       "21463         0            404         42          высшее             0   \n",
       "21464         0         373995         59         среднее             1   \n",
       "21465         1           2351         37  ученая степень             4   \n",
       "21466         1           4529         43         среднее             1   \n",
       "21467         0         343937         67         среднее             1   \n",
       "21468         1           2113         38         среднее             1   \n",
       "21469         3           3112         38         среднее             1   \n",
       "21470         2           1984         40         среднее             1   \n",
       "\n",
       "          family_status  family_status_id gender income_type  debt  \\\n",
       "21461   женат / замужем                 0      Ж   сотрудник     1   \n",
       "21462   женат / замужем                 0      Ж   компаньон     0   \n",
       "21463  гражданский брак                 1      Ж   компаньон     0   \n",
       "21464   женат / замужем                 0      Ж   пенсионер     0   \n",
       "21465         в разводе                 3      М   сотрудник     0   \n",
       "21466  гражданский брак                 1      Ж   компаньон     0   \n",
       "21467   женат / замужем                 0      Ж   пенсионер     0   \n",
       "21468  гражданский брак                 1      М   сотрудник     1   \n",
       "21469   женат / замужем                 0      М   сотрудник     1   \n",
       "21470   женат / замужем                 0      Ж   сотрудник     0   \n",
       "\n",
       "       total_income                            purpose  \\\n",
       "21461        109486              заняться образованием   \n",
       "21462        322807               покупка своего жилья   \n",
       "21463        178059       на покупку своего автомобиля   \n",
       "21464        153864               сделка с автомобилем   \n",
       "21465        115949  покупка коммерческой недвижимости   \n",
       "21466        224791                  операции с жильем   \n",
       "21467        155999               сделка с автомобилем   \n",
       "21468         89672                       недвижимость   \n",
       "21469        244093       на покупку своего автомобиля   \n",
       "21470         82047              на покупку автомобиля   \n",
       "\n",
       "                purpose_category  \n",
       "21461                образование  \n",
       "21462         жилая недвижимость  \n",
       "21463                 автомобиль  \n",
       "21464                 автомобиль  \n",
       "21465  коммерческая недвижимость  \n",
       "21466         жилая недвижимость  \n",
       "21467                 автомобиль  \n",
       "21468         жилая недвижимость  \n",
       "21469                 автомобиль  \n",
       "21470                 автомобиль  "
      ]
     },
     "execution_count": 36,
     "metadata": {},
     "output_type": "execute_result"
    }
   ],
   "source": [
    "# Слияние двух таблиц по столбцу purpose.\n",
    "df = df.merge(df_lemmas_unique, on='purpose', how='left')\n",
    "\n",
    "# Показ последних строк таблицы.\n",
    "df.tail(10)"
   ]
  },
  {
   "cell_type": "markdown",
   "metadata": {},
   "source": [
    "Для нашего исследования данные о зарплате также нужно категоризировать.\n",
    "Выше мы уже смотрели распределение данных по зарплате, посмотрим на график распределения еще раз, на этот раз только на значения менее 500 000 р."
   ]
  },
  {
   "cell_type": "code",
   "execution_count": 37,
   "metadata": {},
   "outputs": [
    {
     "data": {
      "image/png": "[encoded data removed]",
      "text/plain": [
       "<Figure size 432x288 with 1 Axes>"
      ]
     },
     "metadata": {
      "needs_background": "light"
     },
     "output_type": "display_data"
    }
   ],
   "source": [
    "plt.hist(df[df['total_income'] < 500000]['total_income'], bins=60)\n",
    "plt.title('Распределение данных в столбце total_income')\n",
    "plt.xlabel('Зарплата, руб')\n",
    "plt.ylabel('Клиенты')\n",
    "plt.show()"
   ]
  },
  {
   "cell_type": "markdown",
   "metadata": {},
   "source": [
    "Распределение зарплат на категории может быть проведено, используя разную логику. Применим функцию qcut() для разделения данных на сопоставимые части:"
   ]
  },
  {
   "cell_type": "code",
   "execution_count": 38,
   "metadata": {},
   "outputs": [
    {
     "data": {
      "text/plain": [
       "0        (195767.5, 2265604.0]\n",
       "1         (107654.5, 142594.0]\n",
       "2         (142594.0, 195767.5]\n",
       "3        (195767.5, 2265604.0]\n",
       "4         (142594.0, 195767.5]\n",
       "                 ...          \n",
       "21466    (195767.5, 2265604.0]\n",
       "21467     (142594.0, 195767.5]\n",
       "21468    (20666.999, 107654.5]\n",
       "21469    (195767.5, 2265604.0]\n",
       "21470    (20666.999, 107654.5]\n",
       "Name: total_income, Length: 21471, dtype: category\n",
       "Categories (4, interval[float64]): [(20666.999, 107654.5] < (107654.5, 142594.0] < (142594.0, 195767.5] < (195767.5, 2265604.0]]"
      ]
     },
     "execution_count": 38,
     "metadata": {},
     "output_type": "execute_result"
    }
   ],
   "source": [
    "pd.qcut(df['total_income'], 4)"
   ]
  },
  {
   "cell_type": "markdown",
   "metadata": {},
   "source": [
    "Напишем функцию, которая, опираясь на вышеполученные данные определяет уровень дохода в зависимости от величины заработной платы:"
   ]
  },
  {
   "cell_type": "code",
   "execution_count": 39,
   "metadata": {},
   "outputs": [],
   "source": [
    "def income_level(salary):\n",
    "    ''' Функция принимает в качестве аргумента величину заработной платы и \n",
    "    возвращает уровень заработной платы, используя следующие правила:\n",
    "    - 'низкий: до 108 т.р.', если зарплата меньше 108000р;\n",
    "    - 'средний: от 108 т.р. до 143 т.р.', если зарплата от 108000р до 143000р;\n",
    "    - 'высокий: от 143 т.р. до 200 т.р.', если зарплата от 143000р до 200000р;\n",
    "    - 'очень высокий: более 200 т.р.', если зарплата выше 200000р;\n",
    "    - 'неизвестно' во всех других случаях.   \n",
    "    '''\n",
    "    \n",
    "    if salary < 108000:\n",
    "        return 'низкий: до 108 т.р.'\n",
    "    elif 108000 <= salary < 143000:\n",
    "        return 'средний: от 108 т.р. до 143 т.р.'\n",
    "    elif 143000 <= salary < 200000:\n",
    "        return 'высокий: от 143 т.р. до 200 т.р.'\n",
    "    elif salary >= 200000:\n",
    "        return 'очень высокий: более 200 т.р.'\n",
    "    else:\n",
    "        return 'неизвестно'"
   ]
  },
  {
   "cell_type": "markdown",
   "metadata": {},
   "source": [
    "Создадим новый столбец с указанием уровня дохода 'income_level', применив функцию для определения уровня дохода, которую мы написали выше.\n",
    "Проверим, все ли ячейки получили определенное значение."
   ]
  },
  {
   "cell_type": "code",
   "execution_count": 40,
   "metadata": {},
   "outputs": [
    {
     "data": {
      "text/plain": [
       "array(['очень высокий: более 200 т.р.',\n",
       "       'средний: от 108 т.р. до 143 т.р.',\n",
       "       'высокий: от 143 т.р. до 200 т.р.', 'низкий: до 108 т.р.'],\n",
       "      dtype=object)"
      ]
     },
     "execution_count": 40,
     "metadata": {},
     "output_type": "execute_result"
    }
   ],
   "source": [
    "# Создание нового столбца с уровнем дохода путем применения функции income_level.\n",
    "df['income_level'] = df['total_income'].apply(income_level)\n",
    "\n",
    "# Проверка уникальных значений.\n",
    "df['income_level'].unique()"
   ]
  },
  {
   "cell_type": "markdown",
   "metadata": {},
   "source": [
    "Посмотрим на распределение данных в столбце 'dob_years':"
   ]
  },
  {
   "cell_type": "code",
   "execution_count": 41,
   "metadata": {},
   "outputs": [
    {
     "data": {
      "text/plain": [
       "высокий: от 143 т.р. до 200 т.р.    5501\n",
       "средний: от 108 т.р. до 143 т.р.    5492\n",
       "низкий: до 108 т.р.                 5411\n",
       "очень высокий: более 200 т.р.       5067\n",
       "Name: income_level, dtype: int64"
      ]
     },
     "execution_count": 41,
     "metadata": {},
     "output_type": "execute_result"
    }
   ],
   "source": [
    "df['income_level'].value_counts()"
   ]
  },
  {
   "cell_type": "markdown",
   "metadata": {},
   "source": [
    "Данные распределены равномерно."
   ]
  },
  {
   "cell_type": "code",
   "execution_count": 42,
   "metadata": {},
   "outputs": [
    {
     "name": "stdout",
     "output_type": "stream",
     "text": [
      "column : dob_years\n",
      "min = 0\n",
      "mean = 43.279074099948765\n",
      "median = 42.0\n",
      "max = 75\n"
     ]
    },
    {
     "data": {
      "image/png": "[encoded data removed]",
      "text/plain": [
       "<Figure size 432x288 with 1 Axes>"
      ]
     },
     "metadata": {
      "needs_background": "light"
     },
     "output_type": "display_data"
    }
   ],
   "source": [
    "# Применение функции col_check_distrib для столбца dob_years.\n",
    "col_check_distrib(\n",
    "    column='dob_years', \n",
    "    hist_bins=150, \n",
    "    hist_div_factor=1, \n",
    "    categories=\"Возраст, лет\", \n",
    "    values=\"Клиенты\")"
   ]
  },
  {
   "cell_type": "markdown",
   "metadata": {},
   "source": [
    "На графике мы видим значения с нулевым показателем - явно это пропуски, заполненные нулями, которые мы не заметили на этапе предобработки. Их меньше 1%, что не оказывает серьезного влияния на расчеты. \n",
    "\n",
    "По графику мы видим, что в категории до 18 лет очень мало клиентов и бОльшая часть относится к пропускам, а не к реальному возрасту клиента. Исходя из графика мы можем решить на какие именно возрастные группы есть смысл делить клиентов банка для получения сопоставимых по размеру групп. Для более обоснованного результата посмотрим на результат функции qcut() перед тем, как создавать функцию для категоризации:"
   ]
  },
  {
   "cell_type": "code",
   "execution_count": 43,
   "metadata": {},
   "outputs": [
    {
     "data": {
      "text/plain": [
       "0          (33.0, 42.0]\n",
       "1          (33.0, 42.0]\n",
       "2        (-0.001, 33.0]\n",
       "3        (-0.001, 33.0]\n",
       "4          (42.0, 53.0]\n",
       "              ...      \n",
       "21466      (42.0, 53.0]\n",
       "21467      (53.0, 75.0]\n",
       "21468      (33.0, 42.0]\n",
       "21469      (33.0, 42.0]\n",
       "21470      (33.0, 42.0]\n",
       "Name: dob_years, Length: 21471, dtype: category\n",
       "Categories (4, interval[float64]): [(-0.001, 33.0] < (33.0, 42.0] < (42.0, 53.0] < (53.0, 75.0]]"
      ]
     },
     "execution_count": 43,
     "metadata": {},
     "output_type": "execute_result"
    }
   ],
   "source": [
    "pd.qcut(df['dob_years'], 4)"
   ]
  },
  {
   "cell_type": "markdown",
   "metadata": {},
   "source": [
    "Примерно основываясь на полученном результате, разделим клиентов на возрастные категории. Для этого создадим функцию, определяющую возрастную группу по возрасту:"
   ]
  },
  {
   "cell_type": "code",
   "execution_count": 44,
   "metadata": {},
   "outputs": [],
   "source": [
    "def age_group(age):\n",
    "    ''' Функция принимает в качестве аргумента строку и \n",
    "    возвращает возрастную группу по значению возраста age, используя правила:\n",
    "    - 'до 18', если age < 18 лет;\n",
    "    - 'от 18 до 35', если age более или равен 18 и менее 35;\n",
    "    - 'от 35 до 45', если age более или равен 35 и менее 45;\n",
    "    - 'после 55', если age более или равен 55.\n",
    "    '''    \n",
    "    if age < 18:\n",
    "        return 'до 18'\n",
    "    elif 18 <= age < 35:\n",
    "        return 'от 18 до 35'\n",
    "    elif 35 <= age < 45:\n",
    "        return 'от 35 до 45'\n",
    "    elif 45 <= age < 55:\n",
    "        return 'от 45 до 55'\n",
    "    elif 55 <= age:\n",
    "        return 'после 55'"
   ]
  },
  {
   "cell_type": "code",
   "execution_count": 45,
   "metadata": {},
   "outputs": [
    {
     "data": {
      "text/plain": [
       "age_category\n",
       "до 18           101\n",
       "от 18 до 35    5969\n",
       "от 35 до 45    5741\n",
       "от 45 до 55    4872\n",
       "после 55       4788\n",
       "Name: dob_years, dtype: int64"
      ]
     },
     "execution_count": 45,
     "metadata": {},
     "output_type": "execute_result"
    }
   ],
   "source": [
    "# Создание нового столбца с уровнем дохода путем применения функции income_level.\n",
    "df['age_category'] = df['dob_years'].apply(age_group)\n",
    "\n",
    "# Проверка распределения значений.\n",
    "df['age_category'].count()\n",
    "df.groupby('age_category')['dob_years'].count()"
   ]
  },
  {
   "cell_type": "markdown",
   "metadata": {},
   "source": [
    "Клиенты разделены на категории по возрасту."
   ]
  },
  {
   "cell_type": "markdown",
   "metadata": {},
   "source": [
    "**Вывод**"
   ]
  },
  {
   "cell_type": "markdown",
   "metadata": {},
   "source": [
    "Произведена категоризация по целям кредита, уровню заработной платы и возрасту клиентов."
   ]
  },
  {
   "cell_type": "code",
   "execution_count": 46,
   "metadata": {},
   "outputs": [
    {
     "data": {
      "text/plain": [
       "среднее                15188\n",
       "высшее                  5251\n",
       "неоконченное высшее      744\n",
       "начальное                282\n",
       "ученая степень             6\n",
       "Name: education, dtype: int64"
      ]
     },
     "execution_count": 46,
     "metadata": {},
     "output_type": "execute_result"
    }
   ],
   "source": [
    "# Подсчет уникальных значений education.\n",
    "df['education'].value_counts()"
   ]
  },
  {
   "cell_type": "code",
   "execution_count": 47,
   "metadata": {},
   "outputs": [
    {
     "data": {
      "text/html": [
       "<div>\n",
       "<style scoped>\n",
       "    .dataframe tbody tr th:only-of-type {\n",
       "        vertical-align: middle;\n",
       "    }\n",
       "\n",
       "    .dataframe tbody tr th {\n",
       "        vertical-align: top;\n",
       "    }\n",
       "\n",
       "    .dataframe thead th {\n",
       "        text-align: right;\n",
       "    }\n",
       "</style>\n",
       "<table border=\"1\" class=\"dataframe\">\n",
       "  <thead>\n",
       "    <tr style=\"text-align: right;\">\n",
       "      <th></th>\n",
       "      <th>education_id</th>\n",
       "      <th>education</th>\n",
       "    </tr>\n",
       "  </thead>\n",
       "  <tbody>\n",
       "    <tr>\n",
       "      <th>0</th>\n",
       "      <td>0</td>\n",
       "      <td>высшее</td>\n",
       "    </tr>\n",
       "    <tr>\n",
       "      <th>1</th>\n",
       "      <td>1</td>\n",
       "      <td>среднее</td>\n",
       "    </tr>\n",
       "    <tr>\n",
       "      <th>13</th>\n",
       "      <td>2</td>\n",
       "      <td>неоконченное высшее</td>\n",
       "    </tr>\n",
       "    <tr>\n",
       "      <th>31</th>\n",
       "      <td>3</td>\n",
       "      <td>начальное</td>\n",
       "    </tr>\n",
       "    <tr>\n",
       "      <th>2962</th>\n",
       "      <td>4</td>\n",
       "      <td>ученая степень</td>\n",
       "    </tr>\n",
       "  </tbody>\n",
       "</table>\n",
       "</div>"
      ],
      "text/plain": [
       "      education_id            education\n",
       "0                0               высшее\n",
       "1                1              среднее\n",
       "13               2  неоконченное высшее\n",
       "31               3            начальное\n",
       "2962             4       ученая степень"
      ]
     },
     "execution_count": 47,
     "metadata": {},
     "output_type": "execute_result"
    }
   ],
   "source": [
    "# Создание отдельной таблицы со словарем.\n",
    "df_edu_dict = df[['education_id', 'education']]\n",
    "\n",
    "# Удаление дубликатов.\n",
    "df_edu_dict = df_edu_dict.drop_duplicates()\n",
    "df_edu_dict"
   ]
  },
  {
   "cell_type": "code",
   "execution_count": 48,
   "metadata": {},
   "outputs": [
    {
     "data": {
      "text/plain": [
       "женат / замужем          12344\n",
       "гражданский брак          4163\n",
       "не женат / не замужем     2810\n",
       "в разводе                 1195\n",
       "вдовец / вдова             959\n",
       "Name: family_status, dtype: int64"
      ]
     },
     "execution_count": 48,
     "metadata": {},
     "output_type": "execute_result"
    }
   ],
   "source": [
    "# Подсчет уникальных значений family_status.\n",
    "df['family_status'].value_counts()"
   ]
  },
  {
   "cell_type": "code",
   "execution_count": 49,
   "metadata": {},
   "outputs": [
    {
     "data": {
      "text/html": [
       "<div>\n",
       "<style scoped>\n",
       "    .dataframe tbody tr th:only-of-type {\n",
       "        vertical-align: middle;\n",
       "    }\n",
       "\n",
       "    .dataframe tbody tr th {\n",
       "        vertical-align: top;\n",
       "    }\n",
       "\n",
       "    .dataframe thead th {\n",
       "        text-align: right;\n",
       "    }\n",
       "</style>\n",
       "<table border=\"1\" class=\"dataframe\">\n",
       "  <thead>\n",
       "    <tr style=\"text-align: right;\">\n",
       "      <th></th>\n",
       "      <th>family_status_id</th>\n",
       "      <th>family_status</th>\n",
       "    </tr>\n",
       "  </thead>\n",
       "  <tbody>\n",
       "    <tr>\n",
       "      <th>0</th>\n",
       "      <td>0</td>\n",
       "      <td>женат / замужем</td>\n",
       "    </tr>\n",
       "    <tr>\n",
       "      <th>4</th>\n",
       "      <td>1</td>\n",
       "      <td>гражданский брак</td>\n",
       "    </tr>\n",
       "    <tr>\n",
       "      <th>18</th>\n",
       "      <td>2</td>\n",
       "      <td>вдовец / вдова</td>\n",
       "    </tr>\n",
       "    <tr>\n",
       "      <th>19</th>\n",
       "      <td>3</td>\n",
       "      <td>в разводе</td>\n",
       "    </tr>\n",
       "    <tr>\n",
       "      <th>24</th>\n",
       "      <td>4</td>\n",
       "      <td>не женат / не замужем</td>\n",
       "    </tr>\n",
       "  </tbody>\n",
       "</table>\n",
       "</div>"
      ],
      "text/plain": [
       "    family_status_id          family_status\n",
       "0                  0        женат / замужем\n",
       "4                  1       гражданский брак\n",
       "18                 2         вдовец / вдова\n",
       "19                 3              в разводе\n",
       "24                 4  не женат / не замужем"
      ]
     },
     "execution_count": 49,
     "metadata": {},
     "output_type": "execute_result"
    }
   ],
   "source": [
    "# Создание отдельной таблицы со словарем.\n",
    "df_edu_fam = df[['family_status_id', 'family_status']]\n",
    "\n",
    "# Удаление дубликатов.\n",
    "df_edu_fam = df_edu_fam.drop_duplicates()\n",
    "df_edu_fam"
   ]
  },
  {
   "cell_type": "markdown",
   "metadata": {},
   "source": [
    "Таким образом мы можем создать новую таблицу на основе исходных данных только с теми столбцами, которые нам нужны, имея ввиду, что у нас есть таблица с пояснениями. Например:"
   ]
  },
  {
   "cell_type": "code",
   "execution_count": 50,
   "metadata": {},
   "outputs": [
    {
     "data": {
      "text/html": [
       "<div>\n",
       "<style scoped>\n",
       "    .dataframe tbody tr th:only-of-type {\n",
       "        vertical-align: middle;\n",
       "    }\n",
       "\n",
       "    .dataframe tbody tr th {\n",
       "        vertical-align: top;\n",
       "    }\n",
       "\n",
       "    .dataframe thead th {\n",
       "        text-align: right;\n",
       "    }\n",
       "</style>\n",
       "<table border=\"1\" class=\"dataframe\">\n",
       "  <thead>\n",
       "    <tr style=\"text-align: right;\">\n",
       "      <th></th>\n",
       "      <th>children</th>\n",
       "      <th>dob_years</th>\n",
       "      <th>days_employed</th>\n",
       "      <th>education_id</th>\n",
       "      <th>family_status_id</th>\n",
       "      <th>gender</th>\n",
       "      <th>income_type</th>\n",
       "      <th>total_income</th>\n",
       "      <th>debt</th>\n",
       "      <th>purpose_category</th>\n",
       "    </tr>\n",
       "  </thead>\n",
       "  <tbody>\n",
       "    <tr>\n",
       "      <th>0</th>\n",
       "      <td>1</td>\n",
       "      <td>42</td>\n",
       "      <td>8437</td>\n",
       "      <td>0</td>\n",
       "      <td>0</td>\n",
       "      <td>Ж</td>\n",
       "      <td>сотрудник</td>\n",
       "      <td>253875</td>\n",
       "      <td>0</td>\n",
       "      <td>жилая недвижимость</td>\n",
       "    </tr>\n",
       "    <tr>\n",
       "      <th>1</th>\n",
       "      <td>1</td>\n",
       "      <td>36</td>\n",
       "      <td>4024</td>\n",
       "      <td>1</td>\n",
       "      <td>0</td>\n",
       "      <td>Ж</td>\n",
       "      <td>сотрудник</td>\n",
       "      <td>112080</td>\n",
       "      <td>0</td>\n",
       "      <td>автомобиль</td>\n",
       "    </tr>\n",
       "    <tr>\n",
       "      <th>2</th>\n",
       "      <td>0</td>\n",
       "      <td>33</td>\n",
       "      <td>5623</td>\n",
       "      <td>1</td>\n",
       "      <td>0</td>\n",
       "      <td>М</td>\n",
       "      <td>сотрудник</td>\n",
       "      <td>145885</td>\n",
       "      <td>0</td>\n",
       "      <td>жилая недвижимость</td>\n",
       "    </tr>\n",
       "    <tr>\n",
       "      <th>3</th>\n",
       "      <td>3</td>\n",
       "      <td>32</td>\n",
       "      <td>4124</td>\n",
       "      <td>1</td>\n",
       "      <td>0</td>\n",
       "      <td>М</td>\n",
       "      <td>сотрудник</td>\n",
       "      <td>267628</td>\n",
       "      <td>0</td>\n",
       "      <td>образование</td>\n",
       "    </tr>\n",
       "    <tr>\n",
       "      <th>4</th>\n",
       "      <td>0</td>\n",
       "      <td>53</td>\n",
       "      <td>340266</td>\n",
       "      <td>1</td>\n",
       "      <td>1</td>\n",
       "      <td>Ж</td>\n",
       "      <td>пенсионер</td>\n",
       "      <td>158616</td>\n",
       "      <td>0</td>\n",
       "      <td>свадьба</td>\n",
       "    </tr>\n",
       "  </tbody>\n",
       "</table>\n",
       "</div>"
      ],
      "text/plain": [
       "   children  dob_years  days_employed  education_id  family_status_id gender  \\\n",
       "0         1         42           8437             0                 0      Ж   \n",
       "1         1         36           4024             1                 0      Ж   \n",
       "2         0         33           5623             1                 0      М   \n",
       "3         3         32           4124             1                 0      М   \n",
       "4         0         53         340266             1                 1      Ж   \n",
       "\n",
       "  income_type  total_income  debt    purpose_category  \n",
       "0   сотрудник        253875     0  жилая недвижимость  \n",
       "1   сотрудник        112080     0          автомобиль  \n",
       "2   сотрудник        145885     0  жилая недвижимость  \n",
       "3   сотрудник        267628     0         образование  \n",
       "4   пенсионер        158616     0             свадьба  "
      ]
     },
     "execution_count": 50,
     "metadata": {},
     "output_type": "execute_result"
    }
   ],
   "source": [
    "df_small = df[['children', 'dob_years', 'days_employed', 'education_id', 'family_status_id', \n",
    "              'gender', 'income_type', 'total_income', 'debt', 'purpose_category']]\n",
    "df_small.head()"
   ]
  },
  {
   "cell_type": "markdown",
   "metadata": {},
   "source": [
    "<a id=\"answer\"></a>\n",
    "## Ответы на вопросы"
   ]
  },
  {
   "cell_type": "markdown",
   "metadata": {},
   "source": [
    "- Есть ли зависимость между наличием детей и возвратом кредита в срок?"
   ]
  },
  {
   "cell_type": "markdown",
   "metadata": {},
   "source": [
    "Создадим сводную таблицу, группируя клиентов по количеству детей и посчитаем процент тех, у кого были задолжности по кредиту в каждой группе."
   ]
  },
  {
   "cell_type": "code",
   "execution_count": 51,
   "metadata": {},
   "outputs": [
    {
     "data": {
      "text/html": [
       "<div>\n",
       "<style scoped>\n",
       "    .dataframe tbody tr th:only-of-type {\n",
       "        vertical-align: middle;\n",
       "    }\n",
       "\n",
       "    .dataframe tbody tr th {\n",
       "        vertical-align: top;\n",
       "    }\n",
       "\n",
       "    .dataframe thead th {\n",
       "        text-align: right;\n",
       "    }\n",
       "</style>\n",
       "<table border=\"1\" class=\"dataframe\">\n",
       "  <thead>\n",
       "    <tr style=\"text-align: right;\">\n",
       "      <th>debt</th>\n",
       "      <th>0</th>\n",
       "      <th>1</th>\n",
       "      <th>percentage</th>\n",
       "    </tr>\n",
       "    <tr>\n",
       "      <th>children</th>\n",
       "      <th></th>\n",
       "      <th></th>\n",
       "      <th></th>\n",
       "    </tr>\n",
       "  </thead>\n",
       "  <tbody>\n",
       "    <tr>\n",
       "      <th>4</th>\n",
       "      <td>37</td>\n",
       "      <td>4</td>\n",
       "      <td>9.76</td>\n",
       "    </tr>\n",
       "    <tr>\n",
       "      <th>2</th>\n",
       "      <td>1926</td>\n",
       "      <td>202</td>\n",
       "      <td>9.49</td>\n",
       "    </tr>\n",
       "    <tr>\n",
       "      <th>1</th>\n",
       "      <td>4411</td>\n",
       "      <td>445</td>\n",
       "      <td>9.16</td>\n",
       "    </tr>\n",
       "    <tr>\n",
       "      <th>3</th>\n",
       "      <td>303</td>\n",
       "      <td>27</td>\n",
       "      <td>8.18</td>\n",
       "    </tr>\n",
       "    <tr>\n",
       "      <th>0</th>\n",
       "      <td>13044</td>\n",
       "      <td>1063</td>\n",
       "      <td>7.54</td>\n",
       "    </tr>\n",
       "    <tr>\n",
       "      <th>5</th>\n",
       "      <td>9</td>\n",
       "      <td>0</td>\n",
       "      <td>0.00</td>\n",
       "    </tr>\n",
       "  </tbody>\n",
       "</table>\n",
       "</div>"
      ],
      "text/plain": [
       "debt          0     1  percentage\n",
       "children                         \n",
       "4            37     4        9.76\n",
       "2          1926   202        9.49\n",
       "1          4411   445        9.16\n",
       "3           303    27        8.18\n",
       "0         13044  1063        7.54\n",
       "5             9     0        0.00"
      ]
     },
     "execution_count": 51,
     "metadata": {},
     "output_type": "execute_result"
    }
   ],
   "source": [
    "# Создание сводной таблицы с функцией подсчета количества клиентов с задолжностями и без.\n",
    "pvt_children = df.pivot_table(index='children', columns='debt', \n",
    "                              values='dob_years', aggfunc='count')\n",
    "\n",
    "# Замена пропусков на 0.\n",
    "pvt_children[pvt_children.isna()] = 0\n",
    "\n",
    "# Перевод значений в целочисловой формат.\n",
    "pvt_children = pvt_children.astype('int')\n",
    "\n",
    "# Подсчет процента имевших задолжность и сохранение в отдельный столбец.\n",
    "pvt_children['percentage'] = round(pvt_children[1]/(pvt_children[0] + pvt_children[1])*100, 2)\n",
    "\n",
    "# Вывод отсортированной по убыванию процентного соотношения таблицы.\n",
    "pvt_children.sort_values(by='percentage', ascending=False)"
   ]
  },
  {
   "cell_type": "markdown",
   "metadata": {},
   "source": [
    "**Вывод**"
   ]
  },
  {
   "cell_type": "markdown",
   "metadata": {},
   "source": [
    "Количество клиентов с 4-мя и 5-ю детьми в базе недостаточно, чтобы сделать достоверный подсчет. Явной зависимости между количеством детей и частотой невозврата кредита, на мой взгляд, нет. \n",
    "Прослеживается зависимость между двумя группами клиентов: с детьми и без детей. Клиенты с детьми чаще задерживают выплаты по кредиту."
   ]
  },
  {
   "cell_type": "markdown",
   "metadata": {},
   "source": [
    "- Есть ли зависимость между семейным положением и возвратом кредита в срок?"
   ]
  },
  {
   "cell_type": "code",
   "execution_count": 52,
   "metadata": {},
   "outputs": [
    {
     "data": {
      "text/html": [
       "<div>\n",
       "<style scoped>\n",
       "    .dataframe tbody tr th:only-of-type {\n",
       "        vertical-align: middle;\n",
       "    }\n",
       "\n",
       "    .dataframe tbody tr th {\n",
       "        vertical-align: top;\n",
       "    }\n",
       "\n",
       "    .dataframe thead th {\n",
       "        text-align: right;\n",
       "    }\n",
       "</style>\n",
       "<table border=\"1\" class=\"dataframe\">\n",
       "  <thead>\n",
       "    <tr style=\"text-align: right;\">\n",
       "      <th>debt</th>\n",
       "      <th>0</th>\n",
       "      <th>1</th>\n",
       "      <th>percentage</th>\n",
       "    </tr>\n",
       "    <tr>\n",
       "      <th>family_status</th>\n",
       "      <th></th>\n",
       "      <th></th>\n",
       "      <th></th>\n",
       "    </tr>\n",
       "  </thead>\n",
       "  <tbody>\n",
       "    <tr>\n",
       "      <th>не женат / не замужем</th>\n",
       "      <td>2536</td>\n",
       "      <td>274</td>\n",
       "      <td>9.75</td>\n",
       "    </tr>\n",
       "    <tr>\n",
       "      <th>гражданский брак</th>\n",
       "      <td>3775</td>\n",
       "      <td>388</td>\n",
       "      <td>9.32</td>\n",
       "    </tr>\n",
       "    <tr>\n",
       "      <th>женат / замужем</th>\n",
       "      <td>11413</td>\n",
       "      <td>931</td>\n",
       "      <td>7.54</td>\n",
       "    </tr>\n",
       "    <tr>\n",
       "      <th>в разводе</th>\n",
       "      <td>1110</td>\n",
       "      <td>85</td>\n",
       "      <td>7.11</td>\n",
       "    </tr>\n",
       "    <tr>\n",
       "      <th>вдовец / вдова</th>\n",
       "      <td>896</td>\n",
       "      <td>63</td>\n",
       "      <td>6.57</td>\n",
       "    </tr>\n",
       "  </tbody>\n",
       "</table>\n",
       "</div>"
      ],
      "text/plain": [
       "debt                       0    1  percentage\n",
       "family_status                                \n",
       "не женат / не замужем   2536  274        9.75\n",
       "гражданский брак        3775  388        9.32\n",
       "женат / замужем        11413  931        7.54\n",
       "в разводе               1110   85        7.11\n",
       "вдовец / вдова           896   63        6.57"
      ]
     },
     "execution_count": 52,
     "metadata": {},
     "output_type": "execute_result"
    }
   ],
   "source": [
    "# Создание сводной таблицы с функцией подсчета количества клиентов с задолжностями и без.\n",
    "pvt_family = df.pivot_table(index='family_status', columns='debt', \n",
    "                              values='dob_years', aggfunc='count')\n",
    "\n",
    "# Подсчет процента имевших задолжность и сохранение в отдельный столбец.\n",
    "pvt_family['percentage'] = round(pvt_family[1]/(pvt_family[0] + pvt_family[1])*100, 2)\n",
    "\n",
    "# Вывод отсортированной по убыванию процентного соотношения таблицы.\n",
    "pvt_family.sort_values(by='percentage', ascending=False)"
   ]
  },
  {
   "cell_type": "markdown",
   "metadata": {},
   "source": [
    "**Вывод 1**"
   ]
  },
  {
   "cell_type": "markdown",
   "metadata": {},
   "source": [
    "По результутам этой таблицы мы видим, что чаще всего задолжности имеют незамужние и неженатые клиенты, а реже всего овдовевшие клиенты. В данном случае нужно более подробно посмотреть на данные с разных сторон. Определенно есть связь с возрастом клиентов - незамужние и неженатые клиенты скорее всего моложе овдовевших клиентов. Также, может быть связь с полом клиентов."
   ]
  },
  {
   "cell_type": "markdown",
   "metadata": {},
   "source": [
    "Посмотрим на распределение задолжностей по возрастным категориям:"
   ]
  },
  {
   "cell_type": "code",
   "execution_count": 53,
   "metadata": {},
   "outputs": [
    {
     "data": {
      "text/html": [
       "<div>\n",
       "<style scoped>\n",
       "    .dataframe tbody tr th:only-of-type {\n",
       "        vertical-align: middle;\n",
       "    }\n",
       "\n",
       "    .dataframe tbody tr th {\n",
       "        vertical-align: top;\n",
       "    }\n",
       "\n",
       "    .dataframe thead th {\n",
       "        text-align: right;\n",
       "    }\n",
       "</style>\n",
       "<table border=\"1\" class=\"dataframe\">\n",
       "  <thead>\n",
       "    <tr style=\"text-align: right;\">\n",
       "      <th>debt</th>\n",
       "      <th>0</th>\n",
       "      <th>1</th>\n",
       "      <th>percentage</th>\n",
       "    </tr>\n",
       "    <tr>\n",
       "      <th>age_category</th>\n",
       "      <th></th>\n",
       "      <th></th>\n",
       "      <th></th>\n",
       "    </tr>\n",
       "  </thead>\n",
       "  <tbody>\n",
       "    <tr>\n",
       "      <th>от 18 до 35</th>\n",
       "      <td>5318</td>\n",
       "      <td>651</td>\n",
       "      <td>10.91</td>\n",
       "    </tr>\n",
       "    <tr>\n",
       "      <th>от 35 до 45</th>\n",
       "      <td>5267</td>\n",
       "      <td>474</td>\n",
       "      <td>8.26</td>\n",
       "    </tr>\n",
       "    <tr>\n",
       "      <th>от 45 до 55</th>\n",
       "      <td>4527</td>\n",
       "      <td>345</td>\n",
       "      <td>7.08</td>\n",
       "    </tr>\n",
       "    <tr>\n",
       "      <th>после 55</th>\n",
       "      <td>4525</td>\n",
       "      <td>263</td>\n",
       "      <td>5.49</td>\n",
       "    </tr>\n",
       "  </tbody>\n",
       "</table>\n",
       "</div>"
      ],
      "text/plain": [
       "debt             0    1  percentage\n",
       "age_category                       \n",
       "от 18 до 35   5318  651       10.91\n",
       "от 35 до 45   5267  474        8.26\n",
       "от 45 до 55   4527  345        7.08\n",
       "после 55      4525  263        5.49"
      ]
     },
     "execution_count": 53,
     "metadata": {},
     "output_type": "execute_result"
    }
   ],
   "source": [
    "# Создание сводной таблицы с функцией подсчета количества клиентов с задолжностями и без.\n",
    "pvt_age = df.pivot_table(index='age_category', columns='debt', \n",
    "                              values='dob_years', aggfunc='count')\n",
    "\n",
    "# Подсчет процента имевших задолжность и сохранение в отдельный столбец.\n",
    "pvt_age['percentage'] = round(pvt_age[1]/(pvt_age[0] + pvt_age[1])*100, 2)\n",
    "\n",
    "# Вывод отсортированной по убыванию процентного соотношения таблицы.\n",
    "pvt_age = pvt_age.sort_values(by='percentage', ascending=False)\n",
    "\n",
    "# Удаление непоказательной строки.\n",
    "pvt_age = pvt_age.drop(['до 18'], axis=0)\n",
    "pvt_age"
   ]
  },
  {
   "cell_type": "markdown",
   "metadata": {},
   "source": [
    "**Вывод 3**"
   ]
  },
  {
   "cell_type": "markdown",
   "metadata": {},
   "source": [
    "Прослеживается прямая зависимость между возрастом клиента и возвратом кредита в срок. (Значения в категории \"до 18\" не отражают действительности, как было показано ранее на графике распределения)."
   ]
  },
  {
   "cell_type": "markdown",
   "metadata": {},
   "source": [
    "Проверим, есть ли связь между полом клиента и частотой задолжностей:"
   ]
  },
  {
   "cell_type": "code",
   "execution_count": 54,
   "metadata": {},
   "outputs": [
    {
     "data": {
      "text/html": [
       "<div>\n",
       "<style scoped>\n",
       "    .dataframe tbody tr th:only-of-type {\n",
       "        vertical-align: middle;\n",
       "    }\n",
       "\n",
       "    .dataframe tbody tr th {\n",
       "        vertical-align: top;\n",
       "    }\n",
       "\n",
       "    .dataframe thead th {\n",
       "        text-align: right;\n",
       "    }\n",
       "</style>\n",
       "<table border=\"1\" class=\"dataframe\">\n",
       "  <thead>\n",
       "    <tr style=\"text-align: right;\">\n",
       "      <th>debt</th>\n",
       "      <th>0</th>\n",
       "      <th>1</th>\n",
       "      <th>percentage</th>\n",
       "    </tr>\n",
       "    <tr>\n",
       "      <th>gender</th>\n",
       "      <th></th>\n",
       "      <th></th>\n",
       "      <th></th>\n",
       "    </tr>\n",
       "  </thead>\n",
       "  <tbody>\n",
       "    <tr>\n",
       "      <th>М</th>\n",
       "      <td>6534</td>\n",
       "      <td>747</td>\n",
       "      <td>10.26</td>\n",
       "    </tr>\n",
       "    <tr>\n",
       "      <th>Ж</th>\n",
       "      <td>13196</td>\n",
       "      <td>994</td>\n",
       "      <td>7.00</td>\n",
       "    </tr>\n",
       "  </tbody>\n",
       "</table>\n",
       "</div>"
      ],
      "text/plain": [
       "debt        0    1  percentage\n",
       "gender                        \n",
       "М        6534  747       10.26\n",
       "Ж       13196  994        7.00"
      ]
     },
     "execution_count": 54,
     "metadata": {},
     "output_type": "execute_result"
    }
   ],
   "source": [
    "# Создание сводной таблицы с функцией подсчета количества клиентов с задолжностями и без.\n",
    "pvt_gender = df.pivot_table(index='gender', columns='debt', \n",
    "                              values='dob_years', aggfunc='count')\n",
    "\n",
    "# Подсчет процента имевших задолжность и сохранение в отдельный столбец.\n",
    "pvt_gender['percentage'] = round(pvt_gender[1]/(pvt_gender[0] + pvt_gender[1])*100, 2)\n",
    "\n",
    "# Вывод отсортированной по убыванию процентного соотношения таблицы.\n",
    "pvt_gender.sort_values(by='percentage', ascending=False)"
   ]
  },
  {
   "cell_type": "markdown",
   "metadata": {},
   "source": [
    "**Вывод 3**"
   ]
  },
  {
   "cell_type": "markdown",
   "metadata": {},
   "source": [
    "Женщины реже имеют задолжности по кредиту, чем мужчины, несмотря на то, что кредиты женщины берут чаще."
   ]
  },
  {
   "cell_type": "markdown",
   "metadata": {},
   "source": [
    "- Есть ли зависимость между уровнем дохода и возвратом кредита в срок?"
   ]
  },
  {
   "cell_type": "code",
   "execution_count": 55,
   "metadata": {},
   "outputs": [
    {
     "data": {
      "text/html": [
       "<div>\n",
       "<style scoped>\n",
       "    .dataframe tbody tr th:only-of-type {\n",
       "        vertical-align: middle;\n",
       "    }\n",
       "\n",
       "    .dataframe tbody tr th {\n",
       "        vertical-align: top;\n",
       "    }\n",
       "\n",
       "    .dataframe thead th {\n",
       "        text-align: right;\n",
       "    }\n",
       "</style>\n",
       "<table border=\"1\" class=\"dataframe\">\n",
       "  <thead>\n",
       "    <tr style=\"text-align: right;\">\n",
       "      <th>debt</th>\n",
       "      <th>0</th>\n",
       "      <th>1</th>\n",
       "      <th>percentage</th>\n",
       "    </tr>\n",
       "    <tr>\n",
       "      <th>income_level</th>\n",
       "      <th></th>\n",
       "      <th></th>\n",
       "      <th></th>\n",
       "    </tr>\n",
       "  </thead>\n",
       "  <tbody>\n",
       "    <tr>\n",
       "      <th>средний: от 108 т.р. до 143 т.р.</th>\n",
       "      <td>5007</td>\n",
       "      <td>485</td>\n",
       "      <td>8.83</td>\n",
       "    </tr>\n",
       "    <tr>\n",
       "      <th>высокий: от 143 т.р. до 200 т.р.</th>\n",
       "      <td>5034</td>\n",
       "      <td>467</td>\n",
       "      <td>8.49</td>\n",
       "    </tr>\n",
       "    <tr>\n",
       "      <th>низкий: до 108 т.р.</th>\n",
       "      <td>4980</td>\n",
       "      <td>431</td>\n",
       "      <td>7.97</td>\n",
       "    </tr>\n",
       "    <tr>\n",
       "      <th>очень высокий: более 200 т.р.</th>\n",
       "      <td>4709</td>\n",
       "      <td>358</td>\n",
       "      <td>7.07</td>\n",
       "    </tr>\n",
       "  </tbody>\n",
       "</table>\n",
       "</div>"
      ],
      "text/plain": [
       "debt                                 0    1  percentage\n",
       "income_level                                           \n",
       "средний: от 108 т.р. до 143 т.р.  5007  485        8.83\n",
       "высокий: от 143 т.р. до 200 т.р.  5034  467        8.49\n",
       "низкий: до 108 т.р.               4980  431        7.97\n",
       "очень высокий: более 200 т.р.     4709  358        7.07"
      ]
     },
     "execution_count": 55,
     "metadata": {},
     "output_type": "execute_result"
    }
   ],
   "source": [
    "# Создание сводной таблицы с функцией подсчета количества клиентов с задолжностями и без.\n",
    "pvt_income = df.pivot_table(index='income_level', columns='debt', \n",
    "                              values='dob_years', aggfunc='count')\n",
    "\n",
    "# Подсчет процента имевших задолжность и сохранение в отдельный столбец.\n",
    "pvt_income['percentage'] = round(pvt_income[1]/(pvt_income[0] + pvt_income[1])*100, 2)\n",
    "\n",
    "# Вывод отсортированной по убыванию процентного соотношения таблицы.\n",
    "pvt_income.sort_values(by='percentage', ascending=False)"
   ]
  },
  {
   "cell_type": "markdown",
   "metadata": {},
   "source": [
    "**Вывод**"
   ]
  },
  {
   "cell_type": "markdown",
   "metadata": {},
   "source": [
    "По полученным результатам сложно сделать четкие выводы. Мы видим, что клиенты с очень высоким уровнем зарплаты реже всех прочих задерживают выплаты по кредиту. Также мы видим, что чаще всех задерживают выплаты клиенты с зарплатой от 108 до 143 тысяч рублей."
   ]
  },
  {
   "cell_type": "markdown",
   "metadata": {},
   "source": [
    "- Как разные цели кредита влияют на его возврат в срок?"
   ]
  },
  {
   "cell_type": "code",
   "execution_count": 56,
   "metadata": {},
   "outputs": [
    {
     "data": {
      "text/html": [
       "<div>\n",
       "<style scoped>\n",
       "    .dataframe tbody tr th:only-of-type {\n",
       "        vertical-align: middle;\n",
       "    }\n",
       "\n",
       "    .dataframe tbody tr th {\n",
       "        vertical-align: top;\n",
       "    }\n",
       "\n",
       "    .dataframe thead th {\n",
       "        text-align: right;\n",
       "    }\n",
       "</style>\n",
       "<table border=\"1\" class=\"dataframe\">\n",
       "  <thead>\n",
       "    <tr style=\"text-align: right;\">\n",
       "      <th>debt</th>\n",
       "      <th>0</th>\n",
       "      <th>1</th>\n",
       "      <th>percentage</th>\n",
       "    </tr>\n",
       "    <tr>\n",
       "      <th>purpose_category</th>\n",
       "      <th></th>\n",
       "      <th></th>\n",
       "      <th></th>\n",
       "    </tr>\n",
       "  </thead>\n",
       "  <tbody>\n",
       "    <tr>\n",
       "      <th>автомобиль</th>\n",
       "      <td>3905</td>\n",
       "      <td>403</td>\n",
       "      <td>9.35</td>\n",
       "    </tr>\n",
       "    <tr>\n",
       "      <th>образование</th>\n",
       "      <td>3644</td>\n",
       "      <td>370</td>\n",
       "      <td>9.22</td>\n",
       "    </tr>\n",
       "    <tr>\n",
       "      <th>свадьба</th>\n",
       "      <td>2149</td>\n",
       "      <td>186</td>\n",
       "      <td>7.97</td>\n",
       "    </tr>\n",
       "    <tr>\n",
       "      <th>коммерческая недвижимость</th>\n",
       "      <td>1213</td>\n",
       "      <td>99</td>\n",
       "      <td>7.55</td>\n",
       "    </tr>\n",
       "    <tr>\n",
       "      <th>жилая недвижимость</th>\n",
       "      <td>8819</td>\n",
       "      <td>683</td>\n",
       "      <td>7.19</td>\n",
       "    </tr>\n",
       "  </tbody>\n",
       "</table>\n",
       "</div>"
      ],
      "text/plain": [
       "debt                          0    1  percentage\n",
       "purpose_category                                \n",
       "автомобиль                 3905  403        9.35\n",
       "образование                3644  370        9.22\n",
       "свадьба                    2149  186        7.97\n",
       "коммерческая недвижимость  1213   99        7.55\n",
       "жилая недвижимость         8819  683        7.19"
      ]
     },
     "execution_count": 56,
     "metadata": {},
     "output_type": "execute_result"
    }
   ],
   "source": [
    "# Создание сводной таблицы с функцией подсчета количества клиентов с задолжностями и без.\n",
    "pvt_purpose = df.pivot_table(index='purpose_category', columns='debt', \n",
    "                              values='dob_years', aggfunc='count')\n",
    "\n",
    "# Подсчет процента имевших задолжность и сохранение в отдельный столбец.\n",
    "pvt_purpose['percentage'] = round(pvt_purpose[1]/(pvt_purpose[0] + pvt_purpose[1])*100, 2)\n",
    "\n",
    "# Вывод отсортированной по убыванию процентного соотношения таблицы.\n",
    "pvt_purpose.sort_values(by='percentage', ascending=False)"
   ]
  },
  {
   "cell_type": "markdown",
   "metadata": {},
   "source": [
    "**Вывод**"
   ]
  },
  {
   "cell_type": "markdown",
   "metadata": {},
   "source": [
    "По целям кредита мы видим, что реже всего задерживают выплаты, касающиеся жилой недвижимости. Наиболее часто встречаются задержки по выплатам при взятии кредита на автомобили и образование."
   ]
  },
  {
   "cell_type": "markdown",
   "metadata": {},
   "source": [
    "<a id=\"conc\"></a>\n",
    "## Общий вывод"
   ]
  },
  {
   "cell_type": "markdown",
   "metadata": {},
   "source": [
    "На основе анализа имеющихся у нас данных, можно заключить следующее:\n",
    "* количество детей не оказывает влияния на возвращении кредита в срок, однако факт наличия детей повышает риск задолжности;\n",
    "* есть зависимость между семейным положением и задолжностью по кредиту, но эта зависимость также может объясняться разным возрастом клиентов разного семейного положения: чем старше клиенты, тем чаще они возвращают кредит в срок;\n",
    "* женщины чаще возвращают кредит в срок, чем мужчины;\n",
    "* нет четкой зависимости между уровнем зарплаты и задолжностями по кредиту;\n",
    "* кредиты на жилую недвижимость с точки зрения банка - самые надежные, их чаще всего возвращают в срок, а на автомобили - самые рискованые."
   ]
  }
 ],
 "metadata": {
  "ExecuteTimeLog": [
   {
    "duration": 105,
    "start_time": "2021-08-07T13:59:00.445Z"
   },
   {
    "duration": 82,
    "start_time": "2021-08-07T13:59:25.122Z"
   },
   {
    "duration": 438,
    "start_time": "2021-08-07T14:05:17.997Z"
   },
   {
    "duration": 1027,
    "start_time": "2021-08-07T14:05:24.637Z"
   },
   {
    "duration": 15,
    "start_time": "2021-08-07T14:05:25.666Z"
   },
   {
    "duration": 13,
    "start_time": "2021-08-07T14:24:32.212Z"
   },
   {
    "duration": 30,
    "start_time": "2021-08-07T14:25:48.286Z"
   },
   {
    "duration": 13,
    "start_time": "2021-08-07T14:26:50.811Z"
   },
   {
    "duration": 25,
    "start_time": "2021-08-07T14:31:21.174Z"
   },
   {
    "duration": 8,
    "start_time": "2021-08-07T14:49:00.993Z"
   },
   {
    "duration": 38,
    "start_time": "2021-08-07T14:49:45.348Z"
   },
   {
    "duration": 2410,
    "start_time": "2021-08-07T14:50:04.803Z"
   },
   {
    "duration": 17,
    "start_time": "2021-08-07T14:50:16.694Z"
   },
   {
    "duration": 37,
    "start_time": "2021-08-07T14:56:45.601Z"
   },
   {
    "duration": 24,
    "start_time": "2021-08-07T14:57:09.862Z"
   },
   {
    "duration": 12,
    "start_time": "2021-08-07T14:58:15.472Z"
   },
   {
    "duration": 419,
    "start_time": "2021-08-07T15:41:48.819Z"
   },
   {
    "duration": 16,
    "start_time": "2021-08-07T15:42:08.953Z"
   },
   {
    "duration": 14,
    "start_time": "2021-08-07T15:42:44.262Z"
   },
   {
    "duration": 16,
    "start_time": "2021-08-07T15:43:10.636Z"
   },
   {
    "duration": 383,
    "start_time": "2021-08-07T15:43:27.099Z"
   },
   {
    "duration": 16,
    "start_time": "2021-08-07T15:43:34.606Z"
   },
   {
    "duration": 321,
    "start_time": "2021-08-07T18:50:21.176Z"
   },
   {
    "duration": 242,
    "start_time": "2021-08-07T18:50:35.709Z"
   },
   {
    "duration": 300,
    "start_time": "2021-08-07T18:50:40.377Z"
   },
   {
    "duration": 248,
    "start_time": "2021-08-07T18:50:58.188Z"
   },
   {
    "duration": 259,
    "start_time": "2021-08-07T18:51:05.856Z"
   },
   {
    "duration": 260,
    "start_time": "2021-08-07T18:51:25.783Z"
   },
   {
    "duration": 618,
    "start_time": "2021-08-07T18:51:36.816Z"
   },
   {
    "duration": 11,
    "start_time": "2021-08-07T18:51:37.436Z"
   },
   {
    "duration": 11,
    "start_time": "2021-08-07T18:51:37.449Z"
   },
   {
    "duration": 9,
    "start_time": "2021-08-07T18:51:37.462Z"
   },
   {
    "duration": 15,
    "start_time": "2021-08-07T18:51:37.473Z"
   },
   {
    "duration": 4,
    "start_time": "2021-08-07T18:51:40.962Z"
   },
   {
    "duration": 4,
    "start_time": "2021-08-07T18:51:53.096Z"
   },
   {
    "duration": 5,
    "start_time": "2021-08-07T18:54:14.616Z"
   },
   {
    "duration": 853,
    "start_time": "2021-08-07T19:04:33.516Z"
   },
   {
    "duration": 248,
    "start_time": "2021-08-07T19:04:46.816Z"
   },
   {
    "duration": 409,
    "start_time": "2021-08-07T19:05:24.928Z"
   },
   {
    "duration": 286,
    "start_time": "2021-08-07T19:05:46.294Z"
   },
   {
    "duration": 464,
    "start_time": "2021-08-07T19:07:36.123Z"
   },
   {
    "duration": 8,
    "start_time": "2021-08-07T19:08:06.560Z"
   },
   {
    "duration": 12,
    "start_time": "2021-08-07T19:08:38.456Z"
   },
   {
    "duration": 553,
    "start_time": "2021-08-07T19:10:28.199Z"
   },
   {
    "duration": 193,
    "start_time": "2021-08-07T19:11:43.269Z"
   },
   {
    "duration": 168,
    "start_time": "2021-08-07T19:11:57.655Z"
   },
   {
    "duration": 156,
    "start_time": "2021-08-07T19:12:11.152Z"
   },
   {
    "duration": 289,
    "start_time": "2021-08-07T19:13:02.089Z"
   },
   {
    "duration": 383,
    "start_time": "2021-08-07T19:13:13.645Z"
   },
   {
    "duration": 278,
    "start_time": "2021-08-07T19:17:27.995Z"
   },
   {
    "duration": 287,
    "start_time": "2021-08-07T19:19:49.863Z"
   },
   {
    "duration": 299,
    "start_time": "2021-08-07T19:21:02.173Z"
   },
   {
    "duration": 636,
    "start_time": "2021-08-07T19:22:06.316Z"
   },
   {
    "duration": 562,
    "start_time": "2021-08-07T19:22:54.236Z"
   },
   {
    "duration": 625,
    "start_time": "2021-08-07T19:23:02.165Z"
   },
   {
    "duration": 979,
    "start_time": "2021-08-07T19:30:41.630Z"
   },
   {
    "duration": 777,
    "start_time": "2021-08-07T19:31:58.436Z"
   },
   {
    "duration": 941,
    "start_time": "2021-08-07T19:33:09.638Z"
   },
   {
    "duration": 771,
    "start_time": "2021-08-07T19:33:21.855Z"
   },
   {
    "duration": 916,
    "start_time": "2021-08-07T19:51:27.242Z"
   },
   {
    "duration": 322,
    "start_time": "2021-08-07T20:00:18.705Z"
   },
   {
    "duration": 300,
    "start_time": "2021-08-07T20:14:24.647Z"
   },
   {
    "duration": 319,
    "start_time": "2021-08-07T20:14:35.388Z"
   },
   {
    "duration": 328,
    "start_time": "2021-08-07T20:29:00.905Z"
   },
   {
    "duration": 367,
    "start_time": "2021-08-08T08:46:09.716Z"
   },
   {
    "duration": 918,
    "start_time": "2021-08-08T08:46:16.627Z"
   },
   {
    "duration": 15,
    "start_time": "2021-08-08T08:46:17.547Z"
   },
   {
    "duration": 23,
    "start_time": "2021-08-08T08:46:17.565Z"
   },
   {
    "duration": 14,
    "start_time": "2021-08-08T08:46:17.591Z"
   },
   {
    "duration": 718,
    "start_time": "2021-08-08T08:46:17.608Z"
   },
   {
    "duration": 556,
    "start_time": "2021-08-08T08:46:18.329Z"
   },
   {
    "duration": 30,
    "start_time": "2021-08-08T08:46:21.960Z"
   },
   {
    "duration": 49,
    "start_time": "2021-08-08T08:47:38.984Z"
   },
   {
    "duration": 361,
    "start_time": "2021-08-08T09:17:03.651Z"
   },
   {
    "duration": 840,
    "start_time": "2021-08-08T09:17:13.401Z"
   },
   {
    "duration": 15,
    "start_time": "2021-08-08T09:17:14.244Z"
   },
   {
    "duration": 11,
    "start_time": "2021-08-08T09:17:14.262Z"
   },
   {
    "duration": 16,
    "start_time": "2021-08-08T09:17:14.288Z"
   },
   {
    "duration": 771,
    "start_time": "2021-08-08T09:17:14.308Z"
   },
   {
    "duration": 625,
    "start_time": "2021-08-08T09:17:15.081Z"
   },
   {
    "duration": 37,
    "start_time": "2021-08-08T09:17:15.708Z"
   },
   {
    "duration": 360,
    "start_time": "2021-08-08T09:17:15.748Z"
   },
   {
    "duration": 38,
    "start_time": "2021-08-08T09:17:16.111Z"
   },
   {
    "duration": 371,
    "start_time": "2021-08-08T09:17:24.572Z"
   },
   {
    "duration": 885,
    "start_time": "2021-08-08T09:17:31.292Z"
   },
   {
    "duration": 23,
    "start_time": "2021-08-08T09:17:32.180Z"
   },
   {
    "duration": 13,
    "start_time": "2021-08-08T09:17:32.206Z"
   },
   {
    "duration": 13,
    "start_time": "2021-08-08T09:17:32.222Z"
   },
   {
    "duration": 682,
    "start_time": "2021-08-08T09:17:32.238Z"
   },
   {
    "duration": 551,
    "start_time": "2021-08-08T09:17:32.923Z"
   },
   {
    "duration": 45,
    "start_time": "2021-08-08T09:17:33.477Z"
   },
   {
    "duration": 332,
    "start_time": "2021-08-08T09:17:33.525Z"
   },
   {
    "duration": 31,
    "start_time": "2021-08-08T09:17:33.859Z"
   },
   {
    "duration": 591,
    "start_time": "2021-08-08T12:36:38.419Z"
   },
   {
    "duration": 10,
    "start_time": "2021-08-08T12:36:39.012Z"
   },
   {
    "duration": 11,
    "start_time": "2021-08-08T12:36:39.024Z"
   },
   {
    "duration": 8,
    "start_time": "2021-08-08T12:36:39.037Z"
   },
   {
    "duration": 357,
    "start_time": "2021-08-08T12:36:39.046Z"
   },
   {
    "duration": 316,
    "start_time": "2021-08-08T12:36:39.405Z"
   },
   {
    "duration": 19,
    "start_time": "2021-08-08T12:36:39.722Z"
   },
   {
    "duration": 172,
    "start_time": "2021-08-08T12:36:39.743Z"
   },
   {
    "duration": 14,
    "start_time": "2021-08-08T12:36:39.917Z"
   },
   {
    "duration": 364,
    "start_time": "2021-08-08T12:41:30.495Z"
   },
   {
    "duration": 888,
    "start_time": "2021-08-08T12:41:35.337Z"
   },
   {
    "duration": 11,
    "start_time": "2021-08-08T12:41:36.227Z"
   },
   {
    "duration": 9,
    "start_time": "2021-08-08T12:41:36.241Z"
   },
   {
    "duration": 8,
    "start_time": "2021-08-08T12:41:36.252Z"
   },
   {
    "duration": 381,
    "start_time": "2021-08-08T12:41:36.261Z"
   },
   {
    "duration": 314,
    "start_time": "2021-08-08T12:41:36.644Z"
   },
   {
    "duration": 21,
    "start_time": "2021-08-08T12:41:36.959Z"
   },
   {
    "duration": 284,
    "start_time": "2021-08-08T12:41:39.999Z"
   },
   {
    "duration": 6,
    "start_time": "2021-08-08T12:42:11.510Z"
   },
   {
    "duration": 4,
    "start_time": "2021-08-08T12:43:35.698Z"
   },
   {
    "duration": 3443,
    "start_time": "2021-08-08T12:43:42.912Z"
   },
   {
    "duration": 2954,
    "start_time": "2021-08-08T12:43:52.077Z"
   },
   {
    "duration": 57,
    "start_time": "2021-08-08T12:43:56.181Z"
   },
   {
    "duration": 9,
    "start_time": "2021-08-08T12:43:56.240Z"
   },
   {
    "duration": 9,
    "start_time": "2021-08-08T12:43:56.251Z"
   },
   {
    "duration": 7,
    "start_time": "2021-08-08T12:43:56.261Z"
   },
   {
    "duration": 318,
    "start_time": "2021-08-08T12:43:56.269Z"
   },
   {
    "duration": 263,
    "start_time": "2021-08-08T12:43:56.589Z"
   },
   {
    "duration": 18,
    "start_time": "2021-08-08T12:43:56.854Z"
   },
   {
    "duration": 5,
    "start_time": "2021-08-08T12:44:00.027Z"
   },
   {
    "duration": 2847,
    "start_time": "2021-08-08T12:44:04.481Z"
   },
   {
    "duration": 2974,
    "start_time": "2021-08-08T12:44:11.081Z"
   },
   {
    "duration": 3079,
    "start_time": "2021-08-08T12:44:21.799Z"
   },
   {
    "duration": 56,
    "start_time": "2021-08-08T12:50:33.232Z"
   },
   {
    "duration": 16,
    "start_time": "2021-08-08T12:50:33.290Z"
   },
   {
    "duration": 8,
    "start_time": "2021-08-08T12:50:33.308Z"
   },
   {
    "duration": 10,
    "start_time": "2021-08-08T12:50:33.318Z"
   },
   {
    "duration": 321,
    "start_time": "2021-08-08T12:50:33.329Z"
   },
   {
    "duration": 295,
    "start_time": "2021-08-08T12:50:33.651Z"
   },
   {
    "duration": 21,
    "start_time": "2021-08-08T12:50:33.948Z"
   },
   {
    "duration": 741,
    "start_time": "2021-08-08T12:50:37.683Z"
   },
   {
    "duration": 77,
    "start_time": "2021-08-08T12:50:54.128Z"
   },
   {
    "duration": 22,
    "start_time": "2021-08-08T12:51:00.419Z"
   },
   {
    "duration": 274,
    "start_time": "2021-08-08T12:51:37.150Z"
   },
   {
    "duration": 6,
    "start_time": "2021-08-08T12:57:00.719Z"
   },
   {
    "duration": 250,
    "start_time": "2021-08-08T12:57:06.490Z"
   },
   {
    "duration": 227,
    "start_time": "2021-08-08T12:57:59.155Z"
   },
   {
    "duration": 224,
    "start_time": "2021-08-08T12:58:29.568Z"
   },
   {
    "duration": 403,
    "start_time": "2021-08-08T12:59:01.004Z"
   },
   {
    "duration": 56,
    "start_time": "2021-08-08T12:59:07.251Z"
   },
   {
    "duration": 9,
    "start_time": "2021-08-08T12:59:07.308Z"
   },
   {
    "duration": 9,
    "start_time": "2021-08-08T12:59:07.319Z"
   },
   {
    "duration": 91,
    "start_time": "2021-08-08T12:59:07.329Z"
   },
   {
    "duration": 278,
    "start_time": "2021-08-08T12:59:07.422Z"
   },
   {
    "duration": 19,
    "start_time": "2021-08-08T12:59:10.417Z"
   },
   {
    "duration": 256,
    "start_time": "2021-08-08T12:59:56.823Z"
   },
   {
    "duration": 256,
    "start_time": "2021-08-08T12:59:59.993Z"
   },
   {
    "duration": 282,
    "start_time": "2021-08-08T13:00:02.762Z"
   },
   {
    "duration": 580,
    "start_time": "2021-08-08T13:00:14.348Z"
   },
   {
    "duration": -252,
    "start_time": "2021-08-08T13:00:44.412Z"
   },
   {
    "duration": 55,
    "start_time": "2021-08-08T13:00:56.542Z"
   },
   {
    "duration": 9,
    "start_time": "2021-08-08T13:00:56.598Z"
   },
   {
    "duration": 10,
    "start_time": "2021-08-08T13:00:56.609Z"
   },
   {
    "duration": 8,
    "start_time": "2021-08-08T13:00:56.620Z"
   },
   {
    "duration": 299,
    "start_time": "2021-08-08T13:00:56.630Z"
   },
   {
    "duration": 1135,
    "start_time": "2021-08-08T13:01:00.207Z"
   },
   {
    "duration": 19,
    "start_time": "2021-08-08T13:01:47.072Z"
   },
   {
    "duration": 237,
    "start_time": "2021-08-08T13:06:29.871Z"
   },
   {
    "duration": 226,
    "start_time": "2021-08-08T13:06:34.399Z"
   },
   {
    "duration": 225,
    "start_time": "2021-08-08T13:06:46.089Z"
   },
   {
    "duration": 54,
    "start_time": "2021-08-08T13:06:52.244Z"
   },
   {
    "duration": 9,
    "start_time": "2021-08-08T13:06:52.300Z"
   },
   {
    "duration": 8,
    "start_time": "2021-08-08T13:06:52.311Z"
   },
   {
    "duration": 7,
    "start_time": "2021-08-08T13:06:52.321Z"
   },
   {
    "duration": 297,
    "start_time": "2021-08-08T13:06:52.330Z"
   },
   {
    "duration": 19,
    "start_time": "2021-08-08T13:06:55.459Z"
   },
   {
    "duration": 234,
    "start_time": "2021-08-08T13:07:02.991Z"
   },
   {
    "duration": 277,
    "start_time": "2021-08-08T13:08:12.380Z"
   },
   {
    "duration": 217,
    "start_time": "2021-08-08T13:08:21.941Z"
   },
   {
    "duration": 22,
    "start_time": "2021-08-08T14:12:44.508Z"
   },
   {
    "duration": 15,
    "start_time": "2021-08-08T14:14:42.777Z"
   },
   {
    "duration": 20,
    "start_time": "2021-08-08T14:24:31.101Z"
   },
   {
    "duration": 851,
    "start_time": "2021-08-08T18:51:00.019Z"
   },
   {
    "duration": 24,
    "start_time": "2021-08-08T18:51:00.874Z"
   },
   {
    "duration": 14,
    "start_time": "2021-08-08T18:51:00.902Z"
   },
   {
    "duration": 46,
    "start_time": "2021-08-08T18:51:00.919Z"
   },
   {
    "duration": 709,
    "start_time": "2021-08-08T18:51:00.968Z"
   },
   {
    "duration": 35,
    "start_time": "2021-08-08T18:51:01.680Z"
   },
   {
    "duration": 615,
    "start_time": "2021-08-08T18:51:01.718Z"
   },
   {
    "duration": 45,
    "start_time": "2021-08-08T18:51:02.335Z"
   },
   {
    "duration": 43,
    "start_time": "2021-08-08T18:51:02.383Z"
   },
   {
    "duration": 542,
    "start_time": "2021-08-08T18:51:02.429Z"
   },
   {
    "duration": 333,
    "start_time": "2021-08-08T18:51:02.974Z"
   },
   {
    "duration": 27,
    "start_time": "2021-08-08T18:51:03.310Z"
   },
   {
    "duration": 6925,
    "start_time": "2021-08-08T18:51:03.340Z"
   },
   {
    "duration": 45,
    "start_time": "2021-08-08T18:51:42.663Z"
   },
   {
    "duration": 11,
    "start_time": "2021-08-08T18:57:53.005Z"
   },
   {
    "duration": 28,
    "start_time": "2021-08-08T18:58:06.353Z"
   },
   {
    "duration": 19,
    "start_time": "2021-08-08T19:00:51.973Z"
   },
   {
    "duration": 20,
    "start_time": "2021-08-08T19:10:53.839Z"
   },
   {
    "duration": 18,
    "start_time": "2021-08-08T19:11:14.146Z"
   },
   {
    "duration": 6,
    "start_time": "2021-08-08T19:11:25.690Z"
   },
   {
    "duration": 19,
    "start_time": "2021-08-08T19:11:49.859Z"
   },
   {
    "duration": 11,
    "start_time": "2021-08-08T19:20:16.516Z"
   },
   {
    "duration": 79,
    "start_time": "2021-08-08T19:20:38.886Z"
   },
   {
    "duration": 320,
    "start_time": "2021-08-08T19:20:49.660Z"
   },
   {
    "duration": 274,
    "start_time": "2021-08-08T19:21:17.931Z"
   },
   {
    "duration": 8,
    "start_time": "2021-08-08T19:21:27.568Z"
   },
   {
    "duration": 11,
    "start_time": "2021-08-08T19:22:15.894Z"
   },
   {
    "duration": 79,
    "start_time": "2021-08-08T19:22:45.123Z"
   },
   {
    "duration": 15,
    "start_time": "2021-08-08T19:22:45.204Z"
   },
   {
    "duration": 14,
    "start_time": "2021-08-08T19:22:45.222Z"
   },
   {
    "duration": 18,
    "start_time": "2021-08-08T19:22:45.263Z"
   },
   {
    "duration": 573,
    "start_time": "2021-08-08T19:22:45.283Z"
   },
   {
    "duration": 34,
    "start_time": "2021-08-08T19:22:45.861Z"
   },
   {
    "duration": 546,
    "start_time": "2021-08-08T19:22:45.897Z"
   },
   {
    "duration": 40,
    "start_time": "2021-08-08T19:22:46.446Z"
   },
   {
    "duration": 33,
    "start_time": "2021-08-08T19:22:46.488Z"
   },
   {
    "duration": 36,
    "start_time": "2021-08-08T19:23:45.861Z"
   },
   {
    "duration": 272,
    "start_time": "2021-08-08T19:25:49.744Z"
   },
   {
    "duration": 26,
    "start_time": "2021-08-08T19:26:00.729Z"
   },
   {
    "duration": 25,
    "start_time": "2021-08-08T19:27:17.407Z"
   },
   {
    "duration": 15,
    "start_time": "2021-08-08T19:28:01.182Z"
   },
   {
    "duration": 10,
    "start_time": "2021-08-08T19:28:09.068Z"
   },
   {
    "duration": 14,
    "start_time": "2021-08-08T19:28:55.666Z"
   },
   {
    "duration": -125,
    "start_time": "2021-08-08T19:45:21.789Z"
   },
   {
    "duration": 81,
    "start_time": "2021-08-08T19:45:41.647Z"
   },
   {
    "duration": 14,
    "start_time": "2021-08-08T19:45:41.731Z"
   },
   {
    "duration": 26,
    "start_time": "2021-08-08T19:45:41.748Z"
   },
   {
    "duration": 15,
    "start_time": "2021-08-08T19:45:41.777Z"
   },
   {
    "duration": 571,
    "start_time": "2021-08-08T19:45:45.472Z"
   },
   {
    "duration": 6,
    "start_time": "2021-08-08T19:54:55.836Z"
   },
   {
    "duration": 9,
    "start_time": "2021-08-08T19:55:02.075Z"
   },
   {
    "duration": 541,
    "start_time": "2021-08-08T19:56:31.897Z"
   },
   {
    "duration": 873,
    "start_time": "2021-08-08T20:00:08.909Z"
   },
   {
    "duration": 537,
    "start_time": "2021-08-08T20:01:15.721Z"
   },
   {
    "duration": 24,
    "start_time": "2021-08-08T20:17:12.930Z"
   },
   {
    "duration": 24,
    "start_time": "2021-08-08T20:17:20.730Z"
   },
   {
    "duration": 26,
    "start_time": "2021-08-08T20:20:24.051Z"
   },
   {
    "duration": 25,
    "start_time": "2021-08-08T20:21:46.985Z"
   },
   {
    "duration": 52,
    "start_time": "2021-08-08T20:22:34.232Z"
   },
   {
    "duration": 23,
    "start_time": "2021-08-08T20:23:29.079Z"
   },
   {
    "duration": 27,
    "start_time": "2021-08-08T20:25:04.807Z"
   },
   {
    "duration": 27,
    "start_time": "2021-08-08T20:25:07.393Z"
   },
   {
    "duration": 77,
    "start_time": "2021-08-08T20:25:12.521Z"
   },
   {
    "duration": 15,
    "start_time": "2021-08-08T20:25:12.601Z"
   },
   {
    "duration": 13,
    "start_time": "2021-08-08T20:25:12.619Z"
   },
   {
    "duration": 17,
    "start_time": "2021-08-08T20:25:12.664Z"
   },
   {
    "duration": 877,
    "start_time": "2021-08-08T20:25:12.684Z"
   },
   {
    "duration": 33,
    "start_time": "2021-08-08T20:25:13.566Z"
   },
   {
    "duration": 555,
    "start_time": "2021-08-08T20:25:13.601Z"
   },
   {
    "duration": 33,
    "start_time": "2021-08-08T20:25:14.161Z"
   },
   {
    "duration": 32,
    "start_time": "2021-08-08T20:25:14.196Z"
   },
   {
    "duration": 36,
    "start_time": "2021-08-08T20:25:14.231Z"
   },
   {
    "duration": 12,
    "start_time": "2021-08-08T20:25:14.269Z"
   },
   {
    "duration": 6,
    "start_time": "2021-08-08T20:25:14.284Z"
   },
   {
    "duration": 672,
    "start_time": "2021-08-08T20:25:14.292Z"
   },
   {
    "duration": 434,
    "start_time": "2021-08-08T20:25:14.968Z"
   },
   {
    "duration": 20,
    "start_time": "2021-08-08T20:25:15.405Z"
   },
   {
    "duration": 48,
    "start_time": "2021-08-08T20:25:15.427Z"
   },
   {
    "duration": 25,
    "start_time": "2021-08-08T20:25:18.225Z"
   },
   {
    "duration": 35,
    "start_time": "2021-08-08T20:25:29.222Z"
   },
   {
    "duration": 7,
    "start_time": "2021-08-08T20:37:33.696Z"
   },
   {
    "duration": 286,
    "start_time": "2021-08-08T20:40:25.365Z"
   },
   {
    "duration": 15,
    "start_time": "2021-08-08T20:41:58.401Z"
   },
   {
    "duration": 20,
    "start_time": "2021-08-08T20:42:10.014Z"
   },
   {
    "duration": 10,
    "start_time": "2021-08-08T20:43:23.571Z"
   },
   {
    "duration": 25,
    "start_time": "2021-08-08T20:43:59.705Z"
   },
   {
    "duration": 13,
    "start_time": "2021-08-08T20:45:04.820Z"
   },
   {
    "duration": 13,
    "start_time": "2021-08-08T20:45:18.191Z"
   },
   {
    "duration": 20,
    "start_time": "2021-08-08T20:46:48.352Z"
   },
   {
    "duration": 10,
    "start_time": "2021-08-08T20:48:50.927Z"
   },
   {
    "duration": 12,
    "start_time": "2021-08-08T20:53:58.977Z"
   },
   {
    "duration": 6,
    "start_time": "2021-08-12T15:23:19.286Z"
   },
   {
    "duration": 82,
    "start_time": "2021-08-12T15:23:22.442Z"
   },
   {
    "duration": 72,
    "start_time": "2021-08-12T15:23:35.131Z"
   },
   {
    "duration": 906,
    "start_time": "2021-08-12T15:24:02.490Z"
   },
   {
    "duration": 15,
    "start_time": "2021-08-12T15:24:03.399Z"
   },
   {
    "duration": 13,
    "start_time": "2021-08-12T15:24:03.417Z"
   },
   {
    "duration": 40,
    "start_time": "2021-08-12T15:24:03.433Z"
   },
   {
    "duration": 6,
    "start_time": "2021-08-12T15:24:03.475Z"
   },
   {
    "duration": 11,
    "start_time": "2021-08-12T15:54:48.421Z"
   },
   {
    "duration": 10,
    "start_time": "2021-08-12T16:50:29.163Z"
   },
   {
    "duration": 12,
    "start_time": "2021-08-12T16:51:54.875Z"
   },
   {
    "duration": 11,
    "start_time": "2021-08-12T16:54:35.179Z"
   },
   {
    "duration": 10,
    "start_time": "2021-08-12T16:54:49.302Z"
   },
   {
    "duration": 10,
    "start_time": "2021-08-12T16:55:04.348Z"
   },
   {
    "duration": 85,
    "start_time": "2021-08-12T16:59:30.987Z"
   },
   {
    "duration": 20,
    "start_time": "2021-08-12T17:00:12.079Z"
   },
   {
    "duration": 20,
    "start_time": "2021-08-12T17:02:53.611Z"
   },
   {
    "duration": 361,
    "start_time": "2021-08-12T17:04:42.920Z"
   },
   {
    "duration": 28,
    "start_time": "2021-08-12T17:10:05.065Z"
   },
   {
    "duration": 32,
    "start_time": "2021-08-12T17:13:46.584Z"
   },
   {
    "duration": 29,
    "start_time": "2021-08-12T17:15:20.613Z"
   },
   {
    "duration": 321,
    "start_time": "2021-08-12T17:15:41.808Z"
   },
   {
    "duration": 8,
    "start_time": "2021-08-12T17:16:28.907Z"
   },
   {
    "duration": 5,
    "start_time": "2021-08-12T17:16:51.170Z"
   },
   {
    "duration": 5,
    "start_time": "2021-08-12T17:16:53.204Z"
   },
   {
    "duration": 5,
    "start_time": "2021-08-12T17:16:56.062Z"
   },
   {
    "duration": 6,
    "start_time": "2021-08-12T17:16:57.596Z"
   },
   {
    "duration": 5,
    "start_time": "2021-08-12T17:17:27.512Z"
   },
   {
    "duration": 4,
    "start_time": "2021-08-12T17:17:50.315Z"
   },
   {
    "duration": 74,
    "start_time": "2021-08-12T17:29:00.209Z"
   },
   {
    "duration": 108,
    "start_time": "2021-08-12T17:29:10.160Z"
   },
   {
    "duration": 82,
    "start_time": "2021-08-12T17:29:47.377Z"
   },
   {
    "duration": 95,
    "start_time": "2021-08-12T17:30:01.273Z"
   },
   {
    "duration": 14,
    "start_time": "2021-08-12T18:17:51.986Z"
   },
   {
    "duration": 26,
    "start_time": "2021-08-12T18:18:31.358Z"
   },
   {
    "duration": 307,
    "start_time": "2021-08-12T18:19:04.191Z"
   },
   {
    "duration": 7,
    "start_time": "2021-08-12T18:19:12.990Z"
   },
   {
    "duration": 98,
    "start_time": "2021-08-12T18:19:34.123Z"
   },
   {
    "duration": 92,
    "start_time": "2021-08-12T18:22:00.910Z"
   },
   {
    "duration": 938,
    "start_time": "2021-08-12T19:31:33.045Z"
   },
   {
    "duration": 17,
    "start_time": "2021-08-12T19:31:33.985Z"
   },
   {
    "duration": 16,
    "start_time": "2021-08-12T19:31:34.007Z"
   },
   {
    "duration": 16,
    "start_time": "2021-08-12T19:31:34.054Z"
   },
   {
    "duration": 7,
    "start_time": "2021-08-12T19:31:34.073Z"
   },
   {
    "duration": 680,
    "start_time": "2021-08-12T19:31:34.083Z"
   },
   {
    "duration": 523,
    "start_time": "2021-08-12T19:31:34.766Z"
   },
   {
    "duration": 35,
    "start_time": "2021-08-12T19:31:35.292Z"
   },
   {
    "duration": 45,
    "start_time": "2021-08-12T19:31:35.331Z"
   },
   {
    "duration": 13,
    "start_time": "2021-08-12T19:31:35.379Z"
   },
   {
    "duration": 25,
    "start_time": "2021-08-12T19:31:35.395Z"
   },
   {
    "duration": 12,
    "start_time": "2021-08-12T19:35:42.835Z"
   },
   {
    "duration": 73,
    "start_time": "2021-08-12T19:36:04.190Z"
   },
   {
    "duration": 21,
    "start_time": "2021-08-12T19:36:08.606Z"
   },
   {
    "duration": 84,
    "start_time": "2021-08-12T19:38:20.154Z"
   },
   {
    "duration": 344,
    "start_time": "2021-08-12T19:38:56.519Z"
   },
   {
    "duration": 7,
    "start_time": "2021-08-12T19:39:20.354Z"
   },
   {
    "duration": 98,
    "start_time": "2021-08-12T19:39:24.861Z"
   },
   {
    "duration": 110,
    "start_time": "2021-08-12T19:41:20.701Z"
   },
   {
    "duration": -163,
    "start_time": "2021-08-12T19:42:48.433Z"
   },
   {
    "duration": 18,
    "start_time": "2021-08-12T19:43:10.179Z"
   },
   {
    "duration": -301,
    "start_time": "2021-08-12T19:44:28.500Z"
   },
   {
    "duration": -205,
    "start_time": "2021-08-12T19:44:35.976Z"
   },
   {
    "duration": 17,
    "start_time": "2021-08-12T19:44:42.433Z"
   },
   {
    "duration": 21,
    "start_time": "2021-08-12T19:44:58.349Z"
   },
   {
    "duration": 23,
    "start_time": "2021-08-12T19:45:29.655Z"
   },
   {
    "duration": 10,
    "start_time": "2021-08-12T19:45:32.650Z"
   },
   {
    "duration": 252,
    "start_time": "2021-08-12T19:54:26.462Z"
   },
   {
    "duration": 7,
    "start_time": "2021-08-12T19:55:43.753Z"
   },
   {
    "duration": 93,
    "start_time": "2021-08-12T19:56:02.990Z"
   },
   {
    "duration": 86,
    "start_time": "2021-08-12T19:56:22.885Z"
   },
   {
    "duration": 108,
    "start_time": "2021-08-12T20:01:52.961Z"
   },
   {
    "duration": 93,
    "start_time": "2021-08-12T20:02:07.450Z"
   },
   {
    "duration": 92,
    "start_time": "2021-08-12T20:02:15.711Z"
   },
   {
    "duration": 85,
    "start_time": "2021-08-12T20:03:02.364Z"
   },
   {
    "duration": 319,
    "start_time": "2021-08-12T20:03:17.993Z"
   },
   {
    "duration": -24,
    "start_time": "2021-08-12T20:07:47.847Z"
   },
   {
    "duration": 6211,
    "start_time": "2021-08-12T20:08:16.965Z"
   },
   {
    "duration": 255,
    "start_time": "2021-08-12T20:17:40.018Z"
   },
   {
    "duration": 6,
    "start_time": "2021-08-12T20:19:54.822Z"
   },
   {
    "duration": 7,
    "start_time": "2021-08-12T20:20:26.263Z"
   },
   {
    "duration": 8,
    "start_time": "2021-08-12T20:20:37.744Z"
   },
   {
    "duration": 252,
    "start_time": "2021-08-12T20:22:43.683Z"
   },
   {
    "duration": 7,
    "start_time": "2021-08-12T20:22:47.516Z"
   },
   {
    "duration": 33,
    "start_time": "2021-08-12T20:29:20.250Z"
   },
   {
    "duration": 12,
    "start_time": "2021-08-12T20:30:56.440Z"
   },
   {
    "duration": 13,
    "start_time": "2021-08-12T20:31:29.713Z"
   },
   {
    "duration": 254,
    "start_time": "2021-08-12T20:31:37.940Z"
   },
   {
    "duration": 14,
    "start_time": "2021-08-12T20:31:45.655Z"
   },
   {
    "duration": 22,
    "start_time": "2021-08-12T20:31:55.940Z"
   },
   {
    "duration": 24,
    "start_time": "2021-08-12T20:32:15.855Z"
   },
   {
    "duration": 14,
    "start_time": "2021-08-12T20:34:04.763Z"
   },
   {
    "duration": 41,
    "start_time": "2021-08-12T20:38:58.366Z"
   },
   {
    "duration": 19,
    "start_time": "2021-08-12T20:42:12.975Z"
   },
   {
    "duration": 39,
    "start_time": "2021-08-12T20:54:30.101Z"
   },
   {
    "duration": 16,
    "start_time": "2021-08-12T20:55:06.042Z"
   },
   {
    "duration": 278,
    "start_time": "2021-08-12T20:55:46.118Z"
   },
   {
    "duration": 20,
    "start_time": "2021-08-12T20:56:25.944Z"
   },
   {
    "duration": 91,
    "start_time": "2021-08-12T20:56:47.643Z"
   },
   {
    "duration": 20,
    "start_time": "2021-08-12T20:56:59.586Z"
   },
   {
    "duration": 17,
    "start_time": "2021-08-12T20:57:04.829Z"
   },
   {
    "duration": 19,
    "start_time": "2021-08-12T20:57:09.791Z"
   },
   {
    "duration": 18,
    "start_time": "2021-08-12T20:57:29.062Z"
   },
   {
    "duration": 29,
    "start_time": "2021-08-12T20:57:54.351Z"
   },
   {
    "duration": 91,
    "start_time": "2021-08-12T20:58:11.785Z"
   },
   {
    "duration": 28,
    "start_time": "2021-08-12T20:58:17.723Z"
   },
   {
    "duration": 6404,
    "start_time": "2021-08-12T20:58:24.427Z"
   },
   {
    "duration": 28,
    "start_time": "2021-08-12T20:58:33.539Z"
   },
   {
    "duration": 251,
    "start_time": "2021-08-12T20:58:43.464Z"
   },
   {
    "duration": 435,
    "start_time": "2021-08-12T20:58:48.594Z"
   },
   {
    "duration": 19,
    "start_time": "2021-08-12T20:58:52.189Z"
   },
   {
    "duration": 266,
    "start_time": "2021-08-12T20:58:58.129Z"
   },
   {
    "duration": 273,
    "start_time": "2021-08-12T20:59:01.667Z"
   },
   {
    "duration": 24,
    "start_time": "2021-08-12T20:59:07.455Z"
   },
   {
    "duration": 92,
    "start_time": "2021-08-12T21:00:28.574Z"
   },
   {
    "duration": 20,
    "start_time": "2021-08-12T21:00:49.983Z"
   },
   {
    "duration": 11,
    "start_time": "2021-08-12T21:01:20.426Z"
   },
   {
    "duration": 11,
    "start_time": "2021-08-12T21:01:33.242Z"
   },
   {
    "duration": 17,
    "start_time": "2021-08-12T21:02:01.682Z"
   },
   {
    "duration": 11,
    "start_time": "2021-08-12T21:02:09.071Z"
   },
   {
    "duration": 254,
    "start_time": "2021-08-12T21:02:11.213Z"
   },
   {
    "duration": 7,
    "start_time": "2021-08-12T21:02:17.266Z"
   },
   {
    "duration": 16,
    "start_time": "2021-08-12T21:02:32.046Z"
   },
   {
    "duration": 11,
    "start_time": "2021-08-12T21:02:45.739Z"
   },
   {
    "duration": 17,
    "start_time": "2021-08-12T21:03:40.021Z"
   },
   {
    "duration": 286,
    "start_time": "2021-08-12T21:04:01.318Z"
   },
   {
    "duration": 23,
    "start_time": "2021-08-12T21:04:11.639Z"
   },
   {
    "duration": 26,
    "start_time": "2021-08-12T21:04:25.372Z"
   },
   {
    "duration": 90,
    "start_time": "2021-08-12T21:04:31.578Z"
   },
   {
    "duration": 24,
    "start_time": "2021-08-12T21:04:36.206Z"
   },
   {
    "duration": 107,
    "start_time": "2021-08-12T21:04:48.651Z"
   },
   {
    "duration": 17,
    "start_time": "2021-08-12T21:04:51.957Z"
   },
   {
    "duration": 22,
    "start_time": "2021-08-12T21:05:08.402Z"
   },
   {
    "duration": 19,
    "start_time": "2021-08-12T21:05:20.294Z"
   },
   {
    "duration": 25,
    "start_time": "2021-08-12T21:05:26.363Z"
   },
   {
    "duration": 20,
    "start_time": "2021-08-12T21:05:30.582Z"
   },
   {
    "duration": 26,
    "start_time": "2021-08-12T21:05:33.671Z"
   },
   {
    "duration": 23,
    "start_time": "2021-08-12T21:05:38.284Z"
   },
   {
    "duration": 25,
    "start_time": "2021-08-12T21:06:16.473Z"
   },
   {
    "duration": 24,
    "start_time": "2021-08-12T21:06:25.684Z"
   },
   {
    "duration": 19,
    "start_time": "2021-08-12T21:07:18.385Z"
   },
   {
    "duration": 24,
    "start_time": "2021-08-12T21:07:26.334Z"
   },
   {
    "duration": 22,
    "start_time": "2021-08-12T21:07:32.323Z"
   },
   {
    "duration": 20,
    "start_time": "2021-08-12T21:10:52.075Z"
   },
   {
    "duration": 22,
    "start_time": "2021-08-12T21:11:22.470Z"
   },
   {
    "duration": 288,
    "start_time": "2021-08-12T21:12:53.993Z"
   },
   {
    "duration": 260,
    "start_time": "2021-08-12T21:13:33.144Z"
   },
   {
    "duration": 281,
    "start_time": "2021-08-12T21:13:43.040Z"
   },
   {
    "duration": 24,
    "start_time": "2021-08-12T21:13:59.681Z"
   },
   {
    "duration": 23,
    "start_time": "2021-08-12T21:14:03.169Z"
   },
   {
    "duration": 22,
    "start_time": "2021-08-12T21:14:11.408Z"
   },
   {
    "duration": 20,
    "start_time": "2021-08-12T21:14:19.877Z"
   },
   {
    "duration": 277,
    "start_time": "2021-08-12T21:14:35.177Z"
   },
   {
    "duration": 22,
    "start_time": "2021-08-12T21:15:59.308Z"
   },
   {
    "duration": 20,
    "start_time": "2021-08-12T21:16:09.261Z"
   },
   {
    "duration": 273,
    "start_time": "2021-08-12T21:16:13.787Z"
   },
   {
    "duration": 259,
    "start_time": "2021-08-12T21:16:17.477Z"
   },
   {
    "duration": 279,
    "start_time": "2021-08-12T21:16:27.880Z"
   },
   {
    "duration": 274,
    "start_time": "2021-08-12T21:16:44.266Z"
   },
   {
    "duration": 26,
    "start_time": "2021-08-12T21:16:50.056Z"
   },
   {
    "duration": 22,
    "start_time": "2021-08-12T21:17:10.972Z"
   },
   {
    "duration": 23,
    "start_time": "2021-08-12T21:17:21.625Z"
   },
   {
    "duration": 21,
    "start_time": "2021-08-12T21:17:37.325Z"
   },
   {
    "duration": 30,
    "start_time": "2021-08-12T21:17:46.090Z"
   },
   {
    "duration": 24,
    "start_time": "2021-08-12T21:17:58.211Z"
   },
   {
    "duration": 22,
    "start_time": "2021-08-12T21:18:06.666Z"
   },
   {
    "duration": 321,
    "start_time": "2021-08-12T21:18:15.572Z"
   },
   {
    "duration": 90,
    "start_time": "2021-08-12T21:19:41.809Z"
   },
   {
    "duration": 954,
    "start_time": "2021-08-13T08:39:33.625Z"
   },
   {
    "duration": 18,
    "start_time": "2021-08-13T08:39:34.583Z"
   },
   {
    "duration": 15,
    "start_time": "2021-08-13T08:39:34.605Z"
   },
   {
    "duration": 42,
    "start_time": "2021-08-13T08:39:34.623Z"
   },
   {
    "duration": 6,
    "start_time": "2021-08-13T08:39:34.667Z"
   },
   {
    "duration": 562,
    "start_time": "2021-08-13T08:39:34.675Z"
   },
   {
    "duration": 509,
    "start_time": "2021-08-13T08:39:35.240Z"
   },
   {
    "duration": 36,
    "start_time": "2021-08-13T08:39:35.752Z"
   },
   {
    "duration": 26,
    "start_time": "2021-08-13T08:39:35.791Z"
   },
   {
    "duration": 39,
    "start_time": "2021-08-13T08:39:35.820Z"
   },
   {
    "duration": 368,
    "start_time": "2021-08-13T08:44:09.647Z"
   },
   {
    "duration": 6,
    "start_time": "2021-08-13T08:46:35.746Z"
   },
   {
    "duration": 85,
    "start_time": "2021-08-13T08:46:43.896Z"
   },
   {
    "duration": 6,
    "start_time": "2021-08-13T08:47:16.849Z"
   },
   {
    "duration": 34,
    "start_time": "2021-08-13T08:47:18.939Z"
   },
   {
    "duration": 5,
    "start_time": "2021-08-13T08:49:45.102Z"
   },
   {
    "duration": 5,
    "start_time": "2021-08-13T08:49:49.184Z"
   },
   {
    "duration": 35,
    "start_time": "2021-08-13T08:49:51.374Z"
   },
   {
    "duration": 5,
    "start_time": "2021-08-13T08:50:15.969Z"
   },
   {
    "duration": 36,
    "start_time": "2021-08-13T08:50:19.200Z"
   },
   {
    "duration": 79,
    "start_time": "2021-08-13T08:50:35.991Z"
   },
   {
    "duration": 13,
    "start_time": "2021-08-13T08:50:36.073Z"
   },
   {
    "duration": 11,
    "start_time": "2021-08-13T08:50:36.090Z"
   },
   {
    "duration": 15,
    "start_time": "2021-08-13T08:50:36.103Z"
   },
   {
    "duration": 36,
    "start_time": "2021-08-13T08:50:36.120Z"
   },
   {
    "duration": 540,
    "start_time": "2021-08-13T08:50:36.158Z"
   },
   {
    "duration": 514,
    "start_time": "2021-08-13T08:50:36.701Z"
   },
   {
    "duration": 6,
    "start_time": "2021-08-13T08:50:42.975Z"
   },
   {
    "duration": 19,
    "start_time": "2021-08-13T08:51:01.427Z"
   },
   {
    "duration": 20,
    "start_time": "2021-08-13T08:52:57.297Z"
   },
   {
    "duration": 4,
    "start_time": "2021-08-13T08:53:10.189Z"
   },
   {
    "duration": 4,
    "start_time": "2021-08-13T08:53:12.373Z"
   },
   {
    "duration": 34,
    "start_time": "2021-08-13T08:53:14.586Z"
   },
   {
    "duration": 87,
    "start_time": "2021-08-13T08:53:27.058Z"
   },
   {
    "duration": 23,
    "start_time": "2021-08-13T08:53:27.148Z"
   },
   {
    "duration": 13,
    "start_time": "2021-08-13T08:53:27.175Z"
   },
   {
    "duration": 13,
    "start_time": "2021-08-13T08:53:27.191Z"
   },
   {
    "duration": 49,
    "start_time": "2021-08-13T08:53:27.206Z"
   },
   {
    "duration": 530,
    "start_time": "2021-08-13T08:53:27.258Z"
   },
   {
    "duration": 518,
    "start_time": "2021-08-13T08:53:27.791Z"
   },
   {
    "duration": 37,
    "start_time": "2021-08-13T08:53:34.303Z"
   },
   {
    "duration": 20,
    "start_time": "2021-08-13T08:53:56.794Z"
   },
   {
    "duration": 7,
    "start_time": "2021-08-13T08:55:33.397Z"
   },
   {
    "duration": 34,
    "start_time": "2021-08-13T08:55:39.709Z"
   },
   {
    "duration": 304,
    "start_time": "2021-08-13T08:58:05.521Z"
   },
   {
    "duration": 364,
    "start_time": "2021-08-13T08:58:11.193Z"
   },
   {
    "duration": 80,
    "start_time": "2021-08-13T08:58:18.049Z"
   },
   {
    "duration": 27,
    "start_time": "2021-08-13T08:58:18.132Z"
   },
   {
    "duration": 13,
    "start_time": "2021-08-13T08:58:18.162Z"
   },
   {
    "duration": 12,
    "start_time": "2021-08-13T08:58:18.177Z"
   },
   {
    "duration": 8,
    "start_time": "2021-08-13T08:58:18.192Z"
   },
   {
    "duration": 546,
    "start_time": "2021-08-13T08:58:18.202Z"
   },
   {
    "duration": 598,
    "start_time": "2021-08-13T08:58:18.750Z"
   },
   {
    "duration": 6,
    "start_time": "2021-08-13T08:58:22.373Z"
   },
   {
    "duration": 259,
    "start_time": "2021-08-13T08:58:23.731Z"
   },
   {
    "duration": 7,
    "start_time": "2021-08-13T09:02:23.882Z"
   },
   {
    "duration": 35,
    "start_time": "2021-08-13T09:02:28.786Z"
   },
   {
    "duration": 7,
    "start_time": "2021-08-13T09:04:15.611Z"
   },
   {
    "duration": 83,
    "start_time": "2021-08-13T09:27:40.467Z"
   },
   {
    "duration": 17,
    "start_time": "2021-08-13T09:27:40.554Z"
   },
   {
    "duration": 27,
    "start_time": "2021-08-13T09:27:40.575Z"
   },
   {
    "duration": 21,
    "start_time": "2021-08-13T09:27:40.606Z"
   },
   {
    "duration": 25,
    "start_time": "2021-08-13T09:27:40.630Z"
   },
   {
    "duration": 552,
    "start_time": "2021-08-13T09:27:40.657Z"
   },
   {
    "duration": 496,
    "start_time": "2021-08-13T09:27:41.211Z"
   },
   {
    "duration": 6,
    "start_time": "2021-08-13T09:27:46.102Z"
   },
   {
    "duration": 6,
    "start_time": "2021-08-13T09:27:51.511Z"
   },
   {
    "duration": 18,
    "start_time": "2021-08-13T09:28:01.021Z"
   },
   {
    "duration": 6,
    "start_time": "2021-08-13T09:35:15.453Z"
   },
   {
    "duration": 16,
    "start_time": "2021-08-13T09:35:41.721Z"
   },
   {
    "duration": 530,
    "start_time": "2021-08-13T09:38:02.241Z"
   },
   {
    "duration": 6,
    "start_time": "2021-08-13T09:38:05.613Z"
   },
   {
    "duration": 15,
    "start_time": "2021-08-13T09:38:13.700Z"
   },
   {
    "duration": 13,
    "start_time": "2021-08-13T09:39:18.767Z"
   },
   {
    "duration": 7,
    "start_time": "2021-08-13T09:40:34.103Z"
   },
   {
    "duration": 298,
    "start_time": "2021-08-13T09:43:59.098Z"
   },
   {
    "duration": 262,
    "start_time": "2021-08-13T09:44:21.148Z"
   },
   {
    "duration": 261,
    "start_time": "2021-08-13T09:47:15.238Z"
   },
   {
    "duration": 316,
    "start_time": "2021-08-13T09:48:16.399Z"
   },
   {
    "duration": 80,
    "start_time": "2021-08-13T09:49:17.133Z"
   },
   {
    "duration": 15,
    "start_time": "2021-08-13T09:49:17.215Z"
   },
   {
    "duration": 12,
    "start_time": "2021-08-13T09:49:17.256Z"
   },
   {
    "duration": 20,
    "start_time": "2021-08-13T09:49:17.271Z"
   },
   {
    "duration": 11,
    "start_time": "2021-08-13T09:49:17.293Z"
   },
   {
    "duration": 528,
    "start_time": "2021-08-13T09:49:17.306Z"
   },
   {
    "duration": 518,
    "start_time": "2021-08-13T09:49:17.837Z"
   },
   {
    "duration": 3,
    "start_time": "2021-08-13T09:49:18.358Z"
   },
   {
    "duration": 36,
    "start_time": "2021-08-13T09:49:18.364Z"
   },
   {
    "duration": 24,
    "start_time": "2021-08-13T09:49:18.403Z"
   },
   {
    "duration": 34,
    "start_time": "2021-08-13T09:49:18.429Z"
   },
   {
    "duration": 10,
    "start_time": "2021-08-13T09:49:18.465Z"
   },
   {
    "duration": 43,
    "start_time": "2021-08-13T09:49:18.477Z"
   },
   {
    "duration": 38,
    "start_time": "2021-08-13T09:49:18.522Z"
   },
   {
    "duration": 530,
    "start_time": "2021-08-13T09:49:18.562Z"
   },
   {
    "duration": 7,
    "start_time": "2021-08-13T09:49:19.095Z"
   },
   {
    "duration": 22,
    "start_time": "2021-08-13T09:49:19.105Z"
   },
   {
    "duration": 25,
    "start_time": "2021-08-13T09:49:19.129Z"
   },
   {
    "duration": 636,
    "start_time": "2021-08-13T09:49:19.156Z"
   },
   {
    "duration": 323,
    "start_time": "2021-08-13T09:49:19.794Z"
   },
   {
    "duration": 34,
    "start_time": "2021-08-13T09:49:20.120Z"
   },
   {
    "duration": 37,
    "start_time": "2021-08-13T09:49:20.157Z"
   },
   {
    "duration": 38,
    "start_time": "2021-08-13T09:49:20.198Z"
   },
   {
    "duration": 18,
    "start_time": "2021-08-13T09:49:20.238Z"
   },
   {
    "duration": 31,
    "start_time": "2021-08-13T09:49:20.258Z"
   },
   {
    "duration": 45,
    "start_time": "2021-08-13T09:49:20.291Z"
   },
   {
    "duration": 37,
    "start_time": "2021-08-13T09:49:20.338Z"
   },
   {
    "duration": 43,
    "start_time": "2021-08-13T09:49:49.161Z"
   },
   {
    "duration": 51,
    "start_time": "2021-08-13T09:50:04.187Z"
   },
   {
    "duration": 64,
    "start_time": "2021-08-13T09:50:40.563Z"
   },
   {
    "duration": 950,
    "start_time": "2021-08-13T12:27:58.263Z"
   },
   {
    "duration": 15,
    "start_time": "2021-08-13T12:27:59.216Z"
   },
   {
    "duration": 26,
    "start_time": "2021-08-13T12:27:59.233Z"
   },
   {
    "duration": 12,
    "start_time": "2021-08-13T12:27:59.262Z"
   },
   {
    "duration": 5,
    "start_time": "2021-08-13T12:27:59.276Z"
   },
   {
    "duration": 600,
    "start_time": "2021-08-13T12:27:59.284Z"
   },
   {
    "duration": 527,
    "start_time": "2021-08-13T12:27:59.886Z"
   },
   {
    "duration": 3,
    "start_time": "2021-08-13T12:28:00.416Z"
   },
   {
    "duration": 54,
    "start_time": "2021-08-13T12:28:00.422Z"
   },
   {
    "duration": 27,
    "start_time": "2021-08-13T12:28:00.479Z"
   },
   {
    "duration": 45,
    "start_time": "2021-08-13T12:28:00.508Z"
   },
   {
    "duration": 81,
    "start_time": "2021-08-13T12:28:24.727Z"
   },
   {
    "duration": 47,
    "start_time": "2021-08-13T12:28:24.810Z"
   },
   {
    "duration": 13,
    "start_time": "2021-08-13T12:28:24.860Z"
   },
   {
    "duration": 25,
    "start_time": "2021-08-13T12:28:24.875Z"
   },
   {
    "duration": 84,
    "start_time": "2021-08-13T12:28:24.902Z"
   },
   {
    "duration": 569,
    "start_time": "2021-08-13T12:28:24.988Z"
   },
   {
    "duration": 584,
    "start_time": "2021-08-13T12:28:25.560Z"
   },
   {
    "duration": 6,
    "start_time": "2021-08-13T12:28:26.148Z"
   },
   {
    "duration": 46,
    "start_time": "2021-08-13T12:28:26.157Z"
   },
   {
    "duration": 29,
    "start_time": "2021-08-13T12:28:26.205Z"
   },
   {
    "duration": 29,
    "start_time": "2021-08-13T12:28:26.236Z"
   },
   {
    "duration": 13,
    "start_time": "2021-08-13T12:28:26.268Z"
   },
   {
    "duration": 86,
    "start_time": "2021-08-13T12:28:26.284Z"
   },
   {
    "duration": 10,
    "start_time": "2021-08-13T12:28:26.372Z"
   },
   {
    "duration": 584,
    "start_time": "2021-08-13T12:28:26.384Z"
   },
   {
    "duration": 8,
    "start_time": "2021-08-13T12:28:26.971Z"
   },
   {
    "duration": 11,
    "start_time": "2021-08-13T12:28:26.982Z"
   },
   {
    "duration": 5,
    "start_time": "2021-08-13T12:28:26.996Z"
   },
   {
    "duration": 570,
    "start_time": "2021-08-13T12:28:27.003Z"
   },
   {
    "duration": 330,
    "start_time": "2021-08-13T12:28:27.575Z"
   },
   {
    "duration": 19,
    "start_time": "2021-08-13T12:28:27.907Z"
   },
   {
    "duration": 48,
    "start_time": "2021-08-13T12:28:27.928Z"
   },
   {
    "duration": 39,
    "start_time": "2021-08-13T12:28:27.980Z"
   },
   {
    "duration": 7,
    "start_time": "2021-08-13T12:28:28.021Z"
   },
   {
    "duration": 24,
    "start_time": "2021-08-13T12:28:28.055Z"
   },
   {
    "duration": 25,
    "start_time": "2021-08-13T12:28:28.082Z"
   },
   {
    "duration": 12,
    "start_time": "2021-08-13T12:28:28.109Z"
   },
   {
    "duration": 46,
    "start_time": "2021-08-13T12:30:19.502Z"
   },
   {
    "duration": 50,
    "start_time": "2021-08-13T12:31:09.775Z"
   },
   {
    "duration": 16,
    "start_time": "2021-08-13T12:31:55.861Z"
   },
   {
    "duration": 14,
    "start_time": "2021-08-13T12:32:23.630Z"
   },
   {
    "duration": 15,
    "start_time": "2021-08-13T12:32:41.471Z"
   },
   {
    "duration": 932,
    "start_time": "2021-08-13T12:40:21.901Z"
   },
   {
    "duration": 15,
    "start_time": "2021-08-13T12:40:40.572Z"
   },
   {
    "duration": 13,
    "start_time": "2021-08-13T12:45:43.334Z"
   },
   {
    "duration": 14,
    "start_time": "2021-08-13T12:46:32.425Z"
   },
   {
    "duration": 14,
    "start_time": "2021-08-13T12:47:13.747Z"
   },
   {
    "duration": 14,
    "start_time": "2021-08-13T12:50:42.319Z"
   },
   {
    "duration": 6,
    "start_time": "2021-08-13T12:51:46.808Z"
   },
   {
    "duration": 618,
    "start_time": "2021-08-13T12:52:09.419Z"
   },
   {
    "duration": 505,
    "start_time": "2021-08-13T12:52:57.877Z"
   },
   {
    "duration": 11,
    "start_time": "2021-08-13T12:57:17.105Z"
   },
   {
    "duration": 9,
    "start_time": "2021-08-13T12:57:42.990Z"
   },
   {
    "duration": 9,
    "start_time": "2021-08-13T13:08:24.959Z"
   },
   {
    "duration": 6,
    "start_time": "2021-08-13T13:17:14.562Z"
   },
   {
    "duration": 934,
    "start_time": "2021-08-13T15:31:35.296Z"
   },
   {
    "duration": 14,
    "start_time": "2021-08-13T15:31:36.233Z"
   },
   {
    "duration": 12,
    "start_time": "2021-08-13T15:31:36.250Z"
   },
   {
    "duration": 21,
    "start_time": "2021-08-13T15:31:36.282Z"
   },
   {
    "duration": 6,
    "start_time": "2021-08-13T15:31:39.362Z"
   },
   {
    "duration": 1020,
    "start_time": "2021-08-13T15:32:07.159Z"
   },
   {
    "duration": 22,
    "start_time": "2021-08-13T15:32:08.182Z"
   },
   {
    "duration": 22,
    "start_time": "2021-08-13T15:32:08.207Z"
   },
   {
    "duration": 34,
    "start_time": "2021-08-13T15:32:08.232Z"
   },
   {
    "duration": 22,
    "start_time": "2021-08-13T15:32:22.110Z"
   },
   {
    "duration": 17,
    "start_time": "2021-08-13T15:32:34.577Z"
   },
   {
    "duration": 16,
    "start_time": "2021-08-13T15:32:35.578Z"
   },
   {
    "duration": 20,
    "start_time": "2021-08-13T15:32:37.821Z"
   },
   {
    "duration": 8,
    "start_time": "2021-08-13T15:39:20.235Z"
   },
   {
    "duration": 593,
    "start_time": "2021-08-13T15:39:24.533Z"
   },
   {
    "duration": 688,
    "start_time": "2021-08-13T15:44:01.196Z"
   },
   {
    "duration": 12,
    "start_time": "2021-08-13T15:45:33.003Z"
   },
   {
    "duration": 40,
    "start_time": "2021-08-13T15:46:24.379Z"
   },
   {
    "duration": 43,
    "start_time": "2021-08-13T15:48:18.770Z"
   },
   {
    "duration": 12,
    "start_time": "2021-08-13T15:49:36.365Z"
   },
   {
    "duration": 14,
    "start_time": "2021-08-13T16:02:30.642Z"
   },
   {
    "duration": 11,
    "start_time": "2021-08-13T16:02:49.726Z"
   },
   {
    "duration": 14,
    "start_time": "2021-08-13T16:03:40.703Z"
   },
   {
    "duration": 120,
    "start_time": "2021-08-13T16:05:57.968Z"
   },
   {
    "duration": 74,
    "start_time": "2021-08-13T16:07:51.824Z"
   },
   {
    "duration": 69,
    "start_time": "2021-08-13T16:22:55.517Z"
   },
   {
    "duration": 42,
    "start_time": "2021-08-13T16:26:44.835Z"
   },
   {
    "duration": 52,
    "start_time": "2021-08-13T16:27:11.368Z"
   },
   {
    "duration": 58,
    "start_time": "2021-08-13T16:27:17.461Z"
   },
   {
    "duration": 422,
    "start_time": "2021-08-13T16:27:41.235Z"
   },
   {
    "duration": 125,
    "start_time": "2021-08-13T16:29:59.926Z"
   },
   {
    "duration": 128,
    "start_time": "2021-08-13T16:30:24.064Z"
   },
   {
    "duration": 74,
    "start_time": "2021-08-13T16:30:39.838Z"
   },
   {
    "duration": 59,
    "start_time": "2021-08-13T16:31:40.821Z"
   },
   {
    "duration": 93,
    "start_time": "2021-08-13T16:32:53.479Z"
   },
   {
    "duration": 94,
    "start_time": "2021-08-13T16:33:03.243Z"
   },
   {
    "duration": 59,
    "start_time": "2021-08-13T16:33:16.817Z"
   },
   {
    "duration": 66,
    "start_time": "2021-08-13T16:34:01.274Z"
   },
   {
    "duration": 7,
    "start_time": "2021-08-13T16:45:05.258Z"
   },
   {
    "duration": 30,
    "start_time": "2021-08-13T16:45:17.478Z"
   },
   {
    "duration": 7,
    "start_time": "2021-08-13T16:45:40.308Z"
   },
   {
    "duration": 57,
    "start_time": "2021-08-13T16:46:07.966Z"
   },
   {
    "duration": 34,
    "start_time": "2021-08-13T16:46:55.503Z"
   },
   {
    "duration": 15,
    "start_time": "2021-08-13T16:47:24.953Z"
   },
   {
    "duration": 33,
    "start_time": "2021-08-13T16:48:01.489Z"
   },
   {
    "duration": 21,
    "start_time": "2021-08-13T16:48:57.460Z"
   },
   {
    "duration": 34,
    "start_time": "2021-08-13T16:49:38.050Z"
   },
   {
    "duration": 24,
    "start_time": "2021-08-13T16:50:56.843Z"
   },
   {
    "duration": 43,
    "start_time": "2021-08-13T16:52:22.349Z"
   },
   {
    "duration": 9,
    "start_time": "2021-08-13T16:53:40.767Z"
   },
   {
    "duration": 16,
    "start_time": "2021-08-13T16:54:58.388Z"
   },
   {
    "duration": 31,
    "start_time": "2021-08-13T16:55:07.706Z"
   },
   {
    "duration": 20,
    "start_time": "2021-08-13T16:56:41.451Z"
   },
   {
    "duration": 13,
    "start_time": "2021-08-13T16:57:13.389Z"
   },
   {
    "duration": 8,
    "start_time": "2021-08-13T16:58:04.444Z"
   },
   {
    "duration": 96,
    "start_time": "2021-08-13T17:11:19.465Z"
   },
   {
    "duration": 6,
    "start_time": "2021-08-13T17:11:57.330Z"
   },
   {
    "duration": 11,
    "start_time": "2021-08-13T17:12:08.773Z"
   },
   {
    "duration": 263,
    "start_time": "2021-08-13T17:13:58.942Z"
   },
   {
    "duration": 943,
    "start_time": "2021-08-14T08:57:57.379Z"
   },
   {
    "duration": 14,
    "start_time": "2021-08-14T08:57:58.325Z"
   },
   {
    "duration": 29,
    "start_time": "2021-08-14T08:57:58.343Z"
   },
   {
    "duration": 14,
    "start_time": "2021-08-14T08:57:58.375Z"
   },
   {
    "duration": 6,
    "start_time": "2021-08-14T08:57:58.392Z"
   },
   {
    "duration": 581,
    "start_time": "2021-08-14T08:57:58.401Z"
   },
   {
    "duration": 538,
    "start_time": "2021-08-14T08:57:58.984Z"
   },
   {
    "duration": 9,
    "start_time": "2021-08-14T08:57:59.525Z"
   },
   {
    "duration": 46,
    "start_time": "2021-08-14T08:57:59.537Z"
   },
   {
    "duration": 9,
    "start_time": "2021-08-14T08:57:59.586Z"
   },
   {
    "duration": 9,
    "start_time": "2021-08-14T08:57:59.597Z"
   },
   {
    "duration": 78,
    "start_time": "2021-08-14T08:57:59.609Z"
   },
   {
    "duration": 19,
    "start_time": "2021-08-14T08:57:59.689Z"
   },
   {
    "duration": 101,
    "start_time": "2021-08-14T08:57:59.710Z"
   },
   {
    "duration": 48,
    "start_time": "2021-08-14T08:57:59.813Z"
   },
   {
    "duration": 6,
    "start_time": "2021-08-14T08:57:59.864Z"
   },
   {
    "duration": 44,
    "start_time": "2021-08-14T08:57:59.872Z"
   },
   {
    "duration": 12,
    "start_time": "2021-08-14T08:57:59.919Z"
   },
   {
    "duration": 927,
    "start_time": "2021-08-14T08:59:09.435Z"
   },
   {
    "duration": 4,
    "start_time": "2021-08-14T08:59:12.142Z"
   },
   {
    "duration": 395,
    "start_time": "2021-08-14T08:59:22.827Z"
   },
   {
    "duration": 5,
    "start_time": "2021-08-14T08:59:27.920Z"
   },
   {
    "duration": 290,
    "start_time": "2021-08-14T10:12:07.511Z"
   },
   {
    "duration": 9,
    "start_time": "2021-08-14T10:12:13.521Z"
   },
   {
    "duration": 309,
    "start_time": "2021-08-14T10:14:09.414Z"
   },
   {
    "duration": 350,
    "start_time": "2021-08-14T10:14:17.603Z"
   },
   {
    "duration": 11,
    "start_time": "2021-08-14T10:14:24.241Z"
   },
   {
    "duration": 14,
    "start_time": "2021-08-14T10:15:17.131Z"
   },
   {
    "duration": 12,
    "start_time": "2021-08-14T10:15:20.366Z"
   },
   {
    "duration": 14,
    "start_time": "2021-08-14T10:15:57.097Z"
   },
   {
    "duration": 28,
    "start_time": "2021-08-14T10:16:05.640Z"
   },
   {
    "duration": 13,
    "start_time": "2021-08-14T10:17:49.581Z"
   },
   {
    "duration": 14,
    "start_time": "2021-08-14T10:18:03.948Z"
   },
   {
    "duration": 14,
    "start_time": "2021-08-14T10:19:54.241Z"
   },
   {
    "duration": 5,
    "start_time": "2021-08-14T10:28:24.777Z"
   },
   {
    "duration": 11,
    "start_time": "2021-08-14T10:28:32.796Z"
   },
   {
    "duration": 98,
    "start_time": "2021-08-14T12:01:56.784Z"
   },
   {
    "duration": 14,
    "start_time": "2021-08-14T12:02:14.228Z"
   },
   {
    "duration": 13,
    "start_time": "2021-08-14T12:02:23.504Z"
   },
   {
    "duration": 13,
    "start_time": "2021-08-14T12:06:54.895Z"
   },
   {
    "duration": 230,
    "start_time": "2021-08-14T12:08:32.140Z"
   },
   {
    "duration": 15,
    "start_time": "2021-08-14T12:10:02.158Z"
   },
   {
    "duration": 318,
    "start_time": "2021-08-14T12:10:17.311Z"
   },
   {
    "duration": 278,
    "start_time": "2021-08-14T12:10:48.979Z"
   },
   {
    "duration": 283,
    "start_time": "2021-08-14T12:11:05.933Z"
   },
   {
    "duration": 16,
    "start_time": "2021-08-14T12:11:27.158Z"
   },
   {
    "duration": 105,
    "start_time": "2021-08-14T12:11:34.091Z"
   },
   {
    "duration": 14,
    "start_time": "2021-08-14T12:11:39.671Z"
   },
   {
    "duration": 17,
    "start_time": "2021-08-14T12:12:03.630Z"
   },
   {
    "duration": 18,
    "start_time": "2021-08-14T12:16:31.786Z"
   },
   {
    "duration": 11,
    "start_time": "2021-08-14T12:30:41.795Z"
   },
   {
    "duration": 42,
    "start_time": "2021-08-14T12:34:15.562Z"
   },
   {
    "duration": 58,
    "start_time": "2021-08-14T12:34:32.845Z"
   },
   {
    "duration": 45,
    "start_time": "2021-08-14T12:35:08.397Z"
   },
   {
    "duration": 43,
    "start_time": "2021-08-14T12:35:24.148Z"
   },
   {
    "duration": 6,
    "start_time": "2021-08-14T12:54:45.703Z"
   },
   {
    "duration": 6,
    "start_time": "2021-08-14T12:54:55.909Z"
   },
   {
    "duration": 5,
    "start_time": "2021-08-14T12:54:58.006Z"
   },
   {
    "duration": 5,
    "start_time": "2021-08-14T12:55:27.618Z"
   },
   {
    "duration": 16,
    "start_time": "2021-08-14T12:55:41.083Z"
   },
   {
    "duration": 6,
    "start_time": "2021-08-14T13:13:03.400Z"
   },
   {
    "duration": 17,
    "start_time": "2021-08-14T13:13:05.720Z"
   },
   {
    "duration": 120,
    "start_time": "2021-08-14T13:13:16.671Z"
   },
   {
    "duration": 15,
    "start_time": "2021-08-14T13:13:16.793Z"
   },
   {
    "duration": 12,
    "start_time": "2021-08-14T13:13:16.812Z"
   },
   {
    "duration": 15,
    "start_time": "2021-08-14T13:13:16.862Z"
   },
   {
    "duration": 7,
    "start_time": "2021-08-14T13:13:16.880Z"
   },
   {
    "duration": 579,
    "start_time": "2021-08-14T13:13:16.890Z"
   },
   {
    "duration": 528,
    "start_time": "2021-08-14T13:13:17.471Z"
   },
   {
    "duration": 8,
    "start_time": "2021-08-14T13:13:18.003Z"
   },
   {
    "duration": 51,
    "start_time": "2021-08-14T13:13:18.014Z"
   },
   {
    "duration": 11,
    "start_time": "2021-08-14T13:13:18.068Z"
   },
   {
    "duration": 10,
    "start_time": "2021-08-14T13:13:18.082Z"
   },
   {
    "duration": 105,
    "start_time": "2021-08-14T13:13:18.095Z"
   },
   {
    "duration": 28,
    "start_time": "2021-08-14T13:13:18.203Z"
   },
   {
    "duration": 47,
    "start_time": "2021-08-14T13:13:18.233Z"
   },
   {
    "duration": 38,
    "start_time": "2021-08-14T13:13:18.282Z"
   },
   {
    "duration": 6,
    "start_time": "2021-08-14T13:13:18.322Z"
   },
   {
    "duration": 49,
    "start_time": "2021-08-14T13:13:18.330Z"
   },
   {
    "duration": 11,
    "start_time": "2021-08-14T13:13:18.382Z"
   },
   {
    "duration": 1302,
    "start_time": "2021-08-14T13:13:18.395Z"
   },
   {
    "duration": 20,
    "start_time": "2021-08-14T13:13:19.699Z"
   },
   {
    "duration": 6,
    "start_time": "2021-08-14T13:13:23.293Z"
   },
   {
    "duration": 14,
    "start_time": "2021-08-14T13:13:25.558Z"
   },
   {
    "duration": 6,
    "start_time": "2021-08-14T13:15:19.056Z"
   },
   {
    "duration": 19,
    "start_time": "2021-08-14T13:15:21.746Z"
   },
   {
    "duration": 6,
    "start_time": "2021-08-14T13:15:41.170Z"
   },
   {
    "duration": 19,
    "start_time": "2021-08-14T13:15:43.731Z"
   },
   {
    "duration": 18,
    "start_time": "2021-08-14T13:17:33.679Z"
   },
   {
    "duration": 4,
    "start_time": "2021-08-14T13:23:07.470Z"
   },
   {
    "duration": 18,
    "start_time": "2021-08-14T13:23:13.157Z"
   },
   {
    "duration": 17,
    "start_time": "2021-08-14T13:25:17.799Z"
   },
   {
    "duration": 6,
    "start_time": "2021-08-14T13:26:35.443Z"
   },
   {
    "duration": 6,
    "start_time": "2021-08-14T13:26:37.476Z"
   },
   {
    "duration": 547,
    "start_time": "2021-08-14T13:26:40.032Z"
   },
   {
    "duration": 6,
    "start_time": "2021-08-14T13:33:45.663Z"
   },
   {
    "duration": 515,
    "start_time": "2021-08-14T13:33:48.612Z"
   },
   {
    "duration": 113,
    "start_time": "2021-08-14T13:34:12.545Z"
   },
   {
    "duration": 15,
    "start_time": "2021-08-14T13:34:12.663Z"
   },
   {
    "duration": 12,
    "start_time": "2021-08-14T13:34:12.681Z"
   },
   {
    "duration": 14,
    "start_time": "2021-08-14T13:34:12.697Z"
   },
   {
    "duration": 6,
    "start_time": "2021-08-14T13:34:12.763Z"
   },
   {
    "duration": 577,
    "start_time": "2021-08-14T13:34:12.772Z"
   },
   {
    "duration": 550,
    "start_time": "2021-08-14T13:34:13.352Z"
   },
   {
    "duration": 10,
    "start_time": "2021-08-14T13:34:13.906Z"
   },
   {
    "duration": 50,
    "start_time": "2021-08-14T13:34:13.919Z"
   },
   {
    "duration": 11,
    "start_time": "2021-08-14T13:34:13.971Z"
   },
   {
    "duration": 10,
    "start_time": "2021-08-14T13:34:13.985Z"
   },
   {
    "duration": 92,
    "start_time": "2021-08-14T13:34:13.998Z"
   },
   {
    "duration": 19,
    "start_time": "2021-08-14T13:34:14.092Z"
   },
   {
    "duration": 52,
    "start_time": "2021-08-14T13:34:14.113Z"
   },
   {
    "duration": 36,
    "start_time": "2021-08-14T13:34:14.167Z"
   },
   {
    "duration": 6,
    "start_time": "2021-08-14T13:34:14.205Z"
   },
   {
    "duration": 58,
    "start_time": "2021-08-14T13:34:14.214Z"
   },
   {
    "duration": 8,
    "start_time": "2021-08-14T13:34:14.274Z"
   },
   {
    "duration": 1045,
    "start_time": "2021-08-14T13:34:14.285Z"
   },
   {
    "duration": 35,
    "start_time": "2021-08-14T13:34:15.334Z"
   },
   {
    "duration": 525,
    "start_time": "2021-08-14T13:34:24.809Z"
   },
   {
    "duration": 1217,
    "start_time": "2021-08-14T13:35:28.175Z"
   },
   {
    "duration": 21,
    "start_time": "2021-08-14T13:35:29.396Z"
   },
   {
    "duration": 17,
    "start_time": "2021-08-14T13:35:29.421Z"
   },
   {
    "duration": 16,
    "start_time": "2021-08-14T13:35:29.463Z"
   },
   {
    "duration": 6,
    "start_time": "2021-08-14T13:35:29.482Z"
   },
   {
    "duration": 720,
    "start_time": "2021-08-14T13:35:29.490Z"
   },
   {
    "duration": 527,
    "start_time": "2021-08-14T13:35:30.212Z"
   },
   {
    "duration": 8,
    "start_time": "2021-08-14T13:35:30.742Z"
   },
   {
    "duration": 40,
    "start_time": "2021-08-14T13:35:30.753Z"
   },
   {
    "duration": 10,
    "start_time": "2021-08-14T13:35:30.795Z"
   },
   {
    "duration": 10,
    "start_time": "2021-08-14T13:35:30.808Z"
   },
   {
    "duration": 144,
    "start_time": "2021-08-14T13:35:30.820Z"
   },
   {
    "duration": 19,
    "start_time": "2021-08-14T13:35:30.967Z"
   },
   {
    "duration": 33,
    "start_time": "2021-08-14T13:35:30.988Z"
   },
   {
    "duration": 62,
    "start_time": "2021-08-14T13:35:31.023Z"
   },
   {
    "duration": 6,
    "start_time": "2021-08-14T13:35:31.087Z"
   },
   {
    "duration": 24,
    "start_time": "2021-08-14T13:35:31.096Z"
   },
   {
    "duration": 13,
    "start_time": "2021-08-14T13:35:31.123Z"
   },
   {
    "duration": 940,
    "start_time": "2021-08-14T13:35:31.163Z"
   },
   {
    "duration": 20,
    "start_time": "2021-08-14T13:35:32.106Z"
   },
   {
    "duration": 14,
    "start_time": "2021-08-14T13:35:32.129Z"
   },
   {
    "duration": 408,
    "start_time": "2021-08-14T13:35:32.146Z"
   },
   {
    "duration": -20,
    "start_time": "2021-08-14T13:35:32.578Z"
   },
   {
    "duration": 17,
    "start_time": "2021-08-14T13:35:59.263Z"
   },
   {
    "duration": 49,
    "start_time": "2021-08-14T13:37:19.633Z"
   },
   {
    "duration": 17,
    "start_time": "2021-08-14T13:53:48.614Z"
   },
   {
    "duration": 54,
    "start_time": "2021-08-14T13:53:52.933Z"
   },
   {
    "duration": 405,
    "start_time": "2021-08-14T13:55:46.511Z"
   },
   {
    "duration": 517,
    "start_time": "2021-08-14T13:56:33.373Z"
   },
   {
    "duration": 304,
    "start_time": "2021-08-14T13:56:41.073Z"
   },
   {
    "duration": 295,
    "start_time": "2021-08-14T13:59:34.823Z"
   },
   {
    "duration": 17,
    "start_time": "2021-08-14T14:01:11.626Z"
   },
   {
    "duration": 11,
    "start_time": "2021-08-14T14:01:46.189Z"
   },
   {
    "duration": 13,
    "start_time": "2021-08-14T14:02:05.093Z"
   },
   {
    "duration": 35,
    "start_time": "2021-08-14T14:02:13.253Z"
   },
   {
    "duration": 11,
    "start_time": "2021-08-14T14:10:11.026Z"
   },
   {
    "duration": 896,
    "start_time": "2021-08-14T17:16:26.017Z"
   },
   {
    "duration": 15,
    "start_time": "2021-08-14T17:16:26.915Z"
   },
   {
    "duration": 32,
    "start_time": "2021-08-14T17:16:26.933Z"
   },
   {
    "duration": 14,
    "start_time": "2021-08-14T17:16:26.968Z"
   },
   {
    "duration": 362,
    "start_time": "2021-08-14T17:16:34.340Z"
   },
   {
    "duration": 77,
    "start_time": "2021-08-14T17:16:42.295Z"
   },
   {
    "duration": 14,
    "start_time": "2021-08-14T17:16:42.375Z"
   },
   {
    "duration": 19,
    "start_time": "2021-08-14T17:16:42.392Z"
   },
   {
    "duration": 48,
    "start_time": "2021-08-14T17:16:42.414Z"
   },
   {
    "duration": 6,
    "start_time": "2021-08-14T17:16:42.464Z"
   },
   {
    "duration": 78,
    "start_time": "2021-08-14T17:17:07.227Z"
   },
   {
    "duration": 14,
    "start_time": "2021-08-14T17:17:11.691Z"
   },
   {
    "duration": 13,
    "start_time": "2021-08-14T17:17:15.161Z"
   },
   {
    "duration": 14,
    "start_time": "2021-08-14T17:17:18.981Z"
   },
   {
    "duration": 6,
    "start_time": "2021-08-14T17:17:22.842Z"
   },
   {
    "duration": 570,
    "start_time": "2021-08-14T17:17:25.967Z"
   },
   {
    "duration": 525,
    "start_time": "2021-08-14T17:17:32.199Z"
   },
   {
    "duration": 8,
    "start_time": "2021-08-14T17:17:38.814Z"
   },
   {
    "duration": 26,
    "start_time": "2021-08-14T17:17:43.093Z"
   },
   {
    "duration": 10,
    "start_time": "2021-08-14T17:17:52.926Z"
   },
   {
    "duration": 11,
    "start_time": "2021-08-14T17:17:55.963Z"
   },
   {
    "duration": 52,
    "start_time": "2021-08-14T17:18:00.369Z"
   },
   {
    "duration": 361,
    "start_time": "2021-08-14T17:18:19.553Z"
   },
   {
    "duration": 7,
    "start_time": "2021-08-14T17:23:17.043Z"
   },
   {
    "duration": 12,
    "start_time": "2021-08-14T17:23:31.964Z"
   },
   {
    "duration": 26,
    "start_time": "2021-08-14T17:23:54.012Z"
   },
   {
    "duration": 12,
    "start_time": "2021-08-14T17:24:14.019Z"
   },
   {
    "duration": 10,
    "start_time": "2021-08-14T17:27:27.971Z"
   },
   {
    "duration": 28,
    "start_time": "2021-08-14T17:28:46.840Z"
   },
   {
    "duration": 36,
    "start_time": "2021-08-14T17:28:50.314Z"
   },
   {
    "duration": 58,
    "start_time": "2021-08-14T17:28:52.691Z"
   },
   {
    "duration": 7,
    "start_time": "2021-08-14T17:28:55.604Z"
   },
   {
    "duration": 23,
    "start_time": "2021-08-14T17:28:58.069Z"
   },
   {
    "duration": 8,
    "start_time": "2021-08-14T17:29:02.189Z"
   },
   {
    "duration": 904,
    "start_time": "2021-08-14T17:29:08.096Z"
   },
   {
    "duration": 29,
    "start_time": "2021-08-14T17:29:12.691Z"
   },
   {
    "duration": 25,
    "start_time": "2021-08-14T17:29:19.092Z"
   },
   {
    "duration": 6,
    "start_time": "2021-08-14T17:29:25.349Z"
   },
   {
    "duration": 19,
    "start_time": "2021-08-14T17:29:27.563Z"
   },
   {
    "duration": 51,
    "start_time": "2021-08-14T17:29:47.994Z"
   },
   {
    "duration": 37,
    "start_time": "2021-08-14T17:30:12.316Z"
   },
   {
    "duration": 27,
    "start_time": "2021-08-14T17:32:04.038Z"
   },
   {
    "duration": 21,
    "start_time": "2021-08-14T17:35:08.196Z"
   },
   {
    "duration": 28,
    "start_time": "2021-08-14T17:35:14.393Z"
   },
   {
    "duration": 23,
    "start_time": "2021-08-14T17:36:13.225Z"
   },
   {
    "duration": 19,
    "start_time": "2021-08-14T17:36:49.106Z"
   },
   {
    "duration": 31,
    "start_time": "2021-08-14T17:40:55.758Z"
   },
   {
    "duration": 34,
    "start_time": "2021-08-14T17:42:51.793Z"
   },
   {
    "duration": 31,
    "start_time": "2021-08-14T17:43:13.735Z"
   },
   {
    "duration": 33,
    "start_time": "2021-08-14T17:48:25.227Z"
   },
   {
    "duration": 31,
    "start_time": "2021-08-14T17:50:42.933Z"
   },
   {
    "duration": 35,
    "start_time": "2021-08-14T17:52:04.053Z"
   },
   {
    "duration": 31,
    "start_time": "2021-08-14T17:52:42.524Z"
   },
   {
    "duration": 53,
    "start_time": "2021-08-14T17:54:23.993Z"
   },
   {
    "duration": 901,
    "start_time": "2021-08-14T17:56:28.010Z"
   },
   {
    "duration": 14,
    "start_time": "2021-08-14T17:56:28.914Z"
   },
   {
    "duration": 14,
    "start_time": "2021-08-14T17:56:28.931Z"
   },
   {
    "duration": 15,
    "start_time": "2021-08-14T17:56:28.962Z"
   },
   {
    "duration": 7,
    "start_time": "2021-08-14T17:56:28.979Z"
   },
   {
    "duration": 565,
    "start_time": "2021-08-14T17:56:28.989Z"
   },
   {
    "duration": 530,
    "start_time": "2021-08-14T17:56:29.556Z"
   },
   {
    "duration": 8,
    "start_time": "2021-08-14T17:56:30.090Z"
   },
   {
    "duration": 34,
    "start_time": "2021-08-14T17:56:30.100Z"
   },
   {
    "duration": 35,
    "start_time": "2021-08-14T17:56:30.136Z"
   },
   {
    "duration": 11,
    "start_time": "2021-08-14T17:56:30.174Z"
   },
   {
    "duration": 139,
    "start_time": "2021-08-14T17:56:30.188Z"
   },
   {
    "duration": 330,
    "start_time": "2021-08-14T17:56:30.329Z"
   },
   {
    "duration": 10,
    "start_time": "2021-08-14T17:56:30.662Z"
   },
   {
    "duration": 24,
    "start_time": "2021-08-14T17:56:30.675Z"
   },
   {
    "duration": 10,
    "start_time": "2021-08-14T17:56:30.702Z"
   },
   {
    "duration": 20,
    "start_time": "2021-08-14T17:56:30.715Z"
   },
   {
    "duration": 26,
    "start_time": "2021-08-14T17:56:30.762Z"
   },
   {
    "duration": 38,
    "start_time": "2021-08-14T17:56:30.791Z"
   },
   {
    "duration": 32,
    "start_time": "2021-08-14T17:56:30.832Z"
   },
   {
    "duration": 28,
    "start_time": "2021-08-14T17:56:30.867Z"
   },
   {
    "duration": 15,
    "start_time": "2021-08-14T17:56:30.898Z"
   },
   {
    "duration": 1052,
    "start_time": "2021-08-14T17:56:30.918Z"
   },
   {
    "duration": 21,
    "start_time": "2021-08-14T17:56:31.974Z"
   },
   {
    "duration": 7,
    "start_time": "2021-08-14T17:56:31.997Z"
   },
   {
    "duration": 29,
    "start_time": "2021-08-14T17:56:32.006Z"
   },
   {
    "duration": 73,
    "start_time": "2021-08-14T17:56:32.038Z"
   },
   {
    "duration": 48,
    "start_time": "2021-08-14T17:56:32.114Z"
   },
   {
    "duration": 34,
    "start_time": "2021-08-14T17:56:32.165Z"
   },
   {
    "duration": 31,
    "start_time": "2021-08-14T17:56:32.201Z"
   },
   {
    "duration": 54,
    "start_time": "2021-08-14T17:56:32.262Z"
   },
   {
    "duration": 55,
    "start_time": "2021-08-14T17:56:32.318Z"
   },
   {
    "duration": 33,
    "start_time": "2021-08-14T17:57:44.036Z"
   },
   {
    "duration": 88,
    "start_time": "2021-08-14T18:05:13.023Z"
   },
   {
    "duration": 88,
    "start_time": "2021-08-14T18:05:20.604Z"
   },
   {
    "duration": 32,
    "start_time": "2021-08-14T18:05:23.761Z"
   },
   {
    "duration": 92,
    "start_time": "2021-08-14T18:05:29.883Z"
   },
   {
    "duration": 31,
    "start_time": "2021-08-14T18:05:36.562Z"
   },
   {
    "duration": 157,
    "start_time": "2021-08-14T18:07:30.422Z"
   },
   {
    "duration": 32,
    "start_time": "2021-08-14T18:08:52.072Z"
   },
   {
    "duration": 32,
    "start_time": "2021-08-14T18:09:28.839Z"
   },
   {
    "duration": 46,
    "start_time": "2021-08-14T18:09:42.305Z"
   },
   {
    "duration": 446,
    "start_time": "2021-08-14T18:14:05.908Z"
   },
   {
    "duration": 302,
    "start_time": "2021-08-14T18:14:17.278Z"
   },
   {
    "duration": 549,
    "start_time": "2021-08-14T18:14:27.333Z"
   },
   {
    "duration": 9,
    "start_time": "2021-08-14T18:15:17.350Z"
   },
   {
    "duration": 40,
    "start_time": "2021-08-14T18:15:25.357Z"
   },
   {
    "duration": 23,
    "start_time": "2021-08-14T18:15:43.018Z"
   },
   {
    "duration": 744,
    "start_time": "2021-08-14T18:16:03.690Z"
   },
   {
    "duration": 6891,
    "start_time": "2021-08-14T18:16:55.103Z"
   },
   {
    "duration": 6894,
    "start_time": "2021-08-14T18:17:12.110Z"
   },
   {
    "duration": 86,
    "start_time": "2021-08-14T18:19:27.918Z"
   },
   {
    "duration": 91,
    "start_time": "2021-08-14T18:19:37.511Z"
   },
   {
    "duration": 91,
    "start_time": "2021-08-14T18:19:43.581Z"
   },
   {
    "duration": 95,
    "start_time": "2021-08-14T18:19:49.657Z"
   },
   {
    "duration": 976,
    "start_time": "2021-08-14T18:22:01.718Z"
   },
   {
    "duration": 74,
    "start_time": "2021-08-14T18:26:59.011Z"
   },
   {
    "duration": 6,
    "start_time": "2021-08-14T18:27:02.083Z"
   },
   {
    "duration": 24,
    "start_time": "2021-08-14T18:27:09.258Z"
   },
   {
    "duration": 1841,
    "start_time": "2021-08-14T18:27:52.275Z"
   },
   {
    "duration": 12,
    "start_time": "2021-08-14T18:28:14.599Z"
   },
   {
    "duration": 282,
    "start_time": "2021-08-14T18:28:48.433Z"
   },
   {
    "duration": 524,
    "start_time": "2021-08-14T18:29:10.144Z"
   },
   {
    "duration": 275,
    "start_time": "2021-08-14T18:30:23.383Z"
   },
   {
    "duration": 367,
    "start_time": "2021-08-14T18:30:43.608Z"
   },
   {
    "duration": 784,
    "start_time": "2021-08-14T18:32:35.485Z"
   },
   {
    "duration": 1273,
    "start_time": "2021-08-14T18:50:40.538Z"
   },
   {
    "duration": 22,
    "start_time": "2021-08-14T18:50:41.814Z"
   },
   {
    "duration": 34,
    "start_time": "2021-08-14T18:50:41.840Z"
   },
   {
    "duration": 19,
    "start_time": "2021-08-14T18:50:41.878Z"
   },
   {
    "duration": 7,
    "start_time": "2021-08-14T18:50:41.900Z"
   },
   {
    "duration": 880,
    "start_time": "2021-08-14T18:50:41.910Z"
   },
   {
    "duration": 528,
    "start_time": "2021-08-14T18:50:42.792Z"
   },
   {
    "duration": 8,
    "start_time": "2021-08-14T18:50:43.324Z"
   },
   {
    "duration": 47,
    "start_time": "2021-08-14T18:50:43.336Z"
   },
   {
    "duration": 10,
    "start_time": "2021-08-14T18:50:43.385Z"
   },
   {
    "duration": 11,
    "start_time": "2021-08-14T18:50:43.398Z"
   },
   {
    "duration": 158,
    "start_time": "2021-08-14T18:50:43.411Z"
   },
   {
    "duration": 323,
    "start_time": "2021-08-14T18:50:43.571Z"
   },
   {
    "duration": 10,
    "start_time": "2021-08-14T18:50:43.896Z"
   },
   {
    "duration": 13,
    "start_time": "2021-08-14T18:50:43.908Z"
   },
   {
    "duration": 39,
    "start_time": "2021-08-14T18:50:43.924Z"
   },
   {
    "duration": 19,
    "start_time": "2021-08-14T18:50:43.966Z"
   },
   {
    "duration": 26,
    "start_time": "2021-08-14T18:50:43.988Z"
   },
   {
    "duration": 74,
    "start_time": "2021-08-14T18:50:44.016Z"
   },
   {
    "duration": 7,
    "start_time": "2021-08-14T18:50:44.092Z"
   },
   {
    "duration": 21,
    "start_time": "2021-08-14T18:50:44.102Z"
   },
   {
    "duration": 40,
    "start_time": "2021-08-14T18:50:44.126Z"
   },
   {
    "duration": 927,
    "start_time": "2021-08-14T18:50:44.171Z"
   },
   {
    "duration": 20,
    "start_time": "2021-08-14T18:50:45.101Z"
   },
   {
    "duration": 9,
    "start_time": "2021-08-14T18:50:45.123Z"
   },
   {
    "duration": 42,
    "start_time": "2021-08-14T18:50:45.135Z"
   },
   {
    "duration": 57,
    "start_time": "2021-08-14T18:50:45.180Z"
   },
   {
    "duration": 26,
    "start_time": "2021-08-14T18:50:45.263Z"
   },
   {
    "duration": 420,
    "start_time": "2021-08-14T18:50:45.291Z"
   },
   {
    "duration": 50,
    "start_time": "2021-08-14T18:50:45.713Z"
   },
   {
    "duration": 30,
    "start_time": "2021-08-14T18:50:45.766Z"
   },
   {
    "duration": 76,
    "start_time": "2021-08-14T18:50:45.798Z"
   },
   {
    "duration": 31,
    "start_time": "2021-08-14T18:50:45.876Z"
   },
   {
    "duration": 527,
    "start_time": "2021-08-14T18:53:09.311Z"
   },
   {
    "duration": 311,
    "start_time": "2021-08-14T18:53:17.641Z"
   },
   {
    "duration": 436,
    "start_time": "2021-08-14T18:53:33.946Z"
   },
   {
    "duration": 902,
    "start_time": "2021-08-14T19:47:55.200Z"
   },
   {
    "duration": 18,
    "start_time": "2021-08-14T19:47:56.106Z"
   },
   {
    "duration": 35,
    "start_time": "2021-08-14T19:47:56.128Z"
   },
   {
    "duration": 16,
    "start_time": "2021-08-14T19:47:56.167Z"
   },
   {
    "duration": 6,
    "start_time": "2021-08-14T19:47:56.187Z"
   },
   {
    "duration": 572,
    "start_time": "2021-08-14T19:47:56.196Z"
   },
   {
    "duration": 519,
    "start_time": "2021-08-14T19:47:56.771Z"
   },
   {
    "duration": 8,
    "start_time": "2021-08-14T19:47:57.294Z"
   },
   {
    "duration": 26,
    "start_time": "2021-08-14T19:47:57.305Z"
   },
   {
    "duration": 13,
    "start_time": "2021-08-14T19:47:57.361Z"
   },
   {
    "duration": 13,
    "start_time": "2021-08-14T19:47:57.377Z"
   },
   {
    "duration": 146,
    "start_time": "2021-08-14T19:47:57.393Z"
   },
   {
    "duration": 308,
    "start_time": "2021-08-14T19:47:57.542Z"
   },
   {
    "duration": 15,
    "start_time": "2021-08-14T19:47:57.853Z"
   },
   {
    "duration": 11,
    "start_time": "2021-08-14T19:47:57.870Z"
   },
   {
    "duration": 8,
    "start_time": "2021-08-14T19:47:57.884Z"
   },
   {
    "duration": 26,
    "start_time": "2021-08-14T19:47:57.894Z"
   },
   {
    "duration": 57,
    "start_time": "2021-08-14T19:47:57.923Z"
   },
   {
    "duration": 35,
    "start_time": "2021-08-14T19:47:57.982Z"
   },
   {
    "duration": 6,
    "start_time": "2021-08-14T19:47:58.020Z"
   },
   {
    "duration": 52,
    "start_time": "2021-08-14T19:47:58.028Z"
   },
   {
    "duration": 12,
    "start_time": "2021-08-14T19:47:58.083Z"
   },
   {
    "duration": 917,
    "start_time": "2021-08-14T19:47:58.100Z"
   },
   {
    "duration": 20,
    "start_time": "2021-08-14T19:47:59.020Z"
   },
   {
    "duration": 5,
    "start_time": "2021-08-14T19:47:59.062Z"
   },
   {
    "duration": 24,
    "start_time": "2021-08-14T19:47:59.069Z"
   },
   {
    "duration": 68,
    "start_time": "2021-08-14T19:47:59.096Z"
   },
   {
    "duration": 26,
    "start_time": "2021-08-14T19:47:59.166Z"
   },
   {
    "duration": 446,
    "start_time": "2021-08-14T19:47:59.194Z"
   },
   {
    "duration": 40,
    "start_time": "2021-08-14T19:47:59.643Z"
   },
   {
    "duration": 32,
    "start_time": "2021-08-14T19:47:59.686Z"
   },
   {
    "duration": 78,
    "start_time": "2021-08-14T19:47:59.720Z"
   },
   {
    "duration": 34,
    "start_time": "2021-08-14T19:47:59.801Z"
   },
   {
    "duration": 101,
    "start_time": "2021-08-14T20:05:27.482Z"
   },
   {
    "duration": 94,
    "start_time": "2021-08-14T20:06:02.497Z"
   },
   {
    "duration": 5,
    "start_time": "2021-08-14T20:06:18.175Z"
   },
   {
    "duration": 54,
    "start_time": "2021-08-14T20:09:58.157Z"
   },
   {
    "duration": 17,
    "start_time": "2021-08-14T20:11:05.645Z"
   },
   {
    "duration": 39,
    "start_time": "2021-08-14T20:11:50.183Z"
   },
   {
    "duration": 34,
    "start_time": "2021-08-14T20:12:04.600Z"
   },
   {
    "duration": 6,
    "start_time": "2021-08-14T20:18:34.921Z"
   },
   {
    "duration": 18,
    "start_time": "2021-08-14T20:18:38.039Z"
   },
   {
    "duration": 43,
    "start_time": "2021-08-14T20:18:47.856Z"
   },
   {
    "duration": 31,
    "start_time": "2021-08-14T20:18:58.524Z"
   },
   {
    "duration": 6,
    "start_time": "2021-08-14T20:22:17.370Z"
   },
   {
    "duration": 25,
    "start_time": "2021-08-14T20:22:21.257Z"
   },
   {
    "duration": 45,
    "start_time": "2021-08-14T20:22:38.609Z"
   },
   {
    "duration": 33,
    "start_time": "2021-08-14T20:26:58.399Z"
   },
   {
    "duration": 333,
    "start_time": "2021-08-14T20:34:23.605Z"
   },
   {
    "duration": 956,
    "start_time": "2021-08-14T20:34:35.533Z"
   },
   {
    "duration": 17,
    "start_time": "2021-08-14T20:34:36.492Z"
   },
   {
    "duration": 22,
    "start_time": "2021-08-14T20:34:36.513Z"
   },
   {
    "duration": 36,
    "start_time": "2021-08-14T20:34:36.538Z"
   },
   {
    "duration": 7,
    "start_time": "2021-08-14T20:34:36.577Z"
   },
   {
    "duration": 555,
    "start_time": "2021-08-14T20:34:36.587Z"
   },
   {
    "duration": 528,
    "start_time": "2021-08-14T20:34:37.144Z"
   },
   {
    "duration": 8,
    "start_time": "2021-08-14T20:34:37.675Z"
   },
   {
    "duration": 37,
    "start_time": "2021-08-14T20:34:37.686Z"
   },
   {
    "duration": 10,
    "start_time": "2021-08-14T20:34:37.726Z"
   },
   {
    "duration": 32,
    "start_time": "2021-08-14T20:34:37.738Z"
   },
   {
    "duration": 67,
    "start_time": "2021-08-14T20:34:37.772Z"
   },
   {
    "duration": 385,
    "start_time": "2021-08-14T20:34:37.842Z"
   },
   {
    "duration": 9,
    "start_time": "2021-08-14T20:34:38.229Z"
   },
   {
    "duration": 26,
    "start_time": "2021-08-14T20:34:38.240Z"
   },
   {
    "duration": 12,
    "start_time": "2021-08-14T20:34:38.269Z"
   },
   {
    "duration": 24,
    "start_time": "2021-08-14T20:34:38.284Z"
   },
   {
    "duration": 19,
    "start_time": "2021-08-14T20:34:38.310Z"
   },
   {
    "duration": 53,
    "start_time": "2021-08-14T20:34:38.332Z"
   },
   {
    "duration": 37,
    "start_time": "2021-08-14T20:34:38.388Z"
   },
   {
    "duration": 7,
    "start_time": "2021-08-14T20:34:38.427Z"
   },
   {
    "duration": 21,
    "start_time": "2021-08-14T20:34:38.463Z"
   },
   {
    "duration": 7,
    "start_time": "2021-08-14T20:36:37.041Z"
   },
   {
    "duration": 24,
    "start_time": "2021-08-14T20:36:46.305Z"
   },
   {
    "duration": 19,
    "start_time": "2021-08-14T20:37:39.866Z"
   },
   {
    "duration": 18,
    "start_time": "2021-08-14T20:40:30.616Z"
   },
   {
    "duration": 19,
    "start_time": "2021-08-14T20:40:37.876Z"
   },
   {
    "duration": 9,
    "start_time": "2021-08-14T20:42:35.991Z"
   },
   {
    "duration": 5,
    "start_time": "2021-08-14T20:43:02.980Z"
   },
   {
    "duration": 32,
    "start_time": "2021-08-14T20:43:10.080Z"
   },
   {
    "duration": 5,
    "start_time": "2021-08-14T20:44:06.987Z"
   },
   {
    "duration": 5,
    "start_time": "2021-08-14T20:44:11.471Z"
   },
   {
    "duration": 5,
    "start_time": "2021-08-14T20:44:13.731Z"
   },
   {
    "duration": 35,
    "start_time": "2021-08-14T20:44:18.175Z"
   },
   {
    "duration": 5,
    "start_time": "2021-08-14T20:45:03.696Z"
   },
   {
    "duration": 6,
    "start_time": "2021-08-14T20:45:50.282Z"
   },
   {
    "duration": 33,
    "start_time": "2021-08-14T20:45:55.499Z"
   },
   {
    "duration": 34,
    "start_time": "2021-08-14T20:47:20.971Z"
   },
   {
    "duration": 45,
    "start_time": "2021-08-14T20:47:35.150Z"
   },
   {
    "duration": 47,
    "start_time": "2021-08-14T20:47:39.540Z"
   },
   {
    "duration": 36,
    "start_time": "2021-08-14T20:47:45.404Z"
   },
   {
    "duration": 40,
    "start_time": "2021-08-14T20:47:52.639Z"
   },
   {
    "duration": 130,
    "start_time": "2021-08-14T20:47:59.740Z"
   },
   {
    "duration": 22,
    "start_time": "2021-08-14T20:47:59.873Z"
   },
   {
    "duration": 30,
    "start_time": "2021-08-14T20:47:59.899Z"
   },
   {
    "duration": 48,
    "start_time": "2021-08-14T20:47:59.932Z"
   },
   {
    "duration": 12,
    "start_time": "2021-08-14T20:47:59.984Z"
   },
   {
    "duration": 621,
    "start_time": "2021-08-14T20:47:59.999Z"
   },
   {
    "duration": 569,
    "start_time": "2021-08-14T20:48:00.623Z"
   },
   {
    "duration": 9,
    "start_time": "2021-08-14T20:48:01.197Z"
   },
   {
    "duration": 54,
    "start_time": "2021-08-14T20:48:01.210Z"
   },
   {
    "duration": 15,
    "start_time": "2021-08-14T20:48:01.268Z"
   },
   {
    "duration": 17,
    "start_time": "2021-08-14T20:48:01.285Z"
   },
   {
    "duration": 86,
    "start_time": "2021-08-14T20:48:01.304Z"
   },
   {
    "duration": 340,
    "start_time": "2021-08-14T20:48:01.392Z"
   },
   {
    "duration": 9,
    "start_time": "2021-08-14T20:48:01.734Z"
   },
   {
    "duration": 37,
    "start_time": "2021-08-14T20:48:01.745Z"
   },
   {
    "duration": 25,
    "start_time": "2021-08-14T20:48:01.786Z"
   },
   {
    "duration": 42,
    "start_time": "2021-08-14T20:48:01.814Z"
   },
   {
    "duration": 24,
    "start_time": "2021-08-14T20:48:01.858Z"
   },
   {
    "duration": 50,
    "start_time": "2021-08-14T20:48:01.885Z"
   },
   {
    "duration": 40,
    "start_time": "2021-08-14T20:48:12.483Z"
   },
   {
    "duration": 38,
    "start_time": "2021-08-14T20:48:17.537Z"
   },
   {
    "duration": 39,
    "start_time": "2021-08-14T20:48:59.441Z"
   },
   {
    "duration": 87,
    "start_time": "2021-08-14T20:49:06.141Z"
   },
   {
    "duration": 36,
    "start_time": "2021-08-14T20:49:06.231Z"
   },
   {
    "duration": 16,
    "start_time": "2021-08-14T20:49:06.272Z"
   },
   {
    "duration": 20,
    "start_time": "2021-08-14T20:49:06.292Z"
   },
   {
    "duration": 50,
    "start_time": "2021-08-14T20:49:06.315Z"
   },
   {
    "duration": 564,
    "start_time": "2021-08-14T20:49:06.368Z"
   },
   {
    "duration": 555,
    "start_time": "2021-08-14T20:49:06.934Z"
   },
   {
    "duration": 8,
    "start_time": "2021-08-14T20:49:07.493Z"
   },
   {
    "duration": 60,
    "start_time": "2021-08-14T20:49:07.505Z"
   },
   {
    "duration": 14,
    "start_time": "2021-08-14T20:49:07.570Z"
   },
   {
    "duration": 10,
    "start_time": "2021-08-14T20:49:07.587Z"
   },
   {
    "duration": 94,
    "start_time": "2021-08-14T20:49:07.600Z"
   },
   {
    "duration": 336,
    "start_time": "2021-08-14T20:49:07.696Z"
   },
   {
    "duration": 9,
    "start_time": "2021-08-14T20:49:08.034Z"
   },
   {
    "duration": 29,
    "start_time": "2021-08-14T20:49:08.046Z"
   },
   {
    "duration": 8,
    "start_time": "2021-08-14T20:49:08.077Z"
   },
   {
    "duration": 32,
    "start_time": "2021-08-14T20:49:08.087Z"
   },
   {
    "duration": 4,
    "start_time": "2021-08-14T20:49:08.122Z"
   },
   {
    "duration": 66,
    "start_time": "2021-08-14T20:49:08.129Z"
   },
   {
    "duration": 136,
    "start_time": "2021-08-14T20:49:08.198Z"
   },
   {
    "duration": 32,
    "start_time": "2021-08-14T20:49:27.878Z"
   },
   {
    "duration": 79,
    "start_time": "2021-08-14T20:49:34.219Z"
   },
   {
    "duration": 15,
    "start_time": "2021-08-14T20:49:34.300Z"
   },
   {
    "duration": 13,
    "start_time": "2021-08-14T20:49:34.318Z"
   },
   {
    "duration": 37,
    "start_time": "2021-08-14T20:49:34.334Z"
   },
   {
    "duration": 8,
    "start_time": "2021-08-14T20:49:34.393Z"
   },
   {
    "duration": 553,
    "start_time": "2021-08-14T20:49:34.404Z"
   },
   {
    "duration": 524,
    "start_time": "2021-08-14T20:49:34.963Z"
   },
   {
    "duration": 7,
    "start_time": "2021-08-14T20:49:35.491Z"
   },
   {
    "duration": 27,
    "start_time": "2021-08-14T20:49:35.501Z"
   },
   {
    "duration": 39,
    "start_time": "2021-08-14T20:49:35.530Z"
   },
   {
    "duration": 12,
    "start_time": "2021-08-14T20:49:35.572Z"
   },
   {
    "duration": 77,
    "start_time": "2021-08-14T20:49:35.586Z"
   },
   {
    "duration": 469,
    "start_time": "2021-08-14T20:49:35.666Z"
   },
   {
    "duration": 24,
    "start_time": "2021-08-14T20:49:36.138Z"
   },
   {
    "duration": 19,
    "start_time": "2021-08-14T20:49:36.165Z"
   },
   {
    "duration": 9,
    "start_time": "2021-08-14T20:49:36.187Z"
   },
   {
    "duration": 24,
    "start_time": "2021-08-14T20:49:36.198Z"
   },
   {
    "duration": 42,
    "start_time": "2021-08-14T20:49:36.224Z"
   },
   {
    "duration": 37,
    "start_time": "2021-08-14T20:49:36.270Z"
   },
   {
    "duration": 32,
    "start_time": "2021-08-14T20:49:41.708Z"
   },
   {
    "duration": 57,
    "start_time": "2021-08-14T20:49:46.966Z"
   },
   {
    "duration": 37,
    "start_time": "2021-08-14T20:51:42.222Z"
   },
   {
    "duration": 998,
    "start_time": "2021-08-14T20:59:23.040Z"
   },
   {
    "duration": 22,
    "start_time": "2021-08-14T20:59:24.040Z"
   },
   {
    "duration": 12,
    "start_time": "2021-08-14T20:59:24.065Z"
   },
   {
    "duration": 18,
    "start_time": "2021-08-14T20:59:24.079Z"
   },
   {
    "duration": 6,
    "start_time": "2021-08-14T20:59:24.099Z"
   },
   {
    "duration": 565,
    "start_time": "2021-08-14T20:59:24.107Z"
   },
   {
    "duration": 522,
    "start_time": "2021-08-14T20:59:24.674Z"
   },
   {
    "duration": 8,
    "start_time": "2021-08-14T20:59:25.200Z"
   },
   {
    "duration": 51,
    "start_time": "2021-08-14T20:59:25.211Z"
   },
   {
    "duration": 11,
    "start_time": "2021-08-14T20:59:25.264Z"
   },
   {
    "duration": 18,
    "start_time": "2021-08-14T20:59:25.277Z"
   },
   {
    "duration": 134,
    "start_time": "2021-08-14T20:59:25.297Z"
   },
   {
    "duration": 302,
    "start_time": "2021-08-14T20:59:25.434Z"
   },
   {
    "duration": 9,
    "start_time": "2021-08-14T20:59:25.738Z"
   },
   {
    "duration": 12,
    "start_time": "2021-08-14T20:59:25.763Z"
   },
   {
    "duration": 8,
    "start_time": "2021-08-14T20:59:25.778Z"
   },
   {
    "duration": 23,
    "start_time": "2021-08-14T20:59:25.788Z"
   },
   {
    "duration": 4,
    "start_time": "2021-08-14T20:59:25.814Z"
   },
   {
    "duration": 71,
    "start_time": "2021-08-14T20:59:25.821Z"
   },
   {
    "duration": 33,
    "start_time": "2021-08-14T20:59:25.895Z"
   },
   {
    "duration": 88,
    "start_time": "2021-08-14T20:59:25.930Z"
   },
   {
    "duration": -568,
    "start_time": "2021-08-14T20:59:26.590Z"
   },
   {
    "duration": -574,
    "start_time": "2021-08-14T20:59:26.598Z"
   },
   {
    "duration": -580,
    "start_time": "2021-08-14T20:59:26.606Z"
   },
   {
    "duration": -594,
    "start_time": "2021-08-14T20:59:26.622Z"
   },
   {
    "duration": -601,
    "start_time": "2021-08-14T20:59:26.631Z"
   },
   {
    "duration": -607,
    "start_time": "2021-08-14T20:59:26.639Z"
   },
   {
    "duration": -611,
    "start_time": "2021-08-14T20:59:26.645Z"
   },
   {
    "duration": -614,
    "start_time": "2021-08-14T20:59:26.650Z"
   },
   {
    "duration": -618,
    "start_time": "2021-08-14T20:59:26.656Z"
   },
   {
    "duration": -622,
    "start_time": "2021-08-14T20:59:26.662Z"
   },
   {
    "duration": -625,
    "start_time": "2021-08-14T20:59:26.667Z"
   },
   {
    "duration": -629,
    "start_time": "2021-08-14T20:59:26.673Z"
   },
   {
    "duration": -632,
    "start_time": "2021-08-14T20:59:26.678Z"
   },
   {
    "duration": -634,
    "start_time": "2021-08-14T20:59:26.682Z"
   },
   {
    "duration": -639,
    "start_time": "2021-08-14T20:59:26.689Z"
   },
   {
    "duration": -642,
    "start_time": "2021-08-14T20:59:26.694Z"
   },
   {
    "duration": -645,
    "start_time": "2021-08-14T20:59:26.699Z"
   },
   {
    "duration": -650,
    "start_time": "2021-08-14T20:59:26.706Z"
   },
   {
    "duration": -654,
    "start_time": "2021-08-14T20:59:26.712Z"
   },
   {
    "duration": 6,
    "start_time": "2021-08-14T20:59:48.353Z"
   },
   {
    "duration": 6,
    "start_time": "2021-08-14T20:59:53.561Z"
   },
   {
    "duration": 28,
    "start_time": "2021-08-14T20:59:53.569Z"
   },
   {
    "duration": 35,
    "start_time": "2021-08-14T20:59:53.600Z"
   },
   {
    "duration": 6,
    "start_time": "2021-08-14T20:59:53.663Z"
   },
   {
    "duration": 21,
    "start_time": "2021-08-14T20:59:53.671Z"
   },
   {
    "duration": 25,
    "start_time": "2021-08-14T20:59:53.695Z"
   },
   {
    "duration": 7,
    "start_time": "2021-08-14T20:59:53.762Z"
   },
   {
    "duration": 922,
    "start_time": "2021-08-14T20:59:53.772Z"
   },
   {
    "duration": 20,
    "start_time": "2021-08-14T20:59:54.697Z"
   },
   {
    "duration": 23,
    "start_time": "2021-08-14T20:59:54.720Z"
   },
   {
    "duration": 27,
    "start_time": "2021-08-14T20:59:54.746Z"
   },
   {
    "duration": 66,
    "start_time": "2021-08-14T20:59:54.776Z"
   },
   {
    "duration": 38,
    "start_time": "2021-08-14T20:59:54.846Z"
   },
   {
    "duration": 435,
    "start_time": "2021-08-14T20:59:54.887Z"
   },
   {
    "duration": 5,
    "start_time": "2021-08-14T20:59:55.324Z"
   },
   {
    "duration": 39,
    "start_time": "2021-08-14T20:59:55.331Z"
   },
   {
    "duration": 38,
    "start_time": "2021-08-14T20:59:55.372Z"
   },
   {
    "duration": 54,
    "start_time": "2021-08-14T20:59:55.412Z"
   },
   {
    "duration": 31,
    "start_time": "2021-08-14T20:59:55.469Z"
   },
   {
    "duration": 59,
    "start_time": "2021-08-14T20:59:55.503Z"
   },
   {
    "duration": 32,
    "start_time": "2021-08-14T21:01:12.091Z"
   },
   {
    "duration": 34,
    "start_time": "2021-08-14T21:01:15.941Z"
   },
   {
    "duration": 27,
    "start_time": "2021-08-14T21:02:07.617Z"
   },
   {
    "duration": 20,
    "start_time": "2021-08-14T21:03:28.706Z"
   },
   {
    "duration": 25,
    "start_time": "2021-08-14T21:03:42.184Z"
   },
   {
    "duration": 8,
    "start_time": "2021-08-14T21:06:51.490Z"
   },
   {
    "duration": 43,
    "start_time": "2021-08-14T21:07:09.365Z"
   },
   {
    "duration": 38,
    "start_time": "2021-08-14T21:07:28.411Z"
   },
   {
    "duration": 113,
    "start_time": "2021-08-14T21:07:48.862Z"
   },
   {
    "duration": 15,
    "start_time": "2021-08-14T21:07:48.978Z"
   },
   {
    "duration": 20,
    "start_time": "2021-08-14T21:07:48.996Z"
   },
   {
    "duration": 13,
    "start_time": "2021-08-14T21:07:49.020Z"
   },
   {
    "duration": 6,
    "start_time": "2021-08-14T21:07:49.063Z"
   },
   {
    "duration": 870,
    "start_time": "2021-08-14T21:07:49.071Z"
   },
   {
    "duration": 56,
    "start_time": "2021-08-14T21:07:58.603Z"
   },
   {
    "duration": 57,
    "start_time": "2021-08-14T21:08:03.340Z"
   },
   {
    "duration": 26,
    "start_time": "2021-08-14T21:13:42.773Z"
   },
   {
    "duration": 734,
    "start_time": "2021-08-15T07:58:20.283Z"
   },
   {
    "duration": 9,
    "start_time": "2021-08-15T07:58:21.018Z"
   },
   {
    "duration": 8,
    "start_time": "2021-08-15T07:58:21.029Z"
   },
   {
    "duration": 8,
    "start_time": "2021-08-15T07:58:21.039Z"
   },
   {
    "duration": 3,
    "start_time": "2021-08-15T07:58:21.049Z"
   },
   {
    "duration": 315,
    "start_time": "2021-08-15T07:58:21.054Z"
   },
   {
    "duration": 36,
    "start_time": "2021-08-15T07:58:21.370Z"
   },
   {
    "duration": 287,
    "start_time": "2021-08-15T07:58:21.408Z"
   },
   {
    "duration": 10,
    "start_time": "2021-08-15T07:58:21.698Z"
   },
   {
    "duration": 14,
    "start_time": "2021-08-15T07:58:21.710Z"
   },
   {
    "duration": 6,
    "start_time": "2021-08-15T07:58:21.726Z"
   },
   {
    "duration": 6,
    "start_time": "2021-08-15T07:58:21.733Z"
   },
   {
    "duration": 123,
    "start_time": "2021-08-15T07:58:21.741Z"
   },
   {
    "duration": 174,
    "start_time": "2021-08-15T07:58:21.865Z"
   },
   {
    "duration": 5,
    "start_time": "2021-08-15T07:58:22.041Z"
   },
   {
    "duration": 7,
    "start_time": "2021-08-15T07:58:22.048Z"
   },
   {
    "duration": 6,
    "start_time": "2021-08-15T07:58:22.056Z"
   },
   {
    "duration": 46,
    "start_time": "2021-08-15T07:58:22.063Z"
   },
   {
    "duration": 3,
    "start_time": "2021-08-15T07:58:22.111Z"
   },
   {
    "duration": 20,
    "start_time": "2021-08-15T07:58:22.116Z"
   },
   {
    "duration": 17,
    "start_time": "2021-08-15T07:58:22.138Z"
   },
   {
    "duration": 4,
    "start_time": "2021-08-15T07:58:22.156Z"
   },
   {
    "duration": 48,
    "start_time": "2021-08-15T07:58:22.163Z"
   },
   {
    "duration": 22,
    "start_time": "2021-08-15T07:58:22.213Z"
   },
   {
    "duration": 5,
    "start_time": "2021-08-15T07:58:22.236Z"
   },
   {
    "duration": 13,
    "start_time": "2021-08-15T07:58:22.242Z"
   },
   {
    "duration": 47,
    "start_time": "2021-08-15T07:58:22.257Z"
   },
   {
    "duration": 8,
    "start_time": "2021-08-15T07:58:22.308Z"
   },
   {
    "duration": 648,
    "start_time": "2021-08-15T07:58:22.318Z"
   },
   {
    "duration": 23,
    "start_time": "2021-08-15T07:58:22.968Z"
   },
   {
    "duration": 5,
    "start_time": "2021-08-15T07:58:22.993Z"
   },
   {
    "duration": 16,
    "start_time": "2021-08-15T07:58:23.000Z"
   },
   {
    "duration": 35,
    "start_time": "2021-08-15T07:58:23.018Z"
   },
   {
    "duration": 38,
    "start_time": "2021-08-15T07:58:23.054Z"
   },
   {
    "duration": 249,
    "start_time": "2021-08-15T07:58:23.094Z"
   },
   {
    "duration": 4,
    "start_time": "2021-08-15T07:58:23.345Z"
   },
   {
    "duration": 15,
    "start_time": "2021-08-15T07:58:23.350Z"
   },
   {
    "duration": 42,
    "start_time": "2021-08-15T07:58:23.366Z"
   },
   {
    "duration": 14,
    "start_time": "2021-08-15T07:58:23.409Z"
   },
   {
    "duration": 21,
    "start_time": "2021-08-15T07:58:23.425Z"
   },
   {
    "duration": 19,
    "start_time": "2021-08-15T07:58:23.447Z"
   },
   {
    "duration": 50,
    "start_time": "2021-08-15T07:58:23.467Z"
   },
   {
    "duration": 4,
    "start_time": "2021-08-15T08:04:14.484Z"
   },
   {
    "duration": 93,
    "start_time": "2021-08-15T08:04:27.635Z"
   },
   {
    "duration": 10,
    "start_time": "2021-08-15T08:04:27.731Z"
   },
   {
    "duration": 9,
    "start_time": "2021-08-15T08:04:27.743Z"
   },
   {
    "duration": 9,
    "start_time": "2021-08-15T08:04:27.753Z"
   },
   {
    "duration": 5,
    "start_time": "2021-08-15T08:04:27.796Z"
   },
   {
    "duration": 441,
    "start_time": "2021-08-15T08:04:27.803Z"
   },
   {
    "duration": 31,
    "start_time": "2021-08-15T08:04:28.246Z"
   },
   {
    "duration": 377,
    "start_time": "2021-08-15T08:04:28.281Z"
   },
   {
    "duration": 5,
    "start_time": "2021-08-15T08:04:28.660Z"
   },
   {
    "duration": 45,
    "start_time": "2021-08-15T08:04:28.666Z"
   },
   {
    "duration": 8,
    "start_time": "2021-08-15T08:04:28.713Z"
   },
   {
    "duration": 13,
    "start_time": "2021-08-15T08:04:28.722Z"
   },
   {
    "duration": 43,
    "start_time": "2021-08-15T08:04:28.736Z"
   },
   {
    "duration": 170,
    "start_time": "2021-08-15T08:04:28.781Z"
   },
   {
    "duration": 6,
    "start_time": "2021-08-15T08:04:28.952Z"
   },
   {
    "duration": 7,
    "start_time": "2021-08-15T08:04:28.959Z"
   },
   {
    "duration": 26,
    "start_time": "2021-08-15T08:04:28.968Z"
   },
   {
    "duration": 3,
    "start_time": "2021-08-15T08:04:33.628Z"
   },
   {
    "duration": 20,
    "start_time": "2021-08-15T08:04:41.066Z"
   },
   {
    "duration": 12,
    "start_time": "2021-08-15T08:04:46.908Z"
   },
   {
    "duration": 5,
    "start_time": "2021-08-15T08:04:51.694Z"
   },
   {
    "duration": 7,
    "start_time": "2021-08-15T08:06:28.925Z"
   },
   {
    "duration": 6,
    "start_time": "2021-08-15T08:06:30.631Z"
   },
   {
    "duration": 8,
    "start_time": "2021-08-15T08:06:39.995Z"
   },
   {
    "duration": 9,
    "start_time": "2021-08-15T08:06:52.858Z"
   },
   {
    "duration": 5,
    "start_time": "2021-08-15T08:07:12.570Z"
   },
   {
    "duration": 670,
    "start_time": "2021-08-15T08:13:46.713Z"
   },
   {
    "duration": 9,
    "start_time": "2021-08-15T08:13:47.385Z"
   },
   {
    "duration": 8,
    "start_time": "2021-08-15T08:13:47.396Z"
   },
   {
    "duration": 8,
    "start_time": "2021-08-15T08:13:47.406Z"
   },
   {
    "duration": 3,
    "start_time": "2021-08-15T08:13:47.416Z"
   },
   {
    "duration": 291,
    "start_time": "2021-08-15T08:13:47.420Z"
   },
   {
    "duration": 21,
    "start_time": "2021-08-15T08:13:47.713Z"
   },
   {
    "duration": 276,
    "start_time": "2021-08-15T08:13:47.736Z"
   },
   {
    "duration": 5,
    "start_time": "2021-08-15T08:13:48.014Z"
   },
   {
    "duration": 16,
    "start_time": "2021-08-15T08:13:48.020Z"
   },
   {
    "duration": 6,
    "start_time": "2021-08-15T08:13:48.038Z"
   },
   {
    "duration": 7,
    "start_time": "2021-08-15T08:13:48.045Z"
   },
   {
    "duration": 59,
    "start_time": "2021-08-15T08:13:48.053Z"
   },
   {
    "duration": 207,
    "start_time": "2021-08-15T08:13:48.114Z"
   },
   {
    "duration": 6,
    "start_time": "2021-08-15T08:13:48.323Z"
   },
   {
    "duration": 9,
    "start_time": "2021-08-15T08:13:48.331Z"
   },
   {
    "duration": 6,
    "start_time": "2021-08-15T08:13:48.342Z"
   },
   {
    "duration": 12,
    "start_time": "2021-08-15T08:14:19.429Z"
   },
   {
    "duration": 3,
    "start_time": "2021-08-15T08:14:32.650Z"
   },
   {
    "duration": 73,
    "start_time": "2021-08-15T08:14:43.104Z"
   },
   {
    "duration": 12,
    "start_time": "2021-08-15T08:14:51.390Z"
   },
   {
    "duration": 14,
    "start_time": "2021-08-15T08:15:00.269Z"
   },
   {
    "duration": 19,
    "start_time": "2021-08-15T08:15:14.686Z"
   },
   {
    "duration": 18,
    "start_time": "2021-08-15T08:15:30.269Z"
   },
   {
    "duration": 18,
    "start_time": "2021-08-15T08:15:36.775Z"
   },
   {
    "duration": 21,
    "start_time": "2021-08-15T08:15:41.263Z"
   },
   {
    "duration": 3,
    "start_time": "2021-08-15T08:16:19.079Z"
   },
   {
    "duration": 18,
    "start_time": "2021-08-15T08:16:28.128Z"
   },
   {
    "duration": 335,
    "start_time": "2021-08-15T08:16:47.180Z"
   },
   {
    "duration": 248,
    "start_time": "2021-08-15T08:17:09.000Z"
   },
   {
    "duration": 4,
    "start_time": "2021-08-15T08:30:27.313Z"
   },
   {
    "duration": 19,
    "start_time": "2021-08-15T08:30:30.841Z"
   },
   {
    "duration": 21,
    "start_time": "2021-08-15T08:31:10.895Z"
   },
   {
    "duration": 19,
    "start_time": "2021-08-15T08:31:18.730Z"
   },
   {
    "duration": 19,
    "start_time": "2021-08-15T08:31:32.061Z"
   },
   {
    "duration": 57,
    "start_time": "2021-08-15T08:31:39.100Z"
   },
   {
    "duration": 9,
    "start_time": "2021-08-15T08:31:39.159Z"
   },
   {
    "duration": 8,
    "start_time": "2021-08-15T08:31:39.170Z"
   },
   {
    "duration": 16,
    "start_time": "2021-08-15T08:31:39.180Z"
   },
   {
    "duration": 7,
    "start_time": "2021-08-15T08:31:39.197Z"
   },
   {
    "duration": 284,
    "start_time": "2021-08-15T08:31:39.205Z"
   },
   {
    "duration": 20,
    "start_time": "2021-08-15T08:31:39.491Z"
   },
   {
    "duration": 270,
    "start_time": "2021-08-15T08:31:39.514Z"
   },
   {
    "duration": 9,
    "start_time": "2021-08-15T08:31:39.786Z"
   },
   {
    "duration": 16,
    "start_time": "2021-08-15T08:31:39.796Z"
   },
   {
    "duration": 6,
    "start_time": "2021-08-15T08:31:39.813Z"
   },
   {
    "duration": 6,
    "start_time": "2021-08-15T08:31:39.820Z"
   },
   {
    "duration": 29,
    "start_time": "2021-08-15T08:31:39.827Z"
   },
   {
    "duration": 189,
    "start_time": "2021-08-15T08:31:39.857Z"
   },
   {
    "duration": 6,
    "start_time": "2021-08-15T08:31:40.047Z"
   },
   {
    "duration": 9,
    "start_time": "2021-08-15T08:31:40.054Z"
   },
   {
    "duration": 8,
    "start_time": "2021-08-15T08:31:40.064Z"
   },
   {
    "duration": 26,
    "start_time": "2021-08-15T08:31:40.074Z"
   },
   {
    "duration": 21,
    "start_time": "2021-08-15T08:31:48.463Z"
   },
   {
    "duration": 243,
    "start_time": "2021-08-15T08:32:05.348Z"
   },
   {
    "duration": 5,
    "start_time": "2021-08-15T08:32:52.218Z"
   },
   {
    "duration": 5,
    "start_time": "2021-08-15T08:32:54.766Z"
   },
   {
    "duration": 21,
    "start_time": "2021-08-15T08:32:57.448Z"
   },
   {
    "duration": 7,
    "start_time": "2021-08-15T08:33:38.364Z"
   },
   {
    "duration": 5,
    "start_time": "2021-08-15T08:34:03.982Z"
   },
   {
    "duration": 658,
    "start_time": "2021-08-15T12:21:27.485Z"
   },
   {
    "duration": 10,
    "start_time": "2021-08-15T12:21:38.002Z"
   },
   {
    "duration": 9,
    "start_time": "2021-08-15T12:26:51.635Z"
   },
   {
    "duration": 9,
    "start_time": "2021-08-15T12:27:06.653Z"
   },
   {
    "duration": 7,
    "start_time": "2021-08-15T12:27:18.578Z"
   },
   {
    "duration": 9,
    "start_time": "2021-08-15T12:28:53.365Z"
   },
   {
    "duration": 4,
    "start_time": "2021-08-15T12:33:26.315Z"
   },
   {
    "duration": 3,
    "start_time": "2021-08-15T12:33:32.614Z"
   },
   {
    "duration": 329,
    "start_time": "2021-08-15T12:34:12.294Z"
   },
   {
    "duration": 23,
    "start_time": "2021-08-15T12:35:51.340Z"
   },
   {
    "duration": 11,
    "start_time": "2021-08-15T12:36:17.196Z"
   },
   {
    "duration": 8,
    "start_time": "2021-08-15T12:36:42.106Z"
   },
   {
    "duration": 22,
    "start_time": "2021-08-15T12:38:17.485Z"
   },
   {
    "duration": 23,
    "start_time": "2021-08-15T12:38:48.925Z"
   },
   {
    "duration": 24,
    "start_time": "2021-08-15T12:38:59.404Z"
   },
   {
    "duration": 22,
    "start_time": "2021-08-15T12:39:44.371Z"
   },
   {
    "duration": 21,
    "start_time": "2021-08-15T12:39:55.280Z"
   },
   {
    "duration": 14,
    "start_time": "2021-08-15T12:40:07.591Z"
   },
   {
    "duration": 19,
    "start_time": "2021-08-15T12:40:15.613Z"
   },
   {
    "duration": 714,
    "start_time": "2021-08-15T12:47:17.413Z"
   },
   {
    "duration": 9,
    "start_time": "2021-08-15T12:47:18.129Z"
   },
   {
    "duration": 8,
    "start_time": "2021-08-15T12:47:18.140Z"
   },
   {
    "duration": 8,
    "start_time": "2021-08-15T12:47:18.150Z"
   },
   {
    "duration": 4,
    "start_time": "2021-08-15T12:47:18.159Z"
   },
   {
    "duration": 307,
    "start_time": "2021-08-15T12:47:18.164Z"
   },
   {
    "duration": 18,
    "start_time": "2021-08-15T12:47:26.984Z"
   },
   {
    "duration": 17,
    "start_time": "2021-08-15T12:52:48.380Z"
   },
   {
    "duration": 7,
    "start_time": "2021-08-15T12:52:53.126Z"
   },
   {
    "duration": 6,
    "start_time": "2021-08-15T12:52:59.372Z"
   },
   {
    "duration": 19,
    "start_time": "2021-08-15T12:57:06.118Z"
   },
   {
    "duration": 278,
    "start_time": "2021-08-15T12:58:04.932Z"
   },
   {
    "duration": 18,
    "start_time": "2021-08-15T13:00:32.932Z"
   },
   {
    "duration": 7,
    "start_time": "2021-08-15T13:02:02.984Z"
   },
   {
    "duration": 18,
    "start_time": "2021-08-15T13:04:26.177Z"
   },
   {
    "duration": 17,
    "start_time": "2021-08-15T13:05:06.518Z"
   },
   {
    "duration": 16,
    "start_time": "2021-08-15T13:05:31.299Z"
   },
   {
    "duration": 8,
    "start_time": "2021-08-15T13:10:57.968Z"
   },
   {
    "duration": 8,
    "start_time": "2021-08-15T13:11:26.086Z"
   },
   {
    "duration": 297,
    "start_time": "2021-08-15T13:19:51.778Z"
   },
   {
    "duration": 303,
    "start_time": "2021-08-15T13:20:01.691Z"
   },
   {
    "duration": 11,
    "start_time": "2021-08-15T13:20:27.981Z"
   },
   {
    "duration": 10,
    "start_time": "2021-08-15T13:20:33.642Z"
   },
   {
    "duration": 11,
    "start_time": "2021-08-15T13:20:41.730Z"
   },
   {
    "duration": 268,
    "start_time": "2021-08-15T13:22:06.994Z"
   },
   {
    "duration": 11,
    "start_time": "2021-08-15T13:22:28.190Z"
   },
   {
    "duration": 32,
    "start_time": "2021-08-15T13:27:43.243Z"
   },
   {
    "duration": 716,
    "start_time": "2021-08-15T13:50:28.611Z"
   },
   {
    "duration": 9,
    "start_time": "2021-08-15T13:50:29.329Z"
   },
   {
    "duration": 9,
    "start_time": "2021-08-15T13:50:29.340Z"
   },
   {
    "duration": 10,
    "start_time": "2021-08-15T13:50:29.351Z"
   },
   {
    "duration": 4,
    "start_time": "2021-08-15T13:50:29.363Z"
   },
   {
    "duration": 309,
    "start_time": "2021-08-15T13:50:29.368Z"
   },
   {
    "duration": 5,
    "start_time": "2021-08-15T13:50:29.679Z"
   },
   {
    "duration": 311,
    "start_time": "2021-08-15T13:50:29.686Z"
   },
   {
    "duration": 6,
    "start_time": "2021-08-15T13:50:29.999Z"
   },
   {
    "duration": 19,
    "start_time": "2021-08-15T13:50:30.007Z"
   },
   {
    "duration": 18,
    "start_time": "2021-08-15T13:50:30.028Z"
   },
   {
    "duration": 11,
    "start_time": "2021-08-15T13:50:30.047Z"
   },
   {
    "duration": 37,
    "start_time": "2021-08-15T13:51:03.526Z"
   },
   {
    "duration": 13,
    "start_time": "2021-08-15T13:51:51.056Z"
   },
   {
    "duration": 61,
    "start_time": "2021-08-15T13:52:09.787Z"
   },
   {
    "duration": 13,
    "start_time": "2021-08-15T13:52:25.415Z"
   },
   {
    "duration": 7,
    "start_time": "2021-08-15T13:55:19.661Z"
   },
   {
    "duration": 5,
    "start_time": "2021-08-15T13:55:31.680Z"
   },
   {
    "duration": 298,
    "start_time": "2021-08-15T13:57:37.174Z"
   },
   {
    "duration": 8,
    "start_time": "2021-08-15T13:57:48.969Z"
   },
   {
    "duration": 32,
    "start_time": "2021-08-15T13:59:29.798Z"
   },
   {
    "duration": 163,
    "start_time": "2021-08-15T13:59:52.611Z"
   },
   {
    "duration": 7,
    "start_time": "2021-08-15T14:00:11.896Z"
   },
   {
    "duration": 8,
    "start_time": "2021-08-15T14:00:49.535Z"
   },
   {
    "duration": 7,
    "start_time": "2021-08-15T14:01:20.613Z"
   },
   {
    "duration": 8,
    "start_time": "2021-08-15T14:02:29.581Z"
   },
   {
    "duration": 6,
    "start_time": "2021-08-15T14:03:19.913Z"
   },
   {
    "duration": 12,
    "start_time": "2021-08-15T14:12:38.312Z"
   },
   {
    "duration": 12,
    "start_time": "2021-08-15T14:14:17.579Z"
   },
   {
    "duration": 12,
    "start_time": "2021-08-15T14:15:36.321Z"
   },
   {
    "duration": 4,
    "start_time": "2021-08-15T14:16:51.946Z"
   },
   {
    "duration": 681,
    "start_time": "2021-08-15T14:18:15.538Z"
   },
   {
    "duration": 9,
    "start_time": "2021-08-15T14:18:16.221Z"
   },
   {
    "duration": 9,
    "start_time": "2021-08-15T14:18:16.232Z"
   },
   {
    "duration": 8,
    "start_time": "2021-08-15T14:18:16.242Z"
   },
   {
    "duration": 4,
    "start_time": "2021-08-15T14:18:16.252Z"
   },
   {
    "duration": 310,
    "start_time": "2021-08-15T14:18:16.258Z"
   },
   {
    "duration": 5,
    "start_time": "2021-08-15T14:18:16.570Z"
   },
   {
    "duration": 286,
    "start_time": "2021-08-15T14:18:16.577Z"
   },
   {
    "duration": 5,
    "start_time": "2021-08-15T14:18:16.864Z"
   },
   {
    "duration": 17,
    "start_time": "2021-08-15T14:18:16.871Z"
   },
   {
    "duration": 6,
    "start_time": "2021-08-15T14:18:16.890Z"
   },
   {
    "duration": 6,
    "start_time": "2021-08-15T14:18:16.898Z"
   },
   {
    "duration": 60,
    "start_time": "2021-08-15T14:18:16.906Z"
   },
   {
    "duration": 214,
    "start_time": "2021-08-15T14:18:16.967Z"
   },
   {
    "duration": 7,
    "start_time": "2021-08-15T14:18:17.183Z"
   },
   {
    "duration": 9,
    "start_time": "2021-08-15T14:18:17.192Z"
   },
   {
    "duration": 7,
    "start_time": "2021-08-15T14:18:17.203Z"
   },
   {
    "duration": 16,
    "start_time": "2021-08-15T14:18:39.974Z"
   },
   {
    "duration": 4,
    "start_time": "2021-08-15T14:18:54.846Z"
   },
   {
    "duration": 4,
    "start_time": "2021-08-15T14:19:12.267Z"
   },
   {
    "duration": 12,
    "start_time": "2021-08-15T14:20:00.139Z"
   },
   {
    "duration": 17,
    "start_time": "2021-08-15T14:20:08.321Z"
   },
   {
    "duration": 11,
    "start_time": "2021-08-15T14:20:41.470Z"
   },
   {
    "duration": 82,
    "start_time": "2021-08-15T14:26:57.752Z"
   },
   {
    "duration": 12,
    "start_time": "2021-08-15T14:27:12.318Z"
   },
   {
    "duration": 16,
    "start_time": "2021-08-15T14:29:31.685Z"
   },
   {
    "duration": 16,
    "start_time": "2021-08-15T14:33:31.237Z"
   },
   {
    "duration": 26,
    "start_time": "2021-08-15T14:34:12.740Z"
   },
   {
    "duration": 24,
    "start_time": "2021-08-15T14:34:58.670Z"
   },
   {
    "duration": 5,
    "start_time": "2021-08-15T14:35:12.638Z"
   },
   {
    "duration": 14,
    "start_time": "2021-08-15T14:37:16.802Z"
   },
   {
    "duration": 16,
    "start_time": "2021-08-15T14:37:29.885Z"
   },
   {
    "duration": 5,
    "start_time": "2021-08-15T14:37:58.000Z"
   },
   {
    "duration": 304,
    "start_time": "2021-08-15T14:38:13.113Z"
   },
   {
    "duration": 5,
    "start_time": "2021-08-15T14:38:25.402Z"
   },
   {
    "duration": 5,
    "start_time": "2021-08-15T14:39:39.778Z"
   },
   {
    "duration": 7,
    "start_time": "2021-08-15T14:40:51.406Z"
   },
   {
    "duration": 12,
    "start_time": "2021-08-15T14:41:55.237Z"
   },
   {
    "duration": 4,
    "start_time": "2021-08-15T14:43:44.280Z"
   },
   {
    "duration": 7,
    "start_time": "2021-08-15T14:45:40.156Z"
   },
   {
    "duration": 7,
    "start_time": "2021-08-15T14:48:54.031Z"
   },
   {
    "duration": 14,
    "start_time": "2021-08-15T14:55:14.798Z"
   },
   {
    "duration": 5,
    "start_time": "2021-08-15T14:55:22.077Z"
   },
   {
    "duration": 12,
    "start_time": "2021-08-15T14:55:29.462Z"
   },
   {
    "duration": 4,
    "start_time": "2021-08-15T14:56:11.625Z"
   },
   {
    "duration": 9,
    "start_time": "2021-08-15T14:56:14.073Z"
   },
   {
    "duration": 5,
    "start_time": "2021-08-15T14:57:31.300Z"
   },
   {
    "duration": 4,
    "start_time": "2021-08-15T14:57:55.433Z"
   },
   {
    "duration": 7,
    "start_time": "2021-08-15T14:58:29.260Z"
   },
   {
    "duration": 6,
    "start_time": "2021-08-15T15:00:45.110Z"
   },
   {
    "duration": 15,
    "start_time": "2021-08-15T15:00:55.442Z"
   },
   {
    "duration": 16,
    "start_time": "2021-08-15T15:02:02.584Z"
   },
   {
    "duration": 19,
    "start_time": "2021-08-15T15:02:32.290Z"
   },
   {
    "duration": 6,
    "start_time": "2021-08-15T15:06:25.662Z"
   },
   {
    "duration": 80,
    "start_time": "2021-08-15T15:07:38.264Z"
   },
   {
    "duration": 619,
    "start_time": "2021-08-15T15:09:30.386Z"
   },
   {
    "duration": 12,
    "start_time": "2021-08-15T15:10:22.330Z"
   },
   {
    "duration": 11,
    "start_time": "2021-08-15T15:18:17.447Z"
   },
   {
    "duration": 11,
    "start_time": "2021-08-15T15:19:53.378Z"
   },
   {
    "duration": 4,
    "start_time": "2021-08-15T15:22:27.074Z"
   },
   {
    "duration": 101,
    "start_time": "2021-08-15T15:24:27.630Z"
   },
   {
    "duration": 91,
    "start_time": "2021-08-15T15:30:07.754Z"
   },
   {
    "duration": 3,
    "start_time": "2021-08-15T15:30:37.328Z"
   },
   {
    "duration": 79,
    "start_time": "2021-08-15T15:31:12.491Z"
   },
   {
    "duration": 4,
    "start_time": "2021-08-15T15:31:38.041Z"
   },
   {
    "duration": 4,
    "start_time": "2021-08-15T15:31:41.031Z"
   },
   {
    "duration": 3,
    "start_time": "2021-08-15T15:32:56.440Z"
   },
   {
    "duration": 4,
    "start_time": "2021-08-15T15:33:58.918Z"
   },
   {
    "duration": 4,
    "start_time": "2021-08-15T15:34:00.315Z"
   },
   {
    "duration": 3,
    "start_time": "2021-08-15T15:34:45.609Z"
   },
   {
    "duration": 4,
    "start_time": "2021-08-15T15:34:56.567Z"
   },
   {
    "duration": 4,
    "start_time": "2021-08-15T15:35:00.653Z"
   },
   {
    "duration": 11,
    "start_time": "2021-08-15T15:35:19.451Z"
   },
   {
    "duration": 673,
    "start_time": "2021-08-15T16:09:44.091Z"
   },
   {
    "duration": 11,
    "start_time": "2021-08-15T16:09:44.766Z"
   },
   {
    "duration": 10,
    "start_time": "2021-08-15T16:09:44.780Z"
   },
   {
    "duration": 9,
    "start_time": "2021-08-15T16:09:44.792Z"
   },
   {
    "duration": 5,
    "start_time": "2021-08-15T16:09:44.802Z"
   },
   {
    "duration": 326,
    "start_time": "2021-08-15T16:09:44.808Z"
   },
   {
    "duration": 5,
    "start_time": "2021-08-15T16:09:45.140Z"
   },
   {
    "duration": 324,
    "start_time": "2021-08-15T16:09:45.147Z"
   },
   {
    "duration": 7,
    "start_time": "2021-08-15T16:09:45.474Z"
   },
   {
    "duration": 21,
    "start_time": "2021-08-15T16:09:45.483Z"
   },
   {
    "duration": 8,
    "start_time": "2021-08-15T16:09:45.506Z"
   },
   {
    "duration": 32,
    "start_time": "2021-08-15T16:09:45.515Z"
   },
   {
    "duration": 78,
    "start_time": "2021-08-15T16:09:45.548Z"
   },
   {
    "duration": 176,
    "start_time": "2021-08-15T16:09:45.640Z"
   },
   {
    "duration": 6,
    "start_time": "2021-08-15T16:09:45.818Z"
   },
   {
    "duration": 18,
    "start_time": "2021-08-15T16:09:45.825Z"
   },
   {
    "duration": 6,
    "start_time": "2021-08-15T16:09:45.844Z"
   },
   {
    "duration": 13,
    "start_time": "2021-08-15T16:09:45.851Z"
   },
   {
    "duration": 12,
    "start_time": "2021-08-15T16:09:45.866Z"
   },
   {
    "duration": 15,
    "start_time": "2021-08-15T16:09:45.879Z"
   },
   {
    "duration": 60,
    "start_time": "2021-08-15T16:09:45.896Z"
   },
   {
    "duration": 4,
    "start_time": "2021-08-15T16:09:45.958Z"
   },
   {
    "duration": 13,
    "start_time": "2021-08-15T16:09:45.965Z"
   },
   {
    "duration": 6,
    "start_time": "2021-08-15T16:09:45.979Z"
   },
   {
    "duration": 6,
    "start_time": "2021-08-15T16:09:45.987Z"
   },
   {
    "duration": 10,
    "start_time": "2021-08-15T16:09:45.995Z"
   },
   {
    "duration": 38,
    "start_time": "2021-08-15T16:09:46.006Z"
   },
   {
    "duration": 13,
    "start_time": "2021-08-15T16:09:46.046Z"
   },
   {
    "duration": 15,
    "start_time": "2021-08-15T16:09:46.061Z"
   },
   {
    "duration": 618,
    "start_time": "2021-08-15T16:09:46.078Z"
   },
   {
    "duration": 12,
    "start_time": "2021-08-15T16:09:46.698Z"
   },
   {
    "duration": 4,
    "start_time": "2021-08-15T16:09:46.712Z"
   },
   {
    "duration": 12,
    "start_time": "2021-08-15T16:17:17.155Z"
   },
   {
    "duration": 355,
    "start_time": "2021-08-15T16:30:07.179Z"
   },
   {
    "duration": 249,
    "start_time": "2021-08-15T16:31:17.187Z"
   },
   {
    "duration": 246,
    "start_time": "2021-08-15T16:31:34.416Z"
   },
   {
    "duration": 719,
    "start_time": "2021-08-15T16:32:40.032Z"
   },
   {
    "duration": 10,
    "start_time": "2021-08-15T16:32:40.753Z"
   },
   {
    "duration": 21,
    "start_time": "2021-08-15T16:32:40.765Z"
   },
   {
    "duration": 18,
    "start_time": "2021-08-15T16:32:40.788Z"
   },
   {
    "duration": 13,
    "start_time": "2021-08-15T16:32:40.808Z"
   },
   {
    "duration": 306,
    "start_time": "2021-08-15T16:32:40.823Z"
   },
   {
    "duration": 10,
    "start_time": "2021-08-15T16:32:41.130Z"
   },
   {
    "duration": 280,
    "start_time": "2021-08-15T16:32:41.143Z"
   },
   {
    "duration": 5,
    "start_time": "2021-08-15T16:32:41.425Z"
   },
   {
    "duration": 16,
    "start_time": "2021-08-15T16:32:41.441Z"
   },
   {
    "duration": 9,
    "start_time": "2021-08-15T16:32:41.459Z"
   },
   {
    "duration": 7,
    "start_time": "2021-08-15T16:32:41.470Z"
   },
   {
    "duration": 98,
    "start_time": "2021-08-15T16:32:41.479Z"
   },
   {
    "duration": 235,
    "start_time": "2021-08-15T16:32:41.579Z"
   },
   {
    "duration": 8,
    "start_time": "2021-08-15T16:32:41.816Z"
   },
   {
    "duration": 9,
    "start_time": "2021-08-15T16:32:41.840Z"
   },
   {
    "duration": 12,
    "start_time": "2021-08-15T16:32:41.850Z"
   },
   {
    "duration": 14,
    "start_time": "2021-08-15T16:32:41.863Z"
   },
   {
    "duration": 11,
    "start_time": "2021-08-15T16:32:41.879Z"
   },
   {
    "duration": 15,
    "start_time": "2021-08-15T16:32:41.891Z"
   },
   {
    "duration": 50,
    "start_time": "2021-08-15T16:32:41.907Z"
   },
   {
    "duration": 4,
    "start_time": "2021-08-15T16:32:41.959Z"
   },
   {
    "duration": 13,
    "start_time": "2021-08-15T16:32:41.966Z"
   },
   {
    "duration": 5,
    "start_time": "2021-08-15T16:32:41.981Z"
   },
   {
    "duration": 7,
    "start_time": "2021-08-15T16:32:41.987Z"
   },
   {
    "duration": 10,
    "start_time": "2021-08-15T16:32:41.996Z"
   },
   {
    "duration": 34,
    "start_time": "2021-08-15T16:32:42.008Z"
   },
   {
    "duration": 16,
    "start_time": "2021-08-15T16:32:42.044Z"
   },
   {
    "duration": 10,
    "start_time": "2021-08-15T16:32:42.062Z"
   },
   {
    "duration": 1002,
    "start_time": "2021-08-15T16:32:42.074Z"
   },
   {
    "duration": 13,
    "start_time": "2021-08-15T16:32:43.078Z"
   },
   {
    "duration": 5,
    "start_time": "2021-08-15T16:32:43.093Z"
   },
   {
    "duration": 17,
    "start_time": "2021-08-15T16:32:43.099Z"
   },
   {
    "duration": 310,
    "start_time": "2021-08-15T16:32:49.413Z"
   },
   {
    "duration": 4,
    "start_time": "2021-08-15T16:34:20.676Z"
   },
   {
    "duration": 338,
    "start_time": "2021-08-15T16:34:27.957Z"
   },
   {
    "duration": 256,
    "start_time": "2021-08-15T16:34:51.451Z"
   },
   {
    "duration": 254,
    "start_time": "2021-08-15T16:35:27.089Z"
   },
   {
    "duration": -92,
    "start_time": "2021-08-15T16:36:57.334Z"
   },
   {
    "duration": 7210,
    "start_time": "2021-08-15T16:37:05.784Z"
   },
   {
    "duration": -229,
    "start_time": "2021-08-15T16:37:43.521Z"
   },
   {
    "duration": 6663,
    "start_time": "2021-08-15T16:37:50.539Z"
   },
   {
    "duration": 29,
    "start_time": "2021-08-15T16:38:49.976Z"
   },
   {
    "duration": 721,
    "start_time": "2021-08-15T16:41:16.672Z"
   },
   {
    "duration": 10,
    "start_time": "2021-08-15T16:41:17.394Z"
   },
   {
    "duration": 8,
    "start_time": "2021-08-15T16:41:17.406Z"
   },
   {
    "duration": 7,
    "start_time": "2021-08-15T16:41:17.416Z"
   },
   {
    "duration": 6,
    "start_time": "2021-08-15T16:41:17.441Z"
   },
   {
    "duration": 307,
    "start_time": "2021-08-15T16:41:17.450Z"
   },
   {
    "duration": 6,
    "start_time": "2021-08-15T16:41:17.759Z"
   },
   {
    "duration": 330,
    "start_time": "2021-08-15T16:41:17.767Z"
   },
   {
    "duration": 5,
    "start_time": "2021-08-15T16:41:18.099Z"
   },
   {
    "duration": 21,
    "start_time": "2021-08-15T16:41:18.106Z"
   },
   {
    "duration": 15,
    "start_time": "2021-08-15T16:41:18.129Z"
   },
   {
    "duration": 7,
    "start_time": "2021-08-15T16:41:18.145Z"
   },
   {
    "duration": 96,
    "start_time": "2021-08-15T16:41:18.153Z"
   },
   {
    "duration": 171,
    "start_time": "2021-08-15T16:41:18.251Z"
   },
   {
    "duration": 6,
    "start_time": "2021-08-15T16:41:18.423Z"
   },
   {
    "duration": 16,
    "start_time": "2021-08-15T16:41:18.431Z"
   },
   {
    "duration": 7,
    "start_time": "2021-08-15T16:41:18.449Z"
   },
   {
    "duration": 13,
    "start_time": "2021-08-15T16:41:18.458Z"
   },
   {
    "duration": 12,
    "start_time": "2021-08-15T16:41:18.473Z"
   },
   {
    "duration": 14,
    "start_time": "2021-08-15T16:41:18.486Z"
   },
   {
    "duration": 58,
    "start_time": "2021-08-15T16:41:18.502Z"
   },
   {
    "duration": 6,
    "start_time": "2021-08-15T16:41:18.562Z"
   },
   {
    "duration": 18,
    "start_time": "2021-08-15T16:41:18.571Z"
   },
   {
    "duration": 5,
    "start_time": "2021-08-15T16:41:18.592Z"
   },
   {
    "duration": 7,
    "start_time": "2021-08-15T16:41:18.599Z"
   },
   {
    "duration": 43,
    "start_time": "2021-08-15T16:41:18.608Z"
   },
   {
    "duration": 8,
    "start_time": "2021-08-15T16:41:18.653Z"
   },
   {
    "duration": 14,
    "start_time": "2021-08-15T16:41:18.663Z"
   },
   {
    "duration": 6,
    "start_time": "2021-08-15T16:41:18.679Z"
   },
   {
    "duration": 676,
    "start_time": "2021-08-15T16:41:18.686Z"
   },
   {
    "duration": 13,
    "start_time": "2021-08-15T16:41:19.364Z"
   },
   {
    "duration": 5,
    "start_time": "2021-08-15T16:41:19.379Z"
   },
   {
    "duration": 16,
    "start_time": "2021-08-15T16:41:19.385Z"
   },
   {
    "duration": 36,
    "start_time": "2021-08-15T16:42:17.744Z"
   },
   {
    "duration": 3,
    "start_time": "2021-08-15T16:43:03.680Z"
   },
   {
    "duration": 27,
    "start_time": "2021-08-15T16:43:09.100Z"
   },
   {
    "duration": 6085,
    "start_time": "2021-08-15T16:43:24.204Z"
   },
   {
    "duration": 6252,
    "start_time": "2021-08-15T16:43:40.641Z"
   },
   {
    "duration": 29,
    "start_time": "2021-08-15T16:43:52.806Z"
   },
   {
    "duration": 793,
    "start_time": "2021-08-15T16:44:12.106Z"
   },
   {
    "duration": 10,
    "start_time": "2021-08-15T16:44:12.901Z"
   },
   {
    "duration": 20,
    "start_time": "2021-08-15T16:44:12.912Z"
   },
   {
    "duration": 21,
    "start_time": "2021-08-15T16:44:12.934Z"
   },
   {
    "duration": 16,
    "start_time": "2021-08-15T16:44:12.957Z"
   },
   {
    "duration": 357,
    "start_time": "2021-08-15T16:44:12.974Z"
   },
   {
    "duration": 8,
    "start_time": "2021-08-15T16:44:13.333Z"
   },
   {
    "duration": 314,
    "start_time": "2021-08-15T16:44:13.344Z"
   },
   {
    "duration": 5,
    "start_time": "2021-08-15T16:44:13.661Z"
   },
   {
    "duration": 29,
    "start_time": "2021-08-15T16:44:13.668Z"
   },
   {
    "duration": 8,
    "start_time": "2021-08-15T16:44:13.699Z"
   },
   {
    "duration": 25,
    "start_time": "2021-08-15T16:44:13.709Z"
   },
   {
    "duration": 93,
    "start_time": "2021-08-15T16:44:13.735Z"
   },
   {
    "duration": 175,
    "start_time": "2021-08-15T16:44:13.829Z"
   },
   {
    "duration": 6,
    "start_time": "2021-08-15T16:44:14.006Z"
   },
   {
    "duration": 25,
    "start_time": "2021-08-15T16:44:14.014Z"
   },
   {
    "duration": 23,
    "start_time": "2021-08-15T16:44:14.041Z"
   },
   {
    "duration": 35,
    "start_time": "2021-08-15T16:44:14.066Z"
   },
   {
    "duration": 28,
    "start_time": "2021-08-15T16:44:14.103Z"
   },
   {
    "duration": 39,
    "start_time": "2021-08-15T16:44:14.133Z"
   },
   {
    "duration": 30,
    "start_time": "2021-08-15T16:44:14.174Z"
   },
   {
    "duration": 5,
    "start_time": "2021-08-15T16:44:14.206Z"
   },
   {
    "duration": 26,
    "start_time": "2021-08-15T16:44:14.214Z"
   },
   {
    "duration": 25,
    "start_time": "2021-08-15T16:44:14.243Z"
   },
   {
    "duration": 28,
    "start_time": "2021-08-15T16:44:14.270Z"
   },
   {
    "duration": 32,
    "start_time": "2021-08-15T16:44:14.299Z"
   },
   {
    "duration": 22,
    "start_time": "2021-08-15T16:44:14.333Z"
   },
   {
    "duration": 34,
    "start_time": "2021-08-15T16:44:14.357Z"
   },
   {
    "duration": 27,
    "start_time": "2021-08-15T16:44:14.393Z"
   },
   {
    "duration": 662,
    "start_time": "2021-08-15T16:44:14.422Z"
   },
   {
    "duration": 13,
    "start_time": "2021-08-15T16:44:15.086Z"
   },
   {
    "duration": 26,
    "start_time": "2021-08-15T16:44:15.101Z"
   },
   {
    "duration": 27,
    "start_time": "2021-08-15T16:44:15.128Z"
   },
   {
    "duration": 13,
    "start_time": "2021-08-15T16:44:15.157Z"
   },
   {
    "duration": 47,
    "start_time": "2021-08-15T16:44:15.171Z"
   },
   {
    "duration": 15,
    "start_time": "2021-08-15T16:44:15.220Z"
   },
   {
    "duration": 267,
    "start_time": "2021-08-15T16:44:15.237Z"
   },
   {
    "duration": 3,
    "start_time": "2021-08-15T16:44:15.506Z"
   },
   {
    "duration": 24,
    "start_time": "2021-08-15T16:44:15.511Z"
   },
   {
    "duration": 18,
    "start_time": "2021-08-15T16:44:15.537Z"
   },
   {
    "duration": 17,
    "start_time": "2021-08-15T16:44:15.557Z"
   },
   {
    "duration": 36,
    "start_time": "2021-08-15T16:44:15.576Z"
   },
   {
    "duration": 28,
    "start_time": "2021-08-15T16:44:15.614Z"
   },
   {
    "duration": 19,
    "start_time": "2021-08-15T16:44:15.646Z"
   },
   {
    "duration": 87,
    "start_time": "2021-08-15T16:45:41.075Z"
   },
   {
    "duration": 6396,
    "start_time": "2021-08-15T16:45:52.383Z"
   },
   {
    "duration": -51,
    "start_time": "2021-08-15T16:45:58.832Z"
   },
   {
    "duration": 642,
    "start_time": "2021-08-15T16:47:55.415Z"
   },
   {
    "duration": 285,
    "start_time": "2021-08-15T16:48:00.194Z"
   },
   {
    "duration": 247,
    "start_time": "2021-08-15T16:50:12.456Z"
   },
   {
    "duration": 255,
    "start_time": "2021-08-15T16:50:38.257Z"
   },
   {
    "duration": 6194,
    "start_time": "2021-08-15T16:50:51.964Z"
   },
   {
    "duration": -487,
    "start_time": "2021-08-15T16:50:58.647Z"
   },
   {
    "duration": 78,
    "start_time": "2021-08-15T16:51:16.883Z"
   },
   {
    "duration": 10,
    "start_time": "2021-08-15T16:51:16.963Z"
   },
   {
    "duration": 10,
    "start_time": "2021-08-15T16:51:16.975Z"
   },
   {
    "duration": 6,
    "start_time": "2021-08-15T16:51:16.987Z"
   },
   {
    "duration": 3,
    "start_time": "2021-08-15T16:51:16.995Z"
   },
   {
    "duration": 329,
    "start_time": "2021-08-15T16:51:17.000Z"
   },
   {
    "duration": 13,
    "start_time": "2021-08-15T16:51:17.331Z"
   },
   {
    "duration": 303,
    "start_time": "2021-08-15T16:51:17.348Z"
   },
   {
    "duration": 6,
    "start_time": "2021-08-15T16:51:17.653Z"
   },
   {
    "duration": 16,
    "start_time": "2021-08-15T16:51:17.661Z"
   },
   {
    "duration": 7,
    "start_time": "2021-08-15T16:51:17.679Z"
   },
   {
    "duration": 10,
    "start_time": "2021-08-15T16:51:17.687Z"
   },
   {
    "duration": 65,
    "start_time": "2021-08-15T16:51:17.698Z"
   },
   {
    "duration": 193,
    "start_time": "2021-08-15T16:51:17.764Z"
   },
   {
    "duration": 8,
    "start_time": "2021-08-15T16:51:17.959Z"
   },
   {
    "duration": 9,
    "start_time": "2021-08-15T16:51:17.968Z"
   },
   {
    "duration": 6,
    "start_time": "2021-08-15T16:51:17.978Z"
   },
   {
    "duration": 11,
    "start_time": "2021-08-15T16:51:17.986Z"
   },
   {
    "duration": 51,
    "start_time": "2021-08-15T16:51:17.999Z"
   },
   {
    "duration": 20,
    "start_time": "2021-08-15T16:51:18.052Z"
   },
   {
    "duration": 23,
    "start_time": "2021-08-15T16:51:18.074Z"
   },
   {
    "duration": 5,
    "start_time": "2021-08-15T16:51:18.098Z"
   },
   {
    "duration": 40,
    "start_time": "2021-08-15T16:51:18.106Z"
   },
   {
    "duration": 6,
    "start_time": "2021-08-15T16:51:18.148Z"
   },
   {
    "duration": 10,
    "start_time": "2021-08-15T16:51:18.156Z"
   },
   {
    "duration": 14,
    "start_time": "2021-08-15T16:51:18.168Z"
   },
   {
    "duration": 8,
    "start_time": "2021-08-15T16:51:18.184Z"
   },
   {
    "duration": 16,
    "start_time": "2021-08-15T16:51:18.194Z"
   },
   {
    "duration": 36,
    "start_time": "2021-08-15T16:51:18.211Z"
   },
   {
    "duration": 660,
    "start_time": "2021-08-15T16:51:18.249Z"
   },
   {
    "duration": 85,
    "start_time": "2021-08-15T16:56:03.065Z"
   },
   {
    "duration": 12,
    "start_time": "2021-08-15T16:56:03.152Z"
   },
   {
    "duration": 11,
    "start_time": "2021-08-15T16:56:03.167Z"
   },
   {
    "duration": 8,
    "start_time": "2021-08-15T16:56:03.180Z"
   },
   {
    "duration": 4,
    "start_time": "2021-08-15T16:56:03.190Z"
   },
   {
    "duration": 351,
    "start_time": "2021-08-15T16:56:03.196Z"
   },
   {
    "duration": 6,
    "start_time": "2021-08-15T16:56:03.549Z"
   },
   {
    "duration": 392,
    "start_time": "2021-08-15T16:56:03.557Z"
   },
   {
    "duration": 7,
    "start_time": "2021-08-15T16:56:03.952Z"
   },
   {
    "duration": 20,
    "start_time": "2021-08-15T16:56:03.961Z"
   },
   {
    "duration": 7,
    "start_time": "2021-08-15T16:56:03.983Z"
   },
   {
    "duration": 8,
    "start_time": "2021-08-15T16:56:03.992Z"
   },
   {
    "duration": 68,
    "start_time": "2021-08-15T16:56:04.001Z"
   },
   {
    "duration": 175,
    "start_time": "2021-08-15T16:56:04.071Z"
   },
   {
    "duration": 7,
    "start_time": "2021-08-15T16:56:04.248Z"
   },
   {
    "duration": 12,
    "start_time": "2021-08-15T16:56:04.257Z"
   },
   {
    "duration": 6,
    "start_time": "2021-08-15T16:56:04.271Z"
   },
   {
    "duration": 19,
    "start_time": "2021-08-15T16:56:04.279Z"
   },
   {
    "duration": 15,
    "start_time": "2021-08-15T16:56:04.299Z"
   },
   {
    "duration": 38,
    "start_time": "2021-08-15T16:56:04.316Z"
   },
   {
    "duration": 25,
    "start_time": "2021-08-15T16:56:04.356Z"
   },
   {
    "duration": 5,
    "start_time": "2021-08-15T16:56:04.383Z"
   },
   {
    "duration": 17,
    "start_time": "2021-08-15T16:56:04.390Z"
   },
   {
    "duration": 32,
    "start_time": "2021-08-15T16:56:04.409Z"
   },
   {
    "duration": 7,
    "start_time": "2021-08-15T16:56:04.442Z"
   },
   {
    "duration": 12,
    "start_time": "2021-08-15T16:56:04.451Z"
   },
   {
    "duration": 8,
    "start_time": "2021-08-15T16:56:04.465Z"
   },
   {
    "duration": 17,
    "start_time": "2021-08-15T16:56:04.475Z"
   },
   {
    "duration": 7,
    "start_time": "2021-08-15T16:56:04.494Z"
   },
   {
    "duration": 715,
    "start_time": "2021-08-15T16:56:04.503Z"
   },
   {
    "duration": 20,
    "start_time": "2021-08-15T16:56:05.221Z"
   },
   {
    "duration": 3,
    "start_time": "2021-08-15T16:56:20.794Z"
   },
   {
    "duration": 12,
    "start_time": "2021-08-15T16:56:24.269Z"
   },
   {
    "duration": 10,
    "start_time": "2021-08-15T16:56:30.997Z"
   },
   {
    "duration": 30,
    "start_time": "2021-08-15T16:56:38.239Z"
   },
   {
    "duration": 17,
    "start_time": "2021-08-15T16:57:06.675Z"
   },
   {
    "duration": 2,
    "start_time": "2021-08-15T16:57:43.383Z"
   },
   {
    "duration": 30,
    "start_time": "2021-08-15T16:57:57.785Z"
   },
   {
    "duration": 9,
    "start_time": "2021-08-15T16:58:12.777Z"
   },
   {
    "duration": 11,
    "start_time": "2021-08-15T16:58:30.407Z"
   },
   {
    "duration": 4,
    "start_time": "2021-08-15T16:58:41.650Z"
   },
   {
    "duration": 323,
    "start_time": "2021-08-15T16:58:46.494Z"
   },
   {
    "duration": 37,
    "start_time": "2021-08-15T16:59:02.653Z"
   },
   {
    "duration": -46,
    "start_time": "2021-08-15T16:59:26.614Z"
   },
   {
    "duration": 4,
    "start_time": "2021-08-15T17:03:10.581Z"
   },
   {
    "duration": 87,
    "start_time": "2021-08-15T17:03:39.716Z"
   },
   {
    "duration": 4,
    "start_time": "2021-08-15T17:04:03.035Z"
   },
   {
    "duration": 3,
    "start_time": "2021-08-15T17:05:33.376Z"
   },
   {
    "duration": 4,
    "start_time": "2021-08-15T17:10:34.196Z"
   },
   {
    "duration": 11,
    "start_time": "2021-08-15T17:10:47.002Z"
   },
   {
    "duration": 3,
    "start_time": "2021-08-15T17:11:27.423Z"
   },
   {
    "duration": 87,
    "start_time": "2021-08-15T17:12:38.486Z"
   },
   {
    "duration": 12,
    "start_time": "2021-08-15T17:14:34.209Z"
   },
   {
    "duration": 19,
    "start_time": "2021-08-15T17:15:42.444Z"
   },
   {
    "duration": 26,
    "start_time": "2021-08-15T17:17:45.526Z"
   },
   {
    "duration": 682,
    "start_time": "2021-08-15T17:24:49.783Z"
   },
   {
    "duration": 10,
    "start_time": "2021-08-15T17:24:50.466Z"
   },
   {
    "duration": 24,
    "start_time": "2021-08-15T17:24:50.479Z"
   },
   {
    "duration": 22,
    "start_time": "2021-08-15T17:24:50.505Z"
   },
   {
    "duration": 4,
    "start_time": "2021-08-15T17:24:50.529Z"
   },
   {
    "duration": 318,
    "start_time": "2021-08-15T17:24:50.535Z"
   },
   {
    "duration": 7,
    "start_time": "2021-08-15T17:24:50.854Z"
   },
   {
    "duration": 291,
    "start_time": "2021-08-15T17:24:50.864Z"
   },
   {
    "duration": 9,
    "start_time": "2021-08-15T17:24:51.157Z"
   },
   {
    "duration": 20,
    "start_time": "2021-08-15T17:24:51.167Z"
   },
   {
    "duration": 9,
    "start_time": "2021-08-15T17:24:51.189Z"
   },
   {
    "duration": 12,
    "start_time": "2021-08-15T17:24:51.199Z"
   },
   {
    "duration": 110,
    "start_time": "2021-08-15T17:24:51.213Z"
   },
   {
    "duration": 164,
    "start_time": "2021-08-15T17:24:51.325Z"
   },
   {
    "duration": 6,
    "start_time": "2021-08-15T17:24:51.491Z"
   },
   {
    "duration": 11,
    "start_time": "2021-08-15T17:24:51.499Z"
   },
   {
    "duration": 13,
    "start_time": "2021-08-15T17:24:51.512Z"
   },
   {
    "duration": 24,
    "start_time": "2021-08-15T17:24:51.526Z"
   },
   {
    "duration": 26,
    "start_time": "2021-08-15T17:24:51.551Z"
   },
   {
    "duration": 20,
    "start_time": "2021-08-15T17:24:51.579Z"
   },
   {
    "duration": 23,
    "start_time": "2021-08-15T17:24:51.600Z"
   },
   {
    "duration": 15,
    "start_time": "2021-08-15T17:24:51.625Z"
   },
   {
    "duration": 14,
    "start_time": "2021-08-15T17:24:51.644Z"
   },
   {
    "duration": 11,
    "start_time": "2021-08-15T17:24:51.660Z"
   },
   {
    "duration": 19,
    "start_time": "2021-08-15T17:24:51.673Z"
   },
   {
    "duration": 16,
    "start_time": "2021-08-15T17:24:51.694Z"
   },
   {
    "duration": 11,
    "start_time": "2021-08-15T17:24:51.712Z"
   },
   {
    "duration": 34,
    "start_time": "2021-08-15T17:24:51.725Z"
   },
   {
    "duration": 6,
    "start_time": "2021-08-15T17:24:51.761Z"
   },
   {
    "duration": 620,
    "start_time": "2021-08-15T17:24:51.769Z"
   },
   {
    "duration": 13,
    "start_time": "2021-08-15T17:24:52.392Z"
   },
   {
    "duration": 18,
    "start_time": "2021-08-15T17:24:52.407Z"
   },
   {
    "duration": 32,
    "start_time": "2021-08-15T17:24:52.427Z"
   },
   {
    "duration": 18,
    "start_time": "2021-08-15T17:24:52.461Z"
   },
   {
    "duration": 44,
    "start_time": "2021-08-15T17:24:52.481Z"
   },
   {
    "duration": 235,
    "start_time": "2021-08-15T17:24:52.526Z"
   },
   {
    "duration": 4,
    "start_time": "2021-08-15T17:24:52.763Z"
   },
   {
    "duration": 19,
    "start_time": "2021-08-15T17:24:52.769Z"
   },
   {
    "duration": 20,
    "start_time": "2021-08-15T17:24:52.790Z"
   },
   {
    "duration": 30,
    "start_time": "2021-08-15T17:24:52.811Z"
   },
   {
    "duration": 16,
    "start_time": "2021-08-15T17:24:52.843Z"
   },
   {
    "duration": 25,
    "start_time": "2021-08-15T17:24:52.861Z"
   },
   {
    "duration": 20,
    "start_time": "2021-08-15T17:24:52.888Z"
   },
   {
    "duration": 39,
    "start_time": "2021-08-15T17:24:52.909Z"
   },
   {
    "duration": 17,
    "start_time": "2021-08-15T17:31:12.465Z"
   },
   {
    "duration": 13,
    "start_time": "2021-08-15T17:31:25.324Z"
   },
   {
    "duration": 20,
    "start_time": "2021-08-15T17:31:32.875Z"
   },
   {
    "duration": 19,
    "start_time": "2021-08-15T17:32:09.757Z"
   },
   {
    "duration": 659,
    "start_time": "2021-08-15T17:59:41.991Z"
   },
   {
    "duration": 11,
    "start_time": "2021-08-15T17:59:42.652Z"
   },
   {
    "duration": 9,
    "start_time": "2021-08-15T17:59:42.666Z"
   },
   {
    "duration": 12,
    "start_time": "2021-08-15T17:59:42.677Z"
   },
   {
    "duration": 5,
    "start_time": "2021-08-15T17:59:42.691Z"
   },
   {
    "duration": 313,
    "start_time": "2021-08-15T17:59:42.697Z"
   },
   {
    "duration": 5,
    "start_time": "2021-08-15T17:59:43.012Z"
   },
   {
    "duration": 281,
    "start_time": "2021-08-15T17:59:43.019Z"
   },
   {
    "duration": 6,
    "start_time": "2021-08-15T17:59:43.302Z"
   },
   {
    "duration": 24,
    "start_time": "2021-08-15T17:59:43.309Z"
   },
   {
    "duration": 15,
    "start_time": "2021-08-15T17:59:43.334Z"
   },
   {
    "duration": 20,
    "start_time": "2021-08-15T17:59:43.350Z"
   },
   {
    "duration": 102,
    "start_time": "2021-08-15T17:59:43.372Z"
   },
   {
    "duration": 166,
    "start_time": "2021-08-15T17:59:43.476Z"
   },
   {
    "duration": 8,
    "start_time": "2021-08-15T17:59:43.644Z"
   },
   {
    "duration": 21,
    "start_time": "2021-08-15T17:59:43.653Z"
   },
   {
    "duration": 7,
    "start_time": "2021-08-15T17:59:43.675Z"
   },
   {
    "duration": 22,
    "start_time": "2021-08-15T17:59:43.684Z"
   },
   {
    "duration": 24,
    "start_time": "2021-08-15T17:59:43.708Z"
   },
   {
    "duration": 17,
    "start_time": "2021-08-15T17:59:43.734Z"
   },
   {
    "duration": 26,
    "start_time": "2021-08-15T17:59:43.753Z"
   },
   {
    "duration": 5,
    "start_time": "2021-08-15T17:59:43.781Z"
   },
   {
    "duration": 17,
    "start_time": "2021-08-15T17:59:43.790Z"
   },
   {
    "duration": 33,
    "start_time": "2021-08-15T17:59:43.809Z"
   },
   {
    "duration": 23,
    "start_time": "2021-08-15T17:59:43.844Z"
   },
   {
    "duration": 32,
    "start_time": "2021-08-15T17:59:43.869Z"
   },
   {
    "duration": 15,
    "start_time": "2021-08-15T17:59:43.904Z"
   },
   {
    "duration": 32,
    "start_time": "2021-08-15T17:59:43.921Z"
   },
   {
    "duration": 16,
    "start_time": "2021-08-15T17:59:43.955Z"
   },
   {
    "duration": 637,
    "start_time": "2021-08-15T17:59:43.973Z"
   },
   {
    "duration": 13,
    "start_time": "2021-08-15T17:59:44.612Z"
   },
   {
    "duration": 21,
    "start_time": "2021-08-15T17:59:44.626Z"
   },
   {
    "duration": 27,
    "start_time": "2021-08-15T17:59:44.649Z"
   },
   {
    "duration": 20,
    "start_time": "2021-08-15T17:59:44.677Z"
   },
   {
    "duration": 50,
    "start_time": "2021-08-15T17:59:44.699Z"
   },
   {
    "duration": 245,
    "start_time": "2021-08-15T17:59:44.751Z"
   },
   {
    "duration": 3,
    "start_time": "2021-08-15T17:59:44.998Z"
   },
   {
    "duration": 34,
    "start_time": "2021-08-15T17:59:45.003Z"
   },
   {
    "duration": 31,
    "start_time": "2021-08-15T17:59:45.038Z"
   },
   {
    "duration": 42,
    "start_time": "2021-08-15T17:59:45.070Z"
   },
   {
    "duration": 13,
    "start_time": "2021-08-15T17:59:45.114Z"
   },
   {
    "duration": 29,
    "start_time": "2021-08-15T17:59:45.128Z"
   },
   {
    "duration": 37,
    "start_time": "2021-08-15T17:59:45.159Z"
   },
   {
    "duration": 33,
    "start_time": "2021-08-15T17:59:45.198Z"
   },
   {
    "duration": 18,
    "start_time": "2021-08-15T18:01:06.410Z"
   },
   {
    "duration": 16,
    "start_time": "2021-08-15T18:02:02.173Z"
   },
   {
    "duration": 14,
    "start_time": "2021-08-15T18:02:12.418Z"
   },
   {
    "duration": 680,
    "start_time": "2021-08-15T18:02:57.472Z"
   },
   {
    "duration": 10,
    "start_time": "2021-08-15T18:02:58.154Z"
   },
   {
    "duration": 50,
    "start_time": "2021-08-15T18:02:58.166Z"
   },
   {
    "duration": 36,
    "start_time": "2021-08-15T18:02:58.217Z"
   },
   {
    "duration": 20,
    "start_time": "2021-08-15T18:02:58.255Z"
   },
   {
    "duration": 307,
    "start_time": "2021-08-15T18:02:58.277Z"
   },
   {
    "duration": 5,
    "start_time": "2021-08-15T18:02:58.585Z"
   },
   {
    "duration": 296,
    "start_time": "2021-08-15T18:02:58.593Z"
   },
   {
    "duration": 6,
    "start_time": "2021-08-15T18:02:58.891Z"
   },
   {
    "duration": 34,
    "start_time": "2021-08-15T18:02:58.899Z"
   },
   {
    "duration": 29,
    "start_time": "2021-08-15T18:02:58.935Z"
   },
   {
    "duration": 14,
    "start_time": "2021-08-15T18:02:58.965Z"
   },
   {
    "duration": 84,
    "start_time": "2021-08-15T18:02:58.981Z"
   },
   {
    "duration": 161,
    "start_time": "2021-08-15T18:02:59.067Z"
   },
   {
    "duration": 11,
    "start_time": "2021-08-15T18:02:59.230Z"
   },
   {
    "duration": 17,
    "start_time": "2021-08-15T18:02:59.243Z"
   },
   {
    "duration": 10,
    "start_time": "2021-08-15T18:02:59.262Z"
   },
   {
    "duration": 22,
    "start_time": "2021-08-15T18:02:59.273Z"
   },
   {
    "duration": 17,
    "start_time": "2021-08-15T18:02:59.297Z"
   },
   {
    "duration": 45,
    "start_time": "2021-08-15T18:02:59.316Z"
   },
   {
    "duration": 24,
    "start_time": "2021-08-15T18:02:59.362Z"
   },
   {
    "duration": 5,
    "start_time": "2021-08-15T18:02:59.387Z"
   },
   {
    "duration": 27,
    "start_time": "2021-08-15T18:02:59.395Z"
   },
   {
    "duration": 15,
    "start_time": "2021-08-15T18:02:59.424Z"
   },
   {
    "duration": 22,
    "start_time": "2021-08-15T18:02:59.440Z"
   },
   {
    "duration": 27,
    "start_time": "2021-08-15T18:02:59.463Z"
   },
   {
    "duration": 19,
    "start_time": "2021-08-15T18:02:59.491Z"
   },
   {
    "duration": 31,
    "start_time": "2021-08-15T18:02:59.512Z"
   },
   {
    "duration": 13,
    "start_time": "2021-08-15T18:02:59.545Z"
   },
   {
    "duration": 654,
    "start_time": "2021-08-15T18:02:59.560Z"
   },
   {
    "duration": 13,
    "start_time": "2021-08-15T18:03:00.216Z"
   },
   {
    "duration": 46,
    "start_time": "2021-08-15T18:03:00.231Z"
   },
   {
    "duration": 43,
    "start_time": "2021-08-15T18:03:00.279Z"
   },
   {
    "duration": 19,
    "start_time": "2021-08-15T18:03:00.325Z"
   },
   {
    "duration": 60,
    "start_time": "2021-08-15T18:03:00.346Z"
   },
   {
    "duration": 242,
    "start_time": "2021-08-15T18:03:00.408Z"
   },
   {
    "duration": 4,
    "start_time": "2021-08-15T18:03:00.652Z"
   },
   {
    "duration": 29,
    "start_time": "2021-08-15T18:03:00.658Z"
   },
   {
    "duration": 34,
    "start_time": "2021-08-15T18:03:00.689Z"
   },
   {
    "duration": 20,
    "start_time": "2021-08-15T18:03:00.725Z"
   },
   {
    "duration": 30,
    "start_time": "2021-08-15T18:03:00.747Z"
   },
   {
    "duration": 23,
    "start_time": "2021-08-15T18:03:00.779Z"
   },
   {
    "duration": 26,
    "start_time": "2021-08-15T18:03:00.804Z"
   },
   {
    "duration": 20,
    "start_time": "2021-08-15T18:03:00.832Z"
   },
   {
    "duration": 14,
    "start_time": "2021-08-15T18:03:43.634Z"
   },
   {
    "duration": 18,
    "start_time": "2021-08-15T18:05:22.654Z"
   },
   {
    "duration": 659,
    "start_time": "2021-08-15T18:55:21.684Z"
   },
   {
    "duration": 9,
    "start_time": "2021-08-15T18:55:22.345Z"
   },
   {
    "duration": 18,
    "start_time": "2021-08-15T18:55:22.356Z"
   },
   {
    "duration": 12,
    "start_time": "2021-08-15T18:55:22.376Z"
   },
   {
    "duration": 6,
    "start_time": "2021-08-15T18:55:22.390Z"
   },
   {
    "duration": 300,
    "start_time": "2021-08-15T18:55:22.398Z"
   },
   {
    "duration": 5,
    "start_time": "2021-08-15T18:55:22.699Z"
   },
   {
    "duration": 289,
    "start_time": "2021-08-15T18:55:22.706Z"
   },
   {
    "duration": 5,
    "start_time": "2021-08-15T18:55:22.997Z"
   },
   {
    "duration": 22,
    "start_time": "2021-08-15T18:55:23.004Z"
   },
   {
    "duration": 13,
    "start_time": "2021-08-15T18:55:23.028Z"
   },
   {
    "duration": 18,
    "start_time": "2021-08-15T18:55:23.043Z"
   },
   {
    "duration": 85,
    "start_time": "2021-08-15T18:55:23.062Z"
   },
   {
    "duration": 172,
    "start_time": "2021-08-15T18:55:23.149Z"
   },
   {
    "duration": 6,
    "start_time": "2021-08-15T18:55:23.323Z"
   },
   {
    "duration": 8,
    "start_time": "2021-08-15T18:55:23.340Z"
   },
   {
    "duration": 6,
    "start_time": "2021-08-15T18:55:23.349Z"
   },
   {
    "duration": 13,
    "start_time": "2021-08-15T18:55:23.356Z"
   },
   {
    "duration": 11,
    "start_time": "2021-08-15T18:55:23.370Z"
   },
   {
    "duration": 15,
    "start_time": "2021-08-15T18:55:23.382Z"
   },
   {
    "duration": 59,
    "start_time": "2021-08-15T18:55:23.398Z"
   },
   {
    "duration": 5,
    "start_time": "2021-08-15T18:55:23.458Z"
   },
   {
    "duration": 14,
    "start_time": "2021-08-15T18:55:23.466Z"
   },
   {
    "duration": 6,
    "start_time": "2021-08-15T18:55:23.482Z"
   },
   {
    "duration": 17,
    "start_time": "2021-08-15T18:55:23.489Z"
   },
   {
    "duration": 22,
    "start_time": "2021-08-15T18:55:23.507Z"
   },
   {
    "duration": 35,
    "start_time": "2021-08-15T18:55:23.531Z"
   },
   {
    "duration": 16,
    "start_time": "2021-08-15T18:55:23.568Z"
   },
   {
    "duration": 12,
    "start_time": "2021-08-15T18:55:23.586Z"
   },
   {
    "duration": 747,
    "start_time": "2021-08-15T18:55:23.600Z"
   },
   {
    "duration": 14,
    "start_time": "2021-08-15T18:55:24.349Z"
   },
   {
    "duration": 11,
    "start_time": "2021-08-15T18:55:24.365Z"
   },
   {
    "duration": 34,
    "start_time": "2021-08-15T18:55:24.378Z"
   },
   {
    "duration": 6,
    "start_time": "2021-08-15T18:55:24.414Z"
   },
   {
    "duration": 30,
    "start_time": "2021-08-15T18:55:24.421Z"
   },
   {
    "duration": 236,
    "start_time": "2021-08-15T18:55:24.453Z"
   },
   {
    "duration": 3,
    "start_time": "2021-08-15T18:55:24.691Z"
   },
   {
    "duration": 22,
    "start_time": "2021-08-15T18:55:24.695Z"
   },
   {
    "duration": 12,
    "start_time": "2021-08-15T18:55:24.718Z"
   },
   {
    "duration": 8,
    "start_time": "2021-08-15T18:55:24.740Z"
   },
   {
    "duration": 29,
    "start_time": "2021-08-15T18:55:24.749Z"
   },
   {
    "duration": 20,
    "start_time": "2021-08-15T18:55:24.779Z"
   },
   {
    "duration": 22,
    "start_time": "2021-08-15T18:55:24.801Z"
   },
   {
    "duration": 31,
    "start_time": "2021-08-15T18:55:24.825Z"
   },
   {
    "duration": 18,
    "start_time": "2021-08-15T18:55:24.858Z"
   },
   {
    "duration": 19,
    "start_time": "2021-08-15T18:56:10.960Z"
   },
   {
    "duration": 4940,
    "start_time": "2021-08-15T18:58:58.616Z"
   },
   {
    "duration": 16,
    "start_time": "2021-08-15T18:59:52.432Z"
   },
   {
    "duration": 18,
    "start_time": "2021-08-15T19:00:19.384Z"
   },
   {
    "duration": 5451,
    "start_time": "2021-08-15T19:00:41.784Z"
   },
   {
    "duration": 4694,
    "start_time": "2021-08-15T19:00:51.521Z"
   },
   {
    "duration": 288,
    "start_time": "2021-08-15T19:00:57.808Z"
   },
   {
    "duration": 19,
    "start_time": "2021-08-15T19:01:02.925Z"
   },
   {
    "duration": 17,
    "start_time": "2021-08-15T19:01:20.262Z"
   },
   {
    "duration": 13,
    "start_time": "2021-08-15T19:01:40.369Z"
   },
   {
    "duration": 16,
    "start_time": "2021-08-15T19:01:55.962Z"
   },
   {
    "duration": 27,
    "start_time": "2021-08-15T19:02:35.500Z"
   },
   {
    "duration": 16,
    "start_time": "2021-08-15T19:02:44.234Z"
   },
   {
    "duration": 22,
    "start_time": "2021-08-15T19:02:56.303Z"
   },
   {
    "duration": 20,
    "start_time": "2021-08-15T19:14:01.533Z"
   },
   {
    "duration": 20,
    "start_time": "2021-08-15T19:21:53.402Z"
   },
   {
    "duration": 5,
    "start_time": "2021-08-15T19:23:11.924Z"
   },
   {
    "duration": 12,
    "start_time": "2021-08-15T19:23:57.425Z"
   },
   {
    "duration": 21,
    "start_time": "2021-08-15T19:26:53.665Z"
   },
   {
    "duration": 22,
    "start_time": "2021-08-15T19:27:50.444Z"
   },
   {
    "duration": 19,
    "start_time": "2021-08-15T19:36:25.226Z"
   },
   {
    "duration": 102,
    "start_time": "2021-08-15T19:41:37.433Z"
   },
   {
    "duration": 90,
    "start_time": "2021-08-15T19:42:21.492Z"
   },
   {
    "duration": 20,
    "start_time": "2021-08-15T19:44:13.858Z"
   },
   {
    "duration": 3,
    "start_time": "2021-08-15T19:46:46.156Z"
   },
   {
    "duration": 12,
    "start_time": "2021-08-15T19:46:51.522Z"
   },
   {
    "duration": 4,
    "start_time": "2021-08-15T19:47:41.134Z"
   },
   {
    "duration": 11,
    "start_time": "2021-08-15T19:47:44.006Z"
   },
   {
    "duration": 12,
    "start_time": "2021-08-15T19:47:56.209Z"
   },
   {
    "duration": 22,
    "start_time": "2021-08-15T19:48:06.322Z"
   },
   {
    "duration": 20,
    "start_time": "2021-08-15T19:48:09.936Z"
   },
   {
    "duration": 19,
    "start_time": "2021-08-15T19:48:13.692Z"
   },
   {
    "duration": 20,
    "start_time": "2021-08-15T19:48:22.270Z"
   },
   {
    "duration": 3,
    "start_time": "2021-08-15T19:49:48.887Z"
   },
   {
    "duration": 14,
    "start_time": "2021-08-15T19:49:53.794Z"
   },
   {
    "duration": 20,
    "start_time": "2021-08-15T19:50:17.506Z"
   },
   {
    "duration": 20,
    "start_time": "2021-08-15T19:56:00.450Z"
   },
   {
    "duration": 4,
    "start_time": "2021-08-15T20:10:16.815Z"
   },
   {
    "duration": 11,
    "start_time": "2021-08-15T20:10:30.866Z"
   },
   {
    "duration": 10,
    "start_time": "2021-08-15T20:10:51.413Z"
   },
   {
    "duration": 10,
    "start_time": "2021-08-15T20:10:55.297Z"
   },
   {
    "duration": 17,
    "start_time": "2021-08-15T20:11:25.164Z"
   },
   {
    "duration": 281,
    "start_time": "2021-08-15T20:15:16.503Z"
   },
   {
    "duration": 211,
    "start_time": "2021-08-15T20:15:23.896Z"
   },
   {
    "duration": 213,
    "start_time": "2021-08-15T20:15:29.152Z"
   },
   {
    "duration": 365,
    "start_time": "2021-08-15T20:15:54.245Z"
   },
   {
    "duration": 3,
    "start_time": "2021-08-15T20:19:10.399Z"
   },
   {
    "duration": 3,
    "start_time": "2021-08-15T20:19:10.632Z"
   },
   {
    "duration": 13,
    "start_time": "2021-08-15T20:19:13.192Z"
   },
   {
    "duration": 22,
    "start_time": "2021-08-15T20:21:20.366Z"
   },
   {
    "duration": 20,
    "start_time": "2021-08-15T20:22:17.201Z"
   },
   {
    "duration": 20,
    "start_time": "2021-08-15T20:27:53.702Z"
   },
   {
    "duration": 85,
    "start_time": "2021-08-15T20:30:21.220Z"
   },
   {
    "duration": 1676,
    "start_time": "2021-08-15T20:44:03.524Z"
   },
   {
    "duration": -2,
    "start_time": "2021-08-15T20:44:24.138Z"
   },
   {
    "duration": 20,
    "start_time": "2021-08-15T20:44:36.286Z"
   },
   {
    "duration": -142,
    "start_time": "2021-08-15T20:44:49.770Z"
   },
   {
    "duration": 2636,
    "start_time": "2021-08-15T20:44:56.717Z"
   },
   {
    "duration": 273,
    "start_time": "2021-08-15T20:45:02.322Z"
   },
   {
    "duration": 2216,
    "start_time": "2021-08-15T20:45:05.259Z"
   },
   {
    "duration": 262,
    "start_time": "2021-08-15T20:45:12.101Z"
   },
   {
    "duration": 333,
    "start_time": "2021-08-15T20:45:15.296Z"
   },
   {
    "duration": 258,
    "start_time": "2021-08-15T20:45:33.827Z"
   },
   {
    "duration": 17,
    "start_time": "2021-08-15T20:45:42.998Z"
   },
   {
    "duration": 18,
    "start_time": "2021-08-15T20:45:47.778Z"
   },
   {
    "duration": 262,
    "start_time": "2021-08-15T20:46:11.864Z"
   },
   {
    "duration": 6277,
    "start_time": "2021-08-15T20:46:16.695Z"
   },
   {
    "duration": 21,
    "start_time": "2021-08-15T20:46:35.088Z"
   },
   {
    "duration": 7531,
    "start_time": "2021-08-15T20:46:58.795Z"
   },
   {
    "duration": 6113,
    "start_time": "2021-08-15T20:47:11.770Z"
   },
   {
    "duration": 19,
    "start_time": "2021-08-15T20:47:40.014Z"
   },
   {
    "duration": 21,
    "start_time": "2021-08-15T20:49:06.284Z"
   },
   {
    "duration": 264,
    "start_time": "2021-08-15T20:50:24.655Z"
   },
   {
    "duration": -173,
    "start_time": "2021-08-15T20:50:58.607Z"
   },
   {
    "duration": 267,
    "start_time": "2021-08-15T20:51:05.427Z"
   },
   {
    "duration": 268,
    "start_time": "2021-08-15T20:51:42.719Z"
   },
   {
    "duration": 20,
    "start_time": "2021-08-15T20:51:56.511Z"
   },
   {
    "duration": 308,
    "start_time": "2021-08-15T20:59:49.501Z"
   },
   {
    "duration": 277,
    "start_time": "2021-08-15T21:00:28.307Z"
   },
   {
    "duration": 270,
    "start_time": "2021-08-15T21:00:34.440Z"
   },
   {
    "duration": 19,
    "start_time": "2021-08-15T21:01:10.222Z"
   },
   {
    "duration": 265,
    "start_time": "2021-08-15T21:05:40.262Z"
   },
   {
    "duration": 22,
    "start_time": "2021-08-15T21:06:05.212Z"
   },
   {
    "duration": 18,
    "start_time": "2021-08-15T21:06:22.450Z"
   },
   {
    "duration": 301,
    "start_time": "2021-08-15T21:06:56.796Z"
   },
   {
    "duration": 20,
    "start_time": "2021-08-15T21:07:14.170Z"
   },
   {
    "duration": 19,
    "start_time": "2021-08-15T21:08:25.842Z"
   },
   {
    "duration": -520,
    "start_time": "2021-08-15T21:11:23.985Z"
   },
   {
    "duration": 6312,
    "start_time": "2021-08-15T21:11:39.244Z"
   },
   {
    "duration": 23,
    "start_time": "2021-08-15T21:12:02.338Z"
   },
   {
    "duration": 6177,
    "start_time": "2021-08-15T21:13:32.297Z"
   },
   {
    "duration": 267,
    "start_time": "2021-08-15T21:13:54.293Z"
   },
   {
    "duration": 21,
    "start_time": "2021-08-15T21:14:08.860Z"
   },
   {
    "duration": 101,
    "start_time": "2021-08-15T21:27:47.792Z"
   },
   {
    "duration": 3,
    "start_time": "2021-08-15T21:30:45.896Z"
   },
   {
    "duration": 12,
    "start_time": "2021-08-15T21:31:14.722Z"
   },
   {
    "duration": 17,
    "start_time": "2021-08-15T21:39:07.366Z"
   },
   {
    "duration": 710,
    "start_time": "2021-08-15T21:41:39.816Z"
   },
   {
    "duration": 10,
    "start_time": "2021-08-15T21:41:40.528Z"
   },
   {
    "duration": 21,
    "start_time": "2021-08-15T21:41:40.540Z"
   },
   {
    "duration": 17,
    "start_time": "2021-08-15T21:41:40.563Z"
   },
   {
    "duration": 12,
    "start_time": "2021-08-15T21:41:40.582Z"
   },
   {
    "duration": 304,
    "start_time": "2021-08-15T21:41:40.595Z"
   },
   {
    "duration": 5,
    "start_time": "2021-08-15T21:41:40.900Z"
   },
   {
    "duration": 283,
    "start_time": "2021-08-15T21:41:40.907Z"
   },
   {
    "duration": 5,
    "start_time": "2021-08-15T21:41:41.192Z"
   },
   {
    "duration": 18,
    "start_time": "2021-08-15T21:41:41.198Z"
   },
   {
    "duration": 24,
    "start_time": "2021-08-15T21:41:41.217Z"
   },
   {
    "duration": 6,
    "start_time": "2021-08-15T21:41:41.243Z"
   },
   {
    "duration": 76,
    "start_time": "2021-08-15T21:41:41.251Z"
   },
   {
    "duration": 165,
    "start_time": "2021-08-15T21:41:41.340Z"
   },
   {
    "duration": 6,
    "start_time": "2021-08-15T21:41:41.506Z"
   },
   {
    "duration": 8,
    "start_time": "2021-08-15T21:41:41.513Z"
   },
   {
    "duration": 22,
    "start_time": "2021-08-15T21:41:41.522Z"
   },
   {
    "duration": 12,
    "start_time": "2021-08-15T21:41:41.546Z"
   },
   {
    "duration": 11,
    "start_time": "2021-08-15T21:41:41.560Z"
   },
   {
    "duration": 14,
    "start_time": "2021-08-15T21:41:41.573Z"
   },
   {
    "duration": 23,
    "start_time": "2021-08-15T21:41:41.589Z"
   },
   {
    "duration": 5,
    "start_time": "2021-08-15T21:41:41.641Z"
   },
   {
    "duration": 13,
    "start_time": "2021-08-15T21:41:41.649Z"
   },
   {
    "duration": 5,
    "start_time": "2021-08-15T21:41:41.664Z"
   },
   {
    "duration": 8,
    "start_time": "2021-08-15T21:41:41.670Z"
   },
   {
    "duration": 10,
    "start_time": "2021-08-15T21:41:41.679Z"
   },
   {
    "duration": 5,
    "start_time": "2021-08-15T21:41:41.691Z"
   },
   {
    "duration": 46,
    "start_time": "2021-08-15T21:41:41.697Z"
   },
   {
    "duration": 11,
    "start_time": "2021-08-15T21:41:41.745Z"
   },
   {
    "duration": 8,
    "start_time": "2021-08-15T21:41:41.758Z"
   },
   {
    "duration": 646,
    "start_time": "2021-08-15T21:41:41.767Z"
   },
   {
    "duration": 12,
    "start_time": "2021-08-15T21:41:42.415Z"
   },
   {
    "duration": 4,
    "start_time": "2021-08-15T21:41:42.441Z"
   },
   {
    "duration": 17,
    "start_time": "2021-08-15T21:41:42.447Z"
   },
   {
    "duration": 4,
    "start_time": "2021-08-15T21:41:42.465Z"
   },
   {
    "duration": 36,
    "start_time": "2021-08-15T21:41:42.470Z"
   },
   {
    "duration": 246,
    "start_time": "2021-08-15T21:41:42.507Z"
   },
   {
    "duration": 3,
    "start_time": "2021-08-15T21:41:42.755Z"
   },
   {
    "duration": 16,
    "start_time": "2021-08-15T21:41:42.760Z"
   },
   {
    "duration": 367,
    "start_time": "2021-08-15T21:41:42.777Z"
   },
   {
    "duration": 4,
    "start_time": "2021-08-15T21:41:43.146Z"
   },
   {
    "duration": 23,
    "start_time": "2021-08-15T21:41:43.151Z"
   },
   {
    "duration": 23,
    "start_time": "2021-08-15T21:41:43.175Z"
   },
   {
    "duration": 46,
    "start_time": "2021-08-15T21:41:43.200Z"
   },
   {
    "duration": 19,
    "start_time": "2021-08-15T21:41:43.247Z"
   },
   {
    "duration": 19,
    "start_time": "2021-08-15T21:41:43.268Z"
   },
   {
    "duration": 20,
    "start_time": "2021-08-15T21:41:43.289Z"
   },
   {
    "duration": 47,
    "start_time": "2021-08-15T21:41:43.311Z"
   },
   {
    "duration": 180,
    "start_time": "2021-08-15T21:46:06.363Z"
   },
   {
    "duration": 14,
    "start_time": "2021-08-15T21:55:20.379Z"
   },
   {
    "duration": 3,
    "start_time": "2021-08-15T22:00:03.749Z"
   },
   {
    "duration": 730,
    "start_time": "2021-08-15T22:08:44.911Z"
   },
   {
    "duration": 10,
    "start_time": "2021-08-15T22:08:45.643Z"
   },
   {
    "duration": 14,
    "start_time": "2021-08-15T22:08:45.655Z"
   },
   {
    "duration": 10,
    "start_time": "2021-08-15T22:08:45.671Z"
   },
   {
    "duration": 4,
    "start_time": "2021-08-15T22:08:45.683Z"
   },
   {
    "duration": 353,
    "start_time": "2021-08-15T22:08:45.688Z"
   },
   {
    "duration": 6,
    "start_time": "2021-08-15T22:08:46.042Z"
   },
   {
    "duration": 296,
    "start_time": "2021-08-15T22:08:46.050Z"
   },
   {
    "duration": 5,
    "start_time": "2021-08-15T22:08:46.348Z"
   },
   {
    "duration": 17,
    "start_time": "2021-08-15T22:08:46.355Z"
   },
   {
    "duration": 7,
    "start_time": "2021-08-15T22:08:46.373Z"
   },
   {
    "duration": 9,
    "start_time": "2021-08-15T22:08:46.381Z"
   },
   {
    "duration": 64,
    "start_time": "2021-08-15T22:08:46.391Z"
   },
   {
    "duration": 204,
    "start_time": "2021-08-15T22:08:51.595Z"
   },
   {
    "duration": 61,
    "start_time": "2021-08-15T22:09:14.378Z"
   },
   {
    "duration": 9,
    "start_time": "2021-08-15T22:09:14.441Z"
   },
   {
    "duration": 8,
    "start_time": "2021-08-15T22:09:14.453Z"
   },
   {
    "duration": 7,
    "start_time": "2021-08-15T22:09:14.463Z"
   },
   {
    "duration": 5,
    "start_time": "2021-08-15T22:09:14.472Z"
   },
   {
    "duration": 347,
    "start_time": "2021-08-15T22:09:14.479Z"
   },
   {
    "duration": 13,
    "start_time": "2021-08-15T22:09:14.828Z"
   },
   {
    "duration": 285,
    "start_time": "2021-08-15T22:09:14.843Z"
   },
   {
    "duration": 14,
    "start_time": "2021-08-15T22:09:15.130Z"
   },
   {
    "duration": 19,
    "start_time": "2021-08-15T22:09:15.145Z"
   },
   {
    "duration": 7,
    "start_time": "2021-08-15T22:09:15.165Z"
   },
   {
    "duration": 6,
    "start_time": "2021-08-15T22:09:15.174Z"
   },
   {
    "duration": 59,
    "start_time": "2021-08-15T22:09:15.182Z"
   },
   {
    "duration": 185,
    "start_time": "2021-08-15T22:09:15.242Z"
   },
   {
    "duration": 15,
    "start_time": "2021-08-15T22:09:15.429Z"
   },
   {
    "duration": 9,
    "start_time": "2021-08-15T22:09:15.446Z"
   },
   {
    "duration": 6,
    "start_time": "2021-08-15T22:09:15.456Z"
   },
   {
    "duration": 12,
    "start_time": "2021-08-15T22:09:15.464Z"
   },
   {
    "duration": 10,
    "start_time": "2021-08-15T22:09:15.478Z"
   },
   {
    "duration": 14,
    "start_time": "2021-08-15T22:09:15.489Z"
   },
   {
    "duration": 58,
    "start_time": "2021-08-15T22:09:15.505Z"
   },
   {
    "duration": 5,
    "start_time": "2021-08-15T22:09:15.564Z"
   },
   {
    "duration": 14,
    "start_time": "2021-08-15T22:09:15.572Z"
   },
   {
    "duration": 4,
    "start_time": "2021-08-15T22:09:15.588Z"
   },
   {
    "duration": 8,
    "start_time": "2021-08-15T22:09:15.593Z"
   },
   {
    "duration": 40,
    "start_time": "2021-08-15T22:09:15.602Z"
   },
   {
    "duration": 9,
    "start_time": "2021-08-15T22:09:15.644Z"
   },
   {
    "duration": 13,
    "start_time": "2021-08-15T22:09:15.655Z"
   },
   {
    "duration": 12,
    "start_time": "2021-08-15T22:09:15.670Z"
   },
   {
    "duration": 7,
    "start_time": "2021-08-15T22:09:15.684Z"
   },
   {
    "duration": 665,
    "start_time": "2021-08-15T22:09:15.693Z"
   },
   {
    "duration": 14,
    "start_time": "2021-08-15T22:09:16.360Z"
   },
   {
    "duration": 6,
    "start_time": "2021-08-15T22:09:16.375Z"
   },
   {
    "duration": 16,
    "start_time": "2021-08-15T22:09:16.383Z"
   },
   {
    "duration": 4,
    "start_time": "2021-08-15T22:09:16.400Z"
   },
   {
    "duration": 55,
    "start_time": "2021-08-15T22:09:16.406Z"
   },
   {
    "duration": 241,
    "start_time": "2021-08-15T22:09:16.463Z"
   },
   {
    "duration": 4,
    "start_time": "2021-08-15T22:09:16.706Z"
   },
   {
    "duration": 15,
    "start_time": "2021-08-15T22:09:16.711Z"
   },
   {
    "duration": 375,
    "start_time": "2021-08-15T22:09:16.727Z"
   },
   {
    "duration": 3,
    "start_time": "2021-08-15T22:09:17.104Z"
   },
   {
    "duration": 25,
    "start_time": "2021-08-15T22:09:17.108Z"
   },
   {
    "duration": 21,
    "start_time": "2021-08-15T22:09:24.807Z"
   },
   {
    "duration": 15,
    "start_time": "2021-08-15T22:09:57.595Z"
   },
   {
    "duration": 9,
    "start_time": "2021-08-15T22:10:30.836Z"
   },
   {
    "duration": 8,
    "start_time": "2021-08-15T22:10:43.890Z"
   },
   {
    "duration": 677,
    "start_time": "2021-08-16T07:17:26.505Z"
   },
   {
    "duration": 10,
    "start_time": "2021-08-16T07:17:27.184Z"
   },
   {
    "duration": 8,
    "start_time": "2021-08-16T07:17:27.196Z"
   },
   {
    "duration": 10,
    "start_time": "2021-08-16T07:17:27.206Z"
   },
   {
    "duration": 5,
    "start_time": "2021-08-16T07:17:27.218Z"
   },
   {
    "duration": 286,
    "start_time": "2021-08-16T07:17:27.225Z"
   },
   {
    "duration": 6,
    "start_time": "2021-08-16T07:17:27.513Z"
   },
   {
    "duration": 312,
    "start_time": "2021-08-16T07:17:27.521Z"
   },
   {
    "duration": 5,
    "start_time": "2021-08-16T07:17:27.835Z"
   },
   {
    "duration": 18,
    "start_time": "2021-08-16T07:17:27.842Z"
   },
   {
    "duration": 7,
    "start_time": "2021-08-16T07:17:27.861Z"
   },
   {
    "duration": 25,
    "start_time": "2021-08-16T07:17:27.870Z"
   },
   {
    "duration": 95,
    "start_time": "2021-08-16T07:17:27.896Z"
   },
   {
    "duration": 162,
    "start_time": "2021-08-16T07:17:27.993Z"
   },
   {
    "duration": 6,
    "start_time": "2021-08-16T07:17:28.157Z"
   },
   {
    "duration": 12,
    "start_time": "2021-08-16T07:17:28.165Z"
   },
   {
    "duration": 7,
    "start_time": "2021-08-16T07:17:28.191Z"
   },
   {
    "duration": 15,
    "start_time": "2021-08-16T07:17:28.199Z"
   },
   {
    "duration": 12,
    "start_time": "2021-08-16T07:17:28.215Z"
   },
   {
    "duration": 16,
    "start_time": "2021-08-16T07:17:28.228Z"
   },
   {
    "duration": 48,
    "start_time": "2021-08-16T07:17:28.245Z"
   },
   {
    "duration": 5,
    "start_time": "2021-08-16T07:17:28.294Z"
   },
   {
    "duration": 12,
    "start_time": "2021-08-16T07:17:28.302Z"
   },
   {
    "duration": 5,
    "start_time": "2021-08-16T07:17:28.316Z"
   },
   {
    "duration": 7,
    "start_time": "2021-08-16T07:17:28.322Z"
   },
   {
    "duration": 14,
    "start_time": "2021-08-16T07:17:28.331Z"
   },
   {
    "duration": 10,
    "start_time": "2021-08-16T07:17:28.346Z"
   },
   {
    "duration": 43,
    "start_time": "2021-08-16T07:17:28.357Z"
   },
   {
    "duration": 12,
    "start_time": "2021-08-16T07:17:28.401Z"
   },
   {
    "duration": 10,
    "start_time": "2021-08-16T07:17:28.414Z"
   },
   {
    "duration": 604,
    "start_time": "2021-08-16T07:17:28.426Z"
   },
   {
    "duration": 12,
    "start_time": "2021-08-16T07:17:29.032Z"
   },
   {
    "duration": 6,
    "start_time": "2021-08-16T07:17:29.046Z"
   },
   {
    "duration": 16,
    "start_time": "2021-08-16T07:17:29.053Z"
   },
   {
    "duration": 8,
    "start_time": "2021-08-16T07:17:29.070Z"
   },
   {
    "duration": 39,
    "start_time": "2021-08-16T07:17:29.079Z"
   },
   {
    "duration": 238,
    "start_time": "2021-08-16T07:17:29.120Z"
   },
   {
    "duration": 3,
    "start_time": "2021-08-16T07:17:29.360Z"
   },
   {
    "duration": 14,
    "start_time": "2021-08-16T07:17:29.365Z"
   },
   {
    "duration": 348,
    "start_time": "2021-08-16T07:17:29.391Z"
   },
   {
    "duration": 3,
    "start_time": "2021-08-16T07:17:29.741Z"
   },
   {
    "duration": 28,
    "start_time": "2021-08-16T07:17:29.745Z"
   },
   {
    "duration": 28,
    "start_time": "2021-08-16T07:17:29.775Z"
   },
   {
    "duration": 6,
    "start_time": "2021-08-16T07:17:29.805Z"
   },
   {
    "duration": 8,
    "start_time": "2021-08-16T07:17:29.813Z"
   },
   {
    "duration": 21,
    "start_time": "2021-08-16T07:17:29.823Z"
   },
   {
    "duration": 18,
    "start_time": "2021-08-16T07:17:29.846Z"
   },
   {
    "duration": 41,
    "start_time": "2021-08-16T07:17:29.865Z"
   },
   {
    "duration": 19,
    "start_time": "2021-08-16T07:17:29.907Z"
   },
   {
    "duration": 18,
    "start_time": "2021-08-16T07:17:29.928Z"
   },
   {
    "duration": 30,
    "start_time": "2021-08-16T07:30:43.736Z"
   },
   {
    "duration": 20,
    "start_time": "2021-08-16T07:30:57.859Z"
   },
   {
    "duration": 7,
    "start_time": "2021-08-16T07:32:50.713Z"
   },
   {
    "duration": 542,
    "start_time": "2021-08-16T08:01:49.193Z"
   },
   {
    "duration": 120,
    "start_time": "2021-08-16T08:42:50.404Z"
   },
   {
    "duration": 984,
    "start_time": "2021-08-16T12:41:28.579Z"
   },
   {
    "duration": 13,
    "start_time": "2021-08-16T12:41:29.566Z"
   },
   {
    "duration": 14,
    "start_time": "2021-08-16T12:41:29.583Z"
   },
   {
    "duration": 14,
    "start_time": "2021-08-16T12:41:29.599Z"
   },
   {
    "duration": 34,
    "start_time": "2021-08-16T12:41:29.615Z"
   },
   {
    "duration": 694,
    "start_time": "2021-08-16T12:41:29.651Z"
   },
   {
    "duration": 8,
    "start_time": "2021-08-16T12:41:30.347Z"
   },
   {
    "duration": 555,
    "start_time": "2021-08-16T12:41:30.369Z"
   },
   {
    "duration": 8,
    "start_time": "2021-08-16T12:41:30.927Z"
   },
   {
    "duration": 46,
    "start_time": "2021-08-16T12:41:30.938Z"
   },
   {
    "duration": 20,
    "start_time": "2021-08-16T12:41:30.987Z"
   },
   {
    "duration": 23,
    "start_time": "2021-08-16T12:41:31.009Z"
   },
   {
    "duration": 120,
    "start_time": "2021-08-16T12:41:31.035Z"
   },
   {
    "duration": 352,
    "start_time": "2021-08-16T12:41:31.158Z"
   },
   {
    "duration": 11,
    "start_time": "2021-08-16T12:41:31.513Z"
   },
   {
    "duration": 42,
    "start_time": "2021-08-16T12:41:31.528Z"
   },
   {
    "duration": 32,
    "start_time": "2021-08-16T12:41:31.573Z"
   },
   {
    "duration": 21,
    "start_time": "2021-08-16T12:41:31.608Z"
   },
   {
    "duration": 32,
    "start_time": "2021-08-16T12:41:31.632Z"
   },
   {
    "duration": 30,
    "start_time": "2021-08-16T12:41:31.667Z"
   },
   {
    "duration": 42,
    "start_time": "2021-08-16T12:41:31.700Z"
   },
   {
    "duration": 28,
    "start_time": "2021-08-16T12:41:31.744Z"
   },
   {
    "duration": 24,
    "start_time": "2021-08-16T12:41:31.777Z"
   },
   {
    "duration": 7,
    "start_time": "2021-08-16T12:41:31.804Z"
   },
   {
    "duration": 56,
    "start_time": "2021-08-16T12:41:31.813Z"
   },
   {
    "duration": 19,
    "start_time": "2021-08-16T12:41:31.871Z"
   },
   {
    "duration": 16,
    "start_time": "2021-08-16T12:41:31.892Z"
   },
   {
    "duration": 32,
    "start_time": "2021-08-16T12:41:31.910Z"
   },
   {
    "duration": 18,
    "start_time": "2021-08-16T12:41:31.967Z"
   },
   {
    "duration": 16,
    "start_time": "2021-08-16T12:41:31.988Z"
   },
   {
    "duration": 945,
    "start_time": "2021-08-16T12:41:32.006Z"
   },
   {
    "duration": 28,
    "start_time": "2021-08-16T12:41:32.954Z"
   },
   {
    "duration": 7,
    "start_time": "2021-08-16T12:41:32.985Z"
   },
   {
    "duration": 25,
    "start_time": "2021-08-16T12:41:32.995Z"
   },
   {
    "duration": 5,
    "start_time": "2021-08-16T12:41:33.022Z"
   },
   {
    "duration": 441,
    "start_time": "2021-08-16T12:41:33.030Z"
   },
   {
    "duration": -66,
    "start_time": "2021-08-16T12:41:33.539Z"
   },
   {
    "duration": -70,
    "start_time": "2021-08-16T12:41:33.545Z"
   },
   {
    "duration": -77,
    "start_time": "2021-08-16T12:41:33.553Z"
   },
   {
    "duration": -83,
    "start_time": "2021-08-16T12:41:33.560Z"
   },
   {
    "duration": -193,
    "start_time": "2021-08-16T12:41:33.672Z"
   },
   {
    "duration": 683,
    "start_time": "2021-08-16T12:41:59.657Z"
   },
   {
    "duration": 5961,
    "start_time": "2021-08-16T12:42:03.540Z"
   },
   {
    "duration": 97,
    "start_time": "2021-08-16T12:42:27.254Z"
   },
   {
    "duration": 20,
    "start_time": "2021-08-16T12:42:27.354Z"
   },
   {
    "duration": 12,
    "start_time": "2021-08-16T12:42:27.377Z"
   },
   {
    "duration": 11,
    "start_time": "2021-08-16T12:42:27.392Z"
   },
   {
    "duration": 7,
    "start_time": "2021-08-16T12:42:27.405Z"
   },
   {
    "duration": 598,
    "start_time": "2021-08-16T12:42:27.414Z"
   },
   {
    "duration": 9,
    "start_time": "2021-08-16T12:42:28.015Z"
   },
   {
    "duration": 542,
    "start_time": "2021-08-16T12:42:28.028Z"
   },
   {
    "duration": 7,
    "start_time": "2021-08-16T12:42:28.573Z"
   },
   {
    "duration": 27,
    "start_time": "2021-08-16T12:42:28.582Z"
   },
   {
    "duration": 10,
    "start_time": "2021-08-16T12:42:28.611Z"
   },
   {
    "duration": 46,
    "start_time": "2021-08-16T12:42:28.623Z"
   },
   {
    "duration": 50,
    "start_time": "2021-08-16T12:42:28.671Z"
   },
   {
    "duration": 334,
    "start_time": "2021-08-16T12:42:28.723Z"
   },
   {
    "duration": 13,
    "start_time": "2021-08-16T12:42:29.059Z"
   },
   {
    "duration": 12,
    "start_time": "2021-08-16T12:42:29.074Z"
   },
   {
    "duration": 9,
    "start_time": "2021-08-16T12:42:29.088Z"
   },
   {
    "duration": 19,
    "start_time": "2021-08-16T12:42:29.099Z"
   },
   {
    "duration": 61,
    "start_time": "2021-08-16T12:42:29.120Z"
   },
   {
    "duration": 28,
    "start_time": "2021-08-16T12:42:29.183Z"
   },
   {
    "duration": 37,
    "start_time": "2021-08-16T12:42:29.214Z"
   },
   {
    "duration": 6,
    "start_time": "2021-08-16T12:42:29.268Z"
   },
   {
    "duration": 22,
    "start_time": "2021-08-16T12:42:29.279Z"
   },
   {
    "duration": 6,
    "start_time": "2021-08-16T12:42:29.304Z"
   },
   {
    "duration": 7,
    "start_time": "2021-08-16T12:42:29.312Z"
   },
   {
    "duration": 58,
    "start_time": "2021-08-16T12:42:29.322Z"
   },
   {
    "duration": 11,
    "start_time": "2021-08-16T12:42:29.382Z"
   },
   {
    "duration": 23,
    "start_time": "2021-08-16T12:42:29.396Z"
   },
   {
    "duration": 52,
    "start_time": "2021-08-16T12:42:29.422Z"
   },
   {
    "duration": 9,
    "start_time": "2021-08-16T12:42:29.477Z"
   },
   {
    "duration": 978,
    "start_time": "2021-08-16T12:42:29.489Z"
   },
   {
    "duration": 20,
    "start_time": "2021-08-16T12:42:30.470Z"
   },
   {
    "duration": 7,
    "start_time": "2021-08-16T12:42:30.492Z"
   },
   {
    "duration": 27,
    "start_time": "2021-08-16T12:42:30.502Z"
   },
   {
    "duration": 5,
    "start_time": "2021-08-16T12:42:30.531Z"
   },
   {
    "duration": 371,
    "start_time": "2021-08-16T12:42:30.538Z"
   },
   {
    "duration": -85,
    "start_time": "2021-08-16T12:42:30.996Z"
   },
   {
    "duration": -146,
    "start_time": "2021-08-16T12:42:31.059Z"
   },
   {
    "duration": -152,
    "start_time": "2021-08-16T12:42:31.066Z"
   },
   {
    "duration": -160,
    "start_time": "2021-08-16T12:42:31.076Z"
   },
   {
    "duration": 238,
    "start_time": "2021-08-16T12:42:35.970Z"
   },
   {
    "duration": 957,
    "start_time": "2021-08-16T12:43:02.569Z"
   },
   {
    "duration": 17,
    "start_time": "2021-08-16T12:43:21.984Z"
   },
   {
    "duration": 12,
    "start_time": "2021-08-16T12:43:27.882Z"
   },
   {
    "duration": 13,
    "start_time": "2021-08-16T12:43:30.430Z"
   },
   {
    "duration": 6,
    "start_time": "2021-08-16T12:43:37.034Z"
   },
   {
    "duration": 540,
    "start_time": "2021-08-16T12:43:40.889Z"
   },
   {
    "duration": 9,
    "start_time": "2021-08-16T12:45:06.712Z"
   },
   {
    "duration": 944,
    "start_time": "2021-08-16T12:45:10.704Z"
   },
   {
    "duration": 7,
    "start_time": "2021-08-16T12:46:21.201Z"
   },
   {
    "duration": 917,
    "start_time": "2021-08-16T12:46:25.108Z"
   },
   {
    "duration": 318,
    "start_time": "2021-08-16T12:50:58.816Z"
   },
   {
    "duration": 7,
    "start_time": "2021-08-16T12:51:40.646Z"
   },
   {
    "duration": 1008,
    "start_time": "2021-08-16T12:51:46.234Z"
   },
   {
    "duration": 987,
    "start_time": "2021-08-16T12:52:56.066Z"
   },
   {
    "duration": 255,
    "start_time": "2021-08-16T12:53:29.308Z"
   },
   {
    "duration": 244,
    "start_time": "2021-08-16T12:53:31.880Z"
   },
   {
    "duration": 8,
    "start_time": "2021-08-16T12:53:44.825Z"
   },
   {
    "duration": 551,
    "start_time": "2021-08-16T12:53:59.999Z"
   },
   {
    "duration": 544,
    "start_time": "2021-08-16T12:55:25.408Z"
   },
   {
    "duration": 86,
    "start_time": "2021-08-16T12:56:01.502Z"
   },
   {
    "duration": 16,
    "start_time": "2021-08-16T12:56:01.592Z"
   },
   {
    "duration": 31,
    "start_time": "2021-08-16T12:56:01.612Z"
   },
   {
    "duration": 38,
    "start_time": "2021-08-16T12:56:01.668Z"
   },
   {
    "duration": 33,
    "start_time": "2021-08-16T12:56:01.709Z"
   },
   {
    "duration": 693,
    "start_time": "2021-08-16T12:56:01.745Z"
   },
   {
    "duration": 9,
    "start_time": "2021-08-16T12:56:02.440Z"
   },
   {
    "duration": 575,
    "start_time": "2021-08-16T12:56:02.452Z"
   },
   {
    "duration": 8,
    "start_time": "2021-08-16T12:56:03.031Z"
   },
   {
    "duration": 48,
    "start_time": "2021-08-16T12:56:03.041Z"
   },
   {
    "duration": 10,
    "start_time": "2021-08-16T12:56:03.092Z"
   },
   {
    "duration": 24,
    "start_time": "2021-08-16T12:56:03.104Z"
   },
   {
    "duration": 67,
    "start_time": "2021-08-16T12:56:03.130Z"
   },
   {
    "duration": 345,
    "start_time": "2021-08-16T12:56:03.199Z"
   },
   {
    "duration": 22,
    "start_time": "2021-08-16T12:56:03.546Z"
   },
   {
    "duration": 12,
    "start_time": "2021-08-16T12:56:03.571Z"
   },
   {
    "duration": 22,
    "start_time": "2021-08-16T12:56:03.585Z"
   },
   {
    "duration": 25,
    "start_time": "2021-08-16T12:56:03.610Z"
   },
   {
    "duration": 23,
    "start_time": "2021-08-16T12:56:07.366Z"
   },
   {
    "duration": 36,
    "start_time": "2021-08-16T12:56:09.971Z"
   },
   {
    "duration": 7,
    "start_time": "2021-08-16T12:56:13.515Z"
   },
   {
    "duration": 21,
    "start_time": "2021-08-16T12:56:16.839Z"
   },
   {
    "duration": 7,
    "start_time": "2021-08-16T12:56:19.480Z"
   },
   {
    "duration": 9,
    "start_time": "2021-08-16T12:56:21.932Z"
   },
   {
    "duration": 18,
    "start_time": "2021-08-16T12:56:44.949Z"
   },
   {
    "duration": 12,
    "start_time": "2021-08-16T12:56:49.320Z"
   },
   {
    "duration": 22,
    "start_time": "2021-08-16T12:56:51.646Z"
   },
   {
    "duration": 16,
    "start_time": "2021-08-16T12:56:56.570Z"
   },
   {
    "duration": 18,
    "start_time": "2021-08-16T12:56:59.160Z"
   },
   {
    "duration": 7,
    "start_time": "2021-08-16T12:57:02.971Z"
   },
   {
    "duration": 912,
    "start_time": "2021-08-16T12:57:06.439Z"
   },
   {
    "duration": 20,
    "start_time": "2021-08-16T12:57:09.743Z"
   },
   {
    "duration": 343,
    "start_time": "2021-08-16T12:58:30.036Z"
   },
   {
    "duration": 99,
    "start_time": "2021-08-16T12:59:07.033Z"
   },
   {
    "duration": 33,
    "start_time": "2021-08-16T12:59:07.135Z"
   },
   {
    "duration": 12,
    "start_time": "2021-08-16T12:59:07.171Z"
   },
   {
    "duration": 11,
    "start_time": "2021-08-16T12:59:07.185Z"
   },
   {
    "duration": 7,
    "start_time": "2021-08-16T12:59:07.199Z"
   },
   {
    "duration": 595,
    "start_time": "2021-08-16T12:59:07.208Z"
   },
   {
    "duration": 8,
    "start_time": "2021-08-16T12:59:07.805Z"
   },
   {
    "duration": 555,
    "start_time": "2021-08-16T12:59:07.817Z"
   },
   {
    "duration": 8,
    "start_time": "2021-08-16T12:59:08.375Z"
   },
   {
    "duration": 31,
    "start_time": "2021-08-16T12:59:08.386Z"
   },
   {
    "duration": 10,
    "start_time": "2021-08-16T12:59:08.420Z"
   },
   {
    "duration": 43,
    "start_time": "2021-08-16T12:59:08.433Z"
   },
   {
    "duration": 52,
    "start_time": "2021-08-16T12:59:08.478Z"
   },
   {
    "duration": 361,
    "start_time": "2021-08-16T12:59:08.532Z"
   },
   {
    "duration": 9,
    "start_time": "2021-08-16T12:59:08.895Z"
   },
   {
    "duration": 13,
    "start_time": "2021-08-16T12:59:08.907Z"
   },
   {
    "duration": 8,
    "start_time": "2021-08-16T12:59:08.923Z"
   },
   {
    "duration": 20,
    "start_time": "2021-08-16T12:59:08.968Z"
   },
   {
    "duration": 21,
    "start_time": "2021-08-16T12:59:08.990Z"
   },
   {
    "duration": 24,
    "start_time": "2021-08-16T12:59:09.013Z"
   },
   {
    "duration": 61,
    "start_time": "2021-08-16T12:59:09.039Z"
   },
   {
    "duration": 6,
    "start_time": "2021-08-16T12:59:09.103Z"
   },
   {
    "duration": 55,
    "start_time": "2021-08-16T12:59:09.114Z"
   },
   {
    "duration": 7,
    "start_time": "2021-08-16T12:59:09.172Z"
   },
   {
    "duration": 12,
    "start_time": "2021-08-16T12:59:09.181Z"
   },
   {
    "duration": 18,
    "start_time": "2021-08-16T12:59:09.196Z"
   },
   {
    "duration": 12,
    "start_time": "2021-08-16T12:59:09.216Z"
   },
   {
    "duration": 55,
    "start_time": "2021-08-16T12:59:09.231Z"
   },
   {
    "duration": 22,
    "start_time": "2021-08-16T12:59:09.289Z"
   },
   {
    "duration": 10,
    "start_time": "2021-08-16T12:59:09.314Z"
   },
   {
    "duration": 967,
    "start_time": "2021-08-16T12:59:09.326Z"
   },
   {
    "duration": 19,
    "start_time": "2021-08-16T12:59:10.296Z"
   },
   {
    "duration": 33,
    "start_time": "2021-08-16T12:59:10.318Z"
   },
   {
    "duration": 55,
    "start_time": "2021-08-16T12:59:10.354Z"
   },
   {
    "duration": 12,
    "start_time": "2021-08-16T12:59:10.412Z"
   },
   {
    "duration": 261,
    "start_time": "2021-08-16T12:59:10.426Z"
   },
   {
    "duration": -17,
    "start_time": "2021-08-16T12:59:10.707Z"
   },
   {
    "duration": -22,
    "start_time": "2021-08-16T12:59:10.714Z"
   },
   {
    "duration": -78,
    "start_time": "2021-08-16T12:59:10.773Z"
   },
   {
    "duration": -84,
    "start_time": "2021-08-16T12:59:10.781Z"
   },
   {
    "duration": 822,
    "start_time": "2021-08-16T12:59:11.134Z"
   },
   {
    "duration": 685,
    "start_time": "2021-08-16T13:00:09.254Z"
   },
   {
    "duration": 549,
    "start_time": "2021-08-16T13:01:30.782Z"
   },
   {
    "duration": 962,
    "start_time": "2021-08-16T13:01:47.150Z"
   },
   {
    "duration": 19,
    "start_time": "2021-08-16T13:01:48.115Z"
   },
   {
    "duration": 34,
    "start_time": "2021-08-16T13:01:48.138Z"
   },
   {
    "duration": 14,
    "start_time": "2021-08-16T13:01:48.175Z"
   },
   {
    "duration": 7,
    "start_time": "2021-08-16T13:01:48.192Z"
   },
   {
    "duration": 621,
    "start_time": "2021-08-16T13:01:48.201Z"
   },
   {
    "duration": 8,
    "start_time": "2021-08-16T13:01:48.824Z"
   },
   {
    "duration": 565,
    "start_time": "2021-08-16T13:01:48.836Z"
   },
   {
    "duration": 7,
    "start_time": "2021-08-16T13:01:49.404Z"
   },
   {
    "duration": 27,
    "start_time": "2021-08-16T13:01:49.414Z"
   },
   {
    "duration": 11,
    "start_time": "2021-08-16T13:01:49.467Z"
   },
   {
    "duration": 12,
    "start_time": "2021-08-16T13:01:49.480Z"
   },
   {
    "duration": 129,
    "start_time": "2021-08-16T13:01:49.495Z"
   },
   {
    "duration": 356,
    "start_time": "2021-08-16T13:01:49.627Z"
   },
   {
    "duration": 11,
    "start_time": "2021-08-16T13:01:49.986Z"
   },
   {
    "duration": 27,
    "start_time": "2021-08-16T13:01:49.999Z"
   },
   {
    "duration": 12,
    "start_time": "2021-08-16T13:01:50.029Z"
   },
   {
    "duration": 40,
    "start_time": "2021-08-16T13:01:50.044Z"
   },
   {
    "duration": 28,
    "start_time": "2021-08-16T13:01:50.086Z"
   },
   {
    "duration": 50,
    "start_time": "2021-08-16T13:01:50.116Z"
   },
   {
    "duration": 39,
    "start_time": "2021-08-16T13:01:50.168Z"
   },
   {
    "duration": 6,
    "start_time": "2021-08-16T13:01:50.210Z"
   },
   {
    "duration": 51,
    "start_time": "2021-08-16T13:01:50.221Z"
   },
   {
    "duration": 9,
    "start_time": "2021-08-16T13:01:50.275Z"
   },
   {
    "duration": 13,
    "start_time": "2021-08-16T13:01:50.286Z"
   },
   {
    "duration": 17,
    "start_time": "2021-08-16T13:01:50.301Z"
   },
   {
    "duration": 12,
    "start_time": "2021-08-16T13:01:50.320Z"
   },
   {
    "duration": 23,
    "start_time": "2021-08-16T13:01:50.367Z"
   },
   {
    "duration": 26,
    "start_time": "2021-08-16T13:01:50.392Z"
   },
   {
    "duration": 7,
    "start_time": "2021-08-16T13:01:50.421Z"
   },
   {
    "duration": 972,
    "start_time": "2021-08-16T13:01:50.431Z"
   },
   {
    "duration": 20,
    "start_time": "2021-08-16T13:01:51.405Z"
   },
   {
    "duration": 22,
    "start_time": "2021-08-16T13:01:51.428Z"
   },
   {
    "duration": 36,
    "start_time": "2021-08-16T13:01:51.452Z"
   },
   {
    "duration": 13,
    "start_time": "2021-08-16T13:01:51.490Z"
   },
   {
    "duration": 403,
    "start_time": "2021-08-16T13:01:51.505Z"
   },
   {
    "duration": -1332,
    "start_time": "2021-08-16T13:01:53.243Z"
   },
   {
    "duration": -1347,
    "start_time": "2021-08-16T13:01:53.259Z"
   },
   {
    "duration": -1355,
    "start_time": "2021-08-16T13:01:53.269Z"
   },
   {
    "duration": -1375,
    "start_time": "2021-08-16T13:01:53.290Z"
   },
   {
    "duration": -1387,
    "start_time": "2021-08-16T13:01:53.304Z"
   },
   {
    "duration": -1477,
    "start_time": "2021-08-16T13:01:53.395Z"
   },
   {
    "duration": -1489,
    "start_time": "2021-08-16T13:01:53.409Z"
   },
   {
    "duration": -1502,
    "start_time": "2021-08-16T13:01:53.423Z"
   },
   {
    "duration": -1511,
    "start_time": "2021-08-16T13:01:53.434Z"
   },
   {
    "duration": -1526,
    "start_time": "2021-08-16T13:01:53.450Z"
   },
   {
    "duration": -1535,
    "start_time": "2021-08-16T13:01:53.460Z"
   },
   {
    "duration": -1546,
    "start_time": "2021-08-16T13:01:53.473Z"
   },
   {
    "duration": -1576,
    "start_time": "2021-08-16T13:01:53.504Z"
   },
   {
    "duration": -1616,
    "start_time": "2021-08-16T13:01:53.546Z"
   },
   {
    "duration": -1628,
    "start_time": "2021-08-16T13:01:53.559Z"
   },
   {
    "duration": -1640,
    "start_time": "2021-08-16T13:01:53.572Z"
   },
   {
    "duration": 251,
    "start_time": "2021-08-16T13:02:46.270Z"
   },
   {
    "duration": 441,
    "start_time": "2021-08-16T13:02:57.731Z"
   },
   {
    "duration": 549,
    "start_time": "2021-08-16T13:04:30.810Z"
   },
   {
    "duration": 6458,
    "start_time": "2021-08-16T13:05:03.203Z"
   },
   {
    "duration": 101,
    "start_time": "2021-08-16T13:05:11.697Z"
   },
   {
    "duration": 15,
    "start_time": "2021-08-16T13:05:11.801Z"
   },
   {
    "duration": 14,
    "start_time": "2021-08-16T13:05:11.819Z"
   },
   {
    "duration": 40,
    "start_time": "2021-08-16T13:05:11.836Z"
   },
   {
    "duration": 9,
    "start_time": "2021-08-16T13:05:11.878Z"
   },
   {
    "duration": 720,
    "start_time": "2021-08-16T13:05:11.889Z"
   },
   {
    "duration": 8,
    "start_time": "2021-08-16T13:05:12.611Z"
   },
   {
    "duration": 566,
    "start_time": "2021-08-16T13:05:12.622Z"
   },
   {
    "duration": 8,
    "start_time": "2021-08-16T13:05:13.191Z"
   },
   {
    "duration": 29,
    "start_time": "2021-08-16T13:05:13.201Z"
   },
   {
    "duration": 40,
    "start_time": "2021-08-16T13:05:13.232Z"
   },
   {
    "duration": 10,
    "start_time": "2021-08-16T13:05:13.275Z"
   },
   {
    "duration": 49,
    "start_time": "2021-08-16T13:05:13.288Z"
   },
   {
    "duration": 469,
    "start_time": "2021-08-16T13:05:13.339Z"
   },
   {
    "duration": 9,
    "start_time": "2021-08-16T13:05:13.811Z"
   },
   {
    "duration": 13,
    "start_time": "2021-08-16T13:05:13.822Z"
   },
   {
    "duration": 39,
    "start_time": "2021-08-16T13:05:13.837Z"
   },
   {
    "duration": 21,
    "start_time": "2021-08-16T13:05:13.878Z"
   },
   {
    "duration": 20,
    "start_time": "2021-08-16T13:05:13.901Z"
   },
   {
    "duration": 61,
    "start_time": "2021-08-16T13:05:13.923Z"
   },
   {
    "duration": 39,
    "start_time": "2021-08-16T13:05:13.986Z"
   },
   {
    "duration": 7,
    "start_time": "2021-08-16T13:05:14.027Z"
   },
   {
    "duration": 46,
    "start_time": "2021-08-16T13:05:14.040Z"
   },
   {
    "duration": 7,
    "start_time": "2021-08-16T13:05:14.089Z"
   },
   {
    "duration": 12,
    "start_time": "2021-08-16T13:05:14.098Z"
   },
   {
    "duration": 54,
    "start_time": "2021-08-16T13:05:14.113Z"
   },
   {
    "duration": 9,
    "start_time": "2021-08-16T13:05:14.170Z"
   },
   {
    "duration": 24,
    "start_time": "2021-08-16T13:05:14.181Z"
   },
   {
    "duration": 17,
    "start_time": "2021-08-16T13:05:14.207Z"
   },
   {
    "duration": 42,
    "start_time": "2021-08-16T13:05:14.226Z"
   },
   {
    "duration": 937,
    "start_time": "2021-08-16T13:05:14.271Z"
   },
   {
    "duration": 20,
    "start_time": "2021-08-16T13:05:15.211Z"
   },
   {
    "duration": 10,
    "start_time": "2021-08-16T13:05:15.233Z"
   },
   {
    "duration": 25,
    "start_time": "2021-08-16T13:05:15.266Z"
   },
   {
    "duration": 4,
    "start_time": "2021-08-16T13:05:15.293Z"
   },
   {
    "duration": 275,
    "start_time": "2021-08-16T13:05:15.299Z"
   },
   {
    "duration": -71,
    "start_time": "2021-08-16T13:05:15.647Z"
   },
   {
    "duration": -77,
    "start_time": "2021-08-16T13:05:15.655Z"
   },
   {
    "duration": -84,
    "start_time": "2021-08-16T13:05:15.663Z"
   },
   {
    "duration": -90,
    "start_time": "2021-08-16T13:05:15.671Z"
   },
   {
    "duration": -95,
    "start_time": "2021-08-16T13:05:15.677Z"
   },
   {
    "duration": 766,
    "start_time": "2021-08-16T13:05:23.556Z"
   },
   {
    "duration": -161,
    "start_time": "2021-08-16T13:05:34.490Z"
   },
   {
    "duration": 233,
    "start_time": "2021-08-16T13:06:53.284Z"
   },
   {
    "duration": 963,
    "start_time": "2021-08-16T13:07:03.983Z"
   },
   {
    "duration": 14,
    "start_time": "2021-08-16T13:07:04.949Z"
   },
   {
    "duration": 22,
    "start_time": "2021-08-16T13:07:04.965Z"
   },
   {
    "duration": 22,
    "start_time": "2021-08-16T13:07:04.990Z"
   },
   {
    "duration": 7,
    "start_time": "2021-08-16T13:07:05.014Z"
   },
   {
    "duration": 689,
    "start_time": "2021-08-16T13:07:05.023Z"
   },
   {
    "duration": 7,
    "start_time": "2021-08-16T13:07:05.714Z"
   },
   {
    "duration": 553,
    "start_time": "2021-08-16T13:07:05.724Z"
   },
   {
    "duration": 7,
    "start_time": "2021-08-16T13:07:06.281Z"
   },
   {
    "duration": 27,
    "start_time": "2021-08-16T13:07:06.290Z"
   },
   {
    "duration": 11,
    "start_time": "2021-08-16T13:07:06.320Z"
   },
   {
    "duration": 44,
    "start_time": "2021-08-16T13:07:06.333Z"
   },
   {
    "duration": 118,
    "start_time": "2021-08-16T13:07:06.380Z"
   },
   {
    "duration": 349,
    "start_time": "2021-08-16T13:07:06.500Z"
   },
   {
    "duration": 18,
    "start_time": "2021-08-16T13:07:06.851Z"
   },
   {
    "duration": 11,
    "start_time": "2021-08-16T13:07:06.872Z"
   },
   {
    "duration": 12,
    "start_time": "2021-08-16T13:07:06.885Z"
   },
   {
    "duration": 32,
    "start_time": "2021-08-16T13:07:06.899Z"
   },
   {
    "duration": 47,
    "start_time": "2021-08-16T13:07:06.934Z"
   },
   {
    "duration": 26,
    "start_time": "2021-08-16T13:07:06.984Z"
   },
   {
    "duration": 68,
    "start_time": "2021-08-16T13:07:07.012Z"
   },
   {
    "duration": 6,
    "start_time": "2021-08-16T13:07:07.083Z"
   },
   {
    "duration": 19,
    "start_time": "2021-08-16T13:07:07.094Z"
   },
   {
    "duration": 8,
    "start_time": "2021-08-16T13:07:07.116Z"
   },
   {
    "duration": 45,
    "start_time": "2021-08-16T13:07:07.126Z"
   },
   {
    "duration": 17,
    "start_time": "2021-08-16T13:07:07.173Z"
   },
   {
    "duration": 13,
    "start_time": "2021-08-16T13:07:07.192Z"
   },
   {
    "duration": 22,
    "start_time": "2021-08-16T13:07:07.208Z"
   },
   {
    "duration": 18,
    "start_time": "2021-08-16T13:07:07.268Z"
   },
   {
    "duration": 21,
    "start_time": "2021-08-16T13:07:07.288Z"
   },
   {
    "duration": 929,
    "start_time": "2021-08-16T13:07:07.312Z"
   },
   {
    "duration": 32,
    "start_time": "2021-08-16T13:07:08.244Z"
   },
   {
    "duration": 7,
    "start_time": "2021-08-16T13:07:08.279Z"
   },
   {
    "duration": 28,
    "start_time": "2021-08-16T13:07:08.288Z"
   },
   {
    "duration": 6,
    "start_time": "2021-08-16T13:07:08.318Z"
   },
   {
    "duration": 362,
    "start_time": "2021-08-16T13:07:08.326Z"
   },
   {
    "duration": -274,
    "start_time": "2021-08-16T13:07:08.965Z"
   },
   {
    "duration": -280,
    "start_time": "2021-08-16T13:07:08.973Z"
   },
   {
    "duration": -285,
    "start_time": "2021-08-16T13:07:08.979Z"
   },
   {
    "duration": -291,
    "start_time": "2021-08-16T13:07:08.987Z"
   },
   {
    "duration": -296,
    "start_time": "2021-08-16T13:07:08.993Z"
   },
   {
    "duration": -301,
    "start_time": "2021-08-16T13:07:09.000Z"
   },
   {
    "duration": -308,
    "start_time": "2021-08-16T13:07:09.008Z"
   },
   {
    "duration": -313,
    "start_time": "2021-08-16T13:07:09.015Z"
   },
   {
    "duration": -319,
    "start_time": "2021-08-16T13:07:09.022Z"
   },
   {
    "duration": -324,
    "start_time": "2021-08-16T13:07:09.029Z"
   },
   {
    "duration": -328,
    "start_time": "2021-08-16T13:07:09.035Z"
   },
   {
    "duration": -335,
    "start_time": "2021-08-16T13:07:09.043Z"
   },
   {
    "duration": -340,
    "start_time": "2021-08-16T13:07:09.049Z"
   },
   {
    "duration": -345,
    "start_time": "2021-08-16T13:07:09.056Z"
   },
   {
    "duration": -360,
    "start_time": "2021-08-16T13:07:09.073Z"
   },
   {
    "duration": -367,
    "start_time": "2021-08-16T13:07:09.081Z"
   },
   {
    "duration": 107,
    "start_time": "2021-08-16T13:07:35.342Z"
   },
   {
    "duration": 25,
    "start_time": "2021-08-16T13:07:35.452Z"
   },
   {
    "duration": 12,
    "start_time": "2021-08-16T13:07:35.480Z"
   },
   {
    "duration": 11,
    "start_time": "2021-08-16T13:07:35.495Z"
   },
   {
    "duration": 7,
    "start_time": "2021-08-16T13:07:35.509Z"
   },
   {
    "duration": 627,
    "start_time": "2021-08-16T13:07:35.518Z"
   },
   {
    "duration": 7,
    "start_time": "2021-08-16T13:07:36.148Z"
   },
   {
    "duration": 542,
    "start_time": "2021-08-16T13:07:36.167Z"
   },
   {
    "duration": 9,
    "start_time": "2021-08-16T13:07:36.712Z"
   },
   {
    "duration": 48,
    "start_time": "2021-08-16T13:07:36.723Z"
   },
   {
    "duration": 11,
    "start_time": "2021-08-16T13:07:36.773Z"
   },
   {
    "duration": 10,
    "start_time": "2021-08-16T13:07:36.786Z"
   },
   {
    "duration": 83,
    "start_time": "2021-08-16T13:07:36.799Z"
   },
   {
    "duration": 348,
    "start_time": "2021-08-16T13:07:36.884Z"
   },
   {
    "duration": 9,
    "start_time": "2021-08-16T13:07:37.234Z"
   },
   {
    "duration": 24,
    "start_time": "2021-08-16T13:07:37.245Z"
   },
   {
    "duration": 9,
    "start_time": "2021-08-16T13:07:37.271Z"
   },
   {
    "duration": 19,
    "start_time": "2021-08-16T13:07:37.282Z"
   },
   {
    "duration": 19,
    "start_time": "2021-08-16T13:07:37.303Z"
   },
   {
    "duration": 24,
    "start_time": "2021-08-16T13:07:37.367Z"
   },
   {
    "duration": 40,
    "start_time": "2021-08-16T13:07:37.394Z"
   },
   {
    "duration": 33,
    "start_time": "2021-08-16T13:07:37.436Z"
   },
   {
    "duration": 22,
    "start_time": "2021-08-16T13:07:37.473Z"
   },
   {
    "duration": 8,
    "start_time": "2021-08-16T13:07:37.498Z"
   },
   {
    "duration": 14,
    "start_time": "2021-08-16T13:07:37.509Z"
   },
   {
    "duration": 54,
    "start_time": "2021-08-16T13:07:37.525Z"
   },
   {
    "duration": 14,
    "start_time": "2021-08-16T13:07:37.582Z"
   },
   {
    "duration": 27,
    "start_time": "2021-08-16T13:07:37.599Z"
   },
   {
    "duration": 39,
    "start_time": "2021-08-16T13:07:37.628Z"
   },
   {
    "duration": 8,
    "start_time": "2021-08-16T13:07:37.669Z"
   },
   {
    "duration": 933,
    "start_time": "2021-08-16T13:07:37.679Z"
   },
   {
    "duration": 19,
    "start_time": "2021-08-16T13:07:38.615Z"
   },
   {
    "duration": 6,
    "start_time": "2021-08-16T13:07:38.637Z"
   },
   {
    "duration": 20,
    "start_time": "2021-08-16T13:07:38.667Z"
   },
   {
    "duration": 4,
    "start_time": "2021-08-16T13:07:38.690Z"
   },
   {
    "duration": 257,
    "start_time": "2021-08-16T13:07:38.697Z"
   },
   {
    "duration": -19,
    "start_time": "2021-08-16T13:07:38.975Z"
   },
   {
    "duration": -25,
    "start_time": "2021-08-16T13:07:38.982Z"
   },
   {
    "duration": -31,
    "start_time": "2021-08-16T13:07:38.990Z"
   },
   {
    "duration": -37,
    "start_time": "2021-08-16T13:07:38.997Z"
   },
   {
    "duration": -43,
    "start_time": "2021-08-16T13:07:39.005Z"
   },
   {
    "duration": -49,
    "start_time": "2021-08-16T13:07:39.012Z"
   },
   {
    "duration": -55,
    "start_time": "2021-08-16T13:07:39.019Z"
   },
   {
    "duration": 6315,
    "start_time": "2021-08-16T13:07:45.086Z"
   },
   {
    "duration": 961,
    "start_time": "2021-08-16T13:09:33.333Z"
   },
   {
    "duration": 17,
    "start_time": "2021-08-16T13:09:38.051Z"
   },
   {
    "duration": 13,
    "start_time": "2021-08-16T13:09:43.090Z"
   },
   {
    "duration": 14,
    "start_time": "2021-08-16T13:09:46.725Z"
   },
   {
    "duration": 7,
    "start_time": "2021-08-16T13:09:51.302Z"
   },
   {
    "duration": 574,
    "start_time": "2021-08-16T13:09:57.396Z"
   },
   {
    "duration": 8,
    "start_time": "2021-08-16T13:10:05.692Z"
   },
   {
    "duration": 534,
    "start_time": "2021-08-16T13:10:30.417Z"
   },
   {
    "duration": 8,
    "start_time": "2021-08-16T13:10:47.331Z"
   },
   {
    "duration": 28,
    "start_time": "2021-08-16T13:10:51.314Z"
   },
   {
    "duration": 11,
    "start_time": "2021-08-16T13:10:57.938Z"
   },
   {
    "duration": 12,
    "start_time": "2021-08-16T13:11:03.974Z"
   },
   {
    "duration": 52,
    "start_time": "2021-08-16T13:11:24.742Z"
   },
   {
    "duration": 496,
    "start_time": "2021-08-16T13:11:43.888Z"
   },
   {
    "duration": 11,
    "start_time": "2021-08-16T13:11:48.731Z"
   },
   {
    "duration": 14,
    "start_time": "2021-08-16T13:11:59.590Z"
   },
   {
    "duration": 10,
    "start_time": "2021-08-16T13:12:10.814Z"
   },
   {
    "duration": 23,
    "start_time": "2021-08-16T13:12:23.928Z"
   },
   {
    "duration": 19,
    "start_time": "2021-08-16T13:12:27.090Z"
   },
   {
    "duration": 25,
    "start_time": "2021-08-16T13:13:06.632Z"
   },
   {
    "duration": 37,
    "start_time": "2021-08-16T13:13:09.027Z"
   },
   {
    "duration": 6,
    "start_time": "2021-08-16T13:13:13.390Z"
   },
   {
    "duration": 23,
    "start_time": "2021-08-16T13:13:16.500Z"
   },
   {
    "duration": 7,
    "start_time": "2021-08-16T13:13:19.032Z"
   },
   {
    "duration": 9,
    "start_time": "2021-08-16T13:13:21.204Z"
   },
   {
    "duration": 17,
    "start_time": "2021-08-16T13:13:24.183Z"
   },
   {
    "duration": 9,
    "start_time": "2021-08-16T13:13:26.738Z"
   },
   {
    "duration": 22,
    "start_time": "2021-08-16T13:13:29.522Z"
   },
   {
    "duration": 18,
    "start_time": "2021-08-16T13:13:33.392Z"
   },
   {
    "duration": 9,
    "start_time": "2021-08-16T13:13:45.862Z"
   },
   {
    "duration": 1005,
    "start_time": "2021-08-16T13:13:49.828Z"
   },
   {
    "duration": 20,
    "start_time": "2021-08-16T13:13:54.847Z"
   },
   {
    "duration": 6,
    "start_time": "2021-08-16T13:14:15.467Z"
   },
   {
    "duration": 17,
    "start_time": "2021-08-16T13:14:27.185Z"
   },
   {
    "duration": 347,
    "start_time": "2021-08-16T13:15:06.673Z"
   },
   {
    "duration": 16,
    "start_time": "2021-08-16T13:15:30.901Z"
   },
   {
    "duration": 18,
    "start_time": "2021-08-16T13:15:55.639Z"
   },
   {
    "duration": 5,
    "start_time": "2021-08-16T13:16:06.087Z"
   },
   {
    "duration": 267,
    "start_time": "2021-08-16T13:16:09.748Z"
   },
   {
    "duration": 235,
    "start_time": "2021-08-16T13:16:21.140Z"
   },
   {
    "duration": 260,
    "start_time": "2021-08-16T13:16:28.970Z"
   },
   {
    "duration": 45,
    "start_time": "2021-08-16T13:16:59.565Z"
   },
   {
    "duration": 260,
    "start_time": "2021-08-16T13:17:26.201Z"
   },
   {
    "duration": 468,
    "start_time": "2021-08-16T13:17:42.948Z"
   },
   {
    "duration": 6,
    "start_time": "2021-08-16T13:17:59.326Z"
   },
   {
    "duration": 20,
    "start_time": "2021-08-16T13:18:01.832Z"
   },
   {
    "duration": 234,
    "start_time": "2021-08-16T13:19:10.026Z"
   },
   {
    "duration": 250,
    "start_time": "2021-08-16T13:19:32.289Z"
   },
   {
    "duration": 309,
    "start_time": "2021-08-16T13:21:12.785Z"
   },
   {
    "duration": 20,
    "start_time": "2021-08-16T13:21:31.421Z"
   },
   {
    "duration": 226,
    "start_time": "2021-08-16T13:22:43.174Z"
   },
   {
    "duration": 267,
    "start_time": "2021-08-16T13:22:48.236Z"
   },
   {
    "duration": 20,
    "start_time": "2021-08-16T13:22:52.556Z"
   },
   {
    "duration": 20,
    "start_time": "2021-08-16T13:23:03.193Z"
   },
   {
    "duration": 5,
    "start_time": "2021-08-16T13:28:47.201Z"
   },
   {
    "duration": 5,
    "start_time": "2021-08-16T13:29:13.578Z"
   },
   {
    "duration": 5,
    "start_time": "2021-08-16T13:30:45.374Z"
   },
   {
    "duration": 24,
    "start_time": "2021-08-16T13:30:48.542Z"
   },
   {
    "duration": 712,
    "start_time": "2021-08-16T13:31:02.498Z"
   },
   {
    "duration": 11,
    "start_time": "2021-08-16T13:31:08.864Z"
   },
   {
    "duration": 5,
    "start_time": "2021-08-16T13:34:10.211Z"
   },
   {
    "duration": 20,
    "start_time": "2021-08-16T13:34:13.674Z"
   },
   {
    "duration": 10,
    "start_time": "2021-08-16T13:34:16.819Z"
   },
   {
    "duration": 6,
    "start_time": "2021-08-16T13:36:48.620Z"
   },
   {
    "duration": 18,
    "start_time": "2021-08-16T13:36:53.617Z"
   },
   {
    "duration": 10,
    "start_time": "2021-08-16T13:36:56.727Z"
   },
   {
    "duration": 5,
    "start_time": "2021-08-16T13:37:14.972Z"
   },
   {
    "duration": 18,
    "start_time": "2021-08-16T13:37:18.783Z"
   },
   {
    "duration": 10,
    "start_time": "2021-08-16T13:37:21.430Z"
   },
   {
    "duration": 6,
    "start_time": "2021-08-16T13:37:42.456Z"
   },
   {
    "duration": 18,
    "start_time": "2021-08-16T13:37:46.047Z"
   },
   {
    "duration": 10,
    "start_time": "2021-08-16T13:37:48.430Z"
   },
   {
    "duration": 5,
    "start_time": "2021-08-16T13:39:33.980Z"
   },
   {
    "duration": 17,
    "start_time": "2021-08-16T13:39:36.317Z"
   },
   {
    "duration": 11,
    "start_time": "2021-08-16T13:39:39.334Z"
   },
   {
    "duration": 1237,
    "start_time": "2021-08-16T13:40:07.716Z"
   },
   {
    "duration": 38,
    "start_time": "2021-08-16T13:40:25.582Z"
   },
   {
    "duration": 36,
    "start_time": "2021-08-16T13:40:38.673Z"
   },
   {
    "duration": 32,
    "start_time": "2021-08-16T13:40:45.415Z"
   },
   {
    "duration": 289,
    "start_time": "2021-08-16T13:40:55.803Z"
   },
   {
    "duration": 34,
    "start_time": "2021-08-16T13:41:38.175Z"
   },
   {
    "duration": 34,
    "start_time": "2021-08-16T13:41:43.055Z"
   },
   {
    "duration": 33,
    "start_time": "2021-08-16T13:41:46.988Z"
   },
   {
    "duration": 33,
    "start_time": "2021-08-16T13:41:52.352Z"
   },
   {
    "duration": 35,
    "start_time": "2021-08-16T13:42:02.461Z"
   },
   {
    "duration": 35,
    "start_time": "2021-08-16T13:42:05.550Z"
   },
   {
    "duration": 31,
    "start_time": "2021-08-16T13:42:12.358Z"
   },
   {
    "duration": 5,
    "start_time": "2021-08-16T13:43:14.934Z"
   },
   {
    "duration": 27,
    "start_time": "2021-08-16T13:43:16.930Z"
   },
   {
    "duration": 34,
    "start_time": "2021-08-16T13:45:06.735Z"
   },
   {
    "duration": 920,
    "start_time": "2021-08-16T14:02:01.888Z"
   },
   {
    "duration": 15,
    "start_time": "2021-08-16T14:02:02.810Z"
   },
   {
    "duration": 13,
    "start_time": "2021-08-16T14:02:02.828Z"
   },
   {
    "duration": 41,
    "start_time": "2021-08-16T14:02:02.844Z"
   },
   {
    "duration": 320,
    "start_time": "2021-08-16T14:02:09.282Z"
   },
   {
    "duration": 7,
    "start_time": "2021-08-16T14:02:15.463Z"
   },
   {
    "duration": 548,
    "start_time": "2021-08-16T14:02:17.513Z"
   },
   {
    "duration": 83,
    "start_time": "2021-08-16T14:02:28.506Z"
   },
   {
    "duration": 14,
    "start_time": "2021-08-16T14:02:28.592Z"
   },
   {
    "duration": 15,
    "start_time": "2021-08-16T14:02:28.610Z"
   },
   {
    "duration": 49,
    "start_time": "2021-08-16T14:02:28.628Z"
   },
   {
    "duration": 9,
    "start_time": "2021-08-16T14:02:28.680Z"
   },
   {
    "duration": 579,
    "start_time": "2021-08-16T14:02:28.692Z"
   },
   {
    "duration": 8,
    "start_time": "2021-08-16T14:02:29.274Z"
   },
   {
    "duration": 619,
    "start_time": "2021-08-16T14:02:29.287Z"
   },
   {
    "duration": 8,
    "start_time": "2021-08-16T14:02:29.910Z"
   },
   {
    "duration": 51,
    "start_time": "2021-08-16T14:02:29.921Z"
   },
   {
    "duration": 13,
    "start_time": "2021-08-16T14:02:29.975Z"
   },
   {
    "duration": 12,
    "start_time": "2021-08-16T14:02:36.399Z"
   },
   {
    "duration": 79,
    "start_time": "2021-08-16T14:02:44.352Z"
   },
   {
    "duration": 40,
    "start_time": "2021-08-16T14:02:44.435Z"
   },
   {
    "duration": 14,
    "start_time": "2021-08-16T14:02:44.479Z"
   },
   {
    "duration": 15,
    "start_time": "2021-08-16T14:02:44.497Z"
   },
   {
    "duration": 11,
    "start_time": "2021-08-16T14:02:44.515Z"
   },
   {
    "duration": 593,
    "start_time": "2021-08-16T14:02:44.528Z"
   },
   {
    "duration": 8,
    "start_time": "2021-08-16T14:02:45.124Z"
   },
   {
    "duration": 551,
    "start_time": "2021-08-16T14:02:45.136Z"
   },
   {
    "duration": 8,
    "start_time": "2021-08-16T14:02:45.690Z"
   },
   {
    "duration": 29,
    "start_time": "2021-08-16T14:02:45.701Z"
   },
   {
    "duration": 36,
    "start_time": "2021-08-16T14:02:45.732Z"
   },
   {
    "duration": 10,
    "start_time": "2021-08-16T14:02:45.771Z"
   },
   {
    "duration": 51,
    "start_time": "2021-08-16T14:02:45.783Z"
   },
   {
    "duration": 367,
    "start_time": "2021-08-16T14:02:45.836Z"
   },
   {
    "duration": 9,
    "start_time": "2021-08-16T14:02:49.808Z"
   },
   {
    "duration": 13,
    "start_time": "2021-08-16T14:02:52.484Z"
   },
   {
    "duration": 9,
    "start_time": "2021-08-16T14:02:56.272Z"
   },
   {
    "duration": 21,
    "start_time": "2021-08-16T14:03:01.443Z"
   },
   {
    "duration": 20,
    "start_time": "2021-08-16T14:03:04.375Z"
   },
   {
    "duration": 25,
    "start_time": "2021-08-16T14:03:08.316Z"
   },
   {
    "duration": 39,
    "start_time": "2021-08-16T14:03:10.328Z"
   },
   {
    "duration": 8,
    "start_time": "2021-08-16T14:03:13.666Z"
   },
   {
    "duration": 23,
    "start_time": "2021-08-16T14:03:16.069Z"
   },
   {
    "duration": 8,
    "start_time": "2021-08-16T14:03:18.134Z"
   },
   {
    "duration": 10,
    "start_time": "2021-08-16T14:03:20.327Z"
   },
   {
    "duration": 18,
    "start_time": "2021-08-16T14:03:22.717Z"
   },
   {
    "duration": 9,
    "start_time": "2021-08-16T14:03:25.765Z"
   },
   {
    "duration": 23,
    "start_time": "2021-08-16T14:03:28.534Z"
   },
   {
    "duration": 19,
    "start_time": "2021-08-16T14:03:31.096Z"
   },
   {
    "duration": 8,
    "start_time": "2021-08-16T14:03:39.311Z"
   },
   {
    "duration": 918,
    "start_time": "2021-08-16T14:03:43.385Z"
   },
   {
    "duration": 21,
    "start_time": "2021-08-16T14:03:46.289Z"
   },
   {
    "duration": 6,
    "start_time": "2021-08-16T14:03:50.690Z"
   },
   {
    "duration": 18,
    "start_time": "2021-08-16T14:03:53.792Z"
   },
   {
    "duration": 15,
    "start_time": "2021-08-16T14:04:00.578Z"
   },
   {
    "duration": 44,
    "start_time": "2021-08-16T14:04:05.068Z"
   },
   {
    "duration": 5,
    "start_time": "2021-08-16T14:04:27.601Z"
   },
   {
    "duration": 267,
    "start_time": "2021-08-16T14:04:32.289Z"
   },
   {
    "duration": 41,
    "start_time": "2021-08-16T14:04:38.256Z"
   },
   {
    "duration": 457,
    "start_time": "2021-08-16T14:04:47.030Z"
   },
   {
    "duration": 27,
    "start_time": "2021-08-16T14:04:50.340Z"
   },
   {
    "duration": 6,
    "start_time": "2021-08-16T14:04:52.762Z"
   },
   {
    "duration": 19,
    "start_time": "2021-08-16T14:04:56.145Z"
   },
   {
    "duration": 705,
    "start_time": "2021-08-16T14:05:03.920Z"
   },
   {
    "duration": 19,
    "start_time": "2021-08-16T14:06:45.389Z"
   },
   {
    "duration": 5,
    "start_time": "2021-08-16T14:09:21.796Z"
   },
   {
    "duration": 31,
    "start_time": "2021-08-16T14:09:24.541Z"
   },
   {
    "duration": 124,
    "start_time": "2021-08-16T14:13:53.810Z"
   },
   {
    "duration": 30,
    "start_time": "2021-08-16T14:14:25.429Z"
   },
   {
    "duration": 34,
    "start_time": "2021-08-16T14:14:28.200Z"
   },
   {
    "duration": 253,
    "start_time": "2021-08-16T14:16:52.103Z"
   },
   {
    "duration": 6,
    "start_time": "2021-08-16T14:19:03.458Z"
   },
   {
    "duration": 22,
    "start_time": "2021-08-16T14:19:08.120Z"
   },
   {
    "duration": 108,
    "start_time": "2021-08-16T14:22:04.735Z"
   },
   {
    "duration": 12,
    "start_time": "2021-08-16T14:22:19.281Z"
   },
   {
    "duration": 33,
    "start_time": "2021-08-16T14:22:41.775Z"
   },
   {
    "duration": 11,
    "start_time": "2021-08-16T14:22:49.032Z"
   },
   {
    "duration": 10,
    "start_time": "2021-08-16T14:22:52.950Z"
   },
   {
    "duration": 13,
    "start_time": "2021-08-16T14:23:33.382Z"
   },
   {
    "duration": 90,
    "start_time": "2021-08-16T14:24:21.553Z"
   },
   {
    "duration": 237,
    "start_time": "2021-08-16T14:24:37.376Z"
   },
   {
    "duration": 253,
    "start_time": "2021-08-16T14:24:46.031Z"
   },
   {
    "duration": 264,
    "start_time": "2021-08-16T14:25:03.225Z"
   },
   {
    "duration": 365,
    "start_time": "2021-08-16T14:25:26.750Z"
   },
   {
    "duration": 34,
    "start_time": "2021-08-16T14:26:59.396Z"
   },
   {
    "duration": 308,
    "start_time": "2021-08-16T14:44:34.887Z"
   },
   {
    "duration": 995,
    "start_time": "2021-08-16T14:44:40.791Z"
   },
   {
    "duration": 15,
    "start_time": "2021-08-16T14:44:41.789Z"
   },
   {
    "duration": 13,
    "start_time": "2021-08-16T14:44:41.808Z"
   },
   {
    "duration": 46,
    "start_time": "2021-08-16T14:44:41.824Z"
   },
   {
    "duration": 7,
    "start_time": "2021-08-16T14:44:41.873Z"
   },
   {
    "duration": 625,
    "start_time": "2021-08-16T14:44:41.883Z"
   },
   {
    "duration": 8,
    "start_time": "2021-08-16T14:44:42.510Z"
   },
   {
    "duration": 577,
    "start_time": "2021-08-16T14:44:42.522Z"
   },
   {
    "duration": 7,
    "start_time": "2021-08-16T14:44:43.102Z"
   },
   {
    "duration": 27,
    "start_time": "2021-08-16T14:44:43.111Z"
   },
   {
    "duration": 10,
    "start_time": "2021-08-16T14:44:43.167Z"
   },
   {
    "duration": 11,
    "start_time": "2021-08-16T14:44:43.180Z"
   },
   {
    "duration": 131,
    "start_time": "2021-08-16T14:44:43.193Z"
   },
   {
    "duration": 344,
    "start_time": "2021-08-16T14:44:43.327Z"
   },
   {
    "duration": 10,
    "start_time": "2021-08-16T14:44:43.673Z"
   },
   {
    "duration": 19,
    "start_time": "2021-08-16T14:44:43.685Z"
   },
   {
    "duration": 14,
    "start_time": "2021-08-16T14:44:43.706Z"
   },
   {
    "duration": 46,
    "start_time": "2021-08-16T14:44:43.722Z"
   },
   {
    "duration": 18,
    "start_time": "2021-08-16T14:44:43.770Z"
   },
   {
    "duration": 27,
    "start_time": "2021-08-16T14:44:43.791Z"
   },
   {
    "duration": 69,
    "start_time": "2021-08-16T14:44:43.820Z"
   },
   {
    "duration": 6,
    "start_time": "2021-08-16T14:44:43.891Z"
   },
   {
    "duration": 31,
    "start_time": "2021-08-16T14:44:43.902Z"
   },
   {
    "duration": 11,
    "start_time": "2021-08-16T14:44:43.936Z"
   },
   {
    "duration": 9,
    "start_time": "2021-08-16T14:44:43.966Z"
   },
   {
    "duration": 29,
    "start_time": "2021-08-16T14:44:43.977Z"
   },
   {
    "duration": 21,
    "start_time": "2021-08-16T14:44:44.008Z"
   },
   {
    "duration": 37,
    "start_time": "2021-08-16T14:44:44.031Z"
   },
   {
    "duration": 29,
    "start_time": "2021-08-16T14:44:44.071Z"
   },
   {
    "duration": 14,
    "start_time": "2021-08-16T14:44:44.102Z"
   },
   {
    "duration": 987,
    "start_time": "2021-08-16T14:44:44.118Z"
   },
   {
    "duration": 20,
    "start_time": "2021-08-16T14:44:45.108Z"
   },
   {
    "duration": 12,
    "start_time": "2021-08-16T14:44:45.130Z"
   },
   {
    "duration": 39,
    "start_time": "2021-08-16T14:44:45.144Z"
   },
   {
    "duration": 21,
    "start_time": "2021-08-16T14:44:45.186Z"
   },
   {
    "duration": 56,
    "start_time": "2021-08-16T14:44:45.209Z"
   },
   {
    "duration": 469,
    "start_time": "2021-08-16T14:44:45.267Z"
   },
   {
    "duration": 30,
    "start_time": "2021-08-16T14:44:45.738Z"
   },
   {
    "duration": 5,
    "start_time": "2021-08-16T14:44:45.771Z"
   },
   {
    "duration": 31,
    "start_time": "2021-08-16T14:44:45.778Z"
   },
   {
    "duration": 16,
    "start_time": "2021-08-16T14:44:45.812Z"
   },
   {
    "duration": 737,
    "start_time": "2021-08-16T14:44:45.830Z"
   },
   {
    "duration": 18,
    "start_time": "2021-08-16T14:44:46.569Z"
   },
   {
    "duration": 7,
    "start_time": "2021-08-16T14:44:46.589Z"
   },
   {
    "duration": 57,
    "start_time": "2021-08-16T14:44:46.598Z"
   },
   {
    "duration": 24,
    "start_time": "2021-08-16T14:44:50.857Z"
   },
   {
    "duration": 12,
    "start_time": "2021-08-16T14:44:57.249Z"
   },
   {
    "duration": 11,
    "start_time": "2021-08-16T14:45:23.335Z"
   },
   {
    "duration": 11,
    "start_time": "2021-08-16T14:45:29.527Z"
   },
   {
    "duration": 12,
    "start_time": "2021-08-16T14:46:21.580Z"
   },
   {
    "duration": 7,
    "start_time": "2021-08-16T15:05:12.927Z"
   },
   {
    "duration": 21,
    "start_time": "2021-08-16T15:43:46.390Z"
   },
   {
    "duration": 6,
    "start_time": "2021-08-16T15:46:31.016Z"
   },
   {
    "duration": 6,
    "start_time": "2021-08-16T15:46:34.998Z"
   },
   {
    "duration": 4,
    "start_time": "2021-08-16T15:47:26.133Z"
   },
   {
    "duration": 6,
    "start_time": "2021-08-16T15:47:28.908Z"
   },
   {
    "duration": 632,
    "start_time": "2021-08-16T15:47:42.396Z"
   },
   {
    "duration": 13,
    "start_time": "2021-08-16T15:47:50.940Z"
   },
   {
    "duration": 13,
    "start_time": "2021-08-16T15:51:31.107Z"
   },
   {
    "duration": 13,
    "start_time": "2021-08-16T15:55:04.718Z"
   },
   {
    "duration": 16,
    "start_time": "2021-08-16T15:55:22.122Z"
   },
   {
    "duration": 11,
    "start_time": "2021-08-16T15:58:59.246Z"
   },
   {
    "duration": 11,
    "start_time": "2021-08-16T15:59:01.437Z"
   },
   {
    "duration": 17,
    "start_time": "2021-08-16T15:59:09.693Z"
   },
   {
    "duration": 19,
    "start_time": "2021-08-16T16:00:58.042Z"
   },
   {
    "duration": 1626,
    "start_time": "2021-08-16T16:07:44.690Z"
   },
   {
    "duration": 5799,
    "start_time": "2021-08-16T16:09:36.078Z"
   },
   {
    "duration": 5877,
    "start_time": "2021-08-16T16:09:42.691Z"
   },
   {
    "duration": 6438,
    "start_time": "2021-08-16T16:09:49.687Z"
   },
   {
    "duration": 5882,
    "start_time": "2021-08-16T16:09:57.116Z"
   },
   {
    "duration": 7,
    "start_time": "2021-08-16T16:10:44.463Z"
   },
   {
    "duration": 262,
    "start_time": "2021-08-16T16:10:49.464Z"
   },
   {
    "duration": 21,
    "start_time": "2021-08-16T16:10:53.566Z"
   },
   {
    "duration": 20,
    "start_time": "2021-08-16T16:13:29.452Z"
   },
   {
    "duration": 312,
    "start_time": "2021-08-16T16:36:31.760Z"
   },
   {
    "duration": 947,
    "start_time": "2021-08-16T16:36:40.221Z"
   },
   {
    "duration": 15,
    "start_time": "2021-08-16T16:36:41.170Z"
   },
   {
    "duration": 12,
    "start_time": "2021-08-16T16:36:41.188Z"
   },
   {
    "duration": 12,
    "start_time": "2021-08-16T16:36:41.203Z"
   },
   {
    "duration": 7,
    "start_time": "2021-08-16T16:36:41.217Z"
   },
   {
    "duration": 602,
    "start_time": "2021-08-16T16:36:41.226Z"
   },
   {
    "duration": 8,
    "start_time": "2021-08-16T16:36:41.830Z"
   },
   {
    "duration": 553,
    "start_time": "2021-08-16T16:36:41.842Z"
   },
   {
    "duration": 7,
    "start_time": "2021-08-16T16:36:42.399Z"
   },
   {
    "duration": 26,
    "start_time": "2021-08-16T16:36:42.409Z"
   },
   {
    "duration": 36,
    "start_time": "2021-08-16T16:36:42.438Z"
   },
   {
    "duration": 10,
    "start_time": "2021-08-16T16:36:42.476Z"
   },
   {
    "duration": 130,
    "start_time": "2021-08-16T16:36:42.488Z"
   },
   {
    "duration": 341,
    "start_time": "2021-08-16T16:36:42.620Z"
   },
   {
    "duration": 9,
    "start_time": "2021-08-16T16:36:42.966Z"
   },
   {
    "duration": 14,
    "start_time": "2021-08-16T16:36:42.978Z"
   },
   {
    "duration": 11,
    "start_time": "2021-08-16T16:36:42.994Z"
   },
   {
    "duration": 71,
    "start_time": "2021-08-16T16:36:43.008Z"
   },
   {
    "duration": 21,
    "start_time": "2021-08-16T16:36:43.082Z"
   },
   {
    "duration": 28,
    "start_time": "2021-08-16T16:36:43.106Z"
   },
   {
    "duration": 65,
    "start_time": "2021-08-16T16:36:43.137Z"
   },
   {
    "duration": 6,
    "start_time": "2021-08-16T16:36:43.204Z"
   },
   {
    "duration": 20,
    "start_time": "2021-08-16T16:36:43.215Z"
   },
   {
    "duration": 7,
    "start_time": "2021-08-16T16:36:43.268Z"
   },
   {
    "duration": 12,
    "start_time": "2021-08-16T16:36:43.278Z"
   },
   {
    "duration": 19,
    "start_time": "2021-08-16T16:36:43.293Z"
   },
   {
    "duration": 57,
    "start_time": "2021-08-16T16:36:43.315Z"
   },
   {
    "duration": 21,
    "start_time": "2021-08-16T16:36:43.375Z"
   },
   {
    "duration": 18,
    "start_time": "2021-08-16T16:36:43.399Z"
   },
   {
    "duration": 13,
    "start_time": "2021-08-16T16:36:43.419Z"
   },
   {
    "duration": 968,
    "start_time": "2021-08-16T16:36:43.435Z"
   },
   {
    "duration": 20,
    "start_time": "2021-08-16T16:36:44.405Z"
   },
   {
    "duration": 7,
    "start_time": "2021-08-16T16:36:44.427Z"
   },
   {
    "duration": 43,
    "start_time": "2021-08-16T16:36:44.436Z"
   },
   {
    "duration": 9,
    "start_time": "2021-08-16T16:36:44.482Z"
   },
   {
    "duration": 53,
    "start_time": "2021-08-16T16:36:44.493Z"
   },
   {
    "duration": 474,
    "start_time": "2021-08-16T16:36:44.549Z"
   },
   {
    "duration": 20,
    "start_time": "2021-08-16T16:36:45.026Z"
   },
   {
    "duration": 21,
    "start_time": "2021-08-16T16:36:45.049Z"
   },
   {
    "duration": 22,
    "start_time": "2021-08-16T16:36:45.073Z"
   },
   {
    "duration": 11,
    "start_time": "2021-08-16T16:36:45.098Z"
   },
   {
    "duration": 739,
    "start_time": "2021-08-16T16:36:45.111Z"
   },
   {
    "duration": 27,
    "start_time": "2021-08-16T16:36:45.852Z"
   },
   {
    "duration": 5,
    "start_time": "2021-08-16T16:36:45.881Z"
   },
   {
    "duration": 31,
    "start_time": "2021-08-16T16:36:45.888Z"
   },
   {
    "duration": 12,
    "start_time": "2021-08-16T16:36:45.922Z"
   },
   {
    "duration": 16,
    "start_time": "2021-08-16T16:36:45.967Z"
   },
   {
    "duration": 11,
    "start_time": "2021-08-16T16:36:45.986Z"
   },
   {
    "duration": 21,
    "start_time": "2021-08-16T16:36:46.000Z"
   },
   {
    "duration": 957,
    "start_time": "2021-08-16T16:37:43.882Z"
   },
   {
    "duration": 15,
    "start_time": "2021-08-16T16:37:50.041Z"
   },
   {
    "duration": 13,
    "start_time": "2021-08-16T16:38:11.817Z"
   },
   {
    "duration": 13,
    "start_time": "2021-08-16T16:38:14.335Z"
   },
   {
    "duration": 6,
    "start_time": "2021-08-16T16:38:19.657Z"
   },
   {
    "duration": 570,
    "start_time": "2021-08-16T16:38:23.758Z"
   },
   {
    "duration": 595,
    "start_time": "2021-08-16T16:38:45.688Z"
   },
   {
    "duration": 7,
    "start_time": "2021-08-16T16:39:10.489Z"
   },
   {
    "duration": 597,
    "start_time": "2021-08-16T16:39:21.447Z"
   },
   {
    "duration": 9,
    "start_time": "2021-08-16T16:39:31.368Z"
   },
   {
    "duration": 26,
    "start_time": "2021-08-16T16:39:35.510Z"
   },
   {
    "duration": 10,
    "start_time": "2021-08-16T16:39:47.272Z"
   },
   {
    "duration": 10,
    "start_time": "2021-08-16T16:39:50.103Z"
   },
   {
    "duration": 51,
    "start_time": "2021-08-16T16:39:55.765Z"
   },
   {
    "duration": 372,
    "start_time": "2021-08-16T16:40:27.777Z"
   },
   {
    "duration": 9,
    "start_time": "2021-08-16T16:40:34.685Z"
   },
   {
    "duration": 12,
    "start_time": "2021-08-16T16:40:37.946Z"
   },
   {
    "duration": 10,
    "start_time": "2021-08-16T16:40:46.484Z"
   },
   {
    "duration": 20,
    "start_time": "2021-08-16T16:40:57.155Z"
   },
   {
    "duration": 20,
    "start_time": "2021-08-16T16:41:01.051Z"
   },
   {
    "duration": 25,
    "start_time": "2021-08-16T16:41:07.838Z"
   },
   {
    "duration": 39,
    "start_time": "2021-08-16T16:41:13.608Z"
   },
   {
    "duration": 7,
    "start_time": "2021-08-16T16:41:17.973Z"
   },
   {
    "duration": 22,
    "start_time": "2021-08-16T16:41:20.547Z"
   },
   {
    "duration": 7,
    "start_time": "2021-08-16T16:41:25.994Z"
   },
   {
    "duration": 8,
    "start_time": "2021-08-16T16:41:28.548Z"
   },
   {
    "duration": 17,
    "start_time": "2021-08-16T16:41:32.731Z"
   },
   {
    "duration": 9,
    "start_time": "2021-08-16T16:41:35.325Z"
   },
   {
    "duration": 23,
    "start_time": "2021-08-16T16:41:38.516Z"
   },
   {
    "duration": 18,
    "start_time": "2021-08-16T16:41:44.328Z"
   },
   {
    "duration": 8,
    "start_time": "2021-08-16T16:41:51.961Z"
   },
   {
    "duration": 940,
    "start_time": "2021-08-16T16:41:55.942Z"
   },
   {
    "duration": 20,
    "start_time": "2021-08-16T16:41:59.400Z"
   },
   {
    "duration": 5,
    "start_time": "2021-08-16T16:42:23.408Z"
   },
   {
    "duration": 18,
    "start_time": "2021-08-16T16:42:26.181Z"
   },
   {
    "duration": 7,
    "start_time": "2021-08-16T16:42:34.912Z"
   },
   {
    "duration": 44,
    "start_time": "2021-08-16T16:42:41.856Z"
   },
   {
    "duration": 460,
    "start_time": "2021-08-16T16:43:06.810Z"
   },
   {
    "duration": 20,
    "start_time": "2021-08-16T16:43:18.736Z"
   },
   {
    "duration": 5,
    "start_time": "2021-08-16T16:43:27.078Z"
   },
   {
    "duration": 18,
    "start_time": "2021-08-16T16:44:11.582Z"
   },
   {
    "duration": 10,
    "start_time": "2021-08-16T16:44:16.352Z"
   },
   {
    "duration": 703,
    "start_time": "2021-08-16T16:44:49.586Z"
   },
   {
    "duration": 716,
    "start_time": "2021-08-16T16:45:00.471Z"
   },
   {
    "duration": 19,
    "start_time": "2021-08-16T16:45:09.026Z"
   },
   {
    "duration": 5,
    "start_time": "2021-08-16T16:45:36.218Z"
   },
   {
    "duration": 34,
    "start_time": "2021-08-16T16:46:01.618Z"
   },
   {
    "duration": 13,
    "start_time": "2021-08-16T16:46:38.688Z"
   },
   {
    "duration": 18,
    "start_time": "2021-08-16T16:46:40.972Z"
   },
   {
    "duration": 14,
    "start_time": "2021-08-16T16:46:44.683Z"
   },
   {
    "duration": 21,
    "start_time": "2021-08-16T16:46:46.930Z"
   },
   {
    "duration": 17,
    "start_time": "2021-08-16T16:46:50.957Z"
   },
   {
    "duration": 34,
    "start_time": "2021-08-16T16:46:56.707Z"
   },
   {
    "duration": 32,
    "start_time": "2021-08-16T16:47:17.954Z"
   },
   {
    "duration": 37,
    "start_time": "2021-08-16T16:47:23.889Z"
   },
   {
    "duration": 30,
    "start_time": "2021-08-16T16:47:27.772Z"
   },
   {
    "duration": 32,
    "start_time": "2021-08-16T16:47:30.538Z"
   },
   {
    "duration": 31,
    "start_time": "2021-08-16T16:47:35.883Z"
   },
   {
    "duration": 1029,
    "start_time": "2021-08-16T16:51:30.852Z"
   },
   {
    "duration": 17,
    "start_time": "2021-08-16T16:51:31.885Z"
   },
   {
    "duration": 13,
    "start_time": "2021-08-16T16:51:31.906Z"
   },
   {
    "duration": 47,
    "start_time": "2021-08-16T16:51:31.922Z"
   },
   {
    "duration": 9,
    "start_time": "2021-08-16T16:51:31.972Z"
   },
   {
    "duration": 604,
    "start_time": "2021-08-16T16:51:31.984Z"
   },
   {
    "duration": 9,
    "start_time": "2021-08-16T16:51:32.591Z"
   },
   {
    "duration": 564,
    "start_time": "2021-08-16T16:51:32.603Z"
   },
   {
    "duration": 8,
    "start_time": "2021-08-16T16:51:33.171Z"
   },
   {
    "duration": 27,
    "start_time": "2021-08-16T16:51:33.181Z"
   },
   {
    "duration": 9,
    "start_time": "2021-08-16T16:51:33.210Z"
   },
   {
    "duration": 48,
    "start_time": "2021-08-16T16:51:33.221Z"
   },
   {
    "duration": 119,
    "start_time": "2021-08-16T16:51:33.272Z"
   },
   {
    "duration": 346,
    "start_time": "2021-08-16T16:51:33.394Z"
   },
   {
    "duration": 10,
    "start_time": "2021-08-16T16:51:33.742Z"
   },
   {
    "duration": 13,
    "start_time": "2021-08-16T16:51:33.767Z"
   },
   {
    "duration": 7,
    "start_time": "2021-08-16T16:51:33.782Z"
   },
   {
    "duration": 17,
    "start_time": "2021-08-16T16:51:33.792Z"
   },
   {
    "duration": 17,
    "start_time": "2021-08-16T16:51:33.812Z"
   },
   {
    "duration": 24,
    "start_time": "2021-08-16T16:51:33.868Z"
   },
   {
    "duration": 34,
    "start_time": "2021-08-16T16:51:33.894Z"
   },
   {
    "duration": 6,
    "start_time": "2021-08-16T16:51:33.931Z"
   },
   {
    "duration": 20,
    "start_time": "2021-08-16T16:51:33.971Z"
   },
   {
    "duration": 8,
    "start_time": "2021-08-16T16:51:33.994Z"
   },
   {
    "duration": 10,
    "start_time": "2021-08-16T16:51:34.005Z"
   },
   {
    "duration": 50,
    "start_time": "2021-08-16T16:51:34.017Z"
   },
   {
    "duration": 10,
    "start_time": "2021-08-16T16:51:34.070Z"
   },
   {
    "duration": 22,
    "start_time": "2021-08-16T16:51:34.083Z"
   },
   {
    "duration": 18,
    "start_time": "2021-08-16T16:51:34.108Z"
   },
   {
    "duration": 41,
    "start_time": "2021-08-16T16:51:34.129Z"
   },
   {
    "duration": 932,
    "start_time": "2021-08-16T16:51:34.172Z"
   },
   {
    "duration": 20,
    "start_time": "2021-08-16T16:51:35.107Z"
   },
   {
    "duration": 7,
    "start_time": "2021-08-16T16:51:35.130Z"
   },
   {
    "duration": 41,
    "start_time": "2021-08-16T16:51:35.139Z"
   },
   {
    "duration": 10,
    "start_time": "2021-08-16T16:51:35.183Z"
   },
   {
    "duration": 47,
    "start_time": "2021-08-16T16:51:35.195Z"
   },
   {
    "duration": 489,
    "start_time": "2021-08-16T16:51:35.245Z"
   },
   {
    "duration": 34,
    "start_time": "2021-08-16T16:51:35.736Z"
   },
   {
    "duration": 5,
    "start_time": "2021-08-16T16:51:35.773Z"
   },
   {
    "duration": 21,
    "start_time": "2021-08-16T16:51:35.780Z"
   },
   {
    "duration": 9,
    "start_time": "2021-08-16T16:51:35.804Z"
   },
   {
    "duration": 732,
    "start_time": "2021-08-16T16:51:35.815Z"
   },
   {
    "duration": 27,
    "start_time": "2021-08-16T16:51:36.550Z"
   },
   {
    "duration": 5,
    "start_time": "2021-08-16T16:51:36.579Z"
   },
   {
    "duration": 34,
    "start_time": "2021-08-16T16:51:36.586Z"
   },
   {
    "duration": 11,
    "start_time": "2021-08-16T16:51:36.623Z"
   },
   {
    "duration": 41,
    "start_time": "2021-08-16T16:51:36.636Z"
   },
   {
    "duration": 12,
    "start_time": "2021-08-16T16:51:36.680Z"
   },
   {
    "duration": 25,
    "start_time": "2021-08-16T16:51:36.694Z"
   },
   {
    "duration": 47,
    "start_time": "2021-08-16T16:51:36.721Z"
   },
   {
    "duration": 35,
    "start_time": "2021-08-16T16:51:36.771Z"
   },
   {
    "duration": 59,
    "start_time": "2021-08-16T16:51:36.809Z"
   },
   {
    "duration": 33,
    "start_time": "2021-08-16T16:51:36.870Z"
   },
   {
    "duration": 30,
    "start_time": "2021-08-16T16:51:36.905Z"
   },
   {
    "duration": 57,
    "start_time": "2021-08-16T16:51:36.938Z"
   },
   {
    "duration": 31,
    "start_time": "2021-08-16T16:51:36.997Z"
   },
   {
    "duration": 976,
    "start_time": "2021-08-16T16:52:21.927Z"
   },
   {
    "duration": 15,
    "start_time": "2021-08-16T16:52:22.905Z"
   },
   {
    "duration": 12,
    "start_time": "2021-08-16T16:52:22.923Z"
   },
   {
    "duration": 39,
    "start_time": "2021-08-16T16:52:22.938Z"
   },
   {
    "duration": 7,
    "start_time": "2021-08-16T16:52:22.979Z"
   },
   {
    "duration": 585,
    "start_time": "2021-08-16T16:52:22.988Z"
   },
   {
    "duration": 7,
    "start_time": "2021-08-16T16:52:23.576Z"
   },
   {
    "duration": 566,
    "start_time": "2021-08-16T16:52:23.587Z"
   },
   {
    "duration": 14,
    "start_time": "2021-08-16T16:52:24.156Z"
   },
   {
    "duration": 28,
    "start_time": "2021-08-16T16:52:24.173Z"
   },
   {
    "duration": 10,
    "start_time": "2021-08-16T16:52:24.204Z"
   },
   {
    "duration": 10,
    "start_time": "2021-08-16T16:52:24.216Z"
   },
   {
    "duration": 150,
    "start_time": "2021-08-16T16:52:24.228Z"
   },
   {
    "duration": 340,
    "start_time": "2021-08-16T16:52:24.380Z"
   },
   {
    "duration": 10,
    "start_time": "2021-08-16T16:52:24.722Z"
   },
   {
    "duration": 37,
    "start_time": "2021-08-16T16:52:24.735Z"
   },
   {
    "duration": 9,
    "start_time": "2021-08-16T16:52:24.774Z"
   },
   {
    "duration": 23,
    "start_time": "2021-08-16T16:52:24.785Z"
   },
   {
    "duration": 18,
    "start_time": "2021-08-16T16:52:24.810Z"
   },
   {
    "duration": 56,
    "start_time": "2021-08-16T16:52:24.830Z"
   },
   {
    "duration": 34,
    "start_time": "2021-08-16T16:52:24.889Z"
   },
   {
    "duration": 6,
    "start_time": "2021-08-16T16:52:24.925Z"
   },
   {
    "duration": 50,
    "start_time": "2021-08-16T16:52:24.936Z"
   },
   {
    "duration": 6,
    "start_time": "2021-08-16T16:52:24.989Z"
   },
   {
    "duration": 12,
    "start_time": "2021-08-16T16:52:24.997Z"
   },
   {
    "duration": 17,
    "start_time": "2021-08-16T16:52:25.011Z"
   },
   {
    "duration": 10,
    "start_time": "2021-08-16T16:52:25.068Z"
   },
   {
    "duration": 24,
    "start_time": "2021-08-16T16:52:25.080Z"
   },
   {
    "duration": 17,
    "start_time": "2021-08-16T16:52:25.106Z"
   },
   {
    "duration": 43,
    "start_time": "2021-08-16T16:52:25.126Z"
   },
   {
    "duration": 924,
    "start_time": "2021-08-16T16:52:25.171Z"
   },
   {
    "duration": 20,
    "start_time": "2021-08-16T16:52:26.098Z"
   },
   {
    "duration": 6,
    "start_time": "2021-08-16T16:52:26.120Z"
   },
   {
    "duration": 46,
    "start_time": "2021-08-16T16:52:26.128Z"
   },
   {
    "duration": 5,
    "start_time": "2021-08-16T16:52:26.177Z"
   },
   {
    "duration": 47,
    "start_time": "2021-08-16T16:52:26.185Z"
   },
   {
    "duration": 479,
    "start_time": "2021-08-16T16:52:26.234Z"
   },
   {
    "duration": 21,
    "start_time": "2021-08-16T16:52:26.715Z"
   },
   {
    "duration": 5,
    "start_time": "2021-08-16T16:52:26.738Z"
   },
   {
    "duration": 39,
    "start_time": "2021-08-16T16:52:26.745Z"
   },
   {
    "duration": 10,
    "start_time": "2021-08-16T16:52:26.787Z"
   },
   {
    "duration": 717,
    "start_time": "2021-08-16T16:52:26.799Z"
   },
   {
    "duration": 19,
    "start_time": "2021-08-16T16:52:27.519Z"
   },
   {
    "duration": 5,
    "start_time": "2021-08-16T16:52:27.541Z"
   },
   {
    "duration": 29,
    "start_time": "2021-08-16T16:52:27.568Z"
   },
   {
    "duration": 12,
    "start_time": "2021-08-16T16:52:27.599Z"
   },
   {
    "duration": 15,
    "start_time": "2021-08-16T16:52:27.613Z"
   },
   {
    "duration": 44,
    "start_time": "2021-08-16T16:52:27.631Z"
   },
   {
    "duration": 19,
    "start_time": "2021-08-16T16:52:27.678Z"
   },
   {
    "duration": 18,
    "start_time": "2021-08-16T16:52:27.700Z"
   },
   {
    "duration": 75,
    "start_time": "2021-08-16T16:52:27.720Z"
   },
   {
    "duration": 32,
    "start_time": "2021-08-16T16:52:27.797Z"
   },
   {
    "duration": 56,
    "start_time": "2021-08-16T16:52:27.832Z"
   },
   {
    "duration": 29,
    "start_time": "2021-08-16T16:52:27.891Z"
   },
   {
    "duration": 51,
    "start_time": "2021-08-16T16:52:27.922Z"
   },
   {
    "duration": 31,
    "start_time": "2021-08-16T16:52:27.975Z"
   }
  ],
  "kernelspec": {
   "display_name": "Python 3",
   "language": "python",
   "name": "python3"
  },
  "language_info": {
   "codemirror_mode": {
    "name": "ipython",
    "version": 3
   },
   "file_extension": ".py",
   "mimetype": "text/x-python",
   "name": "python",
   "nbconvert_exporter": "python",
   "pygments_lexer": "ipython3",
   "version": "3.7.10"
  },
  "toc": {
   "base_numbering": 1,
   "nav_menu": {},
   "number_sections": true,
   "sideBar": true,
   "skip_h1_title": true,
   "title_cell": "Table of Contents",
   "title_sidebar": "Contents",
   "toc_cell": false,
   "toc_position": {},
   "toc_section_display": true,
   "toc_window_display": false
  }
 },
 "nbformat": 4,
 "nbformat_minor": 2
}
